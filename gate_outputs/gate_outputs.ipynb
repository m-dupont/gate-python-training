{
 "cells": [
  {
   "cell_type": "markdown",
   "id": "increased-reduction",
   "metadata": {},
   "source": [
    "# GATE output formats and Python\n",
    "\n",
    "## GATE can output information in different formats:\n",
    "\n",
    "### From actors, examples:\n",
    "* SimulationStatisticActor : store number of events, tracks, steps in **ASCII**\n",
    "* DoseActor : store absorbed dose in **ASCII, ROOT for 1D and 2D**, and **.hdr, .mhd for 3D**\n",
    "* EnergySpectrumActor: store energy distribution in **ROOT**\n",
    "* PhaseSpaceActor: store the particle's type, position, direction, energy, ... in **ROOT, IAEA, NumPy**\n",
    "\n",
    "See https://opengate.readthedocs.io/en/latest/tools_to_interact_with_the_simulation_actors.html\n",
    "\n",
    "### From imaging \"systems\" (scanner, CT, SPECT, PET, ...):\n",
    "* to record interactions: hits, singles, coincidences in **ASCII, binary, ROOT, NumPy**\n",
    "* to save images: projections and sinograms in **.hdr, .mhd**\n",
    "\n",
    "See https://opengate.readthedocs.io/en/latest/data_output_management.html\n",
    "\n",
    "## In summary, when using GATE you will produce one of these output formats:\n",
    "* ASCII output\n",
    "* Binary output\n",
    "* Images (.mhd, .hdr) output\n",
    "* ROOT tree output\n",
    "* NumPy tree output (new!)"
   ]
  },
  {
   "cell_type": "markdown",
   "id": "innocent-gender",
   "metadata": {},
   "source": [
    "#### We will first have a look at a GATE example to understand these outputs:\n",
    "* open a terminal and go to the folder gate_outputs/ex_beam\n",
    "* look at the different files and open mac/main.mac\n",
    "* look at all the sections and in particular to the ouputs section\n",
    "* run the example with  \n",
    "`Gate --qt mac/main.mac`\n",
    "* check the output folder and the different files produced\n",
    "\n",
    "#### We will now analyse each output with this Python notebook !"
   ]
  },
  {
   "cell_type": "markdown",
   "id": "literary-charge",
   "metadata": {},
   "source": [
    "# From The Notebook"
   ]
  },
  {
   "cell_type": "markdown",
   "id": "hollow-panel",
   "metadata": {},
   "source": [
    "From the notebook, we can execute shell commands, like in a regular terminal.\n",
    "\n",
    "We can list files with the command `ls`: "
   ]
  },
  {
   "cell_type": "code",
   "execution_count": 358,
   "id": "numerical-opportunity",
   "metadata": {},
   "outputs": [
    {
     "name": "stdout",
     "output_type": "stream",
     "text": [
      "\u001b[0m\u001b[01;34mdata\u001b[0m/  \u001b[01;34mmac\u001b[0m/  \u001b[01;34moutput\u001b[0m/  README.md\r\n"
     ]
    }
   ],
   "source": [
    "ls ex_beam/"
   ]
  },
  {
   "cell_type": "code",
   "execution_count": 359,
   "id": "breeding-metadata",
   "metadata": {},
   "outputs": [
    {
     "name": "stdout",
     "output_type": "stream",
     "text": [
      "actors.mac  main.mac  main_waterboxHits.mac  verbose.mac  visu.mac\r\n"
     ]
    }
   ],
   "source": [
    "ls ex_beam/mac/"
   ]
  },
  {
   "cell_type": "markdown",
   "id": "false-mongolia",
   "metadata": {},
   "source": [
    "Some commands can be executed directly : "
   ]
  },
  {
   "cell_type": "code",
   "execution_count": 360,
   "id": "controversial-catholic",
   "metadata": {},
   "outputs": [
    {
     "name": "stdout",
     "output_type": "stream",
     "text": [
      "#=====================================================\r\n",
      "# VERBOSITY\r\n",
      "#=====================================================\r\n",
      "\r\n",
      "/control/execute                        mac/verbose.mac\r\n",
      "\r\n",
      "#=====================================================\r\n",
      "# GEOMETRY\r\n",
      "#=====================================================\r\n",
      "\r\n",
      "/gate/geometry/setMaterialDatabase      data/GateMaterials.db\r\n",
      "\r\n",
      "# World\r\n",
      "/gate/world/geometry/setXLength         1 m\r\n",
      "/gate/world/geometry/setYLength         1 m\r\n",
      "/gate/world/geometry/setZLength         1 m\r\n",
      "/gate/world/setMaterial                 Air\r\n",
      "\r\n",
      "/gate/world/daughters/name              scanner\r\n",
      "/gate/world/daughters/insert            box\r\n",
      "/gate/scanner/geometry/setXLength         1 m\r\n",
      "/gate/scanner/geometry/setYLength         1 m\r\n",
      "/gate/scanner/geometry/setZLength         1 m\r\n",
      "/gate/scanner/setMaterial                 Air\r\n",
      "\r\n",
      "\r\n",
      "\r\n",
      "# EPID\r\n",
      "/gate/scanner/daughters/name              EPID\r\n",
      "/gate/scanner/daughters/insert            box\r\n",
      "/gate/EPID/geometry/setXLength       40 cm\r\n",
      "/gate/EPID/geometry/setYLength       40 cm\r\n",
      "/gate/EPID/geometry/setZLength       1 mm\r\n",
      "/gate/EPID/placement/setTranslation  0 0 45 cm\r\n",
      "/gate/EPID/setMaterial               GSO\r\n",
      "/gate/EPID/vis/setColor              magenta\r\n",
      "\r\n",
      "#\r\n",
      "\r\n",
      "# Water Box\r\n",
      "/gate/scanner/daughters/name              waterbox\r\n",
      "/gate/scanner/daughters/insert            box\r\n",
      "/gate/waterbox/geometry/setXLength      40 cm\r\n",
      "/gate/waterbox/geometry/setYLength      40 cm\r\n",
      "/gate/waterbox/geometry/setZLength      40 cm\r\n",
      "/gate/waterbox/placement/setTranslation 0 0 0 cm\r\n",
      "/gate/waterbox/setMaterial              Water\r\n",
      "/gate/waterbox/vis/setVisible           1\r\n",
      "/gate/waterbox/vis/setColor             blue\r\n",
      "\r\n",
      "\r\n",
      "\r\n",
      "\r\n",
      "\r\n",
      "#=====================================================\r\n",
      "# PHYSICS\r\n",
      "#=====================================================\r\n",
      "\r\n",
      "/gate/physics/addPhysicsList            emstandard_opt3\r\n",
      "\r\n",
      "/gate/physics/Gamma/SetCutInRegion      world 10 mm\r\n",
      "/gate/physics/Electron/SetCutInRegion   world 10 mm\r\n",
      "/gate/physics/Positron/SetCutInRegion   world 10 mm\r\n",
      "\r\n",
      "/gate/physics/Gamma/SetCutInRegion      waterbox 0.1 mm\r\n",
      "/gate/physics/Electron/SetCutInRegion   waterbox 0.1 mm\r\n",
      "/gate/physics/Positron/SetCutInRegion   waterbox 0.1 mm\r\n",
      "\r\n",
      "#/gate/physics/displayCuts\r\n",
      "\r\n",
      "#=====================================================\r\n",
      "# OUTPUTS\r\n",
      "#=====================================================\r\n",
      "\r\n",
      "#-----------------------------------------------------\r\n",
      "# Water Box outputs\r\n",
      "#-----------------------------------------------------\r\n",
      "\r\n",
      "\r\n",
      "/control/execute                        mac/actors.mac\r\n",
      "\r\n",
      "\r\n",
      "\r\n",
      "\r\n",
      "\r\n",
      "\r\n",
      "/gate/systems/scanner/level1/attach     EPID\r\n",
      "/gate/systems/scanner/level2/attach     waterbox\r\n",
      "\r\n",
      "/gate/EPID/attachCrystalSD\r\n",
      "#/gate/waterbox/attachCrystalSD\r\n",
      "\r\n",
      "\r\n",
      "#-----------------------------------------------------\r\n",
      "# EPID (system) outputs\r\n",
      "#-----------------------------------------------------\r\n",
      "\r\n",
      "# List of interactions - ASCII or binary format\r\n",
      "#/gate/output/ascii/enable\r\n",
      "#/gate/output/ascii/setFileName                output/list-\r\n",
      "#/gate/output/ascii/setOutFileHitsFlag         1\r\n",
      "#/gate/output/ascii/setOutFileSinglesFlag      0\r\n",
      "/gate/output/binary/enable\r\n",
      "/gate/output/binary/setFileName               output/list-\r\n",
      "/gate/output/binary/setOutFileHitsFlag        1\r\n",
      "/gate/output/binary/setOutFileSinglesFlag     0\r\n",
      "\r\n",
      "# Tree of interactions - ROOT and NumPy format\r\n",
      "/gate/output/tree/enable\r\n",
      "/gate/output/tree/addFileName                 output/tree.npy\r\n",
      "/gate/output/tree/addFileName                 output/tree.root\r\n",
      "/gate/output/tree/hits/enable\r\n",
      "\r\n",
      "#-----------------------------------------------------\r\n",
      "# Simulation statistics\r\n",
      "#-----------------------------------------------------\r\n",
      "\r\n",
      "/gate/actor/addActor                          SimulationStatisticActor stat\r\n",
      "/gate/actor/stat/save                         output/simu-stats.txt\r\n",
      "/gate/actor/stat/saveEveryNSeconds            30\r\n",
      "\r\n",
      "#=====================================================\r\n",
      "# INITIALISATION\r\n",
      "#=====================================================\r\n",
      "\r\n",
      "/gate/run/initialize\r\n",
      "\r\n",
      "#=====================================================\r\n",
      "# BEAMS\r\n",
      "#=====================================================\r\n",
      "\r\n",
      "/gate/source/addSource                  mybeam gps\r\n",
      "/gate/source/mybeam/gps/particle        gamma\r\n",
      "/gate/source/mybeam/gps/pos/type        Beam\r\n",
      "/gate/source/mybeam/gps/pos/rot1        0 1 0\r\n",
      "/gate/source/mybeam/gps/pos/rot2        1 0 0\r\n",
      "/gate/source/mybeam/gps/pos/shape       Circle\r\n",
      "/gate/source/mybeam/gps/pos/centre      0 0 -40 cm\r\n",
      "/gate/source/mybeam/gps/pos/sigma_x     3 mm\r\n",
      "/gate/source/mybeam/gps/pos/sigma_y     3 mm\r\n",
      "/gate/source/mybeam/gps/ene/mono        10 MeV\r\n",
      "/gate/source/mybeam/gps/ene/type        Gauss\r\n",
      "/gate/source/mybeam/gps/ene/sigma       1.0 MeV\r\n",
      "/gate/source/mybeam/gps/direction       0 0 1\r\n",
      "\r\n",
      "#=====================================================\r\n",
      "# VISUALISATION\r\n",
      "#=====================================================\r\n",
      "\r\n",
      "/control/execute mac/visu.mac\r\n",
      "\r\n",
      "#=====================================================\r\n",
      "# START BEAMS\r\n",
      "#=====================================================\r\n",
      "\r\n",
      "# JamesRandom Ranlux64 MersenneTwister\r\n",
      "/gate/random/setEngineName                  MersenneTwister\r\n",
      "/gate/random/setEngineSeed                  12\r\n",
      "\r\n",
      "/gate/application/setTotalNumberOfPrimaries 1e5\r\n",
      "/gate/application/start\r\n",
      "\r\n"
     ]
    }
   ],
   "source": [
    "cat ex_beam/mac/main.mac"
   ]
  },
  {
   "cell_type": "markdown",
   "id": "centered-repair",
   "metadata": {},
   "source": [
    "But some can not and we need to prefix command with a `!` "
   ]
  },
  {
   "cell_type": "code",
   "execution_count": 361,
   "id": "diagnostic-pulse",
   "metadata": {},
   "outputs": [
    {
     "ename": "NameError",
     "evalue": "name 'du' is not defined",
     "output_type": "error",
     "traceback": [
      "\u001b[0;31m---------------------------------------------------------------------------\u001b[0m",
      "\u001b[0;31mNameError\u001b[0m                                 Traceback (most recent call last)",
      "\u001b[0;32m<ipython-input-361-0721c408eee9>\u001b[0m in \u001b[0;36m<module>\u001b[0;34m\u001b[0m\n\u001b[0;32m----> 1\u001b[0;31m \u001b[0mdu\u001b[0m\u001b[0;34m\u001b[0m\u001b[0;34m\u001b[0m\u001b[0m\n\u001b[0m",
      "\u001b[0;31mNameError\u001b[0m: name 'du' is not defined"
     ]
    }
   ],
   "source": [
    "du"
   ]
  },
  {
   "cell_type": "code",
   "execution_count": 362,
   "id": "descending-removal",
   "metadata": {},
   "outputs": [
    {
     "name": "stdout",
     "output_type": "stream",
     "text": [
      "16\t./ex_beam/data\r\n",
      "28\t./ex_beam/mac\r\n",
      "1640156\t./ex_beam/output\r\n",
      "1640204\t./ex_beam\r\n",
      "240\t./.ipynb_checkpoints\r\n",
      "1640648\t.\r\n"
     ]
    }
   ],
   "source": [
    "!du"
   ]
  },
  {
   "cell_type": "markdown",
   "id": "digital-queue",
   "metadata": {},
   "source": [
    "Execute command from notebook is powerfull, we can use the output from the command and use it in the notebook: "
   ]
  },
  {
   "cell_type": "code",
   "execution_count": 363,
   "id": "southern-television",
   "metadata": {},
   "outputs": [
    {
     "name": "stdout",
     "output_type": "stream",
     "text": [
      "['16\\t./ex_beam/data', '28\\t./ex_beam/mac', '1640156\\t./ex_beam/output', '1640204\\t./ex_beam', '240\\t./.ipynb_checkpoints', '1640648\\t.']\n"
     ]
    }
   ],
   "source": [
    "a = !du\n",
    "print(a)"
   ]
  },
  {
   "cell_type": "markdown",
   "id": "flush-parallel",
   "metadata": {},
   "source": [
    "## Exercice: \n",
    "Write a python function which print folder name and its size by using output of the command `du`"
   ]
  },
  {
   "cell_type": "code",
   "execution_count": 418,
   "id": "valued-boston",
   "metadata": {},
   "outputs": [],
   "source": [
    "# write code here"
   ]
  },
  {
   "cell_type": "code",
   "execution_count": 365,
   "id": "confidential-nurse",
   "metadata": {},
   "outputs": [
    {
     "name": "stdout",
     "output_type": "stream",
     "text": [
      "size\t 16 kB\t\t 0 MB ex_beam/data\n",
      "size\t 28 kB\t\t 0 MB ex_beam/mac\n",
      "size\t 1640156 kB\t\t 1601 MB ex_beam/output\n",
      "size\t 1640204 kB\t\t 1601 MB ex_beam/\n"
     ]
    }
   ],
   "source": [
    "f('ex_beam/')"
   ]
  },
  {
   "cell_type": "markdown",
   "id": "technological-madrid",
   "metadata": {},
   "source": [
    "## run the example"
   ]
  },
  {
   "cell_type": "code",
   "execution_count": 366,
   "id": "passing-shark",
   "metadata": {},
   "outputs": [
    {
     "name": "stdout",
     "output_type": "stream",
     "text": [
      "/home/mdupont/Documents/DocumentsSync/IR/missions/by_year/2021/2021_03_09_Python GATE School/mathieu/gate-python-training/gate_outputs/ex_beam\n"
     ]
    }
   ],
   "source": [
    "cd ex_beam/"
   ]
  },
  {
   "cell_type": "code",
   "execution_count": 367,
   "id": "excess-choice",
   "metadata": {},
   "outputs": [
    {
     "name": "stdout",
     "output_type": "stream",
     "text": [
      "\u001b[0m\u001b[01;34mdata\u001b[0m/  \u001b[01;34mmac\u001b[0m/  \u001b[01;34moutput\u001b[0m/  README.md\r\n"
     ]
    }
   ],
   "source": [
    "ls"
   ]
  },
  {
   "cell_type": "code",
   "execution_count": 368,
   "id": "executed-thursday",
   "metadata": {},
   "outputs": [
    {
     "name": "stdout",
     "output_type": "stream",
     "text": [
      "plop\n",
      "[G4] \n",
      "[G4] **************************************************************\n",
      "[G4]  Geant4 version Name: geant4-10-06-patch-01    (14-February-2020)\n",
      "[G4]                        Copyright : Geant4 Collaboration\n",
      "[G4]                       References : NIM A 506 (2003), 250-303\n",
      "[G4]                                  : IEEE-TNS 53 (2006), 270-278\n",
      "[G4]                                  : NIM A 835 (2016), 186-225\n",
      "[G4]                              WWW : http://geant4.org/\n",
      "[G4] **************************************************************\n",
      "[G4] \n",
      "[Core-0] Initialization of geometry\n",
      "[Core-0] Initialization of physics\n",
      "[Core-0] Initialization of actors\n",
      "[Core-0] \n",
      "[Core-0] *************************************************\n",
      "[Core-0]  GATE version 9.0 (March 2020)\n",
      "[Core-0]  Copyright : OpenGATE Collaboration\n",
      "[Core-0]  Reference : Phys. Med. Biol. 49 (2004) 4543-4561\n",
      "[Core-0]  Reference : Phys. Med. Biol. 56 (2011) 881-901\n",
      "[Core-0]  Reference : Med. Phys. 41(6)    (2014)\n",
      "[Core-0]  http://www.opengatecollaboration.org        \n",
      "[Core-0] *************************************************\n",
      "[Core-0] \n",
      "[Core-0] You are using Geant4 version 10.6.1\n",
      "[Core-0] Starting macro mac/main.mac\n",
      "[Physic-0] The following Geant4's physic-list is enabled :emstandard_opt3\n",
      "[Core-0] Initialization of geometry\n",
      "[Physic-1]   \n",
      "[Physic-1]  ----------------------------------------------------------\n",
      "[Physic-1]                      Ionization potential \n",
      "[Physic-1]   - worldDefaultAir\t defaut value: I = 85.7031 eV \n",
      "[Physic-1]   - Air\t defaut value: I = 85.6694 eV \n",
      "[Physic-1]   - Vacuum\t defaut value: I = 19.2 eV \n",
      "[Physic-1]   - GSO\t defaut value: I = 359.808 eV \n",
      "[Physic-1]   - Water\t defaut value: I = 68.9984 eV \n",
      "[Physic-1]  ----------------------------------------------------------\n",
      "[Core-0] Initialization of physics\n",
      "[Core-0] Initialization of actors\n",
      "[G4-cerr] parameter value (OGLI) is not listed in the candidate List.\n",
      "[G4-cerr] Candidates are: ATree DAWNFILE HepRepFile HepRepXML RayTracer VRML1FILE VRML2FILE gMocrenFile\n",
      "GateToTree::SetOutputIDName, id_system = '0' anOutputIDName = 'level1ID' depth = '1'\n",
      "GateToTree::SetOutputIDName, id_system = '0' anOutputIDName = 'level2ID' depth = '2'\n",
      "GateToTree::SetOutputIDName, id_system = '0' anOutputIDName = 'level3ID' depth = '3'\n",
      "GateToTree::SetOutputIDName, id_system = '0' anOutputIDName = 'level4ID' depth = '4'\n",
      "GateToTree::SetOutputIDName, id_system = '0' anOutputIDName = 'level5ID' depth = '5'\n",
      "WARNING: Scene handler not found.\n",
      "[G4-cerr] ERROR: Current scene handler not defined.  Please select or create one.\n",
      "[G4-cerr] ERROR: Viewer \"none\" not found - \"/vis/viewer/list\"\n",
      "  to see possibilities.\n",
      "/tracking/storeTrajectory 1\n",
      "Attributes available for modeling and filtering with\n",
      "  \"/vis/modeling/trajectories/create/drawByAttribute\" and\n",
      "  \"/vis/filtering/trajectories/create/attributeFilter\" commands:\n",
      "G4TrajectoriesModel:\n",
      "  Event ID (EventID): G4int\n",
      "  Run ID (RunID): G4int\n",
      "G4Trajectory:\n",
      "  Charge (Ch): unit: e+ (G4double)\n",
      "  Track ID (ID): G4int\n",
      "  Initial kinetic energy (IKE): G4BestUnit (G4double)\n",
      "  Initial momentum magnitude (IMag): G4BestUnit (G4double)\n",
      "  Initial momentum (IMom): G4BestUnit (G4ThreeVector)\n",
      "  No. of points (NTP): G4int\n",
      "  PDG Encoding (PDG): G4int\n",
      "  Parent ID (PID): G4int\n",
      "  Particle Name (PN): G4String\n",
      "G4TrajectoryPoint:\n",
      "  Position (Pos): G4BestUnit (G4ThreeVector)\n",
      "WARNING: Trajectory storing has been requested.  This action may be\n",
      "  reversed with \"/tracking/storeTrajectory 0\".\n",
      "WARNING: Scene handler not found.\n",
      "[G4-cerr] ERROR: No current sceneHandler.  Please create one.\n",
      "WARNING: Scene handler not found.\n",
      "WARNING: Scene handler not found.\n",
      "WARNING: Scene handler not found.\n",
      "WARNING: Scene handler not found.\n",
      "[G4-cerr] ERROR: G4VisCommandsViewerSet::SetNewValue: no current viewer.\n",
      "[Acquisition-0]   \n",
      "[Acquisition-0] ============= Source initialization =============\n",
      "[Acquisition-0]   \n",
      "[Acquisition-0] ============= Acquisition starts! =============\n",
      "[Acquisition-0] Simulation start time = 0 sec\n",
      "[Acquisition-0] Simulation end time   = 1 sec\n",
      "[Acquisition-0] Simulation will have  = 1 run(s)\n",
      "Warning in <TBranch::TBranch>: No name was given to the leaf number '0' in the leaflist of the branch ''.\n",
      "[Acquisition-0] Slice 0 from 0 to 1 s [slice=1 s]\n",
      "\n",
      "### ===  Deexcitation model UAtomDeexcitation is activated for 4 regions:\n",
      "          DefaultRegionForTheWorld  1  1  1\n",
      "          scanner  1  1  1\n",
      "          EPID  1  1  1\n",
      "          waterbox  1  1  1\n",
      "\n",
      "### === G4UAtomicDeexcitation::InitialiseForNewRun()\n",
      "### ===  Auger cascade flag: 1\n",
      "### ===  Ignore cuts flag:   0\n",
      "### ===  PIXE model for hadrons: Empirical\n",
      "### ===  PIXE model for e+-:     Livermore\n",
      "\n",
      "phot:  for gamma applyCuts:1  SubType=12 BuildTable=0\n",
      "      LambdaPrime table from 200 keV to 100 TeV in 174 bins \n",
      "      ===== EM models for the G4Region  DefaultRegionForTheWorld ======\n",
      " LivermorePhElectric : Emin=    0 eV  Emax=  100 TeV  SauterGavrila Fluo\n",
      "\n",
      "compt:  for gamma applyCuts:1  SubType=13 BuildTable=1\n",
      "      Lambda table from 10 eV  to 1 MeV, 20 bins/decade, spline: 1\n",
      "      LambdaPrime table from 1 MeV to 100 TeV in 160 bins \n",
      "      ===== EM models for the G4Region  DefaultRegionForTheWorld ======\n",
      "        KleinNishina : Emin=    0 eV  Emax=  100 TeV Fluo\n",
      "\n",
      "conv:  for gamma applyCuts:1  SubType=14 BuildTable=1\n",
      "      Lambda table from 1.022 MeV to 100 TeV, 20 bins/decade, spline: 1\n",
      "      ===== EM models for the G4Region  DefaultRegionForTheWorld ======\n",
      "     BetheHeitlerLPM : Emin=    0 eV  Emax=  100 TeV  ModifiedTsai\n",
      "\n",
      "Rayl:  for gamma applyCuts:1  SubType=11 BuildTable=1\n",
      "      Lambda table from 10 eV  to 100 keV, 20 bins/decade, spline: 0\n",
      "      LambdaPrime table from 100 keV to 100 TeV in 180 bins \n",
      "      ===== EM models for the G4Region  DefaultRegionForTheWorld ======\n",
      "   LivermoreRayleigh : Emin=    0 eV  Emax=  100 TeV  CullenGenerator\n",
      "\n",
      "msc:  for e-  SubType= 10\n",
      "      RangeFactor= 0.04, stepLimType: 3, latDisp: 1, skin= 1, geomFactor= 2.5\n",
      "      ===== EM models for the G4Region  DefaultRegionForTheWorld ======\n",
      "            UrbanMsc : Emin=    0 eV  Emax=  100 TeV Nbins=240 100 eV  - 100 TeV\n",
      "\n",
      "eIoni:  for e-  SubType=2\n",
      "      dE/dx and range tables from 10 eV  to 100 TeV in 260 bins\n",
      "      Lambda tables from threshold to 100 TeV, 20 bins/decade, spline: 1\n",
      "      StepFunction=(0.2, 0.1 mm), integ: 1, fluct: 1, linLossLim= 0.01\n",
      "      ===== EM models for the G4Region  DefaultRegionForTheWorld ======\n",
      "        MollerBhabha : Emin=    0 eV  Emax=  100 TeV  deltaVI\n",
      "\n",
      "eBrem:  for e-  SubType=3\n",
      "      dE/dx and range tables from 10 eV  to 100 TeV in 260 bins\n",
      "      Lambda tables from threshold to 100 TeV, 20 bins/decade, spline: 1\n",
      "      LPM flag: 1 for E > 1 GeV,  VertexHighEnergyTh(GeV)= 100000\n",
      "      ===== EM models for the G4Region  DefaultRegionForTheWorld ======\n",
      "             eBremSB : Emin=    0 eV  Emax=    1 GeV  AngularGen2BS\n",
      "            eBremLPM : Emin=    1 GeV Emax=  100 TeV  AngularGen2BS\n",
      "\n",
      "ePairProd:  for e-  SubType=4\n",
      "      dE/dx and range tables from 10 eV  to 100 TeV in 260 bins\n",
      "      Lambda tables from threshold to 100 TeV, 20 bins/decade, spline: 1\n",
      "      Sampling table 25x1001; from 0.1 GeV to 100 TeV \n",
      "      ===== EM models for the G4Region  DefaultRegionForTheWorld ======\n",
      "           ePairProd : Emin=    0 eV  Emax=  100 TeV\n",
      "\n",
      "msc:  for e+  SubType= 10\n",
      "      RangeFactor= 0.04, stepLimType: 3, latDisp: 1, skin= 1, geomFactor= 2.5\n",
      "      ===== EM models for the G4Region  DefaultRegionForTheWorld ======\n",
      "            UrbanMsc : Emin=    0 eV  Emax=  100 TeV Nbins=240 100 eV  - 100 TeV\n",
      "\n",
      "eIoni:  for e+  SubType=2\n",
      "      dE/dx and range tables from 10 eV  to 100 TeV in 260 bins\n",
      "      Lambda tables from threshold to 100 TeV, 20 bins/decade, spline: 1\n",
      "      StepFunction=(0.2, 0.1 mm), integ: 1, fluct: 1, linLossLim= 0.01\n",
      "      ===== EM models for the G4Region  DefaultRegionForTheWorld ======\n",
      "        MollerBhabha : Emin=    0 eV  Emax=  100 TeV  deltaVI\n",
      "\n",
      "eBrem:  for e+  SubType=3\n",
      "      dE/dx and range tables from 10 eV  to 100 TeV in 260 bins\n",
      "      Lambda tables from threshold to 100 TeV, 20 bins/decade, spline: 1\n",
      "      LPM flag: 1 for E > 1 GeV,  VertexHighEnergyTh(GeV)= 100000\n",
      "      ===== EM models for the G4Region  DefaultRegionForTheWorld ======\n",
      "             eBremSB : Emin=    0 eV  Emax=    1 GeV  AngularGen2BS\n",
      "            eBremLPM : Emin=    1 GeV Emax=  100 TeV  AngularGen2BS\n",
      "\n",
      "ePairProd:  for e+  SubType=4\n",
      "      dE/dx and range tables from 10 eV  to 100 TeV in 260 bins\n",
      "      Lambda tables from threshold to 100 TeV, 20 bins/decade, spline: 1\n",
      "      Sampling table 25x1001; from 0.1 GeV to 100 TeV \n",
      "      ===== EM models for the G4Region  DefaultRegionForTheWorld ======\n",
      "           ePairProd : Emin=    0 eV  Emax=  100 TeV\n",
      "\n",
      "annihil:  for e+, integral:1  applyCuts:1  SubType=5 BuildTable=0\n",
      "      ===== EM models for the G4Region  DefaultRegionForTheWorld ======\n",
      "            eplus2gg : Emin=    0 eV  Emax=  100 TeV\n",
      "\n",
      "msc:  for proton  SubType= 10\n",
      "      RangeFactor= 0.2, stepLimType: 0, latDisp: 1\n",
      "      ===== EM models for the G4Region  DefaultRegionForTheWorld ======\n",
      "            UrbanMsc : Emin=    0 eV  Emax=  100 TeV Nbins=240 100 eV  - 100 TeV\n"
     ]
    },
    {
     "name": "stdout",
     "output_type": "stream",
     "text": [
      "\n",
      "hIoni:  for proton  SubType=2\n",
      "      dE/dx and range tables from 10 eV  to 100 TeV in 260 bins\n",
      "      Lambda tables from threshold to 100 TeV, 20 bins/decade, spline: 1\n",
      "      StepFunction=(0.2, 0.05 mm), integ: 1, fluct: 1, linLossLim= 0.01\n",
      "      ===== EM models for the G4Region  DefaultRegionForTheWorld ======\n",
      "               Bragg : Emin=    0 eV  Emax=    2 MeV  deltaVI\n",
      "          BetheBloch : Emin=    2 MeV Emax=  100 TeV  deltaVI\n",
      "\n",
      "hBrems:  for proton  SubType=3\n",
      "      dE/dx and range tables from 10 eV  to 100 TeV in 260 bins\n",
      "      Lambda tables from threshold to 100 TeV, 20 bins/decade, spline: 1\n",
      "      ===== EM models for the G4Region  DefaultRegionForTheWorld ======\n",
      "               hBrem : Emin=    0 eV  Emax=  100 TeV\n",
      "      ===== Limit on energy threshold has been applied \n",
      "\n",
      "hPairProd:  for proton  SubType=4\n",
      "      dE/dx and range tables from 10 eV  to 100 TeV in 260 bins\n",
      "      Lambda tables from threshold to 100 TeV, 20 bins/decade, spline: 1\n",
      "      Sampling table 17x1001; from 7.50618 GeV to 100 TeV \n",
      "      ===== EM models for the G4Region  DefaultRegionForTheWorld ======\n",
      "           hPairProd : Emin=    0 eV  Emax=  100 TeV\n",
      "\n",
      "nuclearStopping:  for proton applyCuts:1  SubType=8 BuildTable=0\n",
      "      ===== EM models for the G4Region  DefaultRegionForTheWorld ======\n",
      "   ICRU49NucStopping : Emin=    0 eV  Emax=    1 MeV\n",
      "\n",
      "msc:  for GenericIon  SubType= 10\n",
      "      RangeFactor= 0.2, stepLimType: 0, latDisp: 0\n",
      "      ===== EM models for the G4Region  DefaultRegionForTheWorld ======\n",
      "            UrbanMsc : Emin=    0 eV  Emax=  100 TeV\n",
      "\n",
      "ionIoni:  for GenericIon  SubType=2\n",
      "      dE/dx and range tables from 10 eV  to 100 TeV in 260 bins\n",
      "      Lambda tables from threshold to 100 TeV, 20 bins/decade, spline: 1\n",
      "      StepFunction=(0.1, 0.001 mm), integ: 1, fluct: 1, linLossLim= 0.02\n",
      "      ===== EM models for the G4Region  DefaultRegionForTheWorld ======\n",
      "         ParamICRU73 : Emin=    0 eV  Emax=  100 TeV  deltaVI\n",
      "\n",
      "nuclearStopping:  for GenericIon applyCuts:1  SubType=8 BuildTable=0\n",
      "      ===== EM models for the G4Region  DefaultRegionForTheWorld ======\n",
      "   ICRU49NucStopping : Emin=    0 eV  Emax=    1 MeV\n",
      "\n",
      "msc:  for alpha  SubType= 10\n",
      "      RangeFactor= 0.2, stepLimType: 0, latDisp: 1\n",
      "      ===== EM models for the G4Region  DefaultRegionForTheWorld ======\n",
      "            UrbanMsc : Emin=    0 eV  Emax=  100 TeV Nbins=240 100 eV  - 100 TeV\n",
      "\n",
      "ionIoni:  for alpha  SubType=2\n",
      "      dE/dx and range tables from 10 eV  to 100 TeV in 260 bins\n",
      "      Lambda tables from threshold to 100 TeV, 20 bins/decade, spline: 1\n",
      "      StepFunction=(0.1, 0.01 mm), integ: 1, fluct: 1, linLossLim= 0.02\n",
      "      ===== EM models for the G4Region  DefaultRegionForTheWorld ======\n",
      "            BraggIon : Emin=    0 eV  Emax=7.9452 MeV  deltaVI\n",
      "          BetheBloch : Emin=7.9452 MeV Emax=  100 TeV  deltaVI\n",
      "\n",
      "nuclearStopping:  for alpha applyCuts:1  SubType=8 BuildTable=0\n",
      "      ===== EM models for the G4Region  DefaultRegionForTheWorld ======\n",
      "   ICRU49NucStopping : Emin=    0 eV  Emax=    1 MeV\n",
      "\n",
      "msc:  for anti_proton  SubType= 10\n",
      "      RangeFactor= 0.2, stepLimType: 0, latDisp: 1\n",
      "      ===== EM models for the G4Region  DefaultRegionForTheWorld ======\n",
      "            UrbanMsc : Emin=    0 eV  Emax=  100 TeV Nbins=240 100 eV  - 100 TeV\n",
      "\n",
      "hIoni:  for anti_proton  SubType=2\n",
      "      dE/dx and range tables from 10 eV  to 100 TeV in 260 bins\n",
      "      Lambda tables from threshold to 100 TeV, 20 bins/decade, spline: 1\n",
      "      StepFunction=(0.2, 0.05 mm), integ: 1, fluct: 1, linLossLim= 0.01\n",
      "      ===== EM models for the G4Region  DefaultRegionForTheWorld ======\n",
      "            ICRU73QO : Emin=    0 eV  Emax=    2 MeV  deltaVI\n",
      "          BetheBloch : Emin=    2 MeV Emax=  100 TeV  deltaVI\n",
      "\n",
      "hBrems:  for anti_proton  SubType=3\n",
      "      dE/dx and range tables from 10 eV  to 100 TeV in 260 bins\n",
      "      Lambda tables from threshold to 100 TeV, 20 bins/decade, spline: 1\n",
      "      ===== EM models for the G4Region  DefaultRegionForTheWorld ======\n",
      "               hBrem : Emin=    0 eV  Emax=  100 TeV\n",
      "      ===== Limit on energy threshold has been applied \n",
      "\n",
      "hPairProd:  for anti_proton  SubType=4\n",
      "      dE/dx and range tables from 10 eV  to 100 TeV in 260 bins\n",
      "      Lambda tables from threshold to 100 TeV, 20 bins/decade, spline: 1\n",
      "      Sampling table 17x1001; from 7.50618 GeV to 100 TeV \n",
      "      ===== EM models for the G4Region  DefaultRegionForTheWorld ======\n",
      "           hPairProd : Emin=    0 eV  Emax=  100 TeV\n",
      "\n",
      "nuclearStopping:  for anti_proton applyCuts:1  SubType=8 BuildTable=0\n",
      "      ===== EM models for the G4Region  DefaultRegionForTheWorld ======\n",
      "   ICRU49NucStopping : Emin=    0 eV  Emax=    1 MeV\n",
      "\n",
      "msc:  for kaon+  SubType= 10\n",
      "      RangeFactor= 0.2, stepLimType: 0, latDisp: 1\n",
      "      ===== EM models for the G4Region  DefaultRegionForTheWorld ======\n",
      "            UrbanMsc : Emin=    0 eV  Emax=  100 TeV Nbins=240 100 eV  - 100 TeV\n",
      "\n",
      "hIoni:  for kaon+  SubType=2\n",
      "      dE/dx and range tables from 10 eV  to 100 TeV in 260 bins\n",
      "      Lambda tables from threshold to 100 TeV, 20 bins/decade, spline: 1\n",
      "      StepFunction=(0.2, 0.05 mm), integ: 1, fluct: 1, linLossLim= 0.01\n",
      "      ===== EM models for the G4Region  DefaultRegionForTheWorld ======\n",
      "               Bragg : Emin=    0 eV  Emax=1.05231 MeV  deltaVI\n",
      "          BetheBloch : Emin=1.05231 MeV Emax=  100 TeV  deltaVI\n",
      "\n",
      "hBrems:  for kaon+  SubType=3\n",
      "      dE/dx and range tables from 10 eV  to 100 TeV in 260 bins\n",
      "      Lambda tables from threshold to 100 TeV, 20 bins/decade, spline: 1\n",
      "      ===== EM models for the G4Region  DefaultRegionForTheWorld ======\n",
      "               hBrem : Emin=    0 eV  Emax=  100 TeV\n",
      "      ===== Limit on energy threshold has been applied \n",
      "\n",
      "hPairProd:  for kaon+  SubType=4\n",
      "      dE/dx and range tables from 10 eV  to 100 TeV in 260 bins\n",
      "      Lambda tables from threshold to 100 TeV, 20 bins/decade, spline: 1\n",
      "      Sampling table 18x1001; from 3.94942 GeV to 100 TeV \n",
      "      ===== EM models for the G4Region  DefaultRegionForTheWorld ======\n",
      "           hPairProd : Emin=    0 eV  Emax=  100 TeV\n",
      "\n",
      "msc:  for kaon-  SubType= 10\n",
      "      RangeFactor= 0.2, stepLimType: 0, latDisp: 1\n",
      "      ===== EM models for the G4Region  DefaultRegionForTheWorld ======\n",
      "            UrbanMsc : Emin=    0 eV  Emax=  100 TeV Nbins=240 100 eV  - 100 TeV\n",
      "\n",
      "hIoni:  for kaon-  SubType=2\n",
      "      dE/dx and range tables from 10 eV  to 100 TeV in 260 bins\n",
      "      Lambda tables from threshold to 100 TeV, 20 bins/decade, spline: 1\n",
      "      StepFunction=(0.2, 0.05 mm), integ: 1, fluct: 1, linLossLim= 0.01\n",
      "      ===== EM models for the G4Region  DefaultRegionForTheWorld ======\n",
      "            ICRU73QO : Emin=    0 eV  Emax=1.05231 MeV  deltaVI\n",
      "          BetheBloch : Emin=1.05231 MeV Emax=  100 TeV  deltaVI\n",
      "\n",
      "hBrems:  for kaon-  SubType=3\n",
      "      dE/dx and range tables from 10 eV  to 100 TeV in 260 bins\n",
      "      Lambda tables from threshold to 100 TeV, 20 bins/decade, spline: 1\n",
      "      ===== EM models for the G4Region  DefaultRegionForTheWorld ======\n",
      "               hBrem : Emin=    0 eV  Emax=  100 TeV\n",
      "      ===== Limit on energy threshold has been applied \n",
      "\n",
      "hPairProd:  for kaon-  SubType=4\n",
      "      dE/dx and range tables from 10 eV  to 100 TeV in 260 bins\n",
      "      Lambda tables from threshold to 100 TeV, 20 bins/decade, spline: 1\n",
      "      Sampling table 18x1001; from 3.94942 GeV to 100 TeV \n",
      "      ===== EM models for the G4Region  DefaultRegionForTheWorld ======\n",
      "           hPairProd : Emin=    0 eV  Emax=  100 TeV\n",
      "\n",
      "msc:  for mu+  SubType= 10\n",
      "      RangeFactor= 0.2, stepLimType: 0, latDisp: 1, polarAngLim(deg)= 180\n",
      "      ===== EM models for the G4Region  DefaultRegionForTheWorld ======\n",
      "            UrbanMsc : Emin=    0 eV  Emax=  100 TeV Nbins=240 100 eV  - 100 TeV\n",
      "\n",
      "muIoni:  for mu+  SubType=2\n",
      "      dE/dx and range tables from 10 eV  to 100 TeV in 260 bins\n",
      "      Lambda tables from threshold to 100 TeV, 20 bins/decade, spline: 1\n",
      "      StepFunction=(0.2, 0.05 mm), integ: 1, fluct: 1, linLossLim= 0.01\n",
      "      ===== EM models for the G4Region  DefaultRegionForTheWorld ======\n",
      "               Bragg : Emin=    0 eV  Emax=  200 keV  deltaVI\n",
      "          BetheBloch : Emin=  200 keV Emax=    1 GeV  deltaVI\n",
      "        MuBetheBloch : Emin=    1 GeV Emax=  100 TeV\n",
      "\n",
      "muBrems:  for mu+  SubType=3\n",
      "      dE/dx and range tables from 10 eV  to 100 TeV in 260 bins\n",
      "      Lambda tables from threshold to 100 TeV, 20 bins/decade, spline: 1\n",
      "      ===== EM models for the G4Region  DefaultRegionForTheWorld ======\n",
      "              MuBrem : Emin=    0 eV  Emax=  100 TeV\n",
      "      ===== Limit on energy threshold has been applied \n",
      "\n",
      "muPairProd:  for mu+  SubType=4\n",
      "      dE/dx and range tables from 10 eV  to 100 TeV in 260 bins\n",
      "      Lambda tables from threshold to 100 TeV, 20 bins/decade, spline: 1\n",
      "      Sampling table 21x1001; from 1 GeV to 100 TeV \n",
      "      ===== EM models for the G4Region  DefaultRegionForTheWorld ======\n",
      "          muPairProd : Emin=    0 eV  Emax=  100 TeV\n",
      "\n",
      "msc:  for mu-  SubType= 10\n",
      "      RangeFactor= 0.2, stepLimType: 0, latDisp: 1, polarAngLim(deg)= 180\n",
      "      ===== EM models for the G4Region  DefaultRegionForTheWorld ======\n",
      "            UrbanMsc : Emin=    0 eV  Emax=  100 TeV Nbins=240 100 eV  - 100 TeV\n",
      "\n",
      "muIoni:  for mu-  SubType=2\n",
      "      dE/dx and range tables from 10 eV  to 100 TeV in 260 bins\n",
      "      Lambda tables from threshold to 100 TeV, 20 bins/decade, spline: 1\n",
      "      StepFunction=(0.2, 0.05 mm), integ: 1, fluct: 1, linLossLim= 0.01\n",
      "      ===== EM models for the G4Region  DefaultRegionForTheWorld ======\n",
      "            ICRU73QO : Emin=    0 eV  Emax=  200 keV  deltaVI\n",
      "          BetheBloch : Emin=  200 keV Emax=    1 GeV  deltaVI\n",
      "        MuBetheBloch : Emin=    1 GeV Emax=  100 TeV\n",
      "\n",
      "muBrems:  for mu-  SubType=3\n",
      "      dE/dx and range tables from 10 eV  to 100 TeV in 260 bins\n",
      "      Lambda tables from threshold to 100 TeV, 20 bins/decade, spline: 1\n",
      "      ===== EM models for the G4Region  DefaultRegionForTheWorld ======\n",
      "              MuBrem : Emin=    0 eV  Emax=  100 TeV\n",
      "      ===== Limit on energy threshold has been applied \n",
      "\n",
      "muPairProd:  for mu-  SubType=4\n",
      "      dE/dx and range tables from 10 eV  to 100 TeV in 260 bins\n",
      "      Lambda tables from threshold to 100 TeV, 20 bins/decade, spline: 1\n",
      "      Sampling table 21x1001; from 1 GeV to 100 TeV \n",
      "      ===== EM models for the G4Region  DefaultRegionForTheWorld ======\n",
      "          muPairProd : Emin=    0 eV  Emax=  100 TeV\n",
      "\n",
      "msc:  for pi+  SubType= 10\n",
      "      RangeFactor= 0.2, stepLimType: 0, latDisp: 1\n",
      "      ===== EM models for the G4Region  DefaultRegionForTheWorld ======\n",
      "            UrbanMsc : Emin=    0 eV  Emax=  100 TeV Nbins=240 100 eV  - 100 TeV\n"
     ]
    },
    {
     "name": "stdout",
     "output_type": "stream",
     "text": [
      "\n",
      "hIoni:  for pi+  SubType=2\n",
      "      dE/dx and range tables from 10 eV  to 100 TeV in 260 bins\n",
      "      Lambda tables from threshold to 100 TeV, 20 bins/decade, spline: 1\n",
      "      StepFunction=(0.2, 0.05 mm), integ: 1, fluct: 1, linLossLim= 0.01\n",
      "      ===== EM models for the G4Region  DefaultRegionForTheWorld ======\n",
      "               Bragg : Emin=    0 eV  Emax=297.505 keV  deltaVI\n",
      "          BetheBloch : Emin=297.505 keV Emax=  100 TeV  deltaVI\n",
      "\n",
      "hBrems:  for pi+  SubType=3\n",
      "      dE/dx and range tables from 10 eV  to 100 TeV in 260 bins\n",
      "      Lambda tables from threshold to 100 TeV, 20 bins/decade, spline: 1\n",
      "      ===== EM models for the G4Region  DefaultRegionForTheWorld ======\n",
      "               hBrem : Emin=    0 eV  Emax=  100 TeV\n",
      "      ===== Limit on energy threshold has been applied \n",
      "\n",
      "hPairProd:  for pi+  SubType=4\n",
      "      dE/dx and range tables from 10 eV  to 100 TeV in 260 bins\n",
      "      Lambda tables from threshold to 100 TeV, 20 bins/decade, spline: 1\n",
      "      Sampling table 20x1001; from 1.11656 GeV to 100 TeV \n",
      "      ===== EM models for the G4Region  DefaultRegionForTheWorld ======\n",
      "           hPairProd : Emin=    0 eV  Emax=  100 TeV\n",
      "\n",
      "msc:  for pi-  SubType= 10\n",
      "      RangeFactor= 0.2, stepLimType: 0, latDisp: 1\n",
      "      ===== EM models for the G4Region  DefaultRegionForTheWorld ======\n",
      "            UrbanMsc : Emin=    0 eV  Emax=  100 TeV Nbins=240 100 eV  - 100 TeV\n",
      "\n",
      "hIoni:  for pi-  SubType=2\n",
      "      dE/dx and range tables from 10 eV  to 100 TeV in 260 bins\n",
      "      Lambda tables from threshold to 100 TeV, 20 bins/decade, spline: 1\n",
      "      StepFunction=(0.2, 0.05 mm), integ: 1, fluct: 1, linLossLim= 0.01\n",
      "      ===== EM models for the G4Region  DefaultRegionForTheWorld ======\n",
      "            ICRU73QO : Emin=    0 eV  Emax=297.505 keV  deltaVI\n",
      "          BetheBloch : Emin=297.505 keV Emax=  100 TeV  deltaVI\n",
      "\n",
      "hBrems:  for pi-  SubType=3\n",
      "      dE/dx and range tables from 10 eV  to 100 TeV in 260 bins\n",
      "      Lambda tables from threshold to 100 TeV, 20 bins/decade, spline: 1\n",
      "      ===== EM models for the G4Region  DefaultRegionForTheWorld ======\n",
      "               hBrem : Emin=    0 eV  Emax=  100 TeV\n",
      "      ===== Limit on energy threshold has been applied \n",
      "\n",
      "hPairProd:  for pi-  SubType=4\n",
      "      dE/dx and range tables from 10 eV  to 100 TeV in 260 bins\n",
      "      Lambda tables from threshold to 100 TeV, 20 bins/decade, spline: 1\n",
      "      Sampling table 20x1001; from 1.11656 GeV to 100 TeV \n",
      "      ===== EM models for the G4Region  DefaultRegionForTheWorld ======\n",
      "           hPairProd : Emin=    0 eV  Emax=  100 TeV\n",
      "WARNING: No current scene handler.\n",
      "G4VisManager: Using G4TrajectoryDrawByCharge as fallback trajectory model.\n",
      "See commands in /vis/modeling/trajectories/ for other options.\n",
      "WARNING: No current scene handler.\n",
      "\n",
      "### ===  Deexcitation model UAtomDeexcitation is activated for 4 regions:\n",
      "          DefaultRegionForTheWorld  1  1  1\n",
      "          scanner  1  1  1\n",
      "          EPID  1  1  1\n",
      "          waterbox  1  1  1\n",
      "\n",
      "### === G4UAtomicDeexcitation::InitialiseForNewRun()\n",
      "### ===  Auger cascade flag: 1\n",
      "### ===  Ignore cuts flag:   0\n",
      "### ===  PIXE model for hadrons: Empirical\n",
      "### ===  PIXE model for e+-:     Livermore\n",
      "WARNING: command \"/vis/viewer/update\" could not be applied: no current viewer.\n",
      "[Core-0] End of macro mac/main.mac\n",
      "Graphics systems deleted.\n",
      "Visualization Manager deleting...\n",
      "CPU times: user 164 ms, sys: 69.7 ms, total: 234 ms\n",
      "Wall time: 15 s\n"
     ]
    }
   ],
   "source": [
    "%%time\n",
    "!Gate mac/main.mac"
   ]
  },
  {
   "cell_type": "code",
   "execution_count": 369,
   "id": "joined-school",
   "metadata": {},
   "outputs": [
    {
     "name": "stdout",
     "output_type": "stream",
     "text": [
      "1D-depth-Edep-Squared.txt      3D-Edep-Squared.raw      list-Run.bin\r\n",
      "1D-depth-Edep.txt              3D-Edep-Uncertainty.mhd  simu-stats.txt\r\n",
      "1D-depth-Edep-Uncertainty.txt  3D-Edep-Uncertainty.raw  tree.hits.npy\r\n",
      "3D-Edep.mhd                    3D-NbOfHits.mhd          tree.hits.root\r\n",
      "3D-Edep.raw                    3D-NbOfHits.raw          tree_water.hits.npy\r\n",
      "3D-Edep-Squared.mhd            list-Hits.bin            tree_water.hits.root\r\n"
     ]
    }
   ],
   "source": [
    "ls output/"
   ]
  },
  {
   "cell_type": "code",
   "execution_count": 370,
   "id": "communist-artist",
   "metadata": {},
   "outputs": [
    {
     "name": "stdout",
     "output_type": "stream",
     "text": [
      "/home/mdupont/Documents/DocumentsSync/IR/missions/by_year/2021/2021_03_09_Python GATE School/mathieu/gate-python-training/gate_outputs\n"
     ]
    }
   ],
   "source": [
    "cd .."
   ]
  },
  {
   "cell_type": "markdown",
   "id": "eight-chest",
   "metadata": {},
   "source": [
    "## GATE Numpy Tree output \n",
    "GATE simulations can now output information on interactions occuring in a detector in a new format: the NumPy .npy Python format. This as several advantages:\n",
    "* data is easily open in Python.\n",
    "* data is saved as a [Structured Arrays](https://docs.scipy.org/doc/numpy/user/basics.rec.html) which makes the access to variables very easy.\n",
    "\n",
    "cf: https://opengate.readthedocs.io/en/latest/data_output_management.html#new-unified-tree-output-root-numpy-and-more"
   ]
  },
  {
   "cell_type": "code",
   "execution_count": 371,
   "id": "filled-melbourne",
   "metadata": {},
   "outputs": [],
   "source": [
    "import numpy as np"
   ]
  },
  {
   "cell_type": "code",
   "execution_count": 372,
   "id": "absolute-calculation",
   "metadata": {},
   "outputs": [
    {
     "name": "stdout",
     "output_type": "stream",
     "text": [
      "Number of particles:  44129\n"
     ]
    }
   ],
   "source": [
    "data = np.load(\"ex_beam/output/tree.hits.npy\")\n",
    "print(\"Number of particles: \", len(data))"
   ]
  },
  {
   "cell_type": "code",
   "execution_count": 373,
   "id": "automotive-wichita",
   "metadata": {},
   "outputs": [],
   "source": [
    "import matplotlib.pyplot as plt\n",
    "%matplotlib inline"
   ]
  },
  {
   "cell_type": "code",
   "execution_count": 374,
   "id": "republican-jersey",
   "metadata": {},
   "outputs": [
    {
     "data": {
      "text/plain": [
       "dtype([('PDGEncoding', '<i4'), ('trackID', '<i4'), ('parentID', '<i4'), ('trackLocalTime', '<f8'), ('time', '<f8'), ('runID', '<i4'), ('eventID', '<i4'), ('sourceID', '<i4'), ('primaryID', '<i4'), ('posX', '<f4'), ('posY', '<f4'), ('posZ', '<f4'), ('localPosX', '<f4'), ('localPosY', '<f4'), ('localPosZ', '<f4'), ('momDirX', '<f4'), ('momDirY', '<f4'), ('momDirZ', '<f4'), ('edep', '<f4'), ('stepLength', '<f4'), ('trackLength', '<f4'), ('rotationAngle', '<f4'), ('axialPos', '<f4'), ('processName', 'S32'), ('comptVolName', 'S32'), ('RayleighVolName', 'S32'), ('volumeID[0]', '<i4'), ('volumeID[1]', '<i4'), ('volumeID[2]', '<i4'), ('volumeID[3]', '<i4'), ('volumeID[4]', '<i4'), ('volumeID[5]', '<i4'), ('volumeID[6]', '<i4'), ('volumeID[7]', '<i4'), ('volumeID[8]', '<i4'), ('volumeID[9]', '<i4'), ('sourcePosX', '<f4'), ('sourcePosY', '<f4'), ('sourcePosZ', '<f4'), ('nPhantomCompton', '<i4'), ('nCrystalCompton', '<i4'), ('nPhantomRayleigh', '<i4'), ('nCrystalRayleigh', '<i4'), ('', '<i4'), ('level1ID', '<i4'), ('level2ID', '<i4'), ('level3ID', '<i4'), ('level4ID', '<i4'), ('level5ID', '<i4'), ('photonID', '<i4')])"
      ]
     },
     "execution_count": 374,
     "metadata": {},
     "output_type": "execute_result"
    }
   ],
   "source": [
    "data.dtype"
   ]
  },
  {
   "cell_type": "code",
   "execution_count": 375,
   "id": "iraqi-barcelona",
   "metadata": {},
   "outputs": [
    {
     "data": {
      "image/png": "[encoded data removed]",
      "text/plain": [
       "<Figure size 432x288 with 1 Axes>"
      ]
     },
     "metadata": {
      "needs_background": "light"
     },
     "output_type": "display_data"
    }
   ],
   "source": [
    "plt.hist(data['edep'], bins=50, range=(0,0.5));"
   ]
  },
  {
   "cell_type": "markdown",
   "id": "medium-grammar",
   "metadata": {},
   "source": [
    "## GATE ROOT Tree output"
   ]
  },
  {
   "cell_type": "code",
   "execution_count": 376,
   "id": "atmospheric-cardiff",
   "metadata": {},
   "outputs": [
    {
     "name": "stdout",
     "output_type": "stream",
     "text": [
      "Trees in the file:\n",
      "['tree;1']\n",
      "\n",
      "Leaves (variables) in the Tree:\n",
      "['PDGEncoding', 'trackID', 'parentID', 'trackLocalTime', 'time', 'runID', 'eventID', 'sourceID', 'primaryID', 'posX', 'posY', 'posZ', 'localPosX', 'localPosY', 'localPosZ', 'momDirX', 'momDirY', 'momDirZ', 'edep', 'stepLength', 'trackLength', 'rotationAngle', 'axialPos', 'processName', 'comptVolName', 'RayleighVolName', 'volumeID[0]', 'volumeID[1]', 'volumeID[2]', 'volumeID[3]', 'volumeID[4]', 'volumeID[5]', 'volumeID[6]', 'volumeID[7]', 'volumeID[8]', 'volumeID[9]', 'sourcePosX', 'sourcePosY', 'sourcePosZ', 'nPhantomCompton', 'nCrystalCompton', 'nPhantomRayleigh', 'nCrystalRayleigh', '', 'level1ID', 'level2ID', 'level3ID', 'level4ID', 'level5ID', 'photonID']\n",
      "\n",
      "Number of particles: 44129\n"
     ]
    }
   ],
   "source": [
    "import uproot\n",
    "f = uproot.open('ex_beam/output/tree.hits.root')\n",
    "\n",
    "# all trees, branches and leaves names are accessible through the method keys()\n",
    "print('Trees in the file:')\n",
    "print(f.keys())\n",
    "print()\n",
    "print('Leaves (variables) in the Tree:')\n",
    "print(f['tree'].keys())\n",
    "\n",
    "# all variables are accessible through the method arrays() \n",
    "# data = f['tree'].arrays()\n",
    "#data = f['tree'].pandas.df().to_records() #with uproot3\n",
    "data =  f['tree'].arrays(library='pd').to_records()\n",
    "\n",
    "print()\n",
    "print('Number of particles:', len(data))"
   ]
  },
  {
   "cell_type": "code",
   "execution_count": 377,
   "id": "secure-sacrifice",
   "metadata": {},
   "outputs": [
    {
     "data": {
      "text/plain": [
       "dtype((numpy.record, [('index', '<i8'), ('PDGEncoding', '<i4'), ('trackID', '<i4'), ('parentID', '<i4'), ('trackLocalTime', '<f8'), ('time', '<f8'), ('runID', '<i4'), ('eventID', '<i4'), ('sourceID', '<i4'), ('primaryID', '<i4'), ('posX', '<f4'), ('posY', '<f4'), ('posZ', '<f4'), ('localPosX', '<f4'), ('localPosY', '<f4'), ('localPosZ', '<f4'), ('momDirX', '<f4'), ('momDirY', '<f4'), ('momDirZ', '<f4'), ('edep', '<f4'), ('stepLength', '<f4'), ('trackLength', '<f4'), ('rotationAngle', '<f4'), ('axialPos', '<f4'), ('processName', 'O'), ('comptVolName', 'O'), ('RayleighVolName', 'O'), ('volumeID[0]', '<i4'), ('volumeID[1]', '<i4'), ('volumeID[2]', '<i4'), ('volumeID[3]', '<i4'), ('volumeID[4]', '<i4'), ('volumeID[5]', '<i4'), ('volumeID[6]', '<i4'), ('volumeID[7]', '<i4'), ('volumeID[8]', '<i4'), ('volumeID[9]', '<i4'), ('sourcePosX', '<f4'), ('sourcePosY', '<f4'), ('sourcePosZ', '<f4'), ('nPhantomCompton', '<i4'), ('nCrystalCompton', '<i4'), ('nPhantomRayleigh', '<i4'), ('nCrystalRayleigh', '<i4'), ('', '<i4'), ('level1ID', '<i4'), ('level2ID', '<i4'), ('level3ID', '<i4'), ('level4ID', '<i4'), ('level5ID', '<i4'), ('photonID', '<i4')]))"
      ]
     },
     "execution_count": 377,
     "metadata": {},
     "output_type": "execute_result"
    }
   ],
   "source": [
    "data.dtype"
   ]
  },
  {
   "cell_type": "markdown",
   "id": "intellectual-power",
   "metadata": {},
   "source": [
    "### Exercice\n",
    "\n",
    "Analyse return of `f['tree'].arrays(library='np')` and use it to make a structured array. \n",
    "\n",
    "https://numpy.org/doc/stable/user/basics.rec.html"
   ]
  },
  {
   "cell_type": "code",
   "execution_count": 378,
   "id": "laughing-productivity",
   "metadata": {},
   "outputs": [],
   "source": [
    "d = f['tree'].arrays(library='np')"
   ]
  },
  {
   "cell_type": "markdown",
   "id": "ranking-caution",
   "metadata": {},
   "source": [
    "It is a dictionnary of array"
   ]
  },
  {
   "cell_type": "code",
   "execution_count": 379,
   "id": "advised-ranking",
   "metadata": {},
   "outputs": [
    {
     "data": {
      "text/plain": [
       "dict_keys(['PDGEncoding', 'trackID', 'parentID', 'trackLocalTime', 'time', 'runID', 'eventID', 'sourceID', 'primaryID', 'posX', 'posY', 'posZ', 'localPosX', 'localPosY', 'localPosZ', 'momDirX', 'momDirY', 'momDirZ', 'edep', 'stepLength', 'trackLength', 'rotationAngle', 'axialPos', 'processName', 'comptVolName', 'RayleighVolName', 'volumeID[0]', 'volumeID[1]', 'volumeID[2]', 'volumeID[3]', 'volumeID[4]', 'volumeID[5]', 'volumeID[6]', 'volumeID[7]', 'volumeID[8]', 'volumeID[9]', 'sourcePosX', 'sourcePosY', 'sourcePosZ', 'nPhantomCompton', 'nCrystalCompton', 'nPhantomRayleigh', 'nCrystalRayleigh', '', 'level1ID', 'level2ID', 'level3ID', 'level4ID', 'level5ID', 'photonID'])"
      ]
     },
     "execution_count": 379,
     "metadata": {},
     "output_type": "execute_result"
    }
   ],
   "source": [
    "d.keys()"
   ]
  },
  {
   "cell_type": "markdown",
   "id": "geographic-philosophy",
   "metadata": {},
   "source": [
    "(Strange empty key)"
   ]
  },
  {
   "cell_type": "code",
   "execution_count": 380,
   "id": "postal-invitation",
   "metadata": {},
   "outputs": [
    {
     "data": {
      "text/plain": [
       "array([( 22,), ( 22,), ( 22,), ..., (-11,), ( 11,), ( 11,)],\n",
       "      dtype=[('PDGEncoding', '<i4')])"
      ]
     },
     "execution_count": 380,
     "metadata": {},
     "output_type": "execute_result"
    }
   ],
   "source": [
    "k = 'PDGEncoding'\n",
    "dtype = (k, d[k].dtype)\n",
    "np.array((d[k]),     dtype = [dtype])"
   ]
  },
  {
   "cell_type": "code",
   "execution_count": 381,
   "id": "artificial-berkeley",
   "metadata": {},
   "outputs": [
    {
     "data": {
      "text/plain": [
       "array([0, 0, 0, ..., 0, 0, 0], dtype=int32)"
      ]
     },
     "execution_count": 381,
     "metadata": {},
     "output_type": "execute_result"
    }
   ],
   "source": [
    "d['']"
   ]
  },
  {
   "cell_type": "code",
   "execution_count": 419,
   "id": "ahead-fortune",
   "metadata": {},
   "outputs": [],
   "source": [
    "# write code here"
   ]
  },
  {
   "cell_type": "code",
   "execution_count": 383,
   "id": "needed-timothy",
   "metadata": {},
   "outputs": [
    {
     "data": {
      "text/plain": [
       "rec.array([(    0,  22,  1, 0, 3.22600900e-09, 2.00032260e-05, 0,     1, 0, 1,  -20.316797,  50.869514  , 450.38766,  -20.316797,  50.869514  ,  0.38767815, -0.39423513,  0.30159363,  0.86811286, 0.1399853 , 1.0225377 , 9.6713318e+02, 0., 0., 'phot', 'NULL', 'NULL', 0, 0, 0, -1, -1, -1, -1, -1, -1, -1, 1.1751182,  0.9652943 , -400., 0, 0, 0, 0, 0, 0, -1, -1, -1, -1, 0),\n",
       "           (    1,  22,  5, 3, 2.05411911e-09, 1.50003042e-04, 0,    14, 0, 1, -129.56573 , 161.34108   , 449.79062, -129.56573 , 161.34108   , -0.2093712 , -0.5171269 ,  0.82803565, -0.21664868, 0.10260286, 0.30708888, 6.1580939e+02, 0., 0., 'compt', 'NULL', 'NULL', 0, 0, 0, -1, -1, -1, -1, -1, -1, -1, 5.1229954, -0.47469708, -400., 0, 1, 0, 0, 0, 0, -1, -1, -1, -1, 2),\n",
       "           (    2,  22, 10, 2, 1.46579015e-09, 1.60003069e-04, 0,    15, 0, 1, -189.60411 , -96.21539   , 450.08292, -189.60411 , -96.21539   ,  0.0829014 ,  0.937483  , -0.04312427,  0.34534898, 0.4052644 , 0.6970424 , 4.3943283e+02, 0., 0., 'compt', 'NULL', 'NULL', 0, 0, 0, -1, -1, -1, -1, -1, -1, -1, 0.6558564,  0.05348328, -400., 0, 0, 0, 0, 0, 0, -1, -1, -1, -1, 0),\n",
       "           ...,\n",
       "           (44126, -11,  3, 1, 3.68468469e-15, 9.99870003e-01, 0, 99986, 0, 1,    4.012359,  -0.3963437 , 450.01367,    4.012359,  -0.3963437 ,  0.01366477,  0.2248968 , -0.63221407,  0.74143565, 0.        , 0.        , 1.0577791e-03, 0., 0., 'annihil', 'NULL', 'NULL', 0, 0, 0, -1, -1, -1, -1, -1, -1, -1, 4.0123034, -0.39618668, -400., 0, 0, 0, 0, 0, 0, -1, -1, -1, -1, 0),\n",
       "           (44127,  11,  2, 1, 1.20241865e-12, 9.99870003e-01, 0, 99986, 0, 1,    4.056679,  -0.4365919 , 450.37363,    4.056679,  -0.4365919 ,  0.37361145,  0.10809392,  0.07273341,  0.9914765 , 0.2480373 , 0.3694766 , 3.6947659e-01, 0., 0., 'msc', 'NULL', 'NULL', 0, 0, 0, -1, -1, -1, -1, -1, -1, -1, 4.0123034, -0.39618668, -400., 0, 0, 0, 0, 0, 0, -1, -1, -1, -1, 0),\n",
       "           (44128,  11,  2, 1, 1.62817551e-12, 9.99870003e-01, 0, 99986, 0, 1,    4.070458,  -0.42732018, 450.5    ,    4.070458,  -0.42732018,  0.5       ,  0.23069684,  0.09159732,  0.96870476, 0.09441113, 0.12868679, 4.9816334e-01, 0., 0., 'Transportation', 'NULL', 'NULL', 0, 0, 0, -1, -1, -1, -1, -1, -1, -1, 4.0123034, -0.39618668, -400., 0, 0, 0, 0, 0, 0, -1, -1, -1, -1, 0)],\n",
       "          dtype=[('index', '<i8'), ('PDGEncoding', '<i4'), ('trackID', '<i4'), ('parentID', '<i4'), ('trackLocalTime', '<f8'), ('time', '<f8'), ('runID', '<i4'), ('eventID', '<i4'), ('sourceID', '<i4'), ('primaryID', '<i4'), ('posX', '<f4'), ('posY', '<f4'), ('posZ', '<f4'), ('localPosX', '<f4'), ('localPosY', '<f4'), ('localPosZ', '<f4'), ('momDirX', '<f4'), ('momDirY', '<f4'), ('momDirZ', '<f4'), ('edep', '<f4'), ('stepLength', '<f4'), ('trackLength', '<f4'), ('rotationAngle', '<f4'), ('axialPos', '<f4'), ('processName', 'O'), ('comptVolName', 'O'), ('RayleighVolName', 'O'), ('volumeID[0]', '<i4'), ('volumeID[1]', '<i4'), ('volumeID[2]', '<i4'), ('volumeID[3]', '<i4'), ('volumeID[4]', '<i4'), ('volumeID[5]', '<i4'), ('volumeID[6]', '<i4'), ('volumeID[7]', '<i4'), ('volumeID[8]', '<i4'), ('volumeID[9]', '<i4'), ('sourcePosX', '<f4'), ('sourcePosY', '<f4'), ('sourcePosZ', '<f4'), ('nPhantomCompton', '<i4'), ('nCrystalCompton', '<i4'), ('nPhantomRayleigh', '<i4'), ('nCrystalRayleigh', '<i4'), ('', '<i4'), ('level1ID', '<i4'), ('level2ID', '<i4'), ('level3ID', '<i4'), ('level4ID', '<i4'), ('level5ID', '<i4'), ('photonID', '<i4')])"
      ]
     },
     "execution_count": 383,
     "metadata": {},
     "output_type": "execute_result"
    }
   ],
   "source": [
    "data"
   ]
  },
  {
   "cell_type": "code",
   "execution_count": 384,
   "id": "guilty-registration",
   "metadata": {},
   "outputs": [
    {
     "data": {
      "text/plain": [
       "True"
      ]
     },
     "execution_count": 384,
     "metadata": {},
     "output_type": "execute_result"
    }
   ],
   "source": [
    "np.all(datan['PDGEncoding'] == data['PDGEncoding'])"
   ]
  },
  {
   "cell_type": "markdown",
   "id": "desirable-offset",
   "metadata": {},
   "source": [
    "# Custom ROOT output\n",
    "\n",
    "Ok, but how do we deal with custom Root output, like the `EnergySpectrumActor`. Time to jump to the `gate-python-training/from_gate_training/exercise_session14_radioprotection`"
   ]
  },
  {
   "cell_type": "markdown",
   "id": "increasing-phoenix",
   "metadata": {},
   "source": [
    "# GATE Text output\n",
    "\n",
    "## 1D DoseActor (along Z)"
   ]
  },
  {
   "cell_type": "code",
   "execution_count": 391,
   "id": "seventh-baltimore",
   "metadata": {},
   "outputs": [],
   "source": [
    "import numpy as np\n",
    "import matplotlib.pyplot as plt\n",
    "%matplotlib inline"
   ]
  },
  {
   "cell_type": "markdown",
   "id": "cultural-postcard",
   "metadata": {},
   "source": [
    "### Exercice : \n",
    "Load data from `'ex_beam/output/1D-depth-Edep.txt'` and `'ex_beam/output/1D-depth-Edep-Uncertainty.txt'` and plot them"
   ]
  },
  {
   "cell_type": "code",
   "execution_count": 392,
   "id": "coated-sauce",
   "metadata": {},
   "outputs": [],
   "source": [
    "# Load data from txt files\n",
    "d_edep = np.loadtxt('ex_beam/output/1D-depth-Edep.txt')\n",
    "d_uncert = np.loadtxt('ex_beam/output/1D-depth-Edep-Uncertainty.txt')"
   ]
  },
  {
   "cell_type": "code",
   "execution_count": 393,
   "id": "second-julian",
   "metadata": {},
   "outputs": [
    {
     "data": {
      "image/png": "[encoded data removed]",
      "text/plain": [
       "<Figure size 864x432 with 2 Axes>"
      ]
     },
     "metadata": {},
     "output_type": "display_data"
    }
   ],
   "source": []
  },
  {
   "cell_type": "markdown",
   "id": "identical-radiation",
   "metadata": {},
   "source": [
    "# GATE image output\n",
    "\n",
    "## 3D DoseActor - format mhd/raw"
   ]
  },
  {
   "cell_type": "code",
   "execution_count": 394,
   "id": "immediate-sister",
   "metadata": {},
   "outputs": [
    {
     "name": "stdout",
     "output_type": "stream",
     "text": [
      "Image size =  (100, 200, 300)\n",
      "Image min and max:  0.0 143.22406\n"
     ]
    }
   ],
   "source": [
    "import SimpleITK as sitk\n",
    "\n",
    "img_edep = sitk.ReadImage('ex_beam/output/3D-Edep.mhd')\n",
    "arr_edep = sitk.GetArrayFromImage(img_edep)\n",
    "print('Image size = ', arr_edep.shape)\n",
    "print('Image min and max: ',  np.amin(arr_edep), np.amax(arr_edep))"
   ]
  },
  {
   "cell_type": "code",
   "execution_count": 395,
   "id": "spiritual-benefit",
   "metadata": {},
   "outputs": [
    {
     "data": {
      "text/plain": [
       "3"
      ]
     },
     "execution_count": 395,
     "metadata": {},
     "output_type": "execute_result"
    }
   ],
   "source": [
    "arr_edep.ndim"
   ]
  },
  {
   "cell_type": "markdown",
   "id": "returning-jones",
   "metadata": {},
   "source": [
    "### Exercise\n",
    "* make the same plot (depth dose) as previous section with this 3D data\n",
    "    * hint: you need to make a 1D array from 3D array"
   ]
  },
  {
   "cell_type": "code",
   "execution_count": 396,
   "id": "compressed-premises",
   "metadata": {},
   "outputs": [
    {
     "data": {
      "image/png": "[encoded data removed]",
      "text/plain": [
       "<Figure size 432x288 with 1 Axes>"
      ]
     },
     "metadata": {
      "needs_background": "light"
     },
     "output_type": "display_data"
    }
   ],
   "source": []
  },
  {
   "cell_type": "markdown",
   "id": "statewide-effects",
   "metadata": {},
   "source": [
    "* Open `3D-Edep-Uncertainty`, `3D-Edep-Squared` and recompute `3D-Edep-Uncertainty` from `3D-Edep-Squared`\n",
    "    * hint: https://github.com/OpenGATE/Gate/blob/develop/source/digits_hits/src/GateImageWithStatistic.cc#L366"
   ]
  },
  {
   "cell_type": "code",
   "execution_count": 397,
   "id": "lasting-organic",
   "metadata": {},
   "outputs": [
    {
     "name": "stdout",
     "output_type": "stream",
     "text": [
      "Image size =  (100, 200, 300)\n",
      "Image min and max:  0.07179023 1.0\n",
      "Image size =  (100, 200, 300)\n",
      "Image min and max:  0.0 153.42856\n"
     ]
    }
   ],
   "source": [
    "img_edep_uncertainty = sitk.ReadImage('ex_beam/output/3D-Edep-Uncertainty.mhd')\n",
    "arr_edep_uncertainty = sitk.GetArrayFromImage(img_edep_uncertainty)\n",
    "print('Image size = ', arr_edep_uncertainty.shape)\n",
    "print('Image min and max: ',  np.amin(arr_edep_uncertainty), np.amax(arr_edep_uncertainty))\n",
    "\n",
    "\n",
    "img_edep_squared = sitk.ReadImage('ex_beam/output/3D-Edep-Squared.mhd')\n",
    "arr_edep_squared = sitk.GetArrayFromImage(img_edep_squared)\n",
    "print('Image size = ', arr_edep_squared.shape)\n",
    "print('Image min and max: ',  np.amin(arr_edep_squared), np.amax(arr_edep_squared))"
   ]
  },
  {
   "cell_type": "code",
   "execution_count": 417,
   "id": "false-louisiana",
   "metadata": {},
   "outputs": [],
   "source": [
    "#write code here"
   ]
  },
  {
   "cell_type": "code",
   "execution_count": 399,
   "id": "korean-subcommittee",
   "metadata": {
    "scrolled": true
   },
   "outputs": [
    {
     "name": "stderr",
     "output_type": "stream",
     "text": [
      "<ipython-input-398-d40fa9be3889>:2: RuntimeWarning: invalid value encountered in true_divide\n",
      "  u = np.sqrt(1.0/(N-1)*(squared / N - (mean / N)**2)) / (mean / N)\n"
     ]
    }
   ],
   "source": [
    "u = compute_u(arr_edep_squared, arr_edep, 100000)"
   ]
  },
  {
   "cell_type": "code",
   "execution_count": 400,
   "id": "composite-threshold",
   "metadata": {},
   "outputs": [
    {
     "data": {
      "text/plain": [
       "<matplotlib.legend.Legend at 0x7fb05cc2d370>"
      ]
     },
     "execution_count": 400,
     "metadata": {},
     "output_type": "execute_result"
    },
    {
     "data": {
      "image/png": "[encoded data removed]",
      "text/plain": [
       "<Figure size 432x288 with 1 Axes>"
      ]
     },
     "metadata": {
      "needs_background": "light"
     },
     "output_type": "display_data"
    }
   ],
   "source": []
  },
  {
   "cell_type": "code",
   "execution_count": 401,
   "id": "textile-broad",
   "metadata": {},
   "outputs": [
    {
     "data": {
      "text/plain": [
       "True"
      ]
     },
     "execution_count": 401,
     "metadata": {},
     "output_type": "execute_result"
    }
   ],
   "source": [
    "np.allclose(u, arr_edep_uncertainty)"
   ]
  },
  {
   "cell_type": "markdown",
   "id": "lonely-texas",
   "metadata": {},
   "source": [
    "## Recompute 3D dose map from hits file ? \n",
    "\n",
    "* Modify mac files to make waterbox as crystalSD\n",
    "* Use fixed seed to make comparison between simulations"
   ]
  },
  {
   "cell_type": "markdown",
   "id": "addressed-sender",
   "metadata": {},
   "source": [
    "Run the GATE with `mac/main_waterboxHits.mac`"
   ]
  },
  {
   "cell_type": "code",
   "execution_count": 408,
   "id": "russian-volume",
   "metadata": {},
   "outputs": [
    {
     "name": "stdout",
     "output_type": "stream",
     "text": [
      "/home/mdupont/Documents/DocumentsSync/IR/missions/by_year/2021/2021_03_09_Python GATE School/mathieu/gate-python-training/gate_outputs/ex_beam\n"
     ]
    }
   ],
   "source": [
    "cd ex_beam/"
   ]
  },
  {
   "cell_type": "code",
   "execution_count": 409,
   "id": "variable-timeline",
   "metadata": {},
   "outputs": [
    {
     "name": "stdout",
     "output_type": "stream",
     "text": [
      "plop\n",
      "[G4] \n",
      "[G4] **************************************************************\n",
      "[G4]  Geant4 version Name: geant4-10-06-patch-01    (14-February-2020)\n",
      "[G4]                        Copyright : Geant4 Collaboration\n",
      "[G4]                       References : NIM A 506 (2003), 250-303\n",
      "[G4]                                  : IEEE-TNS 53 (2006), 270-278\n",
      "[G4]                                  : NIM A 835 (2016), 186-225\n",
      "[G4]                              WWW : http://geant4.org/\n",
      "[G4] **************************************************************\n",
      "[G4] \n",
      "[Core-0] Initialization of geometry\n",
      "[Core-0] Initialization of physics\n",
      "[Core-0] Initialization of actors\n",
      "[Core-0] \n",
      "[Core-0] *************************************************\n",
      "[Core-0]  GATE version 9.0 (March 2020)\n",
      "[Core-0]  Copyright : OpenGATE Collaboration\n",
      "[Core-0]  Reference : Phys. Med. Biol. 49 (2004) 4543-4561\n",
      "[Core-0]  Reference : Phys. Med. Biol. 56 (2011) 881-901\n",
      "[Core-0]  Reference : Med. Phys. 41(6)    (2014)\n",
      "[Core-0]  http://www.opengatecollaboration.org        \n",
      "[Core-0] *************************************************\n",
      "[Core-0] \n",
      "[Core-0] You are using Geant4 version 10.6.1\n",
      "[Core-0] Starting macro mac/main_waterboxHits.mac\n",
      "[Physic-0] The following Geant4's physic-list is enabled :emstandard_opt3\n",
      "[Core-0] Initialization of geometry\n",
      "[Physic-1]   \n",
      "[Physic-1]  ----------------------------------------------------------\n",
      "[Physic-1]                      Ionization potential \n",
      "[Physic-1]   - worldDefaultAir\t defaut value: I = 85.7031 eV \n",
      "[Physic-1]   - Air\t defaut value: I = 85.6694 eV \n",
      "[Physic-1]   - Vacuum\t defaut value: I = 19.2 eV \n",
      "[Physic-1]   - GSO\t defaut value: I = 359.808 eV \n",
      "[Physic-1]   - Water\t defaut value: I = 68.9984 eV \n",
      "[Physic-1]  ----------------------------------------------------------\n",
      "[Core-0] Initialization of physics\n",
      "[Core-0] Initialization of actors\n",
      "[G4-cerr] parameter value (OGLI) is not listed in the candidate List.\n",
      "[G4-cerr] Candidates are: ATree DAWNFILE HepRepFile HepRepXML RayTracer VRML1FILE VRML2FILE gMocrenFile\n",
      "GateToTree::SetOutputIDName, id_system = '0' anOutputIDName = 'level1ID' depth = '1'\n",
      "GateToTree::SetOutputIDName, id_system = '0' anOutputIDName = 'level2ID' depth = '2'\n",
      "GateToTree::SetOutputIDName, id_system = '0' anOutputIDName = 'level3ID' depth = '3'\n",
      "GateToTree::SetOutputIDName, id_system = '0' anOutputIDName = 'level4ID' depth = '4'\n",
      "GateToTree::SetOutputIDName, id_system = '0' anOutputIDName = 'level5ID' depth = '5'\n",
      "WARNING: Scene handler not found.\n",
      "[G4-cerr] ERROR: Current scene handler not defined.  Please select or create one.\n",
      "[G4-cerr] ERROR: Viewer \"none\" not found - \"/vis/viewer/list\"\n",
      "  to see possibilities.\n",
      "/tracking/storeTrajectory 1\n",
      "Attributes available for modeling and filtering with\n",
      "  \"/vis/modeling/trajectories/create/drawByAttribute\" and\n",
      "  \"/vis/filtering/trajectories/create/attributeFilter\" commands:\n",
      "G4TrajectoriesModel:\n",
      "  Event ID (EventID): G4int\n",
      "  Run ID (RunID): G4int\n",
      "G4Trajectory:\n",
      "  Charge (Ch): unit: e+ (G4double)\n",
      "  Track ID (ID): G4int\n",
      "  Initial kinetic energy (IKE): G4BestUnit (G4double)\n",
      "  Initial momentum magnitude (IMag): G4BestUnit (G4double)\n",
      "  Initial momentum (IMom): G4BestUnit (G4ThreeVector)\n",
      "  No. of points (NTP): G4int\n",
      "  PDG Encoding (PDG): G4int\n",
      "  Parent ID (PID): G4int\n",
      "  Particle Name (PN): G4String\n",
      "G4TrajectoryPoint:\n",
      "  Position (Pos): G4BestUnit (G4ThreeVector)\n",
      "WARNING: Trajectory storing has been requested.  This action may be\n",
      "  reversed with \"/tracking/storeTrajectory 0\".\n",
      "WARNING: Scene handler not found.\n",
      "[G4-cerr] ERROR: No current sceneHandler.  Please create one.\n",
      "WARNING: Scene handler not found.\n",
      "WARNING: Scene handler not found.\n",
      "WARNING: Scene handler not found.\n",
      "WARNING: Scene handler not found.\n",
      "[G4-cerr] ERROR: G4VisCommandsViewerSet::SetNewValue: no current viewer.\n",
      "[Acquisition-0]   \n",
      "[Acquisition-0] ============= Source initialization =============\n",
      "[Acquisition-0]   \n",
      "[Acquisition-0] ============= Acquisition starts! =============\n",
      "[Acquisition-0] Simulation start time = 0 sec\n",
      "[Acquisition-0] Simulation end time   = 1 sec\n",
      "[Acquisition-0] Simulation will have  = 1 run(s)\n",
      "Warning in <TBranch::TBranch>: No name was given to the leaf number '0' in the leaflist of the branch ''.\n",
      "[Acquisition-0] Slice 0 from 0 to 1 s [slice=1 s]\n",
      "\n",
      "### ===  Deexcitation model UAtomDeexcitation is activated for 4 regions:\n",
      "          DefaultRegionForTheWorld  1  1  1\n",
      "          scanner  1  1  1\n",
      "          EPID  1  1  1\n",
      "          waterbox  1  1  1\n",
      "\n",
      "### === G4UAtomicDeexcitation::InitialiseForNewRun()\n",
      "### ===  Auger cascade flag: 1\n",
      "### ===  Ignore cuts flag:   0\n",
      "### ===  PIXE model for hadrons: Empirical\n",
      "### ===  PIXE model for e+-:     Livermore\n",
      "\n",
      "phot:  for gamma applyCuts:1  SubType=12 BuildTable=0\n",
      "      LambdaPrime table from 200 keV to 100 TeV in 174 bins \n",
      "      ===== EM models for the G4Region  DefaultRegionForTheWorld ======\n",
      " LivermorePhElectric : Emin=    0 eV  Emax=  100 TeV  SauterGavrila Fluo\n",
      "\n",
      "compt:  for gamma applyCuts:1  SubType=13 BuildTable=1\n",
      "      Lambda table from 10 eV  to 1 MeV, 20 bins/decade, spline: 1\n",
      "      LambdaPrime table from 1 MeV to 100 TeV in 160 bins \n",
      "      ===== EM models for the G4Region  DefaultRegionForTheWorld ======\n",
      "        KleinNishina : Emin=    0 eV  Emax=  100 TeV Fluo\n",
      "\n",
      "conv:  for gamma applyCuts:1  SubType=14 BuildTable=1\n",
      "      Lambda table from 1.022 MeV to 100 TeV, 20 bins/decade, spline: 1\n",
      "      ===== EM models for the G4Region  DefaultRegionForTheWorld ======\n",
      "     BetheHeitlerLPM : Emin=    0 eV  Emax=  100 TeV  ModifiedTsai\n",
      "\n",
      "Rayl:  for gamma applyCuts:1  SubType=11 BuildTable=1\n",
      "      Lambda table from 10 eV  to 100 keV, 20 bins/decade, spline: 0\n",
      "      LambdaPrime table from 100 keV to 100 TeV in 180 bins \n",
      "      ===== EM models for the G4Region  DefaultRegionForTheWorld ======\n",
      "   LivermoreRayleigh : Emin=    0 eV  Emax=  100 TeV  CullenGenerator\n",
      "\n",
      "msc:  for e-  SubType= 10\n",
      "      RangeFactor= 0.04, stepLimType: 3, latDisp: 1, skin= 1, geomFactor= 2.5\n",
      "      ===== EM models for the G4Region  DefaultRegionForTheWorld ======\n",
      "            UrbanMsc : Emin=    0 eV  Emax=  100 TeV Nbins=240 100 eV  - 100 TeV\n",
      "\n",
      "eIoni:  for e-  SubType=2\n",
      "      dE/dx and range tables from 10 eV  to 100 TeV in 260 bins\n",
      "      Lambda tables from threshold to 100 TeV, 20 bins/decade, spline: 1\n",
      "      StepFunction=(0.2, 0.1 mm), integ: 1, fluct: 1, linLossLim= 0.01\n",
      "      ===== EM models for the G4Region  DefaultRegionForTheWorld ======\n",
      "        MollerBhabha : Emin=    0 eV  Emax=  100 TeV  deltaVI\n",
      "\n",
      "eBrem:  for e-  SubType=3\n",
      "      dE/dx and range tables from 10 eV  to 100 TeV in 260 bins\n",
      "      Lambda tables from threshold to 100 TeV, 20 bins/decade, spline: 1\n",
      "      LPM flag: 1 for E > 1 GeV,  VertexHighEnergyTh(GeV)= 100000\n",
      "      ===== EM models for the G4Region  DefaultRegionForTheWorld ======\n",
      "             eBremSB : Emin=    0 eV  Emax=    1 GeV  AngularGen2BS\n",
      "            eBremLPM : Emin=    1 GeV Emax=  100 TeV  AngularGen2BS\n",
      "\n",
      "ePairProd:  for e-  SubType=4\n",
      "      dE/dx and range tables from 10 eV  to 100 TeV in 260 bins\n",
      "      Lambda tables from threshold to 100 TeV, 20 bins/decade, spline: 1\n",
      "      Sampling table 25x1001; from 0.1 GeV to 100 TeV \n",
      "      ===== EM models for the G4Region  DefaultRegionForTheWorld ======\n",
      "           ePairProd : Emin=    0 eV  Emax=  100 TeV\n",
      "\n",
      "msc:  for e+  SubType= 10\n",
      "      RangeFactor= 0.04, stepLimType: 3, latDisp: 1, skin= 1, geomFactor= 2.5\n",
      "      ===== EM models for the G4Region  DefaultRegionForTheWorld ======\n",
      "            UrbanMsc : Emin=    0 eV  Emax=  100 TeV Nbins=240 100 eV  - 100 TeV\n",
      "\n",
      "eIoni:  for e+  SubType=2\n",
      "      dE/dx and range tables from 10 eV  to 100 TeV in 260 bins\n",
      "      Lambda tables from threshold to 100 TeV, 20 bins/decade, spline: 1\n",
      "      StepFunction=(0.2, 0.1 mm), integ: 1, fluct: 1, linLossLim= 0.01\n",
      "      ===== EM models for the G4Region  DefaultRegionForTheWorld ======\n",
      "        MollerBhabha : Emin=    0 eV  Emax=  100 TeV  deltaVI\n",
      "\n",
      "eBrem:  for e+  SubType=3\n",
      "      dE/dx and range tables from 10 eV  to 100 TeV in 260 bins\n",
      "      Lambda tables from threshold to 100 TeV, 20 bins/decade, spline: 1\n",
      "      LPM flag: 1 for E > 1 GeV,  VertexHighEnergyTh(GeV)= 100000\n",
      "      ===== EM models for the G4Region  DefaultRegionForTheWorld ======\n",
      "             eBremSB : Emin=    0 eV  Emax=    1 GeV  AngularGen2BS\n",
      "            eBremLPM : Emin=    1 GeV Emax=  100 TeV  AngularGen2BS\n",
      "\n",
      "ePairProd:  for e+  SubType=4\n",
      "      dE/dx and range tables from 10 eV  to 100 TeV in 260 bins\n",
      "      Lambda tables from threshold to 100 TeV, 20 bins/decade, spline: 1\n",
      "      Sampling table 25x1001; from 0.1 GeV to 100 TeV \n",
      "      ===== EM models for the G4Region  DefaultRegionForTheWorld ======\n",
      "           ePairProd : Emin=    0 eV  Emax=  100 TeV\n",
      "\n",
      "annihil:  for e+, integral:1  applyCuts:1  SubType=5 BuildTable=0\n",
      "      ===== EM models for the G4Region  DefaultRegionForTheWorld ======\n",
      "            eplus2gg : Emin=    0 eV  Emax=  100 TeV\n",
      "\n",
      "msc:  for proton  SubType= 10\n",
      "      RangeFactor= 0.2, stepLimType: 0, latDisp: 1\n",
      "      ===== EM models for the G4Region  DefaultRegionForTheWorld ======\n",
      "            UrbanMsc : Emin=    0 eV  Emax=  100 TeV Nbins=240 100 eV  - 100 TeV\n"
     ]
    },
    {
     "name": "stdout",
     "output_type": "stream",
     "text": [
      "\n",
      "hIoni:  for proton  SubType=2\n",
      "      dE/dx and range tables from 10 eV  to 100 TeV in 260 bins\n",
      "      Lambda tables from threshold to 100 TeV, 20 bins/decade, spline: 1\n",
      "      StepFunction=(0.2, 0.05 mm), integ: 1, fluct: 1, linLossLim= 0.01\n",
      "      ===== EM models for the G4Region  DefaultRegionForTheWorld ======\n",
      "               Bragg : Emin=    0 eV  Emax=    2 MeV  deltaVI\n",
      "          BetheBloch : Emin=    2 MeV Emax=  100 TeV  deltaVI\n",
      "\n",
      "hBrems:  for proton  SubType=3\n",
      "      dE/dx and range tables from 10 eV  to 100 TeV in 260 bins\n",
      "      Lambda tables from threshold to 100 TeV, 20 bins/decade, spline: 1\n",
      "      ===== EM models for the G4Region  DefaultRegionForTheWorld ======\n",
      "               hBrem : Emin=    0 eV  Emax=  100 TeV\n",
      "      ===== Limit on energy threshold has been applied \n",
      "\n",
      "hPairProd:  for proton  SubType=4\n",
      "      dE/dx and range tables from 10 eV  to 100 TeV in 260 bins\n",
      "      Lambda tables from threshold to 100 TeV, 20 bins/decade, spline: 1\n",
      "      Sampling table 17x1001; from 7.50618 GeV to 100 TeV \n",
      "      ===== EM models for the G4Region  DefaultRegionForTheWorld ======\n",
      "           hPairProd : Emin=    0 eV  Emax=  100 TeV\n",
      "\n",
      "nuclearStopping:  for proton applyCuts:1  SubType=8 BuildTable=0\n",
      "      ===== EM models for the G4Region  DefaultRegionForTheWorld ======\n",
      "   ICRU49NucStopping : Emin=    0 eV  Emax=    1 MeV\n",
      "\n",
      "msc:  for GenericIon  SubType= 10\n",
      "      RangeFactor= 0.2, stepLimType: 0, latDisp: 0\n",
      "      ===== EM models for the G4Region  DefaultRegionForTheWorld ======\n",
      "            UrbanMsc : Emin=    0 eV  Emax=  100 TeV\n",
      "\n",
      "ionIoni:  for GenericIon  SubType=2\n",
      "      dE/dx and range tables from 10 eV  to 100 TeV in 260 bins\n",
      "      Lambda tables from threshold to 100 TeV, 20 bins/decade, spline: 1\n",
      "      StepFunction=(0.1, 0.001 mm), integ: 1, fluct: 1, linLossLim= 0.02\n",
      "      ===== EM models for the G4Region  DefaultRegionForTheWorld ======\n",
      "         ParamICRU73 : Emin=    0 eV  Emax=  100 TeV  deltaVI\n",
      "\n",
      "nuclearStopping:  for GenericIon applyCuts:1  SubType=8 BuildTable=0\n",
      "      ===== EM models for the G4Region  DefaultRegionForTheWorld ======\n",
      "   ICRU49NucStopping : Emin=    0 eV  Emax=    1 MeV\n",
      "\n",
      "msc:  for alpha  SubType= 10\n",
      "      RangeFactor= 0.2, stepLimType: 0, latDisp: 1\n",
      "      ===== EM models for the G4Region  DefaultRegionForTheWorld ======\n",
      "            UrbanMsc : Emin=    0 eV  Emax=  100 TeV Nbins=240 100 eV  - 100 TeV\n",
      "\n",
      "ionIoni:  for alpha  SubType=2\n",
      "      dE/dx and range tables from 10 eV  to 100 TeV in 260 bins\n",
      "      Lambda tables from threshold to 100 TeV, 20 bins/decade, spline: 1\n",
      "      StepFunction=(0.1, 0.01 mm), integ: 1, fluct: 1, linLossLim= 0.02\n",
      "      ===== EM models for the G4Region  DefaultRegionForTheWorld ======\n",
      "            BraggIon : Emin=    0 eV  Emax=7.9452 MeV  deltaVI\n",
      "          BetheBloch : Emin=7.9452 MeV Emax=  100 TeV  deltaVI\n",
      "\n",
      "nuclearStopping:  for alpha applyCuts:1  SubType=8 BuildTable=0\n",
      "      ===== EM models for the G4Region  DefaultRegionForTheWorld ======\n",
      "   ICRU49NucStopping : Emin=    0 eV  Emax=    1 MeV\n",
      "\n",
      "msc:  for anti_proton  SubType= 10\n",
      "      RangeFactor= 0.2, stepLimType: 0, latDisp: 1\n",
      "      ===== EM models for the G4Region  DefaultRegionForTheWorld ======\n",
      "            UrbanMsc : Emin=    0 eV  Emax=  100 TeV Nbins=240 100 eV  - 100 TeV\n",
      "\n",
      "hIoni:  for anti_proton  SubType=2\n",
      "      dE/dx and range tables from 10 eV  to 100 TeV in 260 bins\n",
      "      Lambda tables from threshold to 100 TeV, 20 bins/decade, spline: 1\n",
      "      StepFunction=(0.2, 0.05 mm), integ: 1, fluct: 1, linLossLim= 0.01\n",
      "      ===== EM models for the G4Region  DefaultRegionForTheWorld ======\n",
      "            ICRU73QO : Emin=    0 eV  Emax=    2 MeV  deltaVI\n",
      "          BetheBloch : Emin=    2 MeV Emax=  100 TeV  deltaVI\n",
      "\n",
      "hBrems:  for anti_proton  SubType=3\n",
      "      dE/dx and range tables from 10 eV  to 100 TeV in 260 bins\n",
      "      Lambda tables from threshold to 100 TeV, 20 bins/decade, spline: 1\n",
      "      ===== EM models for the G4Region  DefaultRegionForTheWorld ======\n",
      "               hBrem : Emin=    0 eV  Emax=  100 TeV\n",
      "      ===== Limit on energy threshold has been applied \n",
      "\n",
      "hPairProd:  for anti_proton  SubType=4\n",
      "      dE/dx and range tables from 10 eV  to 100 TeV in 260 bins\n",
      "      Lambda tables from threshold to 100 TeV, 20 bins/decade, spline: 1\n",
      "      Sampling table 17x1001; from 7.50618 GeV to 100 TeV \n",
      "      ===== EM models for the G4Region  DefaultRegionForTheWorld ======\n",
      "           hPairProd : Emin=    0 eV  Emax=  100 TeV\n",
      "\n",
      "nuclearStopping:  for anti_proton applyCuts:1  SubType=8 BuildTable=0\n",
      "      ===== EM models for the G4Region  DefaultRegionForTheWorld ======\n",
      "   ICRU49NucStopping : Emin=    0 eV  Emax=    1 MeV\n",
      "\n",
      "msc:  for kaon+  SubType= 10\n",
      "      RangeFactor= 0.2, stepLimType: 0, latDisp: 1\n",
      "      ===== EM models for the G4Region  DefaultRegionForTheWorld ======\n",
      "            UrbanMsc : Emin=    0 eV  Emax=  100 TeV Nbins=240 100 eV  - 100 TeV\n",
      "\n",
      "hIoni:  for kaon+  SubType=2\n",
      "      dE/dx and range tables from 10 eV  to 100 TeV in 260 bins\n",
      "      Lambda tables from threshold to 100 TeV, 20 bins/decade, spline: 1\n",
      "      StepFunction=(0.2, 0.05 mm), integ: 1, fluct: 1, linLossLim= 0.01\n",
      "      ===== EM models for the G4Region  DefaultRegionForTheWorld ======\n",
      "               Bragg : Emin=    0 eV  Emax=1.05231 MeV  deltaVI\n",
      "          BetheBloch : Emin=1.05231 MeV Emax=  100 TeV  deltaVI\n",
      "\n",
      "hBrems:  for kaon+  SubType=3\n",
      "      dE/dx and range tables from 10 eV  to 100 TeV in 260 bins\n",
      "      Lambda tables from threshold to 100 TeV, 20 bins/decade, spline: 1\n",
      "      ===== EM models for the G4Region  DefaultRegionForTheWorld ======\n",
      "               hBrem : Emin=    0 eV  Emax=  100 TeV\n",
      "      ===== Limit on energy threshold has been applied \n",
      "\n",
      "hPairProd:  for kaon+  SubType=4\n",
      "      dE/dx and range tables from 10 eV  to 100 TeV in 260 bins\n",
      "      Lambda tables from threshold to 100 TeV, 20 bins/decade, spline: 1\n",
      "      Sampling table 18x1001; from 3.94942 GeV to 100 TeV \n",
      "      ===== EM models for the G4Region  DefaultRegionForTheWorld ======\n",
      "           hPairProd : Emin=    0 eV  Emax=  100 TeV\n",
      "\n",
      "msc:  for kaon-  SubType= 10\n",
      "      RangeFactor= 0.2, stepLimType: 0, latDisp: 1\n",
      "      ===== EM models for the G4Region  DefaultRegionForTheWorld ======\n",
      "            UrbanMsc : Emin=    0 eV  Emax=  100 TeV Nbins=240 100 eV  - 100 TeV\n",
      "\n",
      "hIoni:  for kaon-  SubType=2\n",
      "      dE/dx and range tables from 10 eV  to 100 TeV in 260 bins\n",
      "      Lambda tables from threshold to 100 TeV, 20 bins/decade, spline: 1\n",
      "      StepFunction=(0.2, 0.05 mm), integ: 1, fluct: 1, linLossLim= 0.01\n",
      "      ===== EM models for the G4Region  DefaultRegionForTheWorld ======\n",
      "            ICRU73QO : Emin=    0 eV  Emax=1.05231 MeV  deltaVI\n",
      "          BetheBloch : Emin=1.05231 MeV Emax=  100 TeV  deltaVI\n",
      "\n",
      "hBrems:  for kaon-  SubType=3\n",
      "      dE/dx and range tables from 10 eV  to 100 TeV in 260 bins\n",
      "      Lambda tables from threshold to 100 TeV, 20 bins/decade, spline: 1\n",
      "      ===== EM models for the G4Region  DefaultRegionForTheWorld ======\n",
      "               hBrem : Emin=    0 eV  Emax=  100 TeV\n",
      "      ===== Limit on energy threshold has been applied \n",
      "\n",
      "hPairProd:  for kaon-  SubType=4\n",
      "      dE/dx and range tables from 10 eV  to 100 TeV in 260 bins\n",
      "      Lambda tables from threshold to 100 TeV, 20 bins/decade, spline: 1\n",
      "      Sampling table 18x1001; from 3.94942 GeV to 100 TeV \n",
      "      ===== EM models for the G4Region  DefaultRegionForTheWorld ======\n",
      "           hPairProd : Emin=    0 eV  Emax=  100 TeV\n",
      "\n",
      "msc:  for mu+  SubType= 10\n",
      "      RangeFactor= 0.2, stepLimType: 0, latDisp: 1, polarAngLim(deg)= 180\n",
      "      ===== EM models for the G4Region  DefaultRegionForTheWorld ======\n",
      "            UrbanMsc : Emin=    0 eV  Emax=  100 TeV Nbins=240 100 eV  - 100 TeV\n",
      "\n",
      "muIoni:  for mu+  SubType=2\n",
      "      dE/dx and range tables from 10 eV  to 100 TeV in 260 bins\n",
      "      Lambda tables from threshold to 100 TeV, 20 bins/decade, spline: 1\n",
      "      StepFunction=(0.2, 0.05 mm), integ: 1, fluct: 1, linLossLim= 0.01\n",
      "      ===== EM models for the G4Region  DefaultRegionForTheWorld ======\n",
      "               Bragg : Emin=    0 eV  Emax=  200 keV  deltaVI\n",
      "          BetheBloch : Emin=  200 keV Emax=    1 GeV  deltaVI\n",
      "        MuBetheBloch : Emin=    1 GeV Emax=  100 TeV\n",
      "\n",
      "muBrems:  for mu+  SubType=3\n",
      "      dE/dx and range tables from 10 eV  to 100 TeV in 260 bins\n",
      "      Lambda tables from threshold to 100 TeV, 20 bins/decade, spline: 1\n",
      "      ===== EM models for the G4Region  DefaultRegionForTheWorld ======\n",
      "              MuBrem : Emin=    0 eV  Emax=  100 TeV\n",
      "      ===== Limit on energy threshold has been applied \n",
      "\n",
      "muPairProd:  for mu+  SubType=4\n",
      "      dE/dx and range tables from 10 eV  to 100 TeV in 260 bins\n",
      "      Lambda tables from threshold to 100 TeV, 20 bins/decade, spline: 1\n",
      "      Sampling table 21x1001; from 1 GeV to 100 TeV \n",
      "      ===== EM models for the G4Region  DefaultRegionForTheWorld ======\n",
      "          muPairProd : Emin=    0 eV  Emax=  100 TeV\n",
      "\n",
      "msc:  for mu-  SubType= 10\n",
      "      RangeFactor= 0.2, stepLimType: 0, latDisp: 1, polarAngLim(deg)= 180\n",
      "      ===== EM models for the G4Region  DefaultRegionForTheWorld ======\n",
      "            UrbanMsc : Emin=    0 eV  Emax=  100 TeV Nbins=240 100 eV  - 100 TeV\n",
      "\n",
      "muIoni:  for mu-  SubType=2\n",
      "      dE/dx and range tables from 10 eV  to 100 TeV in 260 bins\n",
      "      Lambda tables from threshold to 100 TeV, 20 bins/decade, spline: 1\n",
      "      StepFunction=(0.2, 0.05 mm), integ: 1, fluct: 1, linLossLim= 0.01\n",
      "      ===== EM models for the G4Region  DefaultRegionForTheWorld ======\n",
      "            ICRU73QO : Emin=    0 eV  Emax=  200 keV  deltaVI\n",
      "          BetheBloch : Emin=  200 keV Emax=    1 GeV  deltaVI\n",
      "        MuBetheBloch : Emin=    1 GeV Emax=  100 TeV\n",
      "\n",
      "muBrems:  for mu-  SubType=3\n",
      "      dE/dx and range tables from 10 eV  to 100 TeV in 260 bins\n",
      "      Lambda tables from threshold to 100 TeV, 20 bins/decade, spline: 1\n",
      "      ===== EM models for the G4Region  DefaultRegionForTheWorld ======\n",
      "              MuBrem : Emin=    0 eV  Emax=  100 TeV\n",
      "      ===== Limit on energy threshold has been applied \n",
      "\n",
      "muPairProd:  for mu-  SubType=4\n",
      "      dE/dx and range tables from 10 eV  to 100 TeV in 260 bins\n",
      "      Lambda tables from threshold to 100 TeV, 20 bins/decade, spline: 1\n",
      "      Sampling table 21x1001; from 1 GeV to 100 TeV \n",
      "      ===== EM models for the G4Region  DefaultRegionForTheWorld ======\n",
      "          muPairProd : Emin=    0 eV  Emax=  100 TeV\n",
      "\n",
      "msc:  for pi+  SubType= 10\n",
      "      RangeFactor= 0.2, stepLimType: 0, latDisp: 1\n",
      "      ===== EM models for the G4Region  DefaultRegionForTheWorld ======\n",
      "            UrbanMsc : Emin=    0 eV  Emax=  100 TeV Nbins=240 100 eV  - 100 TeV\n"
     ]
    },
    {
     "name": "stdout",
     "output_type": "stream",
     "text": [
      "\n",
      "hIoni:  for pi+  SubType=2\n",
      "      dE/dx and range tables from 10 eV  to 100 TeV in 260 bins\n",
      "      Lambda tables from threshold to 100 TeV, 20 bins/decade, spline: 1\n",
      "      StepFunction=(0.2, 0.05 mm), integ: 1, fluct: 1, linLossLim= 0.01\n",
      "      ===== EM models for the G4Region  DefaultRegionForTheWorld ======\n",
      "               Bragg : Emin=    0 eV  Emax=297.505 keV  deltaVI\n",
      "          BetheBloch : Emin=297.505 keV Emax=  100 TeV  deltaVI\n",
      "\n",
      "hBrems:  for pi+  SubType=3\n",
      "      dE/dx and range tables from 10 eV  to 100 TeV in 260 bins\n",
      "      Lambda tables from threshold to 100 TeV, 20 bins/decade, spline: 1\n",
      "      ===== EM models for the G4Region  DefaultRegionForTheWorld ======\n",
      "               hBrem : Emin=    0 eV  Emax=  100 TeV\n",
      "      ===== Limit on energy threshold has been applied \n",
      "\n",
      "hPairProd:  for pi+  SubType=4\n",
      "      dE/dx and range tables from 10 eV  to 100 TeV in 260 bins\n",
      "      Lambda tables from threshold to 100 TeV, 20 bins/decade, spline: 1\n",
      "      Sampling table 20x1001; from 1.11656 GeV to 100 TeV \n",
      "      ===== EM models for the G4Region  DefaultRegionForTheWorld ======\n",
      "           hPairProd : Emin=    0 eV  Emax=  100 TeV\n",
      "\n",
      "msc:  for pi-  SubType= 10\n",
      "      RangeFactor= 0.2, stepLimType: 0, latDisp: 1\n",
      "      ===== EM models for the G4Region  DefaultRegionForTheWorld ======\n",
      "            UrbanMsc : Emin=    0 eV  Emax=  100 TeV Nbins=240 100 eV  - 100 TeV\n",
      "\n",
      "hIoni:  for pi-  SubType=2\n",
      "      dE/dx and range tables from 10 eV  to 100 TeV in 260 bins\n",
      "      Lambda tables from threshold to 100 TeV, 20 bins/decade, spline: 1\n",
      "      StepFunction=(0.2, 0.05 mm), integ: 1, fluct: 1, linLossLim= 0.01\n",
      "      ===== EM models for the G4Region  DefaultRegionForTheWorld ======\n",
      "            ICRU73QO : Emin=    0 eV  Emax=297.505 keV  deltaVI\n",
      "          BetheBloch : Emin=297.505 keV Emax=  100 TeV  deltaVI\n",
      "\n",
      "hBrems:  for pi-  SubType=3\n",
      "      dE/dx and range tables from 10 eV  to 100 TeV in 260 bins\n",
      "      Lambda tables from threshold to 100 TeV, 20 bins/decade, spline: 1\n",
      "      ===== EM models for the G4Region  DefaultRegionForTheWorld ======\n",
      "               hBrem : Emin=    0 eV  Emax=  100 TeV\n",
      "      ===== Limit on energy threshold has been applied \n",
      "\n",
      "hPairProd:  for pi-  SubType=4\n",
      "      dE/dx and range tables from 10 eV  to 100 TeV in 260 bins\n",
      "      Lambda tables from threshold to 100 TeV, 20 bins/decade, spline: 1\n",
      "      Sampling table 20x1001; from 1.11656 GeV to 100 TeV \n",
      "      ===== EM models for the G4Region  DefaultRegionForTheWorld ======\n",
      "           hPairProd : Emin=    0 eV  Emax=  100 TeV\n",
      "WARNING: No current scene handler.\n",
      "G4VisManager: Using G4TrajectoryDrawByCharge as fallback trajectory model.\n",
      "See commands in /vis/modeling/trajectories/ for other options.\n",
      "WARNING: No current scene handler.\n",
      "\n",
      "### ===  Deexcitation model UAtomDeexcitation is activated for 4 regions:\n",
      "          DefaultRegionForTheWorld  1  1  1\n",
      "          scanner  1  1  1\n",
      "          EPID  1  1  1\n",
      "          waterbox  1  1  1\n",
      "\n",
      "### === G4UAtomicDeexcitation::InitialiseForNewRun()\n",
      "### ===  Auger cascade flag: 1\n",
      "### ===  Ignore cuts flag:   0\n",
      "### ===  PIXE model for hadrons: Empirical\n",
      "### ===  PIXE model for e+-:     Livermore\n",
      "WARNING: command \"/vis/viewer/update\" could not be applied: no current viewer.\n",
      "[Core-0] End of macro mac/main_waterboxHits.mac\n",
      "Graphics systems deleted.\n",
      "Visualization Manager deleting...\n"
     ]
    }
   ],
   "source": [
    "!Gate mac/main_waterboxHits.mac"
   ]
  },
  {
   "cell_type": "code",
   "execution_count": 410,
   "id": "breathing-confidentiality",
   "metadata": {},
   "outputs": [
    {
     "name": "stdout",
     "output_type": "stream",
     "text": [
      "/home/mdupont/Documents/DocumentsSync/IR/missions/by_year/2021/2021_03_09_Python GATE School/mathieu/gate-python-training/gate_outputs\n"
     ]
    }
   ],
   "source": [
    "cd .."
   ]
  },
  {
   "cell_type": "code",
   "execution_count": 411,
   "id": "enormous-vegetable",
   "metadata": {},
   "outputs": [
    {
     "name": "stdout",
     "output_type": "stream",
     "text": [
      "Number of particles:  3086502\n"
     ]
    }
   ],
   "source": [
    "hits = np.load(\"ex_beam/output/tree_water.hits.npy\")\n",
    "print(\"Number of particles: \", len(hits))"
   ]
  },
  {
   "cell_type": "code",
   "execution_count": 412,
   "id": "combined-chassis",
   "metadata": {},
   "outputs": [
    {
     "data": {
      "text/plain": [
       "dtype([('PDGEncoding', '<i4'), ('trackID', '<i4'), ('parentID', '<i4'), ('trackLocalTime', '<f8'), ('time', '<f8'), ('runID', '<i4'), ('eventID', '<i4'), ('sourceID', '<i4'), ('primaryID', '<i4'), ('posX', '<f4'), ('posY', '<f4'), ('posZ', '<f4'), ('localPosX', '<f4'), ('localPosY', '<f4'), ('localPosZ', '<f4'), ('momDirX', '<f4'), ('momDirY', '<f4'), ('momDirZ', '<f4'), ('edep', '<f4'), ('stepLength', '<f4'), ('trackLength', '<f4'), ('rotationAngle', '<f4'), ('axialPos', '<f4'), ('processName', 'S32'), ('comptVolName', 'S32'), ('RayleighVolName', 'S32'), ('volumeID[0]', '<i4'), ('volumeID[1]', '<i4'), ('volumeID[2]', '<i4'), ('volumeID[3]', '<i4'), ('volumeID[4]', '<i4'), ('volumeID[5]', '<i4'), ('volumeID[6]', '<i4'), ('volumeID[7]', '<i4'), ('volumeID[8]', '<i4'), ('volumeID[9]', '<i4'), ('sourcePosX', '<f4'), ('sourcePosY', '<f4'), ('sourcePosZ', '<f4'), ('nPhantomCompton', '<i4'), ('nCrystalCompton', '<i4'), ('nPhantomRayleigh', '<i4'), ('nCrystalRayleigh', '<i4'), ('', '<i4'), ('level1ID', '<i4'), ('level2ID', '<i4'), ('level3ID', '<i4'), ('level4ID', '<i4'), ('level5ID', '<i4'), ('photonID', '<i4')])"
      ]
     },
     "execution_count": 412,
     "metadata": {},
     "output_type": "execute_result"
    }
   ],
   "source": [
    "hits.dtype"
   ]
  },
  {
   "cell_type": "markdown",
   "id": "pediatric-digit",
   "metadata": {},
   "source": [
    "Using the `posZ` seems to be the right choice to make"
   ]
  },
  {
   "cell_type": "code",
   "execution_count": 413,
   "id": "nonprofit-spread",
   "metadata": {},
   "outputs": [
    {
     "data": {
      "text/plain": [
       "[<matplotlib.lines.Line2D at 0x7fb0a0511bb0>]"
      ]
     },
     "execution_count": 413,
     "metadata": {},
     "output_type": "execute_result"
    },
    {
     "data": {
      "image/png": "[encoded data removed]",
      "text/plain": [
       "<Figure size 432x288 with 1 Axes>"
      ]
     },
     "metadata": {
      "needs_background": "light"
     },
     "output_type": "display_data"
    }
   ],
   "source": [
    "plt.plot(d_edep)"
   ]
  },
  {
   "cell_type": "code",
   "execution_count": 414,
   "id": "white-berry",
   "metadata": {},
   "outputs": [
    {
     "data": {
      "image/png": "[encoded data removed]",
      "text/plain": [
       "<Figure size 432x288 with 1 Axes>"
      ]
     },
     "metadata": {
      "needs_background": "light"
     },
     "output_type": "display_data"
    }
   ],
   "source": [
    "# write code here"
   ]
  },
  {
   "cell_type": "markdown",
   "id": "narrative-programming",
   "metadata": {},
   "source": [
    "How to have same y-scale ? "
   ]
  },
  {
   "cell_type": "code",
   "execution_count": 415,
   "id": "tutorial-football",
   "metadata": {},
   "outputs": [],
   "source": []
  },
  {
   "cell_type": "code",
   "execution_count": 416,
   "id": "copyrighted-chair",
   "metadata": {},
   "outputs": [
    {
     "data": {
      "text/plain": [
       "[<matplotlib.lines.Line2D at 0x7fb0a035e880>]"
      ]
     },
     "execution_count": 416,
     "metadata": {},
     "output_type": "execute_result"
    },
    {
     "data": {
      "image/png": "[encoded data removed]",
      "text/plain": [
       "<Figure size 432x288 with 1 Axes>"
      ]
     },
     "metadata": {
      "needs_background": "light"
     },
     "output_type": "display_data"
    }
   ],
   "source": [
    "#write code here"
   ]
  },
  {
   "cell_type": "code",
   "execution_count": null,
   "id": "expressed-handling",
   "metadata": {},
   "outputs": [],
   "source": []
  },
  {
   "cell_type": "code",
   "execution_count": null,
   "id": "above-david",
   "metadata": {},
   "outputs": [],
   "source": []
  },
  {
   "cell_type": "code",
   "execution_count": null,
   "id": "capital-bridges",
   "metadata": {},
   "outputs": [],
   "source": []
  },
  {
   "cell_type": "code",
   "execution_count": null,
   "id": "focal-assessment",
   "metadata": {},
   "outputs": [],
   "source": []
  },
  {
   "cell_type": "code",
   "execution_count": null,
   "id": "downtown-cloud",
   "metadata": {},
   "outputs": [],
   "source": []
  },
  {
   "cell_type": "code",
   "execution_count": null,
   "id": "aware-norway",
   "metadata": {},
   "outputs": [],
   "source": []
  },
  {
   "cell_type": "code",
   "execution_count": null,
   "id": "fleet-dress",
   "metadata": {},
   "outputs": [],
   "source": []
  },
  {
   "cell_type": "code",
   "execution_count": null,
   "id": "removable-husband",
   "metadata": {},
   "outputs": [],
   "source": []
  }
 ],
 "metadata": {
  "kernelspec": {
   "display_name": "Python 3",
   "language": "python",
   "name": "python3"
  },
  "language_info": {
   "codemirror_mode": {
    "name": "ipython",
    "version": 3
   },
   "file_extension": ".py",
   "mimetype": "text/x-python",
   "name": "python",
   "nbconvert_exporter": "python",
   "pygments_lexer": "ipython3",
   "version": "3.8.5"
  }
 },
 "nbformat": 4,
 "nbformat_minor": 5
}
