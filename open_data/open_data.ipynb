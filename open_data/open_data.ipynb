{
 "cells": [
  {
   "cell_type": "markdown",
   "metadata": {},
   "source": [
    "Hello, empty notebook ! "
   ]
  },
  {
   "cell_type": "markdown",
   "metadata": {},
   "source": [
    "# Launch GATE"
   ]
  },
  {
   "cell_type": "code",
   "execution_count": 1,
   "metadata": {
    "ExecuteTime": {
     "end_time": "2020-03-10T22:43:37.242929Z",
     "start_time": "2020-03-10T22:43:37.124278Z"
    }
   },
   "outputs": [
    {
     "name": "stdout",
     "output_type": "stream",
     "text": [
      "open_data.ipynb  \u001b[0m\u001b[01;34mTEP-vanilla\u001b[0m/\r\n"
     ]
    }
   ],
   "source": [
    "ls"
   ]
  },
  {
   "cell_type": "code",
   "execution_count": 2,
   "metadata": {
    "ExecuteTime": {
     "end_time": "2020-03-10T22:43:37.315644Z",
     "start_time": "2020-03-10T22:43:37.308984Z"
    }
   },
   "outputs": [
    {
     "name": "stdout",
     "output_type": "stream",
     "text": [
      "/home/madupont/Documents/gate-python-training/open_data/TEP-vanilla\n"
     ]
    }
   ],
   "source": [
    "cd TEP-vanilla/"
   ]
  },
  {
   "cell_type": "code",
   "execution_count": 3,
   "metadata": {
    "ExecuteTime": {
     "end_time": "2020-03-10T22:43:37.611167Z",
     "start_time": "2020-03-10T22:43:37.494549Z"
    }
   },
   "outputs": [
    {
     "name": "stdout",
     "output_type": "stream",
     "text": [
      "GateMaterials.db  PET_CylindricalPET_System.mac  Visu.mac\r\n",
      "MoveVisu.mac      Physicslist_EM_std.mac\r\n",
      "\u001b[0m\u001b[01;34moutput\u001b[0m/           Verbose.mac\r\n"
     ]
    }
   ],
   "source": [
    "ls"
   ]
  },
  {
   "cell_type": "code",
   "execution_count": 4,
   "metadata": {
    "ExecuteTime": {
     "end_time": "2020-03-10T22:43:39.106945Z",
     "start_time": "2020-03-10T22:43:38.988780Z"
    }
   },
   "outputs": [
    {
     "name": "stdout",
     "output_type": "stream",
     "text": [
      " #  *********************************************************************\r\n",
      "#  * DISCLAIMER                                                        *\r\n",
      "#  *                                                                   *\r\n",
      "#  * Neither the authors of this software system, nor their employing  *\r\n",
      "#  * institutes, nor the agencies providing financial support for this *\r\n",
      "#  * work make any representation or warranty, express or implied,     *\r\n",
      "#  * regarding this software system or assume any liability for its    *\r\n",
      "#  * use.                                                              *\r\n",
      "#  *                                                                   *\r\n",
      "#  * This code implementation is the intellectual property of the      *\r\n",
      "#  * OpenGATE collaboration.                                           *\r\n",
      "#  * By copying, distributing or modifying the Program (or any work    *\r\n",
      "#  * based on the Program) you indicate your acceptance of this        *\r\n",
      "#  * statement, and all its terms.                                     *\r\n",
      "#  *********************************************************************\r\n",
      "#\r\n",
      "                                                          \r\n",
      "#-------------------oooooOOOOO00000OOOOOooooo---------------------#\r\n",
      "#\r\n",
      "#         D E F I N E   Y O U R   S C A N N E R   A N D       \r\n",
      "#                                                             \r\n",
      "#        Y O U R   C O M P L E T E   S I M U L A T I O N   \r\n",
      "#                                                             \r\n",
      "#        F O R   I M A G I N G    A P P L I CA T I O N S       \r\n",
      "#                                                     \r\n",
      "#-------------------oooooOOOOO00000OOOOOooooo---------------------#\r\n",
      "\r\n",
      "\r\n",
      "#=====================================================\r\n",
      "# VISUALISATION\r\n",
      "#=====================================================\r\n",
      "\r\n",
      "/vis/disable\r\n",
      "\r\n",
      "/control/execute                    Verbose.mac\r\n",
      "\r\n",
      "\r\n",
      "#=====================================================\r\n",
      "# GEOMETRY\r\n",
      "#=====================================================\r\n",
      "\r\n",
      "\r\n",
      "/gate/geometry/setMaterialDatabase    GateMaterials.db\r\n",
      "\r\n",
      "\r\n",
      "#\r\n",
      "#     W O R L D\r\n",
      "#\r\n",
      "/gate/world/geometry/setXLength       400. cm\r\n",
      "/gate/world/geometry/setYLength       400. cm\r\n",
      "/gate/world/geometry/setZLength       400. cm\r\n",
      "\r\n",
      "\r\n",
      "#-------------------oooooOOOOO00000OOOOOooooo---------------------#\r\n",
      "#                                                                 #\r\n",
      "#     D E F I N I T I O N   A N D   D E S C R I T I O N           #\r\n",
      "#        O F   Y O U R   P E T   D E V I C E                      #\r\n",
      "#                                                                 #\r\n",
      "#-------------------oooooOOOOO00000OOOOOooooo---------------------#\r\n",
      "\r\n",
      "#\tCYLINDRICAL\r\n",
      "/gate/world/daughters/name                    cylindricalPET\r\n",
      "/gate/world/daughters/insert                  cylinder\r\n",
      "/gate/cylindricalPET/placement/setTranslation 0.0 0.0 0.0 cm\r\n",
      "/gate/cylindricalPET/geometry/setRmax         52.0 cm\r\n",
      "/gate/cylindricalPET/geometry/setRmin         39.9 cm\r\n",
      "/gate/cylindricalPET/geometry/setHeight       40.2 cm\r\n",
      "/gate/cylindricalPET/setMaterial              Air\r\n",
      "/gate/cylindricalPET/vis/forceWireframe\r\n",
      "/gate/cylindricalPET/vis/setColor             white\r\n",
      "\r\n",
      "#\tHEAD\r\n",
      "/gate/cylindricalPET/daughters/name           head\r\n",
      "/gate/cylindricalPET/daughters/insert         box\r\n",
      "/gate/head/placement/setTranslation           44.0 0.0 0.0 cm\r\n",
      "/gate/head/geometry/setXLength                8  cm\r\n",
      "/gate/head/geometry/setYLength                32 cm\r\n",
      "/gate/head/geometry/setZLength                40 cm\r\n",
      "/gate/head/setMaterial                        Air\r\n",
      "/gate/head/vis/setVisible                     0\r\n",
      "\r\n",
      "\r\n",
      "#\tBLOCK\r\n",
      "/gate/head/daughters/name                     block\r\n",
      "/gate/head/daughters/insert                   box\r\n",
      "/gate/block/placement/setTranslation          0.0 0.0 0.0 cm\r\n",
      "/gate/block/geometry/setXLength               30 mm\r\n",
      "/gate/block/geometry/setYLength               16 mm\r\n",
      "/gate/block/geometry/setZLength               20 mm\r\n",
      "/gate/block/setMaterial                       Air\r\n",
      "/gate/block/vis/setVisible                    0\r\n",
      "\r\n",
      "#\tC R Y S T A L\r\n",
      "/gate/block/daughters/name                    crystal\r\n",
      "/gate/block/daughters/insert                  box\r\n",
      "/gate/crystal/placement/setTranslation        0.0 0.0 0.0 cm\r\n",
      "/gate/crystal/geometry/setXLength             30 mm\r\n",
      "/gate/crystal/geometry/setYLength             3.0 mm\r\n",
      "/gate/crystal/geometry/setZLength             3.8 mm\r\n",
      "/gate/crystal/setMaterial                     Air\r\n",
      "/gate/crystal/vis/setVisible                  0\r\n",
      "\r\n",
      "\r\n",
      "#\tLSO layer\r\n",
      "/gate/crystal/daughters/name                  LSO\r\n",
      "/gate/crystal/daughters/insert                box\r\n",
      "/gate/LSO/placement/setTranslation            -0.75 0.0 0.0 cm\r\n",
      "/gate/LSO/geometry/setXLength                 15 mm\r\n",
      "/gate/LSO/geometry/setYLength                 3.0 mm\r\n",
      "/gate/LSO/geometry/setZLength                 3.8 mm\r\n",
      "/gate/LSO/setMaterial                         LSO\r\n",
      "/gate/LSO/vis/setColor                        red\r\n",
      "\r\n",
      "#\tBGO layer\r\n",
      "/gate/crystal/daughters/name                  BGO\r\n",
      "/gate/crystal/daughters/insert                box\r\n",
      "/gate/BGO/placement/setTranslation            +0.75 0.0 0.0 cm\r\n",
      "/gate/BGO/geometry/setXLength                 15 mm\r\n",
      "/gate/BGO/geometry/setYLength                 3.0 mm\r\n",
      "/gate/BGO/geometry/setZLength                 3.8 mm\r\n",
      "/gate/BGO/setMaterial                         BGO\r\n",
      "/gate/BGO/vis/setColor                        yellow\r\n",
      "\r\n",
      "#\tR E P E A T    C R Y S T A L\r\n",
      "/gate/crystal/repeaters/insert                cubicArray\r\n",
      "/gate/crystal/cubicArray/setRepeatNumberX     1\r\n",
      "/gate/crystal/cubicArray/setRepeatNumberY     5\r\n",
      "/gate/crystal/cubicArray/setRepeatNumberZ     5\r\n",
      "/gate/crystal/cubicArray/setRepeatVector      0.0 3.2 4.0 mm\r\n",
      "\r\n",
      "\r\n",
      "#\tR E P E A T    BLOCK\r\n",
      "/gate/block/repeaters/insert                  cubicArray\r\n",
      "/gate/block/cubicArray/setRepeatNumberX       1\r\n",
      "/gate/block/cubicArray/setRepeatNumberY       20\r\n",
      "/gate/block/cubicArray/setRepeatNumberZ       20\r\n",
      "/gate/block/cubicArray/setRepeatVector        0.0 1.6 2.0 cm\r\n",
      "\r\n",
      "\r\n",
      "#\tR E P E A T HEAD\r\n",
      "/gate/head/repeaters/insert                   ring\r\n",
      "/gate/head/ring/setRepeatNumber               4\r\n",
      "\r\n",
      "\r\n",
      "#\tA T T A C H    S Y S T E M \r\n",
      "/gate/systems/cylindricalPET/rsector/attach   head\r\n",
      "/gate/systems/cylindricalPET/module/attach    block\r\n",
      "/gate/systems/cylindricalPET/crystal/attach   crystal\r\n",
      "/gate/systems/cylindricalPET/layer0/attach    LSO\r\n",
      "/gate/systems/cylindricalPET/layer1/attach    BGO\r\n",
      "\r\n",
      "#\tA T T A C H    C R Y S T A L  SD\r\n",
      "\r\n",
      "/gate/LSO/attachCrystalSD\r\n",
      "/gate/BGO/attachCrystalSD\r\n",
      "\r\n",
      "/gate/systems/cylindricalPET/describe\r\n",
      "\r\n",
      "/gate/cylindricalPET/moves/insert             orbiting\r\n",
      "/gate/cylindricalPET/orbiting/setSpeed        30 deg/s\r\n",
      "/gate/cylindricalPET/orbiting/setPoint1       0 0 0 cm\r\n",
      "/gate/cylindricalPET/orbiting/setPoint2       0 0 1 cm\r\n",
      "\r\n",
      "#=====================================================\r\n",
      "#  P H A N T O M\r\n",
      "#=====================================================\r\n",
      "\r\n",
      "#/gate/world/daughters/name                    phantom\r\n",
      "#/gate/world/daughters/insert                  box\r\n",
      "\r\n",
      "#/gate/phantom/geometry/setXLength             10 cm\r\n",
      "#/gate/phantom/geometry/setYLength             10 cm\r\n",
      "#/gate/phantom/geometry/setZLength             10 cm\r\n",
      "#/gate/phantom/setMaterial                     Water\r\n",
      "#/gate/phantom/vis/forceSolid\r\n",
      "#/gate/phantom/vis/setColor                    blue\r\n",
      "\r\n",
      "#/gate/phantom/attachPhantomSD\r\n",
      "\r\n",
      "\r\n",
      "#=====================================================\r\n",
      "# PHYSICS\r\n",
      "#=====================================================\r\n",
      "\r\n",
      "/gate/physics/addPhysicsList empenelope\r\n",
      "/gate/physics/processList Enabled\r\n",
      "/gate/physics/processList Initialized\r\n",
      "\r\n",
      "#=====================================================\r\n",
      "# CUTS\r\n",
      "#=====================================================\r\n",
      "\r\n",
      "/gate/physics/Gamma/SetCutInRegion      LSO 1.0 cm\r\n",
      "/gate/physics/Electron/SetCutInRegion   LSO 1.0 cm\r\n",
      "/gate/physics/Positron/SetCutInRegion   LSO 1.0 cm\r\n",
      "\r\n",
      "/gate/physics/Gamma/SetCutInRegion      BGO 1.0 cm\r\n",
      "/gate/physics/Electron/SetCutInRegion   BGO 1.0 cm\r\n",
      "/gate/physics/Positron/SetCutInRegion   BGO 1.0 cm\r\n",
      "\r\n",
      "\r\n",
      "#/gate/physics/Gamma/SetCutInRegion      phantom 0.1 mm\r\n",
      "#/gate/physics/Electron/SetCutInRegion   phantom 0.1 mm\r\n",
      "#/gate/physics/Positron/SetCutInRegion   phantom 0.1 mm\r\n",
      "\r\n",
      "#/gate/physics/SetMaxStepSizeInRegion    phantom 0.01 mm\r\n",
      "\r\n",
      "#=====================================================\r\n",
      "# INITIALISATION\r\n",
      "#=====================================================\r\n",
      "\r\n",
      "/gate/run/initialize\r\n",
      "\r\n",
      "\r\n",
      "#=====================================================\r\n",
      "# Show how the geometry moves with time\r\n",
      "#=====================================================\r\n",
      "\r\n",
      "/control/execute                        MoveVisu.mac\r\n",
      "\r\n",
      "\r\n",
      "\r\n",
      "#=====================================================\r\n",
      "#  P A R T I C L E   S O U R C E\r\n",
      "#=====================================================\r\n",
      "\r\n",
      " \r\n",
      "/gate/source/addSource                                         posiC11\r\n",
      "\r\n",
      "#/gate/source/posiC11/gps/particle                              e+\r\n",
      "#/gate/source/posiC11/gps/energytype                            Carbon11\r\n",
      "/gate/source/posiC11/setType backtoback\r\n",
      "\r\n",
      "# The particles emitted by the source are gammas\r\n",
      "/gate/source/posiC11/gps/particle gamma\r\n",
      "\r\n",
      "# The gammas have an energy of 511 keV\r\n",
      "/gate/source/posiC11/gps/energytype Mono\r\n",
      "/gate/source/posiC11/gps/monoenergy 0.511 MeV\r\n",
      "\r\n",
      "/gate/source/posiC11/setActivity                               10000 becquerel\r\n",
      "\r\n",
      "/gate/source/posiC11/setForcedUnstableFlag                     true\r\n",
      "/gate/source/posiC11/setForcedHalfLife                         1223 s\r\n",
      "/gate/source/posiC11/gps/angtype                               iso\r\n",
      "\r\n",
      "/gate/source/posiC11/visualize red\r\n",
      "\r\n",
      "/gate/source/list\r\n",
      "\r\n",
      "\r\n",
      "\r\n",
      "\r\n",
      "#=====================================================\r\n",
      "#   D I G I T I Z E R: DETECTOR ELECTRONIC RESPONSE\r\n",
      "#=====================================================\r\n",
      "\r\n",
      "/gate/digitizer/Singles/insert                        adder\r\n",
      "/gate/digitizer/Singles/insert                        readout\r\n",
      "/gate/digitizer/Singles/readout/setDepth              1\r\n",
      "\r\n",
      "\r\n",
      "#/gate/digitizer/Singles/insert                        thresholder\r\n",
      "#/gate/digitizer/Singles/thresholder/setThreshold      350. keV\r\n",
      "#/gate/digitizer/Singles/insert                        upholder\r\n",
      "#/gate/digitizer/Singles/upholder/setUphold            650. keV\r\n",
      "\r\n",
      "\r\n",
      "\r\n",
      "/gate/digitizer/name SinglesBlurring\r\n",
      "/gate/digitizer/insert singleChain \r\n",
      "/gate/digitizer/SinglesBlurring/setInputName Singles \r\n",
      "/gate/digitizer/SinglesBlurring/insert                        blurring\r\n",
      "/gate/digitizer/SinglesBlurring/blurring/setResolution        0.05\r\n",
      "/gate/digitizer/SinglesBlurring/blurring/setEnergyOfReference 511. keV\r\n",
      "\r\n",
      "\r\n",
      "/gate/digitizer/name SinglesNoise\r\n",
      "/gate/digitizer/insert singleChain\r\n",
      "\r\n",
      "/gate/distributions/name energy_distrib\r\n",
      "/gate/distributions/insert Gaussian\r\n",
      "/gate/distributions/energy_distrib/setMean 450 keV\r\n",
      "/gate/distributions/energy_distrib/setSigma 1 keV\r\n",
      "\r\n",
      "/gate/distributions/name dt_distrib\r\n",
      "/gate/distributions/insert Exponential\r\n",
      "/gate/distributions/dt_distrib/setLambda 75700 ns\r\n",
      "\r\n",
      "/gate/digitizer/SinglesNoise/insert noise\r\n",
      "/gate/digitizer/SinglesNoise/noise/setDeltaTDistribution dt_distrib\r\n",
      "/gate/digitizer/SinglesNoise/noise/setEnergyDistribution energy_distrib\r\n",
      "\r\n",
      "/gate/digitizer/name SinglesBlurringNoise\r\n",
      "/gate/digitizer/insert singleChain\r\n",
      "/gate/digitizer/SinglesBlurringNoise/setInputName SinglesBlurring\r\n",
      "/gate/digitizer/SinglesBlurringNoise/insert noise\r\n",
      "/gate/digitizer/SinglesBlurringNoise/noise/setDeltaTDistribution dt_distrib\r\n",
      "/gate/digitizer/SinglesBlurringNoise/noise/setEnergyDistribution energy_distrib\r\n",
      "\r\n",
      "\r\n",
      "\r\n",
      "\r\n",
      "\r\n",
      "\r\n",
      "#=====================================================\r\n",
      "#\tC O I N C I D E N C E    S O R T E R\r\n",
      "#=====================================================\r\n",
      "\r\n",
      "/gate/digitizer/Coincidences/setWindow          10. ns\r\n",
      "/gate/digitizer/Coincidences/setDepth              1\r\n",
      "/gate/digitizer/Coincidences/setOffset                 0. ns\r\n",
      "#/gate/digitizer/Coincidences/setPresortBufferSize\r\n",
      "/gate/digitizer/Coincidences/setInputName Singles\r\n",
      "/gate/digitizer/Coincidences/MultiplesPolicy takeAllGoods\r\n",
      "#/gate/digitizer/Coincidences/allPulseOpenCoincGate true\r\n",
      "\r\n",
      "/gate/digitizer/name                            CoincidencesBlurring\r\n",
      "/gate/digitizer/insert                          coincidenceSorter\r\n",
      "/gate/digitizer/CoincidencesBlurring/setWindow                 10. ns\r\n",
      "/gate/digitizer/CoincidencesBlurring/setOffset                 0. ns\r\n",
      "/gate/digitizer/CoincidencesBlurring/setInputName SinglesBlurring\r\n",
      "/gate/digitizer/CoincidencesBlurring/MultiplesPolicy takeAllGoods\r\n",
      "\r\n",
      "\r\n",
      "\r\n",
      "\r\n",
      "\r\n",
      "\r\n",
      "\r\n",
      "/gate/output/tree/enable\r\n",
      "/gate/output/tree/addFileName output/p.npy\r\n",
      "/gate/output/tree/hits/enable\r\n",
      "/gate/output/tree/addCollection Singles\r\n",
      "/gate/output/tree/addCollection SinglesBlurring\r\n",
      "/gate/output/tree/addCollection SinglesNoise\r\n",
      "/gate/output/tree/addCollection SinglesBlurringNoise\r\n",
      "/gate/output/tree/addCollection Coincidences\r\n",
      "/gate/output/tree/addCollection CoincidencesBlurring\r\n",
      "\r\n",
      "\r\n",
      "\r\n",
      "\r\n",
      "\r\n",
      "#====================================================\r\n",
      "#  R A N D O M   E N G I N E  A N D  S E E D\r\n",
      "#====================================================\r\n",
      "/gate/random/setEngineSeed auto\r\n",
      "#/gate/random/setEngineSeed 123456789\r\n",
      "\r\n",
      "\r\n",
      "/gate/random/verbose 1\r\n",
      "\r\n",
      "#=====================================================\r\n",
      "#   M E A S U R E M E N T   S E T T I N G S   \r\n",
      "#=====================================================\r\n",
      "\r\n",
      "/gate/application/setTimeSlice   1 s\r\n",
      "/gate/application/setTimeStart   0 s\r\n",
      "/gate/application/setTimeStop    10 s\r\n",
      "\r\n",
      "/gate/application/startDAQ\r\n"
     ]
    }
   ],
   "source": [
    "cat PET_CylindricalPET_System.mac"
   ]
  },
  {
   "cell_type": "code",
   "execution_count": 6,
   "metadata": {
    "ExecuteTime": {
     "end_time": "2020-03-10T22:43:54.688277Z",
     "start_time": "2020-03-10T22:43:48.338506Z"
    }
   },
   "outputs": [
    {
     "name": "stdout",
     "output_type": "stream",
     "text": [
      "[G4] \n",
      "[G4] **************************************************************\n",
      "[G4]  Geant4 version Name: geant4-10-06-patch-01    (14-February-2020)\n",
      "[G4]                        Copyright : Geant4 Collaboration\n",
      "[G4]                       References : NIM A 506 (2003), 250-303\n",
      "[G4]                                  : IEEE-TNS 53 (2006), 270-278\n",
      "[G4]                                  : NIM A 835 (2016), 186-225\n",
      "[G4]                              WWW : http://geant4.org/\n",
      "[G4] **************************************************************\n",
      "[G4] \n",
      "[Core-0] Initialization of geometry\n",
      "[Core-0] Initialization of physics\n",
      "[Core-0] Initialization of actors\n",
      "[Core-0] \n",
      "[Core-0] *************************************************\n",
      "[Core-0]  GATE version 9.0 (December 2019)\n",
      "[Core-0]  Copyright : OpenGATE Collaboration\n",
      "[Core-0]  Reference : Phys. Med. Biol. 49 (2004) 4543-4561\n",
      "[Core-0]  Reference : Phys. Med. Biol. 56 (2011) 881-901\n",
      "[Core-0]  Reference : Med. Phys. 41(6)    (2014)\n",
      "[Core-0]  http://www.opengatecollaboration.org        \n",
      "[Core-0] *************************************************\n",
      "[Core-0] \n",
      "[Core-0] You are using Geant4 version 10.6.1\n",
      "[Core-0] Starting macro PET_CylindricalPET_System.mac\n",
      "GateToTree::SetOutputIDName, id_system = '0' anOutputIDName = 'gantryID' depth = '0'\n",
      "GateToTree::SetOutputIDName, id_system = '0' anOutputIDName = 'rsectorID' depth = '1'\n",
      "GateToTree::SetOutputIDName, id_system = '0' anOutputIDName = 'moduleID' depth = '2'\n",
      "GateToTree::SetOutputIDName, id_system = '0' anOutputIDName = 'submoduleID' depth = '3'\n",
      "GateToTree::SetOutputIDName, id_system = '0' anOutputIDName = 'crystalID' depth = '4'\n",
      "GateToTree::SetOutputIDName, id_system = '0' anOutputIDName = 'layerID' depth = '5'\n",
      "\n",
      "GATE object:        'systems/cylindricalPET'\n",
      "Components:\n",
      "\n",
      "GATE object:        'systems/cylindricalPET/base'\n",
      "Attached to volume: cylindricalPET\n",
      "Nb of children:       1\n",
      "\n",
      "\tGATE object:        'systems/cylindricalPET/rsector'\n",
      "\tAttached to volume: head\n",
      "\tNb of children:       1\n",
      "\n",
      "\t\tGATE object:        'systems/cylindricalPET/module'\n",
      "\t\tAttached to volume: block\n",
      "\t\tNb of children:       1\n",
      "\n",
      "\t\t\tGATE object:        'systems/cylindricalPET/submodule'\n",
      "\t\t\tAttached to volume: ---\n",
      "\t\t\tNb of children:       1\n",
      "\n",
      "\t\t\t\tGATE object:        'systems/cylindricalPET/crystal'\n",
      "\t\t\t\tAttached to volume: crystal\n",
      "\t\t\t\tNb of children:       4\n",
      "\n",
      "\t\t\t\t\tGATE object:        'systems/cylindricalPET/layer0'\n",
      "\t\t\t\t\tAttached to volume: LSO\n",
      "\t\t\t\t\tNb of children:       0\n",
      "\n",
      "\t\t\t\t\tGATE object:        'systems/cylindricalPET/layer1'\n",
      "\t\t\t\t\tAttached to volume: BGO\n",
      "\t\t\t\t\tNb of children:       0\n",
      "\n",
      "\t\t\t\t\tGATE object:        'systems/cylindricalPET/layer2'\n",
      "\t\t\t\t\tAttached to volume: ---\n",
      "\t\t\t\t\tNb of children:       0\n",
      "\n",
      "\t\t\t\t\tGATE object:        'systems/cylindricalPET/layer3'\n",
      "\t\t\t\t\tAttached to volume: ---\n",
      "\t\t\t\t\tNb of children:       0\n",
      "geometrical design type: 1\n",
      "ring diameter: 86.5 cm \n",
      "rsector axial pitch: 0 fm \n",
      "rsector azimuthal pitch: 90 degree\n",
      "rsector tangential size: 32 cm \n",
      "rsector axial size: 40 cm \n",
      "module axial size: 2 cm \n",
      "module tangential size: 1.6 cm \n",
      "module axial pitch: 2 cm \n",
      "module tangential pitch: 1.6 cm \n",
      "submodule axial size: 2 cm \n",
      "submodule tangential size: 1.6 cm \n",
      "submodule axial pitch: 0 fm \n",
      "submodule tangential pitch: 0 fm \n",
      "crystal radial size: 3 cm \n",
      "crystal axial size: 3.8 mm \n",
      "crystal tangential size: 3 mm \n",
      "crystal axial pitch: 4 mm \n",
      "crystal tangential pitch: 3.2 mm \n",
      "layer0 radial size: 1.5 cm \n",
      "in layer0 interaction length: 7.5 mm \n",
      "layer1 radial size: 1.5 cm \n",
      "in layer1 interaction length: 7.5 mm \n",
      "Axial nb of rsectors: 1\n",
      "Azimuthal nb of rsectors: 4\n",
      "Axial nb of modules: 20\n",
      "Tangential nb of modules: 20\n",
      "Axial nb of submodules: 1\n",
      "Tangential nb of submodules: 1\n",
      "Axial nb of crystals: 5\n",
      "Tangential nb of crystals: 5\n",
      "Radial nb of layers: 2\n",
      "[Physic-0] The following Geant4's physic-list is enabled :empenelope\n",
      "\n",
      "\n",
      "List of Enabled processes:\n",
      "\n",
      "\n",
      "\n",
      "\n",
      "List of initialized processes:\n",
      "\n",
      "  * B+\n",
      "    - msc\n",
      "    - hIoni\n",
      "    - nuclearStopping\n",
      "  * B-\n",
      "    - msc\n",
      "    - hIoni\n",
      "    - nuclearStopping\n",
      "  * D+\n",
      "    - msc\n",
      "    - hIoni\n",
      "    - nuclearStopping\n",
      "  * D-\n",
      "    - msc\n",
      "    - hIoni\n",
      "    - nuclearStopping\n",
      "  * Ds+\n",
      "    - msc\n",
      "    - hIoni\n",
      "    - nuclearStopping\n",
      "  * Ds-\n",
      "    - msc\n",
      "    - hIoni\n",
      "    - nuclearStopping\n",
      "  * GenericIon\n",
      "    - msc\n",
      "    - ionIoni\n",
      "    - nuclearStopping\n",
      "  * He3\n",
      "    - msc\n",
      "    - ionIoni\n",
      "    - nuclearStopping\n",
      "  * alpha\n",
      "    - msc\n",
      "    - ionIoni\n",
      "    - nuclearStopping\n",
      "  * anti_He3\n",
      "    - msc\n",
      "    - hIoni\n",
      "    - nuclearStopping\n",
      "  * anti_alpha\n",
      "    - msc\n",
      "    - hIoni\n",
      "    - nuclearStopping\n",
      "  * anti_deuteron\n",
      "    - msc\n",
      "    - hIoni\n",
      "    - nuclearStopping\n",
      "  * anti_lambda_c+\n",
      "    - msc\n",
      "    - hIoni\n",
      "    - nuclearStopping\n",
      "  * anti_omega-\n",
      "    - msc\n",
      "    - hIoni\n",
      "    - nuclearStopping\n",
      "  * anti_proton\n",
      "    - msc\n",
      "    - hIoni\n",
      "    - hBrems\n",
      "    - hPairProd\n",
      "    - CoulombScat\n",
      "  * anti_sigma+\n",
      "    - msc\n",
      "    - hIoni\n",
      "    - nuclearStopping\n",
      "  * anti_sigma-\n",
      "    - msc\n",
      "    - hIoni\n",
      "    - nuclearStopping\n",
      "  * anti_sigma_c+\n",
      "    - msc\n",
      "    - hIoni\n",
      "    - nuclearStopping\n",
      "  * anti_sigma_c++\n",
      "    - msc\n",
      "    - hIoni\n",
      "    - nuclearStopping\n",
      "  * anti_triton\n",
      "    - msc\n",
      "    - hIoni\n",
      "    - nuclearStopping\n",
      "  * anti_xi-\n",
      "    - msc\n",
      "    - hIoni\n",
      "    - nuclearStopping\n",
      "  * anti_xi_c+\n",
      "    - msc\n",
      "    - hIoni\n",
      "    - nuclearStopping\n",
      "  * deuteron\n",
      "    - msc\n",
      "    - hIoni\n",
      "    - nuclearStopping\n",
      "  * e+\n",
      "    - msc\n",
      "    - eIoni\n",
      "    - eBrem\n",
      "    - ePairProd\n",
      "    - annihil\n",
      "    - CoulombScat\n",
      "  * e-\n",
      "    - msc\n",
      "    - eIoni\n",
      "    - eBrem\n",
      "    - ePairProd\n",
      "    - CoulombScat\n",
      "  * gamma\n",
      "    - phot\n",
      "    - compt\n",
      "    - conv\n",
      "    - Rayl\n",
      "  * kaon+\n",
      "    - msc\n",
      "    - hIoni\n",
      "    - hBrems\n",
      "    - hPairProd\n",
      "    - CoulombScat\n",
      "  * kaon-\n",
      "    - msc\n",
      "    - hIoni\n",
      "    - hBrems\n",
      "    - hPairProd\n",
      "    - CoulombScat\n",
      "  * lambda_c+\n",
      "    - msc\n",
      "    - hIoni\n",
      "    - nuclearStopping\n",
      "  * mu+\n",
      "    - msc\n",
      "    - muIoni\n",
      "    - muBrems\n",
      "    - muPairProd\n",
      "    - CoulombScat\n",
      "  * mu-\n",
      "    - msc\n",
      "    - muIoni\n",
      "    - muBrems\n",
      "    - muPairProd\n",
      "    - CoulombScat\n",
      "  * omega-\n",
      "    - msc\n",
      "    - hIoni\n",
      "    - nuclearStopping\n",
      "  * pi+\n",
      "    - msc\n",
      "    - hIoni\n",
      "    - hBrems\n",
      "    - hPairProd\n",
      "    - CoulombScat\n",
      "  * pi-\n",
      "    - msc\n",
      "    - hIoni\n",
      "    - hBrems\n",
      "    - hPairProd\n",
      "    - CoulombScat\n",
      "  * proton\n",
      "    - msc\n",
      "    - hIoni\n",
      "    - hBrems\n",
      "    - hPairProd\n",
      "    - CoulombScat\n",
      "  * sigma+\n",
      "    - msc\n",
      "    - hIoni\n",
      "    - nuclearStopping\n",
      "  * sigma-\n",
      "    - msc\n",
      "    - hIoni\n",
      "    - nuclearStopping\n",
      "  * sigma_c+\n",
      "    - msc\n",
      "    - hIoni\n",
      "    - nuclearStopping\n",
      "  * sigma_c++\n",
      "    - msc\n",
      "    - hIoni\n",
      "    - nuclearStopping\n",
      "  * tau+\n",
      "    - msc\n",
      "    - hIoni\n",
      "    - nuclearStopping\n",
      "  * tau-\n",
      "    - msc\n",
      "    - hIoni\n",
      "    - nuclearStopping\n",
      "  * triton\n",
      "    - msc\n",
      "    - hIoni\n",
      "    - nuclearStopping\n",
      "  * xi-\n",
      "    - msc\n",
      "    - hIoni\n",
      "    - nuclearStopping\n",
      "  * xi_c+\n",
      "    - msc\n",
      "    - hIoni\n",
      "    - nuclearStopping\n",
      "\n",
      "[Core-0] Initialization of geometry\n",
      "[Physic-1]   \n",
      "[Physic-1]  ----------------------------------------------------------\n",
      "[Physic-1]                      Ionization potential \n",
      "[Physic-1]   - worldDefaultAir\t defaut value: I = 85.7031 eV \n",
      "[Physic-1]   - Air\t defaut value: I = 85.6694 eV \n",
      "[Physic-1]   - Vacuum\t defaut value: I = 19.2 eV \n",
      "[Physic-1]   - LSO\t defaut value: I = 418.807 eV \n",
      "[Physic-1]   - BGO\t defaut value: I = 473.785 eV \n",
      "[Physic-1]  ----------------------------------------------------------\n",
      "[Core-0] Initialization of physics\n",
      "[Physic-2]   GatePhysicsList::ConstructProcess\n",
      "[Physic-3]    mLoadState = 1\n",
      "[Physic-3]    mListOfStepLimiter.size = 0\n",
      "[Core-0] Initialization of actors\n",
      "GateSourceMgr::ListSources: List of the sources in the source manager\n",
      "Source --------------> posiC11\n",
      "  ID                 : 0\n",
      "  type               : backtoback\n",
      "  activity (Bq)      : 10000\n",
      "  startTime (s)      : 0\n",
      "  time (s)           : 0\n",
      "  forcedUnstable     : 1\n",
      "  forcedHalfLife (s) : 1223\n",
      "  verboseLevel       : 0\n",
      "  relative to vol    : world\n",
      "---------------------- \n",
      "\n",
      "[Acquisition-0]   \n",
      "[Acquisition-0] ============= Source initialization =============\n",
      "[Acquisition-0]   \n",
      "[Acquisition-0] ============= Acquisition starts! =============\n",
      "[Acquisition-0] Simulation start time = 0 sec\n",
      "[Acquisition-0] Simulation end time   = 1 sec\n",
      "[Acquisition-0] Simulation will have  = 1 run(s)\n",
      "\n",
      "----- HepJamesRandom engine status -----\n",
      " Initial seed = 1053067366\n",
      " u[] = 0.121341 0.0769125 0.0517466 0.36707 0.595677 0.655982 0.383169 0.761261 0.53621 0.711713 0.097176 0.104307 0.982695 0.169484 0.30317 0.645723 0.788937 0.406582 0.490992 0.344813 0.0670031 0.450123 0.577348 0.944269 0.641418 0.352122 0.221113 0.846075 0.550083 0.906595 0.502744 0.689862 0.175387 0.854939 0.0544648 0.0161598 0.922086 0.933514 0.152765 0.959632 0.65405 0.888348 0.0085308 0.721361 0.672973 0.370888 0.227452 0.540748 0.782865 0.454376 0.469555 0.494634 0.650784 0.459173 0.726673 0.195277 0.543293 0.752747 0.613348 0.835226 0.618644 0.339202 0.0838867 0.860203 0.19366 0.568912 0.711337 0.776406 0.375594 0.773934 0.633602 0.531446 0.500996 0.406726 0.798373 0.109958 0.808127 0.985216 0.235192 0.0250439 0.729927 0.291688 0.986393 0.269577 0.910309 0.194144 0.205335 0.668897 0.00430596 0.176037 0.857568 0.108667 0.876243 0.287034 0.456581 0.172762 0.396202 \n",
      " c = 0.652903, cd = 0.456233, cm = 1\n",
      " i97 = 93, u[i97] = 0.287034\n",
      " j97 = 29, u[j97] = 0.906595\n",
      "----------------------------------------\n",
      "[Acquisition-0] Slice 0 from 0 to 1 s [slice=1 s]\n",
      "\n",
      "### ===  Deexcitation model UAtomDeexcitation is activated for 7 regions:\n",
      "          DefaultRegionForTheWorld  1  1  1\n",
      "          cylindricalPET  1  1  1\n",
      "          head  1  1  1\n",
      "          block  1  1  1\n",
      "          crystal  1  1  1\n",
      "          LSO  1  1  1\n",
      "          BGO  1  1  1\n"
     ]
    },
    {
     "name": "stdout",
     "output_type": "stream",
     "text": [
      "\n",
      "### === G4UAtomicDeexcitation::InitialiseForNewRun()\n",
      "### ===  Auger cascade flag: 1\n",
      "### ===  Ignore cuts flag:   0\n",
      "### ===  PIXE model for hadrons: Empirical\n",
      "### ===  PIXE model for e+-:     Penelope\n",
      "======================================================================\n",
      "The G4PenelopeIonisationModel is being used with the PIXE flag ON.\n",
      "Atomic de-excitation will be produced statistically by the PIXE \n",
      "interface by using the shell cross section --> Penelope\n",
      "The built-in model procedure for atomic de-excitation is disabled. \n",
      "*Please be sure this is intended*, or disable PIXE by\n",
      "/process/em/pixe false\n",
      "======================================================================\n",
      "\n",
      "phot:  for gamma applyCuts:1  SubType=12 BuildTable=0\n",
      "      LambdaPrime table from 200 keV to 100 TeV in 174 bins \n",
      "      ===== EM models for the G4Region  DefaultRegionForTheWorld ======\n",
      "        PenPhotoElec : Emin=    0 eV  Emax=    1 GeV Fluo\n",
      "       PhotoElectric : Emin=    1 GeV Emax=  100 TeV  SauterGavrila Fluo\n",
      "\n",
      "compt:  for gamma applyCuts:1  SubType=13 BuildTable=1\n",
      "      Lambda table from 100 eV  to 1 MeV, 20 bins/decade, spline: 1\n",
      "      LambdaPrime table from 1 MeV to 100 TeV in 160 bins \n",
      "      ===== EM models for the G4Region  DefaultRegionForTheWorld ======\n",
      "          PenCompton : Emin=    0 eV  Emax=    1 GeV Fluo\n",
      "        KleinNishina : Emin=    1 GeV Emax=  100 TeV Fluo\n",
      "\n",
      "conv:  for gamma applyCuts:1  SubType=14 BuildTable=1\n",
      "      Lambda table from 1.022 MeV to 100 TeV, 20 bins/decade, spline: 1\n",
      "      ===== EM models for the G4Region  DefaultRegionForTheWorld ======\n",
      "       PenConversion : Emin=    0 eV  Emax=    1 GeV\n",
      "     BetheHeitlerLPM : Emin=    1 GeV Emax=  100 TeV  ModifiedTsai\n",
      "\n",
      "Rayl:  for gamma applyCuts:1  SubType=11 BuildTable=1\n",
      "      Lambda table from 100 eV  to 100 keV, 20 bins/decade, spline: 0\n",
      "      LambdaPrime table from 100 keV to 100 TeV in 180 bins \n",
      "      ===== EM models for the G4Region  DefaultRegionForTheWorld ======\n",
      "         PenRayleigh : Emin=    0 eV  Emax=  100 GeV\n",
      "\n",
      "msc:  for e-  SubType= 10\n",
      "      RangeFactor= 0.08, stepLimType: 2, latDisp: 1\n",
      "      ===== EM models for the G4Region  DefaultRegionForTheWorld ======\n",
      "  GoudsmitSaunderson : Emin=    0 eV  Emax=  100 MeV Nbins=120 100 eV  - 100 MeV\n",
      "        WentzelVIUni : Emin=  100 MeV Emax=  100 TeV Nbins=120 100 MeV - 100 TeV\n",
      "\n",
      "eIoni:  for e-  SubType=2\n",
      "      dE/dx and range tables from 100 eV  to 100 TeV in 240 bins\n",
      "      Lambda tables from threshold to 100 TeV, 20 bins/decade, spline: 1\n",
      "      StepFunction=(0.2, 0.01 mm), integ: 1, fluct: 1, linLossLim= 0.01\n",
      "      ===== EM models for the G4Region  DefaultRegionForTheWorld ======\n",
      "             PenIoni : Emin=    0 eV  Emax=    1 GeV\n",
      "        MollerBhabha : Emin=    1 GeV Emax=  100 TeV\n",
      "\n",
      "eBrem:  for e-  SubType=3\n",
      "      dE/dx and range tables from 100 eV  to 100 TeV in 240 bins\n",
      "      Lambda tables from threshold to 100 TeV, 20 bins/decade, spline: 1\n",
      "      LPM flag: 1 for E > 1 GeV,  VertexHighEnergyTh(GeV)= 100000\n",
      "      ===== EM models for the G4Region  DefaultRegionForTheWorld ======\n",
      "             PenBrem : Emin=    0 eV  Emax=    1 GeV\n",
      "            eBremLPM : Emin=    1 GeV Emax=  100 TeV  ModifiedTsai\n",
      "\n",
      "ePairProd:  for e-  SubType=4\n",
      "      dE/dx and range tables from 100 eV  to 100 TeV in 240 bins\n",
      "      Lambda tables from threshold to 100 TeV, 20 bins/decade, spline: 1\n",
      "      Sampling table 25x1001; from 0.1 GeV to 100 TeV \n",
      "      ===== EM models for the G4Region  DefaultRegionForTheWorld ======\n",
      "           ePairProd : Emin=    0 eV  Emax=  100 TeV\n",
      "\n",
      "CoulombScat:  for e-, integral:1  applyCuts:1  SubType=1 BuildTable=1\n",
      "      Lambda table from 100 MeV to 100 TeV, 20 bins/decade, spline: 1\n",
      "      ThetaMin(p) < Theta(degree) < 180; pLimit(GeV^1)= 0.139531\n",
      "      ===== EM models for the G4Region  DefaultRegionForTheWorld ======\n",
      "  eCoulombScattering : Emin=  100 MeV Emax=  100 TeV\n",
      "\n",
      "msc:  for e+  SubType= 10\n",
      "      RangeFactor= 0.08, stepLimType: 2, latDisp: 1\n",
      "      ===== EM models for the G4Region  DefaultRegionForTheWorld ======\n",
      "  GoudsmitSaunderson : Emin=    0 eV  Emax=  100 MeV Nbins=120 100 eV  - 100 MeV\n",
      "        WentzelVIUni : Emin=  100 MeV Emax=  100 TeV Nbins=120 100 MeV - 100 TeV\n",
      "\n",
      "eIoni:  for e+  SubType=2\n",
      "      dE/dx and range tables from 100 eV  to 100 TeV in 240 bins\n",
      "      Lambda tables from threshold to 100 TeV, 20 bins/decade, spline: 1\n",
      "      StepFunction=(0.2, 0.01 mm), integ: 1, fluct: 1, linLossLim= 0.01\n",
      "      ===== EM models for the G4Region  DefaultRegionForTheWorld ======\n",
      "             PenIoni : Emin=    0 eV  Emax=    1 GeV\n",
      "        MollerBhabha : Emin=    1 GeV Emax=  100 TeV\n",
      "\n",
      "eBrem:  for e+  SubType=3\n",
      "      dE/dx and range tables from 100 eV  to 100 TeV in 240 bins\n",
      "      Lambda tables from threshold to 100 TeV, 20 bins/decade, spline: 1\n",
      "      LPM flag: 1 for E > 1 GeV,  VertexHighEnergyTh(GeV)= 100000\n",
      "      ===== EM models for the G4Region  DefaultRegionForTheWorld ======\n",
      "             PenBrem : Emin=    0 eV  Emax=    1 GeV\n",
      "            eBremLPM : Emin=    1 GeV Emax=  100 TeV  ModifiedTsai\n",
      "\n",
      "ePairProd:  for e+  SubType=4\n",
      "      dE/dx and range tables from 100 eV  to 100 TeV in 240 bins\n",
      "      Lambda tables from threshold to 100 TeV, 20 bins/decade, spline: 1\n",
      "      Sampling table 25x1001; from 0.1 GeV to 100 TeV \n",
      "      ===== EM models for the G4Region  DefaultRegionForTheWorld ======\n",
      "           ePairProd : Emin=    0 eV  Emax=  100 TeV\n",
      "\n",
      "annihil:  for e+, integral:1  applyCuts:1  SubType=5 BuildTable=0\n",
      "      ===== EM models for the G4Region  DefaultRegionForTheWorld ======\n",
      "            PenAnnih : Emin=    0 eV  Emax=    1 GeV\n",
      "            eplus2gg : Emin=    1 GeV Emax=  100 TeV\n",
      "\n",
      "CoulombScat:  for e+, integral:1  applyCuts:1  SubType=1 BuildTable=1\n",
      "      Lambda table from 100 MeV to 100 TeV, 20 bins/decade, spline: 1\n",
      "      ThetaMin(p) < Theta(degree) < 180; pLimit(GeV^1)= 0.139531\n",
      "      ===== EM models for the G4Region  DefaultRegionForTheWorld ======\n",
      "  eCoulombScattering : Emin=  100 MeV Emax=  100 TeV\n",
      "\n",
      "msc:  for proton  SubType= 10\n",
      "      RangeFactor= 0.2, stepLimType: 0, latDisp: 1\n",
      "      ===== EM models for the G4Region  DefaultRegionForTheWorld ======\n",
      "        WentzelVIUni : Emin=    0 eV  Emax=  100 TeV Nbins=240 100 eV  - 100 TeV\n",
      "\n",
      "hIoni:  for proton  SubType=2\n",
      "      dE/dx and range tables from 100 eV  to 100 TeV in 240 bins\n",
      "      Lambda tables from threshold to 100 TeV, 20 bins/decade, spline: 1\n",
      "      StepFunction=(0.2, 0.05 mm), integ: 1, fluct: 1, linLossLim= 0.01\n",
      "      ===== EM models for the G4Region  DefaultRegionForTheWorld ======\n",
      "               Bragg : Emin=    0 eV  Emax=    2 MeV\n",
      "          BetheBloch : Emin=    2 MeV Emax=  100 TeV\n",
      "\n",
      "hBrems:  for proton  SubType=3\n",
      "      dE/dx and range tables from 100 eV  to 100 TeV in 240 bins\n",
      "      Lambda tables from threshold to 100 TeV, 20 bins/decade, spline: 1\n",
      "      ===== EM models for the G4Region  DefaultRegionForTheWorld ======\n",
      "               hBrem : Emin=    0 eV  Emax=  100 TeV\n",
      "      ===== Limit on energy threshold has been applied \n",
      "\n",
      "hPairProd:  for proton  SubType=4\n",
      "      dE/dx and range tables from 100 eV  to 100 TeV in 240 bins\n",
      "      Lambda tables from threshold to 100 TeV, 20 bins/decade, spline: 1\n",
      "      Sampling table 17x1001; from 7.50618 GeV to 100 TeV \n",
      "      ===== EM models for the G4Region  DefaultRegionForTheWorld ======\n",
      "           hPairProd : Emin=    0 eV  Emax=  100 TeV\n",
      "\n",
      "CoulombScat:  for proton, integral:1  applyCuts:1  SubType=1 BuildTable=1\n",
      "      Lambda table from threshold  to 100 TeV, 20 bins/decade, spline: 1\n",
      "      ThetaMin(p) < Theta(degree) < 180; pLimit(GeV^1)= 0.139531\n",
      "      ===== EM models for the G4Region  DefaultRegionForTheWorld ======\n",
      "  eCoulombScattering : Emin=    0 eV  Emax=  100 TeV\n",
      "\n",
      "msc:  for GenericIon  SubType= 10\n",
      "      RangeFactor= 0.2, stepLimType: 0, latDisp: 0\n",
      "      ===== EM models for the G4Region  DefaultRegionForTheWorld ======\n",
      "            UrbanMsc : Emin=    0 eV  Emax=  100 TeV\n",
      "\n",
      "ionIoni:  for GenericIon  SubType=2\n",
      "      dE/dx and range tables from 100 eV  to 100 TeV in 240 bins\n",
      "      Lambda tables from threshold to 100 TeV, 20 bins/decade, spline: 1\n",
      "      StepFunction=(0.1, 0.001 mm), integ: 1, fluct: 1, linLossLim= 0.02\n",
      "      ===== EM models for the G4Region  DefaultRegionForTheWorld ======\n",
      "         ParamICRU73 : Emin=    0 eV  Emax=  100 TeV  deltaVI\n",
      "\n",
      "nuclearStopping:  for GenericIon applyCuts:1  SubType=8 BuildTable=0\n",
      "      ===== EM models for the G4Region  DefaultRegionForTheWorld ======\n",
      "   ICRU49NucStopping : Emin=    0 eV  Emax=    1 MeV\n",
      "\n",
      "msc:  for alpha  SubType= 10\n",
      "      RangeFactor= 0.2, stepLimType: 0, latDisp: 1\n",
      "      ===== EM models for the G4Region  DefaultRegionForTheWorld ======\n",
      "            UrbanMsc : Emin=    0 eV  Emax=  100 TeV Nbins=240 100 eV  - 100 TeV\n",
      "\n",
      "ionIoni:  for alpha  SubType=2\n",
      "      dE/dx and range tables from 100 eV  to 100 TeV in 240 bins\n",
      "      Lambda tables from threshold to 100 TeV, 20 bins/decade, spline: 1\n",
      "      StepFunction=(0.2, 0.05 mm), integ: 1, fluct: 1, linLossLim= 0.02\n",
      "      ===== EM models for the G4Region  DefaultRegionForTheWorld ======\n",
      "            BraggIon : Emin=    0 eV  Emax=7.9452 MeV\n",
      "          BetheBloch : Emin=7.9452 MeV Emax=  100 TeV\n",
      "\n",
      "nuclearStopping:  for alpha applyCuts:1  SubType=8 BuildTable=0\n",
      "      ===== EM models for the G4Region  DefaultRegionForTheWorld ======\n",
      "   ICRU49NucStopping : Emin=    0 eV  Emax=    1 MeV\n",
      "\n",
      "msc:  for anti_proton  SubType= 10\n",
      "      RangeFactor= 0.2, stepLimType: 0, latDisp: 1\n",
      "      ===== EM models for the G4Region  DefaultRegionForTheWorld ======\n",
      "        WentzelVIUni : Emin=    0 eV  Emax=  100 TeV Nbins=240 100 eV  - 100 TeV\n",
      "\n",
      "hIoni:  for anti_proton  SubType=2\n",
      "      dE/dx and range tables from 100 eV  to 100 TeV in 240 bins\n",
      "      Lambda tables from threshold to 100 TeV, 20 bins/decade, spline: 1\n",
      "      StepFunction=(0.2, 0.05 mm), integ: 1, fluct: 1, linLossLim= 0.01\n",
      "      ===== EM models for the G4Region  DefaultRegionForTheWorld ======\n",
      "            ICRU73QO : Emin=    0 eV  Emax=    2 MeV\n",
      "          BetheBloch : Emin=    2 MeV Emax=  100 TeV\n",
      "\n",
      "hBrems:  for anti_proton  SubType=3\n",
      "      dE/dx and range tables from 100 eV  to 100 TeV in 240 bins\n",
      "      Lambda tables from threshold to 100 TeV, 20 bins/decade, spline: 1\n",
      "      ===== EM models for the G4Region  DefaultRegionForTheWorld ======\n",
      "               hBrem : Emin=    0 eV  Emax=  100 TeV\n",
      "      ===== Limit on energy threshold has been applied \n",
      "\n",
      "hPairProd:  for anti_proton  SubType=4\n",
      "      dE/dx and range tables from 100 eV  to 100 TeV in 240 bins\n",
      "      Lambda tables from threshold to 100 TeV, 20 bins/decade, spline: 1\n",
      "      Sampling table 17x1001; from 7.50618 GeV to 100 TeV \n",
      "      ===== EM models for the G4Region  DefaultRegionForTheWorld ======\n",
      "           hPairProd : Emin=    0 eV  Emax=  100 TeV\n",
      "\n",
      "CoulombScat:  for anti_proton, integral:1  applyCuts:1  SubType=1 BuildTable=1\n",
      "      Lambda table from threshold  to 100 TeV, 20 bins/decade, spline: 1\n",
      "      ThetaMin(p) < Theta(degree) < 180; pLimit(GeV^1)= 0.139531\n",
      "      ===== EM models for the G4Region  DefaultRegionForTheWorld ======\n",
      "  eCoulombScattering : Emin=    0 eV  Emax=  100 TeV\n",
      "\n",
      "msc:  for kaon+  SubType= 10\n",
      "      RangeFactor= 0.2, stepLimType: 0, latDisp: 1\n",
      "      ===== EM models for the G4Region  DefaultRegionForTheWorld ======\n",
      "        WentzelVIUni : Emin=    0 eV  Emax=  100 TeV Nbins=240 100 eV  - 100 TeV\n"
     ]
    },
    {
     "name": "stdout",
     "output_type": "stream",
     "text": [
      "\n",
      "hIoni:  for kaon+  SubType=2\n",
      "      dE/dx and range tables from 100 eV  to 100 TeV in 240 bins\n",
      "      Lambda tables from threshold to 100 TeV, 20 bins/decade, spline: 1\n",
      "      StepFunction=(0.2, 0.05 mm), integ: 1, fluct: 1, linLossLim= 0.01\n",
      "      ===== EM models for the G4Region  DefaultRegionForTheWorld ======\n",
      "               Bragg : Emin=    0 eV  Emax=1.05231 MeV\n",
      "          BetheBloch : Emin=1.05231 MeV Emax=  100 TeV\n",
      "\n",
      "hBrems:  for kaon+  SubType=3\n",
      "      dE/dx and range tables from 100 eV  to 100 TeV in 240 bins\n",
      "      Lambda tables from threshold to 100 TeV, 20 bins/decade, spline: 1\n",
      "      ===== EM models for the G4Region  DefaultRegionForTheWorld ======\n",
      "               hBrem : Emin=    0 eV  Emax=  100 TeV\n",
      "      ===== Limit on energy threshold has been applied \n",
      "\n",
      "hPairProd:  for kaon+  SubType=4\n",
      "      dE/dx and range tables from 100 eV  to 100 TeV in 240 bins\n",
      "      Lambda tables from threshold to 100 TeV, 20 bins/decade, spline: 1\n",
      "      Sampling table 18x1001; from 3.94942 GeV to 100 TeV \n",
      "      ===== EM models for the G4Region  DefaultRegionForTheWorld ======\n",
      "           hPairProd : Emin=    0 eV  Emax=  100 TeV\n",
      "\n",
      "CoulombScat:  for kaon+, integral:1  applyCuts:1  SubType=1 BuildTable=1\n",
      "      Lambda table from threshold  to 100 TeV, 20 bins/decade, spline: 1\n",
      "      ThetaMin(p) < Theta(degree) < 180; pLimit(GeV^1)= 0.139531\n",
      "      ===== EM models for the G4Region  DefaultRegionForTheWorld ======\n",
      "  eCoulombScattering : Emin=    0 eV  Emax=  100 TeV\n",
      "\n",
      "msc:  for kaon-  SubType= 10\n",
      "      RangeFactor= 0.2, stepLimType: 0, latDisp: 1\n",
      "      ===== EM models for the G4Region  DefaultRegionForTheWorld ======\n",
      "        WentzelVIUni : Emin=    0 eV  Emax=  100 TeV Nbins=240 100 eV  - 100 TeV\n",
      "\n",
      "hIoni:  for kaon-  SubType=2\n",
      "      dE/dx and range tables from 100 eV  to 100 TeV in 240 bins\n",
      "      Lambda tables from threshold to 100 TeV, 20 bins/decade, spline: 1\n",
      "      StepFunction=(0.2, 0.05 mm), integ: 1, fluct: 1, linLossLim= 0.01\n",
      "      ===== EM models for the G4Region  DefaultRegionForTheWorld ======\n",
      "            ICRU73QO : Emin=    0 eV  Emax=1.05231 MeV\n",
      "          BetheBloch : Emin=1.05231 MeV Emax=  100 TeV\n",
      "\n",
      "hBrems:  for kaon-  SubType=3\n",
      "      dE/dx and range tables from 100 eV  to 100 TeV in 240 bins\n",
      "      Lambda tables from threshold to 100 TeV, 20 bins/decade, spline: 1\n",
      "      ===== EM models for the G4Region  DefaultRegionForTheWorld ======\n",
      "               hBrem : Emin=    0 eV  Emax=  100 TeV\n",
      "      ===== Limit on energy threshold has been applied \n",
      "\n",
      "hPairProd:  for kaon-  SubType=4\n",
      "      dE/dx and range tables from 100 eV  to 100 TeV in 240 bins\n",
      "      Lambda tables from threshold to 100 TeV, 20 bins/decade, spline: 1\n",
      "      Sampling table 18x1001; from 3.94942 GeV to 100 TeV \n",
      "      ===== EM models for the G4Region  DefaultRegionForTheWorld ======\n",
      "           hPairProd : Emin=    0 eV  Emax=  100 TeV\n",
      "\n",
      "CoulombScat:  for kaon-, integral:1  applyCuts:1  SubType=1 BuildTable=1\n",
      "      Used Lambda table of kaon+\n",
      "      ThetaMin(p) < Theta(degree) < 180; pLimit(GeV^1)= 0.139531\n",
      "      ===== EM models for the G4Region  DefaultRegionForTheWorld ======\n",
      "  eCoulombScattering : Emin=    0 eV  Emax=  100 TeV\n",
      "\n",
      "msc:  for mu+  SubType= 10\n",
      "      RangeFactor= 0.2, stepLimType: 0, latDisp: 1, polarAngLim(deg)= 180\n",
      "      ===== EM models for the G4Region  DefaultRegionForTheWorld ======\n",
      "        WentzelVIUni : Emin=    0 eV  Emax=  100 TeV Nbins=240 100 eV  - 100 TeV\n",
      "\n",
      "muIoni:  for mu+  SubType=2\n",
      "      dE/dx and range tables from 100 eV  to 100 TeV in 240 bins\n",
      "      Lambda tables from threshold to 100 TeV, 20 bins/decade, spline: 1\n",
      "      StepFunction=(0.2, 0.05 mm), integ: 1, fluct: 1, linLossLim= 0.01\n",
      "      ===== EM models for the G4Region  DefaultRegionForTheWorld ======\n",
      "               Bragg : Emin=    0 eV  Emax=  200 keV\n",
      "          BetheBloch : Emin=  200 keV Emax=    1 GeV\n",
      "        MuBetheBloch : Emin=    1 GeV Emax=  100 TeV\n",
      "\n",
      "muBrems:  for mu+  SubType=3\n",
      "      dE/dx and range tables from 100 eV  to 100 TeV in 240 bins\n",
      "      Lambda tables from threshold to 100 TeV, 20 bins/decade, spline: 1\n",
      "      ===== EM models for the G4Region  DefaultRegionForTheWorld ======\n",
      "              MuBrem : Emin=    0 eV  Emax=  100 TeV\n",
      "      ===== Limit on energy threshold has been applied \n",
      "\n",
      "muPairProd:  for mu+  SubType=4\n",
      "      dE/dx and range tables from 100 eV  to 100 TeV in 240 bins\n",
      "      Lambda tables from threshold to 100 TeV, 20 bins/decade, spline: 1\n",
      "      Sampling table 21x1001; from 1 GeV to 100 TeV \n",
      "      ===== EM models for the G4Region  DefaultRegionForTheWorld ======\n",
      "          muPairProd : Emin=    0 eV  Emax=  100 TeV\n",
      "\n",
      "CoulombScat:  for mu+, integral:1  applyCuts:1  SubType=1 BuildTable=1\n",
      "      Lambda table from threshold  to 100 TeV, 20 bins/decade, spline: 1\n",
      "      ThetaMin(p) < Theta(degree) < 180; pLimit(GeV^1)= 0.139531\n",
      "      ===== EM models for the G4Region  DefaultRegionForTheWorld ======\n",
      "  eCoulombScattering : Emin=    0 eV  Emax=  100 TeV\n",
      "\n",
      "msc:  for mu-  SubType= 10\n",
      "      RangeFactor= 0.2, stepLimType: 0, latDisp: 1, polarAngLim(deg)= 180\n",
      "      ===== EM models for the G4Region  DefaultRegionForTheWorld ======\n",
      "        WentzelVIUni : Emin=    0 eV  Emax=  100 TeV Nbins=240 100 eV  - 100 TeV\n",
      "\n",
      "muIoni:  for mu-  SubType=2\n",
      "      dE/dx and range tables from 100 eV  to 100 TeV in 240 bins\n",
      "      Lambda tables from threshold to 100 TeV, 20 bins/decade, spline: 1\n",
      "      StepFunction=(0.2, 0.05 mm), integ: 1, fluct: 1, linLossLim= 0.01\n",
      "      ===== EM models for the G4Region  DefaultRegionForTheWorld ======\n",
      "            ICRU73QO : Emin=    0 eV  Emax=  200 keV\n",
      "          BetheBloch : Emin=  200 keV Emax=    1 GeV\n",
      "        MuBetheBloch : Emin=    1 GeV Emax=  100 TeV\n",
      "\n",
      "muBrems:  for mu-  SubType=3\n",
      "      dE/dx and range tables from 100 eV  to 100 TeV in 240 bins\n",
      "      Lambda tables from threshold to 100 TeV, 20 bins/decade, spline: 1\n",
      "      ===== EM models for the G4Region  DefaultRegionForTheWorld ======\n",
      "              MuBrem : Emin=    0 eV  Emax=  100 TeV\n",
      "      ===== Limit on energy threshold has been applied \n",
      "\n",
      "muPairProd:  for mu-  SubType=4\n",
      "      dE/dx and range tables from 100 eV  to 100 TeV in 240 bins\n",
      "      Lambda tables from threshold to 100 TeV, 20 bins/decade, spline: 1\n",
      "      Sampling table 21x1001; from 1 GeV to 100 TeV \n",
      "      ===== EM models for the G4Region  DefaultRegionForTheWorld ======\n",
      "          muPairProd : Emin=    0 eV  Emax=  100 TeV\n",
      "\n",
      "CoulombScat:  for mu-, integral:1  applyCuts:1  SubType=1 BuildTable=1\n",
      "      Used Lambda table of mu+\n",
      "      ThetaMin(p) < Theta(degree) < 180; pLimit(GeV^1)= 0.139531\n",
      "      ===== EM models for the G4Region  DefaultRegionForTheWorld ======\n",
      "  eCoulombScattering : Emin=    0 eV  Emax=  100 TeV\n",
      "\n",
      "msc:  for pi+  SubType= 10\n",
      "      RangeFactor= 0.2, stepLimType: 0, latDisp: 1\n",
      "      ===== EM models for the G4Region  DefaultRegionForTheWorld ======\n",
      "        WentzelVIUni : Emin=    0 eV  Emax=  100 TeV Nbins=240 100 eV  - 100 TeV\n",
      "\n",
      "hIoni:  for pi+  SubType=2\n",
      "      dE/dx and range tables from 100 eV  to 100 TeV in 240 bins\n",
      "      Lambda tables from threshold to 100 TeV, 20 bins/decade, spline: 1\n",
      "      StepFunction=(0.2, 0.05 mm), integ: 1, fluct: 1, linLossLim= 0.01\n",
      "      ===== EM models for the G4Region  DefaultRegionForTheWorld ======\n",
      "               Bragg : Emin=    0 eV  Emax=297.505 keV\n",
      "          BetheBloch : Emin=297.505 keV Emax=  100 TeV\n",
      "\n",
      "hBrems:  for pi+  SubType=3\n",
      "      dE/dx and range tables from 100 eV  to 100 TeV in 240 bins\n",
      "      Lambda tables from threshold to 100 TeV, 20 bins/decade, spline: 1\n",
      "      ===== EM models for the G4Region  DefaultRegionForTheWorld ======\n",
      "               hBrem : Emin=    0 eV  Emax=  100 TeV\n",
      "      ===== Limit on energy threshold has been applied \n",
      "\n",
      "hPairProd:  for pi+  SubType=4\n",
      "      dE/dx and range tables from 100 eV  to 100 TeV in 240 bins\n",
      "      Lambda tables from threshold to 100 TeV, 20 bins/decade, spline: 1\n",
      "      Sampling table 20x1001; from 1.11656 GeV to 100 TeV \n",
      "      ===== EM models for the G4Region  DefaultRegionForTheWorld ======\n",
      "           hPairProd : Emin=    0 eV  Emax=  100 TeV\n",
      "\n",
      "CoulombScat:  for pi+, integral:1  applyCuts:1  SubType=1 BuildTable=1\n",
      "      Lambda table from threshold  to 100 TeV, 20 bins/decade, spline: 1\n",
      "      ThetaMin(p) < Theta(degree) < 180; pLimit(GeV^1)= 0.139531\n",
      "      ===== EM models for the G4Region  DefaultRegionForTheWorld ======\n",
      "  eCoulombScattering : Emin=    0 eV  Emax=  100 TeV\n",
      "\n",
      "msc:  for pi-  SubType= 10\n",
      "      RangeFactor= 0.2, stepLimType: 0, latDisp: 1\n",
      "      ===== EM models for the G4Region  DefaultRegionForTheWorld ======\n",
      "        WentzelVIUni : Emin=    0 eV  Emax=  100 TeV Nbins=240 100 eV  - 100 TeV\n"
     ]
    },
    {
     "name": "stdout",
     "output_type": "stream",
     "text": [
      "\n",
      "hIoni:  for pi-  SubType=2\n",
      "      dE/dx and range tables from 100 eV  to 100 TeV in 240 bins\n",
      "      Lambda tables from threshold to 100 TeV, 20 bins/decade, spline: 1\n",
      "      StepFunction=(0.2, 0.05 mm), integ: 1, fluct: 1, linLossLim= 0.01\n",
      "      ===== EM models for the G4Region  DefaultRegionForTheWorld ======\n",
      "            ICRU73QO : Emin=    0 eV  Emax=297.505 keV\n",
      "          BetheBloch : Emin=297.505 keV Emax=  100 TeV\n",
      "\n",
      "hBrems:  for pi-  SubType=3\n",
      "      dE/dx and range tables from 100 eV  to 100 TeV in 240 bins\n",
      "      Lambda tables from threshold to 100 TeV, 20 bins/decade, spline: 1\n",
      "      ===== EM models for the G4Region  DefaultRegionForTheWorld ======\n",
      "               hBrem : Emin=    0 eV  Emax=  100 TeV\n",
      "      ===== Limit on energy threshold has been applied \n",
      "\n",
      "hPairProd:  for pi-  SubType=4\n",
      "      dE/dx and range tables from 100 eV  to 100 TeV in 240 bins\n",
      "      Lambda tables from threshold to 100 TeV, 20 bins/decade, spline: 1\n",
      "      Sampling table 20x1001; from 1.11656 GeV to 100 TeV \n",
      "      ===== EM models for the G4Region  DefaultRegionForTheWorld ======\n",
      "           hPairProd : Emin=    0 eV  Emax=  100 TeV\n",
      "\n",
      "CoulombScat:  for pi-, integral:1  applyCuts:1  SubType=1 BuildTable=1\n",
      "      Used Lambda table of pi+\n",
      "      ThetaMin(p) < Theta(degree) < 180; pLimit(GeV^1)= 0.139531\n",
      "      ===== EM models for the G4Region  DefaultRegionForTheWorld ======\n",
      "  eCoulombScattering : Emin=    0 eV  Emax=  100 TeV\n",
      "G4VisManager: Using G4TrajectoryDrawByCharge as fallback trajectory model.\n",
      "See commands in /vis/modeling/trajectories/ for other options.\n",
      "\n",
      "### ===  Deexcitation model UAtomDeexcitation is activated for 7 regions:\n",
      "          DefaultRegionForTheWorld  1  1  1\n",
      "          cylindricalPET  1  1  1\n",
      "          head  1  1  1\n",
      "          block  1  1  1\n",
      "          crystal  1  1  1\n",
      "          LSO  1  1  1\n",
      "          BGO  1  1  1\n",
      "\n",
      "### === G4UAtomicDeexcitation::InitialiseForNewRun()\n",
      "### ===  Auger cascade flag: 1\n",
      "### ===  Ignore cuts flag:   0\n",
      "### ===  PIXE model for hadrons: Empirical\n",
      "### ===  PIXE model for e+-:     Penelope\n",
      "[Core-0] End of macro PET_CylindricalPET_System.mac\n",
      "Graphics systems deleted.\n",
      "Visualization Manager deleting...\n"
     ]
    }
   ],
   "source": [
    "!Gate PET_CylindricalPET_System.mac"
   ]
  },
  {
   "cell_type": "code",
   "execution_count": 7,
   "metadata": {
    "ExecuteTime": {
     "end_time": "2020-03-10T22:43:54.808538Z",
     "start_time": "2020-03-10T22:43:54.691184Z"
    }
   },
   "outputs": [
    {
     "name": "stdout",
     "output_type": "stream",
     "text": [
      "total 9,2M\r\n",
      "-rw-rw-r--. 1 madupont madupont 408K 10 mars  23:43 p.CoincidencesBlurring.npy\r\n",
      "-rw-rw-r--. 1 madupont madupont 408K 10 mars  23:43 p.Coincidences.npy\r\n",
      "-rw-rw-r--. 1 madupont madupont 1,9M 10 mars  23:43 p.hits.npy\r\n",
      "-rw-rw-r--. 1 madupont madupont 2,5M 10 mars  23:43 p.SinglesBlurringNoise.npy\r\n",
      "-rw-rw-r--. 1 madupont madupont 509K 10 mars  23:43 p.SinglesBlurring.npy\r\n",
      "-rw-rw-r--. 1 madupont madupont 3,0M 10 mars  23:43 p.SinglesNoise.npy\r\n",
      "-rw-rw-r--. 1 madupont madupont 509K 10 mars  23:43 p.Singles.npy\r\n"
     ]
    }
   ],
   "source": [
    "ls -lh output/"
   ]
  },
  {
   "cell_type": "markdown",
   "metadata": {},
   "source": [
    "## Change one line in PET_CylindricalPET_System.mac"
   ]
  },
  {
   "cell_type": "code",
   "execution_count": 67,
   "metadata": {
    "ExecuteTime": {
     "end_time": "2020-03-11T06:38:54.999364Z",
     "start_time": "2020-03-11T06:38:54.842719Z"
    }
   },
   "outputs": [],
   "source": [
    "!sed -i \"s:.*setTimeStop.*:/gate/application/setTimeStop    10 s:g\" PET_CylindricalPET_System.mac"
   ]
  },
  {
   "cell_type": "code",
   "execution_count": 68,
   "metadata": {
    "ExecuteTime": {
     "end_time": "2020-03-11T06:39:25.354051Z",
     "start_time": "2020-03-11T06:38:57.684469Z"
    }
   },
   "outputs": [
    {
     "name": "stdout",
     "output_type": "stream",
     "text": [
      "[G4] \n",
      "[G4] **************************************************************\n",
      "[G4]  Geant4 version Name: geant4-10-06-patch-01    (14-February-2020)\n",
      "[G4]                        Copyright : Geant4 Collaboration\n",
      "[G4]                       References : NIM A 506 (2003), 250-303\n",
      "[G4]                                  : IEEE-TNS 53 (2006), 270-278\n",
      "[G4]                                  : NIM A 835 (2016), 186-225\n",
      "[G4]                              WWW : http://geant4.org/\n",
      "[G4] **************************************************************\n",
      "[G4] \n",
      "[Core-0] Initialization of geometry\n",
      "[Core-0] Initialization of physics\n",
      "[Core-0] Initialization of actors\n",
      "[Core-0] \n",
      "[Core-0] *************************************************\n",
      "[Core-0]  GATE version 9.0 (December 2019)\n",
      "[Core-0]  Copyright : OpenGATE Collaboration\n",
      "[Core-0]  Reference : Phys. Med. Biol. 49 (2004) 4543-4561\n",
      "[Core-0]  Reference : Phys. Med. Biol. 56 (2011) 881-901\n",
      "[Core-0]  Reference : Med. Phys. 41(6)    (2014)\n",
      "[Core-0]  http://www.opengatecollaboration.org        \n",
      "[Core-0] *************************************************\n",
      "[Core-0] \n",
      "[Core-0] You are using Geant4 version 10.6.1\n",
      "[Core-0] Starting macro PET_CylindricalPET_System.mac\n",
      "GateToTree::SetOutputIDName, id_system = '0' anOutputIDName = 'gantryID' depth = '0'\n",
      "GateToTree::SetOutputIDName, id_system = '0' anOutputIDName = 'rsectorID' depth = '1'\n",
      "GateToTree::SetOutputIDName, id_system = '0' anOutputIDName = 'moduleID' depth = '2'\n",
      "GateToTree::SetOutputIDName, id_system = '0' anOutputIDName = 'submoduleID' depth = '3'\n",
      "GateToTree::SetOutputIDName, id_system = '0' anOutputIDName = 'crystalID' depth = '4'\n",
      "GateToTree::SetOutputIDName, id_system = '0' anOutputIDName = 'layerID' depth = '5'\n",
      "\n",
      "GATE object:        'systems/cylindricalPET'\n",
      "Components:\n",
      "\n",
      "GATE object:        'systems/cylindricalPET/base'\n",
      "Attached to volume: cylindricalPET\n",
      "Nb of children:       1\n",
      "\n",
      "\tGATE object:        'systems/cylindricalPET/rsector'\n",
      "\tAttached to volume: head\n",
      "\tNb of children:       1\n",
      "\n",
      "\t\tGATE object:        'systems/cylindricalPET/module'\n",
      "\t\tAttached to volume: block\n",
      "\t\tNb of children:       1\n",
      "\n",
      "\t\t\tGATE object:        'systems/cylindricalPET/submodule'\n",
      "\t\t\tAttached to volume: ---\n",
      "\t\t\tNb of children:       1\n",
      "\n",
      "\t\t\t\tGATE object:        'systems/cylindricalPET/crystal'\n",
      "\t\t\t\tAttached to volume: crystal\n",
      "\t\t\t\tNb of children:       4\n",
      "\n",
      "\t\t\t\t\tGATE object:        'systems/cylindricalPET/layer0'\n",
      "\t\t\t\t\tAttached to volume: LSO\n",
      "\t\t\t\t\tNb of children:       0\n",
      "\n",
      "\t\t\t\t\tGATE object:        'systems/cylindricalPET/layer1'\n",
      "\t\t\t\t\tAttached to volume: BGO\n",
      "\t\t\t\t\tNb of children:       0\n",
      "\n",
      "\t\t\t\t\tGATE object:        'systems/cylindricalPET/layer2'\n",
      "\t\t\t\t\tAttached to volume: ---\n",
      "\t\t\t\t\tNb of children:       0\n",
      "\n",
      "\t\t\t\t\tGATE object:        'systems/cylindricalPET/layer3'\n",
      "\t\t\t\t\tAttached to volume: ---\n",
      "\t\t\t\t\tNb of children:       0\n",
      "geometrical design type: 1\n",
      "ring diameter: 86.5 cm \n",
      "rsector axial pitch: 0 fm \n",
      "rsector azimuthal pitch: 90 degree\n",
      "rsector tangential size: 32 cm \n",
      "rsector axial size: 40 cm \n",
      "module axial size: 2 cm \n",
      "module tangential size: 1.6 cm \n",
      "module axial pitch: 2 cm \n",
      "module tangential pitch: 1.6 cm \n",
      "submodule axial size: 2 cm \n",
      "submodule tangential size: 1.6 cm \n",
      "submodule axial pitch: 0 fm \n",
      "submodule tangential pitch: 0 fm \n",
      "crystal radial size: 3 cm \n",
      "crystal axial size: 3.8 mm \n",
      "crystal tangential size: 3 mm \n",
      "crystal axial pitch: 4 mm \n",
      "crystal tangential pitch: 3.2 mm \n",
      "layer0 radial size: 1.5 cm \n",
      "in layer0 interaction length: 7.5 mm \n",
      "layer1 radial size: 1.5 cm \n",
      "in layer1 interaction length: 7.5 mm \n",
      "Axial nb of rsectors: 1\n",
      "Azimuthal nb of rsectors: 4\n",
      "Axial nb of modules: 20\n",
      "Tangential nb of modules: 20\n",
      "Axial nb of submodules: 1\n",
      "Tangential nb of submodules: 1\n",
      "Axial nb of crystals: 5\n",
      "Tangential nb of crystals: 5\n",
      "Radial nb of layers: 2\n",
      "[Physic-0] The following Geant4's physic-list is enabled :empenelope\n",
      "\n",
      "\n",
      "List of Enabled processes:\n",
      "\n",
      "\n",
      "\n",
      "\n",
      "List of initialized processes:\n",
      "\n",
      "  * B+\n",
      "    - msc\n",
      "    - hIoni\n",
      "    - nuclearStopping\n",
      "  * B-\n",
      "    - msc\n",
      "    - hIoni\n",
      "    - nuclearStopping\n",
      "  * D+\n",
      "    - msc\n",
      "    - hIoni\n",
      "    - nuclearStopping\n",
      "  * D-\n",
      "    - msc\n",
      "    - hIoni\n",
      "    - nuclearStopping\n",
      "  * Ds+\n",
      "    - msc\n",
      "    - hIoni\n",
      "    - nuclearStopping\n",
      "  * Ds-\n",
      "    - msc\n",
      "    - hIoni\n",
      "    - nuclearStopping\n",
      "  * GenericIon\n",
      "    - msc\n",
      "    - ionIoni\n",
      "    - nuclearStopping\n",
      "  * He3\n",
      "    - msc\n",
      "    - ionIoni\n",
      "    - nuclearStopping\n",
      "  * alpha\n",
      "    - msc\n",
      "    - ionIoni\n",
      "    - nuclearStopping\n",
      "  * anti_He3\n",
      "    - msc\n",
      "    - hIoni\n",
      "    - nuclearStopping\n",
      "  * anti_alpha\n",
      "    - msc\n",
      "    - hIoni\n",
      "    - nuclearStopping\n",
      "  * anti_deuteron\n",
      "    - msc\n",
      "    - hIoni\n",
      "    - nuclearStopping\n",
      "  * anti_lambda_c+\n",
      "    - msc\n",
      "    - hIoni\n",
      "    - nuclearStopping\n",
      "  * anti_omega-\n",
      "    - msc\n",
      "    - hIoni\n",
      "    - nuclearStopping\n",
      "  * anti_proton\n",
      "    - msc\n",
      "    - hIoni\n",
      "    - hBrems\n",
      "    - hPairProd\n",
      "    - CoulombScat\n",
      "  * anti_sigma+\n",
      "    - msc\n",
      "    - hIoni\n",
      "    - nuclearStopping\n",
      "  * anti_sigma-\n",
      "    - msc\n",
      "    - hIoni\n",
      "    - nuclearStopping\n",
      "  * anti_sigma_c+\n",
      "    - msc\n",
      "    - hIoni\n",
      "    - nuclearStopping\n",
      "  * anti_sigma_c++\n",
      "    - msc\n",
      "    - hIoni\n",
      "    - nuclearStopping\n",
      "  * anti_triton\n",
      "    - msc\n",
      "    - hIoni\n",
      "    - nuclearStopping\n",
      "  * anti_xi-\n",
      "    - msc\n",
      "    - hIoni\n",
      "    - nuclearStopping\n",
      "  * anti_xi_c+\n",
      "    - msc\n",
      "    - hIoni\n",
      "    - nuclearStopping\n",
      "  * deuteron\n",
      "    - msc\n",
      "    - hIoni\n",
      "    - nuclearStopping\n",
      "  * e+\n",
      "    - msc\n",
      "    - eIoni\n",
      "    - eBrem\n",
      "    - ePairProd\n",
      "    - annihil\n",
      "    - CoulombScat\n",
      "  * e-\n",
      "    - msc\n",
      "    - eIoni\n",
      "    - eBrem\n",
      "    - ePairProd\n",
      "    - CoulombScat\n",
      "  * gamma\n",
      "    - phot\n",
      "    - compt\n",
      "    - conv\n",
      "    - Rayl\n",
      "  * kaon+\n",
      "    - msc\n",
      "    - hIoni\n",
      "    - hBrems\n",
      "    - hPairProd\n",
      "    - CoulombScat\n",
      "  * kaon-\n",
      "    - msc\n",
      "    - hIoni\n",
      "    - hBrems\n",
      "    - hPairProd\n",
      "    - CoulombScat\n",
      "  * lambda_c+\n",
      "    - msc\n",
      "    - hIoni\n",
      "    - nuclearStopping\n",
      "  * mu+\n",
      "    - msc\n",
      "    - muIoni\n",
      "    - muBrems\n",
      "    - muPairProd\n",
      "    - CoulombScat\n",
      "  * mu-\n",
      "    - msc\n",
      "    - muIoni\n",
      "    - muBrems\n",
      "    - muPairProd\n",
      "    - CoulombScat\n",
      "  * omega-\n",
      "    - msc\n",
      "    - hIoni\n",
      "    - nuclearStopping\n",
      "  * pi+\n",
      "    - msc\n",
      "    - hIoni\n",
      "    - hBrems\n",
      "    - hPairProd\n",
      "    - CoulombScat\n",
      "  * pi-\n",
      "    - msc\n",
      "    - hIoni\n",
      "    - hBrems\n",
      "    - hPairProd\n",
      "    - CoulombScat\n",
      "  * proton\n",
      "    - msc\n",
      "    - hIoni\n",
      "    - hBrems\n",
      "    - hPairProd\n",
      "    - CoulombScat\n",
      "  * sigma+\n",
      "    - msc\n",
      "    - hIoni\n",
      "    - nuclearStopping\n",
      "  * sigma-\n",
      "    - msc\n",
      "    - hIoni\n",
      "    - nuclearStopping\n",
      "  * sigma_c+\n",
      "    - msc\n",
      "    - hIoni\n",
      "    - nuclearStopping\n",
      "  * sigma_c++\n",
      "    - msc\n",
      "    - hIoni\n",
      "    - nuclearStopping\n",
      "  * tau+\n",
      "    - msc\n",
      "    - hIoni\n",
      "    - nuclearStopping\n",
      "  * tau-\n",
      "    - msc\n",
      "    - hIoni\n",
      "    - nuclearStopping\n",
      "  * triton\n",
      "    - msc\n",
      "    - hIoni\n",
      "    - nuclearStopping\n",
      "  * xi-\n",
      "    - msc\n",
      "    - hIoni\n",
      "    - nuclearStopping\n",
      "  * xi_c+\n",
      "    - msc\n",
      "    - hIoni\n",
      "    - nuclearStopping\n",
      "\n",
      "[Core-0] Initialization of geometry\n",
      "[Physic-1]   \n",
      "[Physic-1]  ----------------------------------------------------------\n",
      "[Physic-1]                      Ionization potential \n",
      "[Physic-1]   - worldDefaultAir\t defaut value: I = 85.7031 eV \n",
      "[Physic-1]   - Air\t defaut value: I = 85.6694 eV \n",
      "[Physic-1]   - Vacuum\t defaut value: I = 19.2 eV \n",
      "[Physic-1]   - LSO\t defaut value: I = 418.807 eV \n",
      "[Physic-1]   - BGO\t defaut value: I = 473.785 eV \n",
      "[Physic-1]  ----------------------------------------------------------\n",
      "[Core-0] Initialization of physics\n",
      "[Physic-2]   GatePhysicsList::ConstructProcess\n",
      "[Physic-3]    mLoadState = 1\n",
      "[Physic-3]    mListOfStepLimiter.size = 0\n",
      "[Core-0] Initialization of actors\n",
      "GateSourceMgr::ListSources: List of the sources in the source manager\n",
      "Source --------------> posiC11\n",
      "  ID                 : 0\n",
      "  type               : backtoback\n",
      "  activity (Bq)      : 10000\n",
      "  startTime (s)      : 0\n",
      "  time (s)           : 0\n",
      "  forcedUnstable     : 1\n",
      "  forcedHalfLife (s) : 1223\n",
      "  verboseLevel       : 0\n",
      "  relative to vol    : world\n",
      "---------------------- \n",
      "\n",
      "[Acquisition-0]   \n",
      "[Acquisition-0] ============= Source initialization =============\n",
      "[Acquisition-0]   \n",
      "[Acquisition-0] ============= Acquisition starts! =============\n",
      "[Acquisition-0] Simulation start time = 0 sec\n",
      "[Acquisition-0] Simulation end time   = 10 sec\n",
      "[Acquisition-0] Simulation will have  = 10 run(s)\n",
      "\n",
      "----- HepJamesRandom engine status -----\n",
      " Initial seed = 3524233830\n",
      " u[] = 0.857081 0.0928083 0.205386 0.0110798 0.646064 0.569833 0.793703 0.538829 0.522462 0.665414 0.628235 0.616978 0.883191 0.0888566 0.451958 0.606159 0.586289 0.332389 0.650577 0.0693046 0.296877 0.0461755 0.0900289 0.914208 0.76732 0.448706 0.429967 0.87517 0.860889 0.976019 0.304819 0.321125 0.0600076 0.750361 0.791435 0.89372 0.928978 0.728835 0.00209177 0.618064 0.338547 0.883644 0.176056 0.399651 0.343394 0.685659 0.726185 0.0648808 0.859369 0.587966 0.195446 0.357773 0.705678 0.449291 0.847449 0.786046 0.836653 0.510481 0.389837 0.00297028 0.821756 0.463161 0.0175794 0.107762 0.824421 0.157586 0.507694 0.520817 0.430376 0.433761 0.903054 0.414497 0.406089 0.268156 0.71442 0.0335509 0.814792 0.0803714 0.469014 0.0953985 0.654945 0.262472 0.0455438 0.637775 0.23051 0.274001 0.270165 0.0706379 0.100534 0.702725 0.898379 0.447991 0.640176 0.643715 0.98938 0.191191 0.82089 \n",
      " c = 0.652903, cd = 0.456233, cm = 1\n",
      " i97 = 93, u[i97] = 0.643715\n",
      " j97 = 29, u[j97] = 0.976019\n",
      "----------------------------------------\n",
      "[Acquisition-0] Slice 0 from 0 to 1 s [slice=1 s]\n",
      "\n",
      "### ===  Deexcitation model UAtomDeexcitation is activated for 7 regions:\n",
      "          DefaultRegionForTheWorld  1  1  1\n",
      "          cylindricalPET  1  1  1\n",
      "          head  1  1  1\n",
      "          block  1  1  1\n",
      "          crystal  1  1  1\n",
      "          LSO  1  1  1\n",
      "          BGO  1  1  1\n"
     ]
    },
    {
     "name": "stdout",
     "output_type": "stream",
     "text": [
      "\n",
      "### === G4UAtomicDeexcitation::InitialiseForNewRun()\n",
      "### ===  Auger cascade flag: 1\n",
      "### ===  Ignore cuts flag:   0\n",
      "### ===  PIXE model for hadrons: Empirical\n",
      "### ===  PIXE model for e+-:     Penelope\n",
      "======================================================================\n",
      "The G4PenelopeIonisationModel is being used with the PIXE flag ON.\n",
      "Atomic de-excitation will be produced statistically by the PIXE \n",
      "interface by using the shell cross section --> Penelope\n",
      "The built-in model procedure for atomic de-excitation is disabled. \n",
      "*Please be sure this is intended*, or disable PIXE by\n",
      "/process/em/pixe false\n",
      "======================================================================\n",
      "\n",
      "phot:  for gamma applyCuts:1  SubType=12 BuildTable=0\n",
      "      LambdaPrime table from 200 keV to 100 TeV in 174 bins \n",
      "      ===== EM models for the G4Region  DefaultRegionForTheWorld ======\n",
      "        PenPhotoElec : Emin=    0 eV  Emax=    1 GeV Fluo\n",
      "       PhotoElectric : Emin=    1 GeV Emax=  100 TeV  SauterGavrila Fluo\n",
      "\n",
      "compt:  for gamma applyCuts:1  SubType=13 BuildTable=1\n",
      "      Lambda table from 100 eV  to 1 MeV, 20 bins/decade, spline: 1\n",
      "      LambdaPrime table from 1 MeV to 100 TeV in 160 bins \n",
      "      ===== EM models for the G4Region  DefaultRegionForTheWorld ======\n",
      "          PenCompton : Emin=    0 eV  Emax=    1 GeV Fluo\n",
      "        KleinNishina : Emin=    1 GeV Emax=  100 TeV Fluo\n",
      "\n",
      "conv:  for gamma applyCuts:1  SubType=14 BuildTable=1\n",
      "      Lambda table from 1.022 MeV to 100 TeV, 20 bins/decade, spline: 1\n",
      "      ===== EM models for the G4Region  DefaultRegionForTheWorld ======\n",
      "       PenConversion : Emin=    0 eV  Emax=    1 GeV\n",
      "     BetheHeitlerLPM : Emin=    1 GeV Emax=  100 TeV  ModifiedTsai\n",
      "\n",
      "Rayl:  for gamma applyCuts:1  SubType=11 BuildTable=1\n",
      "      Lambda table from 100 eV  to 100 keV, 20 bins/decade, spline: 0\n",
      "      LambdaPrime table from 100 keV to 100 TeV in 180 bins \n",
      "      ===== EM models for the G4Region  DefaultRegionForTheWorld ======\n",
      "         PenRayleigh : Emin=    0 eV  Emax=  100 GeV\n",
      "\n",
      "msc:  for e-  SubType= 10\n",
      "      RangeFactor= 0.08, stepLimType: 2, latDisp: 1\n",
      "      ===== EM models for the G4Region  DefaultRegionForTheWorld ======\n",
      "  GoudsmitSaunderson : Emin=    0 eV  Emax=  100 MeV Nbins=120 100 eV  - 100 MeV\n",
      "        WentzelVIUni : Emin=  100 MeV Emax=  100 TeV Nbins=120 100 MeV - 100 TeV\n",
      "\n",
      "eIoni:  for e-  SubType=2\n",
      "      dE/dx and range tables from 100 eV  to 100 TeV in 240 bins\n",
      "      Lambda tables from threshold to 100 TeV, 20 bins/decade, spline: 1\n",
      "      StepFunction=(0.2, 0.01 mm), integ: 1, fluct: 1, linLossLim= 0.01\n",
      "      ===== EM models for the G4Region  DefaultRegionForTheWorld ======\n",
      "             PenIoni : Emin=    0 eV  Emax=    1 GeV\n",
      "        MollerBhabha : Emin=    1 GeV Emax=  100 TeV\n",
      "\n",
      "eBrem:  for e-  SubType=3\n",
      "      dE/dx and range tables from 100 eV  to 100 TeV in 240 bins\n",
      "      Lambda tables from threshold to 100 TeV, 20 bins/decade, spline: 1\n",
      "      LPM flag: 1 for E > 1 GeV,  VertexHighEnergyTh(GeV)= 100000\n",
      "      ===== EM models for the G4Region  DefaultRegionForTheWorld ======\n",
      "             PenBrem : Emin=    0 eV  Emax=    1 GeV\n",
      "            eBremLPM : Emin=    1 GeV Emax=  100 TeV  ModifiedTsai\n",
      "\n",
      "ePairProd:  for e-  SubType=4\n",
      "      dE/dx and range tables from 100 eV  to 100 TeV in 240 bins\n",
      "      Lambda tables from threshold to 100 TeV, 20 bins/decade, spline: 1\n",
      "      Sampling table 25x1001; from 0.1 GeV to 100 TeV \n",
      "      ===== EM models for the G4Region  DefaultRegionForTheWorld ======\n",
      "           ePairProd : Emin=    0 eV  Emax=  100 TeV\n",
      "\n",
      "CoulombScat:  for e-, integral:1  applyCuts:1  SubType=1 BuildTable=1\n",
      "      Lambda table from 100 MeV to 100 TeV, 20 bins/decade, spline: 1\n",
      "      ThetaMin(p) < Theta(degree) < 180; pLimit(GeV^1)= 0.139531\n",
      "      ===== EM models for the G4Region  DefaultRegionForTheWorld ======\n",
      "  eCoulombScattering : Emin=  100 MeV Emax=  100 TeV\n",
      "\n",
      "msc:  for e+  SubType= 10\n",
      "      RangeFactor= 0.08, stepLimType: 2, latDisp: 1\n",
      "      ===== EM models for the G4Region  DefaultRegionForTheWorld ======\n",
      "  GoudsmitSaunderson : Emin=    0 eV  Emax=  100 MeV Nbins=120 100 eV  - 100 MeV\n",
      "        WentzelVIUni : Emin=  100 MeV Emax=  100 TeV Nbins=120 100 MeV - 100 TeV\n",
      "\n",
      "eIoni:  for e+  SubType=2\n",
      "      dE/dx and range tables from 100 eV  to 100 TeV in 240 bins\n",
      "      Lambda tables from threshold to 100 TeV, 20 bins/decade, spline: 1\n",
      "      StepFunction=(0.2, 0.01 mm), integ: 1, fluct: 1, linLossLim= 0.01\n",
      "      ===== EM models for the G4Region  DefaultRegionForTheWorld ======\n",
      "             PenIoni : Emin=    0 eV  Emax=    1 GeV\n",
      "        MollerBhabha : Emin=    1 GeV Emax=  100 TeV\n",
      "\n",
      "eBrem:  for e+  SubType=3\n",
      "      dE/dx and range tables from 100 eV  to 100 TeV in 240 bins\n",
      "      Lambda tables from threshold to 100 TeV, 20 bins/decade, spline: 1\n",
      "      LPM flag: 1 for E > 1 GeV,  VertexHighEnergyTh(GeV)= 100000\n",
      "      ===== EM models for the G4Region  DefaultRegionForTheWorld ======\n",
      "             PenBrem : Emin=    0 eV  Emax=    1 GeV\n",
      "            eBremLPM : Emin=    1 GeV Emax=  100 TeV  ModifiedTsai\n",
      "\n",
      "ePairProd:  for e+  SubType=4\n",
      "      dE/dx and range tables from 100 eV  to 100 TeV in 240 bins\n",
      "      Lambda tables from threshold to 100 TeV, 20 bins/decade, spline: 1\n",
      "      Sampling table 25x1001; from 0.1 GeV to 100 TeV \n",
      "      ===== EM models for the G4Region  DefaultRegionForTheWorld ======\n",
      "           ePairProd : Emin=    0 eV  Emax=  100 TeV\n",
      "\n",
      "annihil:  for e+, integral:1  applyCuts:1  SubType=5 BuildTable=0\n",
      "      ===== EM models for the G4Region  DefaultRegionForTheWorld ======\n",
      "            PenAnnih : Emin=    0 eV  Emax=    1 GeV\n",
      "            eplus2gg : Emin=    1 GeV Emax=  100 TeV\n",
      "\n",
      "CoulombScat:  for e+, integral:1  applyCuts:1  SubType=1 BuildTable=1\n",
      "      Lambda table from 100 MeV to 100 TeV, 20 bins/decade, spline: 1\n",
      "      ThetaMin(p) < Theta(degree) < 180; pLimit(GeV^1)= 0.139531\n",
      "      ===== EM models for the G4Region  DefaultRegionForTheWorld ======\n",
      "  eCoulombScattering : Emin=  100 MeV Emax=  100 TeV\n",
      "\n",
      "msc:  for proton  SubType= 10\n",
      "      RangeFactor= 0.2, stepLimType: 0, latDisp: 1\n",
      "      ===== EM models for the G4Region  DefaultRegionForTheWorld ======\n",
      "        WentzelVIUni : Emin=    0 eV  Emax=  100 TeV Nbins=240 100 eV  - 100 TeV\n",
      "\n",
      "hIoni:  for proton  SubType=2\n",
      "      dE/dx and range tables from 100 eV  to 100 TeV in 240 bins\n",
      "      Lambda tables from threshold to 100 TeV, 20 bins/decade, spline: 1\n",
      "      StepFunction=(0.2, 0.05 mm), integ: 1, fluct: 1, linLossLim= 0.01\n",
      "      ===== EM models for the G4Region  DefaultRegionForTheWorld ======\n",
      "               Bragg : Emin=    0 eV  Emax=    2 MeV\n",
      "          BetheBloch : Emin=    2 MeV Emax=  100 TeV\n",
      "\n",
      "hBrems:  for proton  SubType=3\n",
      "      dE/dx and range tables from 100 eV  to 100 TeV in 240 bins\n",
      "      Lambda tables from threshold to 100 TeV, 20 bins/decade, spline: 1\n",
      "      ===== EM models for the G4Region  DefaultRegionForTheWorld ======\n",
      "               hBrem : Emin=    0 eV  Emax=  100 TeV\n",
      "      ===== Limit on energy threshold has been applied \n",
      "\n",
      "hPairProd:  for proton  SubType=4\n",
      "      dE/dx and range tables from 100 eV  to 100 TeV in 240 bins\n",
      "      Lambda tables from threshold to 100 TeV, 20 bins/decade, spline: 1\n",
      "      Sampling table 17x1001; from 7.50618 GeV to 100 TeV \n",
      "      ===== EM models for the G4Region  DefaultRegionForTheWorld ======\n",
      "           hPairProd : Emin=    0 eV  Emax=  100 TeV\n",
      "\n",
      "CoulombScat:  for proton, integral:1  applyCuts:1  SubType=1 BuildTable=1\n",
      "      Lambda table from threshold  to 100 TeV, 20 bins/decade, spline: 1\n",
      "      ThetaMin(p) < Theta(degree) < 180; pLimit(GeV^1)= 0.139531\n",
      "      ===== EM models for the G4Region  DefaultRegionForTheWorld ======\n",
      "  eCoulombScattering : Emin=    0 eV  Emax=  100 TeV\n",
      "\n",
      "msc:  for GenericIon  SubType= 10\n",
      "      RangeFactor= 0.2, stepLimType: 0, latDisp: 0\n",
      "      ===== EM models for the G4Region  DefaultRegionForTheWorld ======\n",
      "            UrbanMsc : Emin=    0 eV  Emax=  100 TeV\n",
      "\n",
      "ionIoni:  for GenericIon  SubType=2\n",
      "      dE/dx and range tables from 100 eV  to 100 TeV in 240 bins\n",
      "      Lambda tables from threshold to 100 TeV, 20 bins/decade, spline: 1\n",
      "      StepFunction=(0.1, 0.001 mm), integ: 1, fluct: 1, linLossLim= 0.02\n",
      "      ===== EM models for the G4Region  DefaultRegionForTheWorld ======\n",
      "         ParamICRU73 : Emin=    0 eV  Emax=  100 TeV  deltaVI\n",
      "\n",
      "nuclearStopping:  for GenericIon applyCuts:1  SubType=8 BuildTable=0\n",
      "      ===== EM models for the G4Region  DefaultRegionForTheWorld ======\n",
      "   ICRU49NucStopping : Emin=    0 eV  Emax=    1 MeV\n",
      "\n",
      "msc:  for alpha  SubType= 10\n",
      "      RangeFactor= 0.2, stepLimType: 0, latDisp: 1\n",
      "      ===== EM models for the G4Region  DefaultRegionForTheWorld ======\n",
      "            UrbanMsc : Emin=    0 eV  Emax=  100 TeV Nbins=240 100 eV  - 100 TeV\n",
      "\n",
      "ionIoni:  for alpha  SubType=2\n",
      "      dE/dx and range tables from 100 eV  to 100 TeV in 240 bins\n",
      "      Lambda tables from threshold to 100 TeV, 20 bins/decade, spline: 1\n",
      "      StepFunction=(0.2, 0.05 mm), integ: 1, fluct: 1, linLossLim= 0.02\n",
      "      ===== EM models for the G4Region  DefaultRegionForTheWorld ======\n",
      "            BraggIon : Emin=    0 eV  Emax=7.9452 MeV\n",
      "          BetheBloch : Emin=7.9452 MeV Emax=  100 TeV\n",
      "\n",
      "nuclearStopping:  for alpha applyCuts:1  SubType=8 BuildTable=0\n",
      "      ===== EM models for the G4Region  DefaultRegionForTheWorld ======\n",
      "   ICRU49NucStopping : Emin=    0 eV  Emax=    1 MeV\n",
      "\n",
      "msc:  for anti_proton  SubType= 10\n",
      "      RangeFactor= 0.2, stepLimType: 0, latDisp: 1\n",
      "      ===== EM models for the G4Region  DefaultRegionForTheWorld ======\n",
      "        WentzelVIUni : Emin=    0 eV  Emax=  100 TeV Nbins=240 100 eV  - 100 TeV\n",
      "\n",
      "hIoni:  for anti_proton  SubType=2\n",
      "      dE/dx and range tables from 100 eV  to 100 TeV in 240 bins\n",
      "      Lambda tables from threshold to 100 TeV, 20 bins/decade, spline: 1\n",
      "      StepFunction=(0.2, 0.05 mm), integ: 1, fluct: 1, linLossLim= 0.01\n",
      "      ===== EM models for the G4Region  DefaultRegionForTheWorld ======\n",
      "            ICRU73QO : Emin=    0 eV  Emax=    2 MeV\n",
      "          BetheBloch : Emin=    2 MeV Emax=  100 TeV\n",
      "\n",
      "hBrems:  for anti_proton  SubType=3\n",
      "      dE/dx and range tables from 100 eV  to 100 TeV in 240 bins\n",
      "      Lambda tables from threshold to 100 TeV, 20 bins/decade, spline: 1\n",
      "      ===== EM models for the G4Region  DefaultRegionForTheWorld ======\n",
      "               hBrem : Emin=    0 eV  Emax=  100 TeV\n",
      "      ===== Limit on energy threshold has been applied \n",
      "\n",
      "hPairProd:  for anti_proton  SubType=4\n",
      "      dE/dx and range tables from 100 eV  to 100 TeV in 240 bins\n",
      "      Lambda tables from threshold to 100 TeV, 20 bins/decade, spline: 1\n",
      "      Sampling table 17x1001; from 7.50618 GeV to 100 TeV \n",
      "      ===== EM models for the G4Region  DefaultRegionForTheWorld ======\n",
      "           hPairProd : Emin=    0 eV  Emax=  100 TeV\n",
      "\n",
      "CoulombScat:  for anti_proton, integral:1  applyCuts:1  SubType=1 BuildTable=1\n",
      "      Lambda table from threshold  to 100 TeV, 20 bins/decade, spline: 1\n",
      "      ThetaMin(p) < Theta(degree) < 180; pLimit(GeV^1)= 0.139531\n",
      "      ===== EM models for the G4Region  DefaultRegionForTheWorld ======\n",
      "  eCoulombScattering : Emin=    0 eV  Emax=  100 TeV\n",
      "\n",
      "msc:  for kaon+  SubType= 10\n",
      "      RangeFactor= 0.2, stepLimType: 0, latDisp: 1\n",
      "      ===== EM models for the G4Region  DefaultRegionForTheWorld ======\n",
      "        WentzelVIUni : Emin=    0 eV  Emax=  100 TeV Nbins=240 100 eV  - 100 TeV\n"
     ]
    },
    {
     "name": "stdout",
     "output_type": "stream",
     "text": [
      "\n",
      "hIoni:  for kaon+  SubType=2\n",
      "      dE/dx and range tables from 100 eV  to 100 TeV in 240 bins\n",
      "      Lambda tables from threshold to 100 TeV, 20 bins/decade, spline: 1\n",
      "      StepFunction=(0.2, 0.05 mm), integ: 1, fluct: 1, linLossLim= 0.01\n",
      "      ===== EM models for the G4Region  DefaultRegionForTheWorld ======\n",
      "               Bragg : Emin=    0 eV  Emax=1.05231 MeV\n",
      "          BetheBloch : Emin=1.05231 MeV Emax=  100 TeV\n",
      "\n",
      "hBrems:  for kaon+  SubType=3\n",
      "      dE/dx and range tables from 100 eV  to 100 TeV in 240 bins\n",
      "      Lambda tables from threshold to 100 TeV, 20 bins/decade, spline: 1\n",
      "      ===== EM models for the G4Region  DefaultRegionForTheWorld ======\n",
      "               hBrem : Emin=    0 eV  Emax=  100 TeV\n",
      "      ===== Limit on energy threshold has been applied \n",
      "\n",
      "hPairProd:  for kaon+  SubType=4\n",
      "      dE/dx and range tables from 100 eV  to 100 TeV in 240 bins\n",
      "      Lambda tables from threshold to 100 TeV, 20 bins/decade, spline: 1\n",
      "      Sampling table 18x1001; from 3.94942 GeV to 100 TeV \n",
      "      ===== EM models for the G4Region  DefaultRegionForTheWorld ======\n",
      "           hPairProd : Emin=    0 eV  Emax=  100 TeV\n",
      "\n",
      "CoulombScat:  for kaon+, integral:1  applyCuts:1  SubType=1 BuildTable=1\n",
      "      Lambda table from threshold  to 100 TeV, 20 bins/decade, spline: 1\n",
      "      ThetaMin(p) < Theta(degree) < 180; pLimit(GeV^1)= 0.139531\n",
      "      ===== EM models for the G4Region  DefaultRegionForTheWorld ======\n",
      "  eCoulombScattering : Emin=    0 eV  Emax=  100 TeV\n",
      "\n",
      "msc:  for kaon-  SubType= 10\n",
      "      RangeFactor= 0.2, stepLimType: 0, latDisp: 1\n",
      "      ===== EM models for the G4Region  DefaultRegionForTheWorld ======\n",
      "        WentzelVIUni : Emin=    0 eV  Emax=  100 TeV Nbins=240 100 eV  - 100 TeV\n",
      "\n",
      "hIoni:  for kaon-  SubType=2\n",
      "      dE/dx and range tables from 100 eV  to 100 TeV in 240 bins\n",
      "      Lambda tables from threshold to 100 TeV, 20 bins/decade, spline: 1\n",
      "      StepFunction=(0.2, 0.05 mm), integ: 1, fluct: 1, linLossLim= 0.01\n",
      "      ===== EM models for the G4Region  DefaultRegionForTheWorld ======\n",
      "            ICRU73QO : Emin=    0 eV  Emax=1.05231 MeV\n",
      "          BetheBloch : Emin=1.05231 MeV Emax=  100 TeV\n",
      "\n",
      "hBrems:  for kaon-  SubType=3\n",
      "      dE/dx and range tables from 100 eV  to 100 TeV in 240 bins\n",
      "      Lambda tables from threshold to 100 TeV, 20 bins/decade, spline: 1\n",
      "      ===== EM models for the G4Region  DefaultRegionForTheWorld ======\n",
      "               hBrem : Emin=    0 eV  Emax=  100 TeV\n",
      "      ===== Limit on energy threshold has been applied \n",
      "\n",
      "hPairProd:  for kaon-  SubType=4\n",
      "      dE/dx and range tables from 100 eV  to 100 TeV in 240 bins\n",
      "      Lambda tables from threshold to 100 TeV, 20 bins/decade, spline: 1\n",
      "      Sampling table 18x1001; from 3.94942 GeV to 100 TeV \n",
      "      ===== EM models for the G4Region  DefaultRegionForTheWorld ======\n",
      "           hPairProd : Emin=    0 eV  Emax=  100 TeV\n",
      "\n",
      "CoulombScat:  for kaon-, integral:1  applyCuts:1  SubType=1 BuildTable=1\n",
      "      Used Lambda table of kaon+\n",
      "      ThetaMin(p) < Theta(degree) < 180; pLimit(GeV^1)= 0.139531\n",
      "      ===== EM models for the G4Region  DefaultRegionForTheWorld ======\n",
      "  eCoulombScattering : Emin=    0 eV  Emax=  100 TeV\n",
      "\n",
      "msc:  for mu+  SubType= 10\n",
      "      RangeFactor= 0.2, stepLimType: 0, latDisp: 1, polarAngLim(deg)= 180\n",
      "      ===== EM models for the G4Region  DefaultRegionForTheWorld ======\n",
      "        WentzelVIUni : Emin=    0 eV  Emax=  100 TeV Nbins=240 100 eV  - 100 TeV\n",
      "\n",
      "muIoni:  for mu+  SubType=2\n",
      "      dE/dx and range tables from 100 eV  to 100 TeV in 240 bins\n",
      "      Lambda tables from threshold to 100 TeV, 20 bins/decade, spline: 1\n",
      "      StepFunction=(0.2, 0.05 mm), integ: 1, fluct: 1, linLossLim= 0.01\n",
      "      ===== EM models for the G4Region  DefaultRegionForTheWorld ======\n",
      "               Bragg : Emin=    0 eV  Emax=  200 keV\n",
      "          BetheBloch : Emin=  200 keV Emax=    1 GeV\n",
      "        MuBetheBloch : Emin=    1 GeV Emax=  100 TeV\n",
      "\n",
      "muBrems:  for mu+  SubType=3\n",
      "      dE/dx and range tables from 100 eV  to 100 TeV in 240 bins\n",
      "      Lambda tables from threshold to 100 TeV, 20 bins/decade, spline: 1\n",
      "      ===== EM models for the G4Region  DefaultRegionForTheWorld ======\n",
      "              MuBrem : Emin=    0 eV  Emax=  100 TeV\n",
      "      ===== Limit on energy threshold has been applied \n",
      "\n",
      "muPairProd:  for mu+  SubType=4\n",
      "      dE/dx and range tables from 100 eV  to 100 TeV in 240 bins\n",
      "      Lambda tables from threshold to 100 TeV, 20 bins/decade, spline: 1\n",
      "      Sampling table 21x1001; from 1 GeV to 100 TeV \n",
      "      ===== EM models for the G4Region  DefaultRegionForTheWorld ======\n",
      "          muPairProd : Emin=    0 eV  Emax=  100 TeV\n",
      "\n",
      "CoulombScat:  for mu+, integral:1  applyCuts:1  SubType=1 BuildTable=1\n",
      "      Lambda table from threshold  to 100 TeV, 20 bins/decade, spline: 1\n",
      "      ThetaMin(p) < Theta(degree) < 180; pLimit(GeV^1)= 0.139531\n",
      "      ===== EM models for the G4Region  DefaultRegionForTheWorld ======\n",
      "  eCoulombScattering : Emin=    0 eV  Emax=  100 TeV\n",
      "\n",
      "msc:  for mu-  SubType= 10\n",
      "      RangeFactor= 0.2, stepLimType: 0, latDisp: 1, polarAngLim(deg)= 180\n",
      "      ===== EM models for the G4Region  DefaultRegionForTheWorld ======\n",
      "        WentzelVIUni : Emin=    0 eV  Emax=  100 TeV Nbins=240 100 eV  - 100 TeV\n",
      "\n",
      "muIoni:  for mu-  SubType=2\n",
      "      dE/dx and range tables from 100 eV  to 100 TeV in 240 bins\n",
      "      Lambda tables from threshold to 100 TeV, 20 bins/decade, spline: 1\n",
      "      StepFunction=(0.2, 0.05 mm), integ: 1, fluct: 1, linLossLim= 0.01\n",
      "      ===== EM models for the G4Region  DefaultRegionForTheWorld ======\n",
      "            ICRU73QO : Emin=    0 eV  Emax=  200 keV\n",
      "          BetheBloch : Emin=  200 keV Emax=    1 GeV\n",
      "        MuBetheBloch : Emin=    1 GeV Emax=  100 TeV\n",
      "\n",
      "muBrems:  for mu-  SubType=3\n",
      "      dE/dx and range tables from 100 eV  to 100 TeV in 240 bins\n",
      "      Lambda tables from threshold to 100 TeV, 20 bins/decade, spline: 1\n",
      "      ===== EM models for the G4Region  DefaultRegionForTheWorld ======\n",
      "              MuBrem : Emin=    0 eV  Emax=  100 TeV\n",
      "      ===== Limit on energy threshold has been applied \n",
      "\n",
      "muPairProd:  for mu-  SubType=4\n",
      "      dE/dx and range tables from 100 eV  to 100 TeV in 240 bins\n",
      "      Lambda tables from threshold to 100 TeV, 20 bins/decade, spline: 1\n",
      "      Sampling table 21x1001; from 1 GeV to 100 TeV \n",
      "      ===== EM models for the G4Region  DefaultRegionForTheWorld ======\n",
      "          muPairProd : Emin=    0 eV  Emax=  100 TeV\n",
      "\n",
      "CoulombScat:  for mu-, integral:1  applyCuts:1  SubType=1 BuildTable=1\n",
      "      Used Lambda table of mu+\n",
      "      ThetaMin(p) < Theta(degree) < 180; pLimit(GeV^1)= 0.139531\n",
      "      ===== EM models for the G4Region  DefaultRegionForTheWorld ======\n",
      "  eCoulombScattering : Emin=    0 eV  Emax=  100 TeV\n",
      "\n",
      "msc:  for pi+  SubType= 10\n",
      "      RangeFactor= 0.2, stepLimType: 0, latDisp: 1\n",
      "      ===== EM models for the G4Region  DefaultRegionForTheWorld ======\n",
      "        WentzelVIUni : Emin=    0 eV  Emax=  100 TeV Nbins=240 100 eV  - 100 TeV\n",
      "\n",
      "hIoni:  for pi+  SubType=2\n",
      "      dE/dx and range tables from 100 eV  to 100 TeV in 240 bins\n",
      "      Lambda tables from threshold to 100 TeV, 20 bins/decade, spline: 1\n",
      "      StepFunction=(0.2, 0.05 mm), integ: 1, fluct: 1, linLossLim= 0.01\n",
      "      ===== EM models for the G4Region  DefaultRegionForTheWorld ======\n",
      "               Bragg : Emin=    0 eV  Emax=297.505 keV\n",
      "          BetheBloch : Emin=297.505 keV Emax=  100 TeV\n",
      "\n",
      "hBrems:  for pi+  SubType=3\n",
      "      dE/dx and range tables from 100 eV  to 100 TeV in 240 bins\n",
      "      Lambda tables from threshold to 100 TeV, 20 bins/decade, spline: 1\n",
      "      ===== EM models for the G4Region  DefaultRegionForTheWorld ======\n",
      "               hBrem : Emin=    0 eV  Emax=  100 TeV\n",
      "      ===== Limit on energy threshold has been applied \n",
      "\n",
      "hPairProd:  for pi+  SubType=4\n",
      "      dE/dx and range tables from 100 eV  to 100 TeV in 240 bins\n",
      "      Lambda tables from threshold to 100 TeV, 20 bins/decade, spline: 1\n",
      "      Sampling table 20x1001; from 1.11656 GeV to 100 TeV \n",
      "      ===== EM models for the G4Region  DefaultRegionForTheWorld ======\n",
      "           hPairProd : Emin=    0 eV  Emax=  100 TeV\n",
      "\n",
      "CoulombScat:  for pi+, integral:1  applyCuts:1  SubType=1 BuildTable=1\n",
      "      Lambda table from threshold  to 100 TeV, 20 bins/decade, spline: 1\n",
      "      ThetaMin(p) < Theta(degree) < 180; pLimit(GeV^1)= 0.139531\n",
      "      ===== EM models for the G4Region  DefaultRegionForTheWorld ======\n",
      "  eCoulombScattering : Emin=    0 eV  Emax=  100 TeV\n",
      "\n",
      "msc:  for pi-  SubType= 10\n",
      "      RangeFactor= 0.2, stepLimType: 0, latDisp: 1\n",
      "      ===== EM models for the G4Region  DefaultRegionForTheWorld ======\n",
      "        WentzelVIUni : Emin=    0 eV  Emax=  100 TeV Nbins=240 100 eV  - 100 TeV\n"
     ]
    },
    {
     "name": "stdout",
     "output_type": "stream",
     "text": [
      "\n",
      "hIoni:  for pi-  SubType=2\n",
      "      dE/dx and range tables from 100 eV  to 100 TeV in 240 bins\n",
      "      Lambda tables from threshold to 100 TeV, 20 bins/decade, spline: 1\n",
      "      StepFunction=(0.2, 0.05 mm), integ: 1, fluct: 1, linLossLim= 0.01\n",
      "      ===== EM models for the G4Region  DefaultRegionForTheWorld ======\n",
      "            ICRU73QO : Emin=    0 eV  Emax=297.505 keV\n",
      "          BetheBloch : Emin=297.505 keV Emax=  100 TeV\n",
      "\n",
      "hBrems:  for pi-  SubType=3\n",
      "      dE/dx and range tables from 100 eV  to 100 TeV in 240 bins\n",
      "      Lambda tables from threshold to 100 TeV, 20 bins/decade, spline: 1\n",
      "      ===== EM models for the G4Region  DefaultRegionForTheWorld ======\n",
      "               hBrem : Emin=    0 eV  Emax=  100 TeV\n",
      "      ===== Limit on energy threshold has been applied \n",
      "\n",
      "hPairProd:  for pi-  SubType=4\n",
      "      dE/dx and range tables from 100 eV  to 100 TeV in 240 bins\n",
      "      Lambda tables from threshold to 100 TeV, 20 bins/decade, spline: 1\n",
      "      Sampling table 20x1001; from 1.11656 GeV to 100 TeV \n",
      "      ===== EM models for the G4Region  DefaultRegionForTheWorld ======\n",
      "           hPairProd : Emin=    0 eV  Emax=  100 TeV\n",
      "\n",
      "CoulombScat:  for pi-, integral:1  applyCuts:1  SubType=1 BuildTable=1\n",
      "      Used Lambda table of pi+\n",
      "      ThetaMin(p) < Theta(degree) < 180; pLimit(GeV^1)= 0.139531\n",
      "      ===== EM models for the G4Region  DefaultRegionForTheWorld ======\n",
      "  eCoulombScattering : Emin=    0 eV  Emax=  100 TeV\n",
      "G4VisManager: Using G4TrajectoryDrawByCharge as fallback trajectory model.\n",
      "See commands in /vis/modeling/trajectories/ for other options.\n",
      "\n",
      "### ===  Deexcitation model UAtomDeexcitation is activated for 7 regions:\n",
      "          DefaultRegionForTheWorld  1  1  1\n",
      "          cylindricalPET  1  1  1\n",
      "          head  1  1  1\n",
      "          block  1  1  1\n",
      "          crystal  1  1  1\n",
      "          LSO  1  1  1\n",
      "          BGO  1  1  1\n",
      "\n",
      "### === G4UAtomicDeexcitation::InitialiseForNewRun()\n",
      "### ===  Auger cascade flag: 1\n",
      "### ===  Ignore cuts flag:   0\n",
      "### ===  PIXE model for hadrons: Empirical\n",
      "### ===  PIXE model for e+-:     Penelope\n",
      "[Acquisition-0] Slice 1 from 1 to 2 s [slice=1 s]\n",
      "\n",
      "### ===  Deexcitation model UAtomDeexcitation is activated for 7 regions:\n",
      "          DefaultRegionForTheWorld  1  1  1\n",
      "          cylindricalPET  1  1  1\n",
      "          head  1  1  1\n",
      "          block  1  1  1\n",
      "          crystal  1  1  1\n",
      "          LSO  1  1  1\n",
      "          BGO  1  1  1\n",
      "\n",
      "### === G4UAtomicDeexcitation::InitialiseForNewRun()\n",
      "### ===  Auger cascade flag: 1\n",
      "### ===  Ignore cuts flag:   0\n",
      "### ===  PIXE model for hadrons: Empirical\n",
      "### ===  PIXE model for e+-:     Penelope\n",
      "[Acquisition-0] Slice 2 from 2 to 3 s [slice=1 s]\n",
      "\n",
      "### ===  Deexcitation model UAtomDeexcitation is activated for 7 regions:\n",
      "          DefaultRegionForTheWorld  1  1  1\n",
      "          cylindricalPET  1  1  1\n",
      "          head  1  1  1\n",
      "          block  1  1  1\n",
      "          crystal  1  1  1\n",
      "          LSO  1  1  1\n",
      "          BGO  1  1  1\n",
      "\n",
      "### === G4UAtomicDeexcitation::InitialiseForNewRun()\n",
      "### ===  Auger cascade flag: 1\n",
      "### ===  Ignore cuts flag:   0\n",
      "### ===  PIXE model for hadrons: Empirical\n",
      "### ===  PIXE model for e+-:     Penelope\n",
      "[Acquisition-0] Slice 3 from 3 to 4 s [slice=1 s]\n",
      "\n",
      "### ===  Deexcitation model UAtomDeexcitation is activated for 7 regions:\n",
      "          DefaultRegionForTheWorld  1  1  1\n",
      "          cylindricalPET  1  1  1\n",
      "          head  1  1  1\n",
      "          block  1  1  1\n",
      "          crystal  1  1  1\n",
      "          LSO  1  1  1\n",
      "          BGO  1  1  1\n",
      "\n",
      "### === G4UAtomicDeexcitation::InitialiseForNewRun()\n",
      "### ===  Auger cascade flag: 1\n",
      "### ===  Ignore cuts flag:   0\n",
      "### ===  PIXE model for hadrons: Empirical\n",
      "### ===  PIXE model for e+-:     Penelope\n",
      "[Acquisition-0] Slice 4 from 4 to 5 s [slice=1 s]\n",
      "\n",
      "### ===  Deexcitation model UAtomDeexcitation is activated for 7 regions:\n",
      "          DefaultRegionForTheWorld  1  1  1\n",
      "          cylindricalPET  1  1  1\n",
      "          head  1  1  1\n",
      "          block  1  1  1\n",
      "          crystal  1  1  1\n",
      "          LSO  1  1  1\n",
      "          BGO  1  1  1\n",
      "\n",
      "### === G4UAtomicDeexcitation::InitialiseForNewRun()\n",
      "### ===  Auger cascade flag: 1\n",
      "### ===  Ignore cuts flag:   0\n",
      "### ===  PIXE model for hadrons: Empirical\n",
      "### ===  PIXE model for e+-:     Penelope\n",
      "[Acquisition-0] Slice 5 from 5 to 6 s [slice=1 s]\n",
      "\n",
      "### ===  Deexcitation model UAtomDeexcitation is activated for 7 regions:\n",
      "          DefaultRegionForTheWorld  1  1  1\n",
      "          cylindricalPET  1  1  1\n",
      "          head  1  1  1\n",
      "          block  1  1  1\n",
      "          crystal  1  1  1\n",
      "          LSO  1  1  1\n",
      "          BGO  1  1  1\n",
      "\n",
      "### === G4UAtomicDeexcitation::InitialiseForNewRun()\n",
      "### ===  Auger cascade flag: 1\n",
      "### ===  Ignore cuts flag:   0\n",
      "### ===  PIXE model for hadrons: Empirical\n",
      "### ===  PIXE model for e+-:     Penelope\n",
      "[Acquisition-0] Slice 6 from 6 to 7 s [slice=1 s]\n",
      "\n",
      "### ===  Deexcitation model UAtomDeexcitation is activated for 7 regions:\n",
      "          DefaultRegionForTheWorld  1  1  1\n",
      "          cylindricalPET  1  1  1\n",
      "          head  1  1  1\n",
      "          block  1  1  1\n",
      "          crystal  1  1  1\n",
      "          LSO  1  1  1\n",
      "          BGO  1  1  1\n",
      "\n",
      "### === G4UAtomicDeexcitation::InitialiseForNewRun()\n",
      "### ===  Auger cascade flag: 1\n",
      "### ===  Ignore cuts flag:   0\n",
      "### ===  PIXE model for hadrons: Empirical\n",
      "### ===  PIXE model for e+-:     Penelope\n",
      "[Acquisition-0] Slice 7 from 7 to 8 s [slice=1 s]\n",
      "\n",
      "### ===  Deexcitation model UAtomDeexcitation is activated for 7 regions:\n",
      "          DefaultRegionForTheWorld  1  1  1\n",
      "          cylindricalPET  1  1  1\n",
      "          head  1  1  1\n",
      "          block  1  1  1\n",
      "          crystal  1  1  1\n",
      "          LSO  1  1  1\n",
      "          BGO  1  1  1\n",
      "\n",
      "### === G4UAtomicDeexcitation::InitialiseForNewRun()\n",
      "### ===  Auger cascade flag: 1\n",
      "### ===  Ignore cuts flag:   0\n",
      "### ===  PIXE model for hadrons: Empirical\n",
      "### ===  PIXE model for e+-:     Penelope\n",
      "[Acquisition-0] Slice 8 from 8 to 9 s [slice=1 s]\n",
      "\n",
      "### ===  Deexcitation model UAtomDeexcitation is activated for 7 regions:\n",
      "          DefaultRegionForTheWorld  1  1  1\n",
      "          cylindricalPET  1  1  1\n",
      "          head  1  1  1\n",
      "          block  1  1  1\n",
      "          crystal  1  1  1\n",
      "          LSO  1  1  1\n",
      "          BGO  1  1  1\n",
      "\n",
      "### === G4UAtomicDeexcitation::InitialiseForNewRun()\n",
      "### ===  Auger cascade flag: 1\n",
      "### ===  Ignore cuts flag:   0\n",
      "### ===  PIXE model for hadrons: Empirical\n",
      "### ===  PIXE model for e+-:     Penelope\n",
      "[Acquisition-0] Slice 9 from 9 to 10 s [slice=1 s]\n",
      "\n",
      "### ===  Deexcitation model UAtomDeexcitation is activated for 7 regions:\n",
      "          DefaultRegionForTheWorld  1  1  1\n",
      "          cylindricalPET  1  1  1\n",
      "          head  1  1  1\n",
      "          block  1  1  1\n",
      "          crystal  1  1  1\n",
      "          LSO  1  1  1\n",
      "          BGO  1  1  1\n",
      "\n",
      "### === G4UAtomicDeexcitation::InitialiseForNewRun()\n",
      "### ===  Auger cascade flag: 1\n",
      "### ===  Ignore cuts flag:   0\n",
      "### ===  PIXE model for hadrons: Empirical\n",
      "### ===  PIXE model for e+-:     Penelope\n",
      "[Core-0] End of macro PET_CylindricalPET_System.mac\n",
      "Graphics systems deleted.\n",
      "Visualization Manager deleting...\n"
     ]
    }
   ],
   "source": [
    "!Gate PET_CylindricalPET_System.mac"
   ]
  },
  {
   "cell_type": "code",
   "execution_count": 153,
   "metadata": {
    "ExecuteTime": {
     "end_time": "2020-03-11T07:17:38.361875Z",
     "start_time": "2020-03-11T07:17:38.189009Z"
    }
   },
   "outputs": [
    {
     "name": "stdout",
     "output_type": "stream",
     "text": [
      "total 93M\r\n",
      "-rw-rw-r--. 1 madupont madupont 4,5M 11 mars  07:39 p.CoincidencesBlurring.npy\r\n",
      "-rw-rw-r--. 1 madupont madupont 4,5M 11 mars  07:39 p.Coincidences.npy\r\n",
      "-rw-rw-r--. 1 madupont madupont  19M 11 mars  07:39 p.hits.npy\r\n",
      "-rw-rw-r--. 1 madupont madupont  26M 11 mars  07:39 p.SinglesBlurringNoise.npy\r\n",
      "-rw-rw-r--. 1 madupont madupont 5,2M 11 mars  07:39 p.SinglesBlurring.npy\r\n",
      "-rw-rw-r--. 1 madupont madupont  30M 11 mars  07:39 p.SinglesNoise.npy\r\n",
      "-rw-rw-r--. 1 madupont madupont 5,2M 11 mars  07:39 p.Singles.npy\r\n"
     ]
    }
   ],
   "source": [
    "ls -lh output/"
   ]
  },
  {
   "cell_type": "markdown",
   "metadata": {},
   "source": [
    "# Python work"
   ]
  },
  {
   "cell_type": "code",
   "execution_count": 69,
   "metadata": {
    "ExecuteTime": {
     "end_time": "2020-03-11T06:39:35.592382Z",
     "start_time": "2020-03-11T06:39:35.585707Z"
    }
   },
   "outputs": [],
   "source": [
    "import numpy as np\n",
    "import matplotlib.pyplot as plt"
   ]
  },
  {
   "cell_type": "code",
   "execution_count": 70,
   "metadata": {
    "ExecuteTime": {
     "end_time": "2020-03-11T06:39:35.858972Z",
     "start_time": "2020-03-11T06:39:35.849541Z"
    }
   },
   "outputs": [],
   "source": [
    "%matplotlib inline"
   ]
  },
  {
   "cell_type": "code",
   "execution_count": 71,
   "metadata": {
    "ExecuteTime": {
     "end_time": "2020-03-11T06:39:36.598809Z",
     "start_time": "2020-03-11T06:39:36.362559Z"
    }
   },
   "outputs": [],
   "source": [
    "hits = np.load('output/p.hits.npy')\n",
    "singles = np.load('output/p.Singles.npy')\n",
    "singlesBlurring = np.load('output/p.SinglesBlurring.npy')\n",
    "singlesNoise = np.load('output/p.SinglesNoise.npy')\n",
    "singlesBlurringNoise = np.load('output/p.SinglesBlurringNoise.npy')\n",
    "coincidences = np.load('output/p.Coincidences.npy')\n",
    "coincidencesBlurring = np.load('output/p.CoincidencesBlurring.npy')"
   ]
  },
  {
   "cell_type": "markdown",
   "metadata": {
    "ExecuteTime": {
     "end_time": "2020-03-10T18:49:53.788072Z",
     "start_time": "2020-03-10T18:49:53.785114Z"
    }
   },
   "source": [
    "# Draw a energy spectrum\n",
    "## For each data file\n",
    "\n",
    "Draw histograms of energy in each files, 2 histogram for coincidences"
   ]
  },
  {
   "cell_type": "code",
   "execution_count": null,
   "metadata": {},
   "outputs": [],
   "source": [
    "#do code here, do not override cell below"
   ]
  },
  {
   "cell_type": "code",
   "execution_count": 72,
   "metadata": {
    "ExecuteTime": {
     "end_time": "2020-03-11T06:39:44.549617Z",
     "start_time": "2020-03-11T06:39:38.761695Z"
    },
    "scrolled": false
   },
   "outputs": [
    {
     "data": {
      "text/plain": [
       "Text(0.5, 1.0, 'from CoincidencesBlurring2')"
      ]
     },
     "execution_count": 72,
     "metadata": {},
     "output_type": "execute_result"
    },
    {
     "data": {
      "image/png": "[encoded data removed]",
      "text/plain": [
       "<Figure size 432x288 with 1 Axes>"
      ]
     },
     "metadata": {
      "needs_background": "light"
     },
     "output_type": "display_data"
    },
    {
     "data": {
      "image/png": "[encoded data removed]",
      "text/plain": [
       "<Figure size 432x288 with 1 Axes>"
      ]
     },
     "metadata": {
      "needs_background": "light"
     },
     "output_type": "display_data"
    },
    {
     "data": {
      "image/png": "[encoded data removed]",
      "text/plain": [
       "<Figure size 432x288 with 1 Axes>"
      ]
     },
     "metadata": {
      "needs_background": "light"
     },
     "output_type": "display_data"
    },
    {
     "data": {
      "image/png": "[encoded data removed]",
      "text/plain": [
       "<Figure size 432x288 with 1 Axes>"
      ]
     },
     "metadata": {
      "needs_background": "light"
     },
     "output_type": "display_data"
    },
    {
     "data": {
      "image/png": "[encoded data removed]",
      "text/plain": [
       "<Figure size 432x288 with 1 Axes>"
      ]
     },
     "metadata": {
      "needs_background": "light"
     },
     "output_type": "display_data"
    },
    {
     "data": {
      "image/png": "[encoded data removed]",
      "text/plain": [
       "<Figure size 1080x288 with 2 Axes>"
      ]
     },
     "metadata": {
      "needs_background": "light"
     },
     "output_type": "display_data"
    },
    {
     "data": {
      "image/png": "[encoded data removed]",
      "text/plain": [
       "<Figure size 1080x288 with 2 Axes>"
      ]
     },
     "metadata": {
      "needs_background": "light"
     },
     "output_type": "display_data"
    }
   ],
   "source": []
  },
  {
   "cell_type": "markdown",
   "metadata": {},
   "source": [
    "Can you explain shape of energy coincidences ? "
   ]
  },
  {
   "cell_type": "markdown",
   "metadata": {},
   "source": [
    "## By layerID for singles\n",
    "\n",
    "Draw histogram by layerID in Singles\n",
    "\n"
   ]
  },
  {
   "cell_type": "code",
   "execution_count": null,
   "metadata": {},
   "outputs": [],
   "source": [
    "#do code here, do not override cell below"
   ]
  },
  {
   "cell_type": "code",
   "execution_count": 73,
   "metadata": {
    "ExecuteTime": {
     "end_time": "2020-03-11T06:39:49.361545Z",
     "start_time": "2020-03-11T06:39:48.041641Z"
    }
   },
   "outputs": [
    {
     "data": {
      "image/png": "[encoded data removed]",
      "text/plain": [
       "<Figure size 1080x288 with 2 Axes>"
      ]
     },
     "metadata": {
      "needs_background": "light"
     },
     "output_type": "display_data"
    }
   ],
   "source": []
  },
  {
   "cell_type": "markdown",
   "metadata": {},
   "source": [
    "# Display all processes\n",
    "\n",
    "## intro\n",
    "\n",
    "Goal: Dispplay list of processes and number of occurences\n",
    "\n"
   ]
  },
  {
   "cell_type": "markdown",
   "metadata": {},
   "source": [
    "Hint: start with dictionnay, after with default dict, and finally with Counter"
   ]
  },
  {
   "cell_type": "code",
   "execution_count": 93,
   "metadata": {
    "ExecuteTime": {
     "end_time": "2020-03-11T06:47:53.545610Z",
     "start_time": "2020-03-11T06:47:53.538880Z"
    }
   },
   "outputs": [],
   "source": [
    "ps = hits['processName']"
   ]
  },
  {
   "cell_type": "markdown",
   "metadata": {},
   "source": [
    "### With dict"
   ]
  },
  {
   "cell_type": "code",
   "execution_count": null,
   "metadata": {},
   "outputs": [],
   "source": [
    "#do code here, do not override cell below"
   ]
  },
  {
   "cell_type": "code",
   "execution_count": 97,
   "metadata": {
    "ExecuteTime": {
     "end_time": "2020-03-11T06:48:44.170104Z",
     "start_time": "2020-03-11T06:48:44.161187Z"
    }
   },
   "outputs": [
    {
     "data": {
      "text/plain": [
       "{b'compt': 29853,\n",
       " b'Rayl': 3664,\n",
       " b'phot': 30352,\n",
       " b'msc': 3302,\n",
       " b'eIoni': 100,\n",
       " b'Transportation': 38,\n",
       " b'eBrem': 1}"
      ]
     },
     "execution_count": 97,
     "metadata": {},
     "output_type": "execute_result"
    }
   ],
   "source": [
    "d"
   ]
  },
  {
   "cell_type": "markdown",
   "metadata": {},
   "source": [
    "### With defaultdict"
   ]
  },
  {
   "cell_type": "code",
   "execution_count": 98,
   "metadata": {
    "ExecuteTime": {
     "end_time": "2020-03-11T06:49:02.577691Z",
     "start_time": "2020-03-11T06:49:02.571939Z"
    }
   },
   "outputs": [],
   "source": [
    "from collections import defaultdict"
   ]
  },
  {
   "cell_type": "code",
   "execution_count": null,
   "metadata": {},
   "outputs": [],
   "source": [
    "#do code here, do not override cell below"
   ]
  },
  {
   "cell_type": "code",
   "execution_count": 96,
   "metadata": {
    "ExecuteTime": {
     "end_time": "2020-03-11T06:48:43.631408Z",
     "start_time": "2020-03-11T06:48:43.563091Z"
    }
   },
   "outputs": [],
   "source": [
    "\n",
    "    "
   ]
  },
  {
   "cell_type": "code",
   "execution_count": 102,
   "metadata": {
    "ExecuteTime": {
     "end_time": "2020-03-11T06:49:35.027291Z",
     "start_time": "2020-03-11T06:49:35.018859Z"
    }
   },
   "outputs": [
    {
     "data": {
      "text/plain": [
       "defaultdict(int,\n",
       "            {b'compt': 29853,\n",
       "             b'Rayl': 3664,\n",
       "             b'phot': 30352,\n",
       "             b'msc': 3302,\n",
       "             b'eIoni': 100,\n",
       "             b'Transportation': 38,\n",
       "             b'eBrem': 1})"
      ]
     },
     "execution_count": 102,
     "metadata": {},
     "output_type": "execute_result"
    }
   ],
   "source": [
    "d"
   ]
  },
  {
   "cell_type": "markdown",
   "metadata": {},
   "source": [
    "### with counter\n",
    "\n",
    "Hint: Use Counter"
   ]
  },
  {
   "cell_type": "code",
   "execution_count": 154,
   "metadata": {
    "ExecuteTime": {
     "end_time": "2020-03-11T07:18:55.165131Z",
     "start_time": "2020-03-11T07:18:55.158772Z"
    }
   },
   "outputs": [],
   "source": [
    "from collections import Counter\n"
   ]
  },
  {
   "cell_type": "code",
   "execution_count": null,
   "metadata": {},
   "outputs": [],
   "source": [
    "#do code here, do not override cell below"
   ]
  },
  {
   "cell_type": "code",
   "execution_count": 155,
   "metadata": {
    "ExecuteTime": {
     "end_time": "2020-03-11T07:18:56.386711Z",
     "start_time": "2020-03-11T07:18:56.340796Z"
    }
   },
   "outputs": [],
   "source": []
  },
  {
   "cell_type": "code",
   "execution_count": 75,
   "metadata": {
    "ExecuteTime": {
     "end_time": "2020-03-11T06:39:50.697961Z",
     "start_time": "2020-03-11T06:39:50.681989Z"
    },
    "scrolled": true
   },
   "outputs": [
    {
     "name": "stdout",
     "output_type": "stream",
     "text": [
      "there are  29853   compt\n",
      "there are  3664   Rayl\n",
      "there are  30352   phot\n",
      "there are  3302   msc\n",
      "there are  100   eIoni\n",
      "there are  38   Transportation\n",
      "there are  1   eBrem\n"
     ]
    }
   ],
   "source": []
  },
  {
   "cell_type": "code",
   "execution_count": 76,
   "metadata": {
    "ExecuteTime": {
     "end_time": "2020-03-11T06:39:51.156651Z",
     "start_time": "2020-03-11T06:39:51.150385Z"
    }
   },
   "outputs": [],
   "source": []
  },
  {
   "cell_type": "code",
   "execution_count": null,
   "metadata": {},
   "outputs": [],
   "source": [
    "#do code here, do not override cell below"
   ]
  },
  {
   "cell_type": "code",
   "execution_count": 77,
   "metadata": {
    "ExecuteTime": {
     "end_time": "2020-03-11T06:39:51.807232Z",
     "start_time": "2020-03-11T06:39:51.541286Z"
    }
   },
   "outputs": [
    {
     "data": {
      "text/plain": [
       "[None, None, None, None, None, None, None]"
      ]
     },
     "execution_count": 77,
     "metadata": {},
     "output_type": "execute_result"
    },
    {
     "data": {
      "image/png": "[encoded data removed]",
      "text/plain": [
       "<Figure size 432x288 with 1 Axes>"
      ]
     },
     "metadata": {
      "needs_background": "light"
     },
     "output_type": "display_data"
    }
   ],
   "source": []
  },
  {
   "cell_type": "markdown",
   "metadata": {
    "ExecuteTime": {
     "end_time": "2020-03-10T22:43:18.472740Z",
     "start_time": "2020-03-10T22:43:18.469270Z"
    }
   },
   "source": [
    "### with numpy\n",
    "\n",
    "Hint, use np.unique"
   ]
  },
  {
   "cell_type": "code",
   "execution_count": null,
   "metadata": {},
   "outputs": [],
   "source": [
    "#do code here, do not override cell below"
   ]
  },
  {
   "cell_type": "code",
   "execution_count": 78,
   "metadata": {
    "ExecuteTime": {
     "end_time": "2020-03-11T06:39:52.921943Z",
     "start_time": "2020-03-11T06:39:52.854782Z"
    }
   },
   "outputs": [
    {
     "data": {
      "text/plain": [
       "(array([b'Rayl', b'Transportation', b'compt', b'eBrem', b'eIoni', b'msc',\n",
       "        b'phot'], dtype='|S32'),\n",
       " array([ 3664,    38, 29853,     1,   100,  3302, 30352]))"
      ]
     },
     "execution_count": 78,
     "metadata": {},
     "output_type": "execute_result"
    }
   ],
   "source": []
  },
  {
   "cell_type": "code",
   "execution_count": 79,
   "metadata": {
    "ExecuteTime": {
     "end_time": "2020-03-11T06:39:53.504165Z",
     "start_time": "2020-03-11T06:39:53.434643Z"
    }
   },
   "outputs": [],
   "source": []
  },
  {
   "cell_type": "code",
   "execution_count": 80,
   "metadata": {
    "ExecuteTime": {
     "end_time": "2020-03-11T06:39:54.234688Z",
     "start_time": "2020-03-11T06:39:54.219049Z"
    }
   },
   "outputs": [
    {
     "name": "stdout",
     "output_type": "stream",
     "text": [
      "there are  3664   Rayl\n",
      "there are  38   Transportation\n",
      "there are  29853   compt\n",
      "there are  1   eBrem\n",
      "there are  100   eIoni\n",
      "there are  3302   msc\n",
      "there are  30352   phot\n"
     ]
    }
   ],
   "source": []
  },
  {
   "cell_type": "markdown",
   "metadata": {},
   "source": [
    "### Draw energy spectrum for photoelectric effect"
   ]
  },
  {
   "cell_type": "code",
   "execution_count": null,
   "metadata": {},
   "outputs": [],
   "source": [
    "#do code here, do not override cell below"
   ]
  },
  {
   "cell_type": "code",
   "execution_count": 81,
   "metadata": {
    "ExecuteTime": {
     "end_time": "2020-03-11T06:39:55.884636Z",
     "start_time": "2020-03-11T06:39:55.515481Z"
    }
   },
   "outputs": [
    {
     "data": {
      "image/png": "[encoded data removed]",
      "text/plain": [
       "<Figure size 432x288 with 1 Axes>"
      ]
     },
     "metadata": {
      "needs_background": "light"
     },
     "output_type": "display_data"
    }
   ],
   "source": []
  },
  {
   "cell_type": "markdown",
   "metadata": {},
   "source": [
    "## energy spectrum for each process"
   ]
  },
  {
   "cell_type": "code",
   "execution_count": null,
   "metadata": {},
   "outputs": [],
   "source": [
    "#do code here, do not override cell below"
   ]
  },
  {
   "cell_type": "code",
   "execution_count": 82,
   "metadata": {
    "ExecuteTime": {
     "end_time": "2020-03-11T06:39:59.355606Z",
     "start_time": "2020-03-11T06:39:57.161822Z"
    },
    "scrolled": false
   },
   "outputs": [
    {
     "data": {
      "image/png": "[encoded data removed]",
      "text/plain": [
       "<Figure size 432x288 with 1 Axes>"
      ]
     },
     "metadata": {
      "needs_background": "light"
     },
     "output_type": "display_data"
    },
    {
     "data": {
      "image/png": "[encoded data removed]",
      "text/plain": [
       "<Figure size 432x288 with 1 Axes>"
      ]
     },
     "metadata": {
      "needs_background": "light"
     },
     "output_type": "display_data"
    },
    {
     "data": {
      "image/png": "[encoded data removed]",
      "text/plain": [
       "<Figure size 432x288 with 1 Axes>"
      ]
     },
     "metadata": {
      "needs_background": "light"
     },
     "output_type": "display_data"
    },
    {
     "data": {
      "image/png": "[encoded data removed]",
      "text/plain": [
       "<Figure size 432x288 with 1 Axes>"
      ]
     },
     "metadata": {
      "needs_background": "light"
     },
     "output_type": "display_data"
    },
    {
     "data": {
      "image/png": "[encoded data removed]",
      "text/plain": [
       "<Figure size 432x288 with 1 Axes>"
      ]
     },
     "metadata": {
      "needs_background": "light"
     },
     "output_type": "display_data"
    },
    {
     "data": {
      "image/png": "[encoded data removed]",
      "text/plain": [
       "<Figure size 432x288 with 1 Axes>"
      ]
     },
     "metadata": {
      "needs_background": "light"
     },
     "output_type": "display_data"
    },
    {
     "data": {
      "image/png": "[encoded data removed]",
      "text/plain": [
       "<Figure size 432x288 with 1 Axes>"
      ]
     },
     "metadata": {
      "needs_background": "light"
     },
     "output_type": "display_data"
    }
   ],
   "source": []
  },
  {
   "cell_type": "markdown",
   "metadata": {},
   "source": [
    "## Stacked histogram of energy by process"
   ]
  },
  {
   "cell_type": "code",
   "execution_count": null,
   "metadata": {},
   "outputs": [],
   "source": [
    "#do code here, do not override cell below"
   ]
  },
  {
   "cell_type": "code",
   "execution_count": 83,
   "metadata": {
    "ExecuteTime": {
     "end_time": "2020-03-11T06:40:08.301216Z",
     "start_time": "2020-03-11T06:40:08.256339Z"
    }
   },
   "outputs": [],
   "source": []
  },
  {
   "cell_type": "code",
   "execution_count": 84,
   "metadata": {
    "ExecuteTime": {
     "end_time": "2020-03-11T06:40:10.976065Z",
     "start_time": "2020-03-11T06:40:08.779690Z"
    }
   },
   "outputs": [
    {
     "data": {
      "image/png": "[encoded data removed]",
      "text/plain": [
       "<Figure size 1080x720 with 1 Axes>"
      ]
     },
     "metadata": {
      "needs_background": "light"
     },
     "output_type": "display_data"
    }
   ],
   "source": [
    "\n"
   ]
  },
  {
   "cell_type": "markdown",
   "metadata": {},
   "source": [
    "## Multiple transparent histogram of energy by process"
   ]
  },
  {
   "cell_type": "code",
   "execution_count": null,
   "metadata": {},
   "outputs": [],
   "source": [
    "#do code here, do not override cell below"
   ]
  },
  {
   "cell_type": "code",
   "execution_count": 85,
   "metadata": {
    "ExecuteTime": {
     "end_time": "2020-03-11T06:40:17.299773Z",
     "start_time": "2020-03-11T06:40:15.156701Z"
    }
   },
   "outputs": [
    {
     "data": {
      "image/png": "[encoded data removed]",
      "text/plain": [
       "<Figure size 1080x720 with 1 Axes>"
      ]
     },
     "metadata": {
      "needs_background": "light"
     },
     "output_type": "display_data"
    }
   ],
   "source": []
  },
  {
   "cell_type": "markdown",
   "metadata": {},
   "source": [
    "## Stacked histogram with bar plot (optional)"
   ]
  },
  {
   "cell_type": "code",
   "execution_count": null,
   "metadata": {},
   "outputs": [],
   "source": [
    "#do code here, do not override cell below"
   ]
  },
  {
   "cell_type": "code",
   "execution_count": 86,
   "metadata": {
    "ExecuteTime": {
     "end_time": "2020-03-11T06:40:21.343486Z",
     "start_time": "2020-03-11T06:40:19.038241Z"
    }
   },
   "outputs": [
    {
     "data": {
      "image/png": "[encoded data removed]",
      "text/plain": [
       "<Figure size 1080x720 with 1 Axes>"
      ]
     },
     "metadata": {
      "needs_background": "light"
     },
     "output_type": "display_data"
    }
   ],
   "source": []
  },
  {
   "cell_type": "markdown",
   "metadata": {},
   "source": [
    "# Compute energy singles from hits\n",
    "## How to regroup hits ? "
   ]
  },
  {
   "cell_type": "code",
   "execution_count": 88,
   "metadata": {
    "ExecuteTime": {
     "end_time": "2020-03-11T06:41:10.766132Z",
     "start_time": "2020-03-11T06:41:10.757998Z"
    }
   },
   "outputs": [
    {
     "data": {
      "text/plain": [
       "33447"
      ]
     },
     "execution_count": 88,
     "metadata": {},
     "output_type": "execute_result"
    }
   ],
   "source": [
    "singles.size"
   ]
  },
  {
   "cell_type": "code",
   "execution_count": 87,
   "metadata": {
    "ExecuteTime": {
     "end_time": "2020-03-11T06:41:10.170717Z",
     "start_time": "2020-03-11T06:41:10.008327Z"
    }
   },
   "outputs": [
    {
     "data": {
      "text/plain": [
       "33447"
      ]
     },
     "execution_count": 87,
     "metadata": {},
     "output_type": "execute_result"
    }
   ],
   "source": []
  },
  {
   "cell_type": "markdown",
   "metadata": {},
   "source": [
    "In following section, fill lEnergy "
   ]
  },
  {
   "cell_type": "markdown",
   "metadata": {},
   "source": [
    "## Naïve way with numpy"
   ]
  },
  {
   "cell_type": "code",
   "execution_count": null,
   "metadata": {},
   "outputs": [],
   "source": [
    "#do code here, do not override cell below"
   ]
  },
  {
   "cell_type": "code",
   "execution_count": 119,
   "metadata": {
    "ExecuteTime": {
     "end_time": "2020-03-11T06:57:45.454599Z",
     "start_time": "2020-03-11T06:57:44.096747Z"
    }
   },
   "outputs": [
    {
     "data": {
      "image/png": "[encoded data removed]",
      "text/plain": [
       "<Figure size 1080x288 with 2 Axes>"
      ]
     },
     "metadata": {
      "needs_background": "light"
     },
     "output_type": "display_data"
    }
   ],
   "source": [
    "plt.figure(figsize=(15,4))\n",
    "plt.subplot(1,2,1)\n",
    "\n",
    "plt.hist(lEnergy, bins=50);\n",
    "plt.yscale('log')\n",
    "plt.title(\"regrouped hit\")\n",
    "plt.subplot(1,2,2)\n",
    "\n",
    "plt.hist(singles['energy'], bins=50);\n",
    "plt.title(\"singles\")\n",
    "plt.yscale('log')"
   ]
  },
  {
   "cell_type": "markdown",
   "metadata": {},
   "source": [
    "## trivial way with python\n",
    "\n",
    "hint: draw me like a root histogram   "
   ]
  },
  {
   "cell_type": "code",
   "execution_count": null,
   "metadata": {},
   "outputs": [],
   "source": [
    "#do code here, do not override cell below"
   ]
  },
  {
   "cell_type": "code",
   "execution_count": 117,
   "metadata": {
    "ExecuteTime": {
     "end_time": "2020-03-11T06:57:05.330380Z",
     "start_time": "2020-03-11T06:57:03.963123Z"
    }
   },
   "outputs": [
    {
     "data": {
      "image/png": "[encoded data removed]",
      "text/plain": [
       "<Figure size 1080x288 with 2 Axes>"
      ]
     },
     "metadata": {
      "needs_background": "light"
     },
     "output_type": "display_data"
    }
   ],
   "source": [
    "plt.figure(figsize=(15,4))\n",
    "plt.subplot(1,2,1)\n",
    "\n",
    "plt.hist(lEnergy, bins=50);\n",
    "plt.yscale('log')\n",
    "plt.title(\"regrouped hit\")\n",
    "plt.subplot(1,2,2)\n",
    "\n",
    "plt.hist(singles['energy'], bins=50);\n",
    "plt.title(\"singles\")\n",
    "plt.yscale('log')"
   ]
  },
  {
   "cell_type": "markdown",
   "metadata": {},
   "source": [
    "## use dictionnary with python\n",
    "\n",
    "Hint: use defaultdict"
   ]
  },
  {
   "cell_type": "code",
   "execution_count": null,
   "metadata": {},
   "outputs": [],
   "source": [
    "from collections import defaultdict"
   ]
  },
  {
   "cell_type": "code",
   "execution_count": null,
   "metadata": {},
   "outputs": [],
   "source": [
    "#do code here, do not override cell below"
   ]
  },
  {
   "cell_type": "code",
   "execution_count": 104,
   "metadata": {
    "ExecuteTime": {
     "end_time": "2020-03-11T06:50:51.841412Z",
     "start_time": "2020-03-11T06:50:51.104894Z"
    }
   },
   "outputs": [],
   "source": []
  },
  {
   "cell_type": "code",
   "execution_count": 116,
   "metadata": {
    "ExecuteTime": {
     "end_time": "2020-03-11T06:56:51.443360Z",
     "start_time": "2020-03-11T06:56:50.009917Z"
    }
   },
   "outputs": [
    {
     "data": {
      "image/png": "[encoded data removed]",
      "text/plain": [
       "<Figure size 1080x288 with 2 Axes>"
      ]
     },
     "metadata": {
      "needs_background": "light"
     },
     "output_type": "display_data"
    }
   ],
   "source": [
    "plt.figure(figsize=(15,4))\n",
    "plt.subplot(1,2,1)\n",
    "\n",
    "plt.hist(lEnergy, bins=50);\n",
    "plt.yscale('log')\n",
    "plt.title(\"regrouped hit\")\n",
    "plt.subplot(1,2,2)\n",
    "\n",
    "plt.hist(singles['energy'], bins=50);\n",
    "plt.title(\"singles\")\n",
    "plt.yscale('log')"
   ]
  },
  {
   "cell_type": "markdown",
   "metadata": {},
   "source": [
    "## Tricky way with np.bincount (just for fun, performed by trained professionals, don't try this at home)"
   ]
  },
  {
   "cell_type": "code",
   "execution_count": 107,
   "metadata": {
    "ExecuteTime": {
     "end_time": "2020-03-11T06:53:42.315658Z",
     "start_time": "2020-03-11T06:53:42.305720Z"
    }
   },
   "outputs": [
    {
     "data": {
      "text/plain": [
       "10034"
      ]
     },
     "execution_count": 107,
     "metadata": {},
     "output_type": "execute_result"
    }
   ],
   "source": []
  },
  {
   "cell_type": "code",
   "execution_count": 108,
   "metadata": {
    "ExecuteTime": {
     "end_time": "2020-03-11T06:53:42.838273Z",
     "start_time": "2020-03-11T06:53:42.827402Z"
    }
   },
   "outputs": [],
   "source": []
  },
  {
   "cell_type": "code",
   "execution_count": 110,
   "metadata": {
    "ExecuteTime": {
     "end_time": "2020-03-11T06:54:45.965265Z",
     "start_time": "2020-03-11T06:54:45.826842Z"
    }
   },
   "outputs": [],
   "source": []
  },
  {
   "cell_type": "code",
   "execution_count": 111,
   "metadata": {
    "ExecuteTime": {
     "end_time": "2020-03-11T06:55:21.293795Z",
     "start_time": "2020-03-11T06:55:21.106525Z"
    }
   },
   "outputs": [],
   "source": []
  },
  {
   "cell_type": "code",
   "execution_count": 115,
   "metadata": {
    "ExecuteTime": {
     "end_time": "2020-03-11T06:56:38.606885Z",
     "start_time": "2020-03-11T06:56:37.229488Z"
    }
   },
   "outputs": [
    {
     "data": {
      "image/png": "[encoded data removed]",
      "text/plain": [
       "<Figure size 1080x288 with 2 Axes>"
      ]
     },
     "metadata": {
      "needs_background": "light"
     },
     "output_type": "display_data"
    }
   ],
   "source": [
    "plt.figure(figsize=(15,4))\n",
    "plt.subplot(1,2,1)\n",
    "\n",
    "plt.hist(lEnergy, bins=50);\n",
    "plt.yscale('log')\n",
    "plt.title(\"regrouped hit\")\n",
    "plt.subplot(1,2,2)\n",
    "\n",
    "plt.hist(singles['energy'], bins=50);\n",
    "plt.title(\"singles\")\n",
    "plt.yscale('log')"
   ]
  },
  {
   "cell_type": "markdown",
   "metadata": {},
   "source": [
    "# With Pandas\n",
    "\n",
    "## Introduction do pandas"
   ]
  },
  {
   "cell_type": "code",
   "execution_count": 121,
   "metadata": {
    "ExecuteTime": {
     "end_time": "2020-03-11T06:59:36.294776Z",
     "start_time": "2020-03-11T06:59:35.909848Z"
    }
   },
   "outputs": [],
   "source": [
    "import pandas as pd"
   ]
  },
  {
   "cell_type": "code",
   "execution_count": 122,
   "metadata": {
    "ExecuteTime": {
     "end_time": "2020-03-11T06:59:37.003440Z",
     "start_time": "2020-03-11T06:59:36.840608Z"
    }
   },
   "outputs": [],
   "source": [
    "dfhits = pd.DataFrame(hits)\n",
    "dfsingles = pd.DataFrame(singles)"
   ]
  },
  {
   "cell_type": "code",
   "execution_count": null,
   "metadata": {},
   "outputs": [],
   "source": [
    "#do code here, do not override cell below"
   ]
  },
  {
   "cell_type": "code",
   "execution_count": 159,
   "metadata": {
    "ExecuteTime": {
     "end_time": "2020-03-11T07:23:16.234491Z",
     "start_time": "2020-03-11T07:23:16.188970Z"
    },
    "scrolled": true
   },
   "outputs": [
    {
     "data": {
      "text/html": [
       "<div>\n",
       "<style scoped>\n",
       "    .dataframe tbody tr th:only-of-type {\n",
       "        vertical-align: middle;\n",
       "    }\n",
       "\n",
       "    .dataframe tbody tr th {\n",
       "        vertical-align: top;\n",
       "    }\n",
       "\n",
       "    .dataframe thead th {\n",
       "        text-align: right;\n",
       "    }\n",
       "</style>\n",
       "<table border=\"1\" class=\"dataframe\">\n",
       "  <thead>\n",
       "    <tr style=\"text-align: right;\">\n",
       "      <th></th>\n",
       "      <th>PDGEncoding</th>\n",
       "      <th>trackID</th>\n",
       "      <th>parentID</th>\n",
       "      <th>trackLocalTime</th>\n",
       "      <th>time</th>\n",
       "      <th>runID</th>\n",
       "      <th>eventID</th>\n",
       "      <th>sourceID</th>\n",
       "      <th>primaryID</th>\n",
       "      <th>posX</th>\n",
       "      <th>...</th>\n",
       "      <th>nCrystalCompton</th>\n",
       "      <th>nPhantomRayleigh</th>\n",
       "      <th>nCrystalRayleigh</th>\n",
       "      <th>gantryID</th>\n",
       "      <th>rsectorID</th>\n",
       "      <th>moduleID</th>\n",
       "      <th>submoduleID</th>\n",
       "      <th>crystalID</th>\n",
       "      <th>layerID</th>\n",
       "      <th>photonID</th>\n",
       "    </tr>\n",
       "  </thead>\n",
       "  <tbody>\n",
       "    <tr>\n",
       "      <td>0</td>\n",
       "      <td>22</td>\n",
       "      <td>1</td>\n",
       "      <td>0</td>\n",
       "      <td>1.582077e-09</td>\n",
       "      <td>0.001385</td>\n",
       "      <td>0</td>\n",
       "      <td>6</td>\n",
       "      <td>0</td>\n",
       "      <td>1</td>\n",
       "      <td>453.044708</td>\n",
       "      <td>...</td>\n",
       "      <td>1</td>\n",
       "      <td>0</td>\n",
       "      <td>0</td>\n",
       "      <td>0</td>\n",
       "      <td>0</td>\n",
       "      <td>262</td>\n",
       "      <td>0</td>\n",
       "      <td>17</td>\n",
       "      <td>1</td>\n",
       "      <td>2</td>\n",
       "    </tr>\n",
       "    <tr>\n",
       "      <td>1</td>\n",
       "      <td>22</td>\n",
       "      <td>2</td>\n",
       "      <td>0</td>\n",
       "      <td>1.566900e-09</td>\n",
       "      <td>0.001497</td>\n",
       "      <td>0</td>\n",
       "      <td>8</td>\n",
       "      <td>0</td>\n",
       "      <td>2</td>\n",
       "      <td>-434.745911</td>\n",
       "      <td>...</td>\n",
       "      <td>1</td>\n",
       "      <td>0</td>\n",
       "      <td>0</td>\n",
       "      <td>0</td>\n",
       "      <td>2</td>\n",
       "      <td>30</td>\n",
       "      <td>0</td>\n",
       "      <td>4</td>\n",
       "      <td>0</td>\n",
       "      <td>1</td>\n",
       "    </tr>\n",
       "    <tr>\n",
       "      <td>2</td>\n",
       "      <td>22</td>\n",
       "      <td>2</td>\n",
       "      <td>0</td>\n",
       "      <td>1.574045e-09</td>\n",
       "      <td>0.001497</td>\n",
       "      <td>0</td>\n",
       "      <td>8</td>\n",
       "      <td>0</td>\n",
       "      <td>2</td>\n",
       "      <td>-436.466370</td>\n",
       "      <td>...</td>\n",
       "      <td>2</td>\n",
       "      <td>0</td>\n",
       "      <td>0</td>\n",
       "      <td>0</td>\n",
       "      <td>2</td>\n",
       "      <td>30</td>\n",
       "      <td>0</td>\n",
       "      <td>4</td>\n",
       "      <td>0</td>\n",
       "      <td>1</td>\n",
       "    </tr>\n",
       "    <tr>\n",
       "      <td>3</td>\n",
       "      <td>22</td>\n",
       "      <td>2</td>\n",
       "      <td>0</td>\n",
       "      <td>1.637349e-09</td>\n",
       "      <td>0.001497</td>\n",
       "      <td>0</td>\n",
       "      <td>8</td>\n",
       "      <td>0</td>\n",
       "      <td>2</td>\n",
       "      <td>-446.828217</td>\n",
       "      <td>...</td>\n",
       "      <td>2</td>\n",
       "      <td>0</td>\n",
       "      <td>1</td>\n",
       "      <td>0</td>\n",
       "      <td>2</td>\n",
       "      <td>30</td>\n",
       "      <td>0</td>\n",
       "      <td>15</td>\n",
       "      <td>1</td>\n",
       "      <td>1</td>\n",
       "    </tr>\n",
       "    <tr>\n",
       "      <td>4</td>\n",
       "      <td>22</td>\n",
       "      <td>2</td>\n",
       "      <td>0</td>\n",
       "      <td>1.666782e-09</td>\n",
       "      <td>0.001497</td>\n",
       "      <td>0</td>\n",
       "      <td>8</td>\n",
       "      <td>0</td>\n",
       "      <td>2</td>\n",
       "      <td>-454.623962</td>\n",
       "      <td>...</td>\n",
       "      <td>2</td>\n",
       "      <td>0</td>\n",
       "      <td>1</td>\n",
       "      <td>0</td>\n",
       "      <td>2</td>\n",
       "      <td>29</td>\n",
       "      <td>0</td>\n",
       "      <td>19</td>\n",
       "      <td>1</td>\n",
       "      <td>1</td>\n",
       "    </tr>\n",
       "  </tbody>\n",
       "</table>\n",
       "<p>5 rows × 50 columns</p>\n",
       "</div>"
      ],
      "text/plain": [
       "   PDGEncoding  trackID  parentID  trackLocalTime      time  runID  eventID  \\\n",
       "0           22        1         0    1.582077e-09  0.001385      0        6   \n",
       "1           22        2         0    1.566900e-09  0.001497      0        8   \n",
       "2           22        2         0    1.574045e-09  0.001497      0        8   \n",
       "3           22        2         0    1.637349e-09  0.001497      0        8   \n",
       "4           22        2         0    1.666782e-09  0.001497      0        8   \n",
       "\n",
       "   sourceID  primaryID        posX  ...  nCrystalCompton  nPhantomRayleigh  \\\n",
       "0         0          1  453.044708  ...                1                 0   \n",
       "1         0          2 -434.745911  ...                1                 0   \n",
       "2         0          2 -436.466370  ...                2                 0   \n",
       "3         0          2 -446.828217  ...                2                 0   \n",
       "4         0          2 -454.623962  ...                2                 0   \n",
       "\n",
       "   nCrystalRayleigh  gantryID  rsectorID  moduleID  submoduleID  crystalID  \\\n",
       "0                 0         0          0       262            0         17   \n",
       "1                 0         0          2        30            0          4   \n",
       "2                 0         0          2        30            0          4   \n",
       "3                 1         0          2        30            0         15   \n",
       "4                 1         0          2        29            0         19   \n",
       "\n",
       "   layerID  photonID  \n",
       "0        1         2  \n",
       "1        0         1  \n",
       "2        0         1  \n",
       "3        1         1  \n",
       "4        1         1  \n",
       "\n",
       "[5 rows x 50 columns]"
      ]
     },
     "execution_count": 159,
     "metadata": {},
     "output_type": "execute_result"
    }
   ],
   "source": []
  },
  {
   "cell_type": "code",
   "execution_count": null,
   "metadata": {},
   "outputs": [],
   "source": [
    "#do code here, do not override cell below"
   ]
  },
  {
   "cell_type": "code",
   "execution_count": 160,
   "metadata": {
    "ExecuteTime": {
     "end_time": "2020-03-11T07:23:52.919480Z",
     "start_time": "2020-03-11T07:23:52.654773Z"
    },
    "scrolled": true
   },
   "outputs": [
    {
     "data": {
      "text/html": [
       "<div>\n",
       "<style scoped>\n",
       "    .dataframe tbody tr th:only-of-type {\n",
       "        vertical-align: middle;\n",
       "    }\n",
       "\n",
       "    .dataframe tbody tr th {\n",
       "        vertical-align: top;\n",
       "    }\n",
       "\n",
       "    .dataframe thead th {\n",
       "        text-align: right;\n",
       "    }\n",
       "</style>\n",
       "<table border=\"1\" class=\"dataframe\">\n",
       "  <thead>\n",
       "    <tr style=\"text-align: right;\">\n",
       "      <th></th>\n",
       "      <th>PDGEncoding</th>\n",
       "      <th>trackID</th>\n",
       "      <th>parentID</th>\n",
       "      <th>trackLocalTime</th>\n",
       "      <th>time</th>\n",
       "      <th>runID</th>\n",
       "      <th>eventID</th>\n",
       "      <th>sourceID</th>\n",
       "      <th>primaryID</th>\n",
       "      <th>posX</th>\n",
       "      <th>...</th>\n",
       "      <th>nCrystalCompton</th>\n",
       "      <th>nPhantomRayleigh</th>\n",
       "      <th>nCrystalRayleigh</th>\n",
       "      <th>gantryID</th>\n",
       "      <th>rsectorID</th>\n",
       "      <th>moduleID</th>\n",
       "      <th>submoduleID</th>\n",
       "      <th>crystalID</th>\n",
       "      <th>layerID</th>\n",
       "      <th>photonID</th>\n",
       "    </tr>\n",
       "  </thead>\n",
       "  <tbody>\n",
       "    <tr>\n",
       "      <td>count</td>\n",
       "      <td>67310.000000</td>\n",
       "      <td>67310.000000</td>\n",
       "      <td>67310.000000</td>\n",
       "      <td>6.731000e+04</td>\n",
       "      <td>67310.000000</td>\n",
       "      <td>67310.000000</td>\n",
       "      <td>67310.000000</td>\n",
       "      <td>67310.0</td>\n",
       "      <td>67310.000000</td>\n",
       "      <td>67310.000000</td>\n",
       "      <td>...</td>\n",
       "      <td>67310.000000</td>\n",
       "      <td>67310.0</td>\n",
       "      <td>67310.000000</td>\n",
       "      <td>67310.0</td>\n",
       "      <td>67310.000000</td>\n",
       "      <td>67310.000000</td>\n",
       "      <td>67310.0</td>\n",
       "      <td>67310.000000</td>\n",
       "      <td>67310.000000</td>\n",
       "      <td>67310.000000</td>\n",
       "    </tr>\n",
       "    <tr>\n",
       "      <td>mean</td>\n",
       "      <td>21.437662</td>\n",
       "      <td>1.627039</td>\n",
       "      <td>0.080880</td>\n",
       "      <td>1.525311e-09</td>\n",
       "      <td>5.006586</td>\n",
       "      <td>4.507503</td>\n",
       "      <td>4969.738404</td>\n",
       "      <td>0.0</td>\n",
       "      <td>1.499005</td>\n",
       "      <td>2.301515</td>\n",
       "      <td>...</td>\n",
       "      <td>1.036830</td>\n",
       "      <td>0.0</td>\n",
       "      <td>0.125405</td>\n",
       "      <td>0.0</td>\n",
       "      <td>1.507651</td>\n",
       "      <td>199.453662</td>\n",
       "      <td>0.0</td>\n",
       "      <td>11.854360</td>\n",
       "      <td>0.277923</td>\n",
       "      <td>1.500995</td>\n",
       "    </tr>\n",
       "    <tr>\n",
       "      <td>std</td>\n",
       "      <td>2.422723</td>\n",
       "      <td>1.159092</td>\n",
       "      <td>0.375522</td>\n",
       "      <td>2.868723e-10</td>\n",
       "      <td>2.870194</td>\n",
       "      <td>2.855043</td>\n",
       "      <td>2844.184799</td>\n",
       "      <td>0.0</td>\n",
       "      <td>0.500003</td>\n",
       "      <td>314.135040</td>\n",
       "      <td>...</td>\n",
       "      <td>0.840694</td>\n",
       "      <td>0.0</td>\n",
       "      <td>0.358163</td>\n",
       "      <td>0.0</td>\n",
       "      <td>1.116686</td>\n",
       "      <td>111.622704</td>\n",
       "      <td>0.0</td>\n",
       "      <td>7.179225</td>\n",
       "      <td>0.447979</td>\n",
       "      <td>0.500003</td>\n",
       "    </tr>\n",
       "    <tr>\n",
       "      <td>min</td>\n",
       "      <td>11.000000</td>\n",
       "      <td>1.000000</td>\n",
       "      <td>0.000000</td>\n",
       "      <td>7.336466e-13</td>\n",
       "      <td>0.001385</td>\n",
       "      <td>0.000000</td>\n",
       "      <td>0.000000</td>\n",
       "      <td>0.0</td>\n",
       "      <td>1.000000</td>\n",
       "      <td>-471.923523</td>\n",
       "      <td>...</td>\n",
       "      <td>0.000000</td>\n",
       "      <td>0.0</td>\n",
       "      <td>0.000000</td>\n",
       "      <td>0.0</td>\n",
       "      <td>0.000000</td>\n",
       "      <td>0.000000</td>\n",
       "      <td>0.0</td>\n",
       "      <td>0.000000</td>\n",
       "      <td>0.000000</td>\n",
       "      <td>1.000000</td>\n",
       "    </tr>\n",
       "    <tr>\n",
       "      <td>25%</td>\n",
       "      <td>22.000000</td>\n",
       "      <td>1.000000</td>\n",
       "      <td>0.000000</td>\n",
       "      <td>1.489064e-09</td>\n",
       "      <td>2.540133</td>\n",
       "      <td>2.000000</td>\n",
       "      <td>2562.000000</td>\n",
       "      <td>0.0</td>\n",
       "      <td>1.000000</td>\n",
       "      <td>-317.330864</td>\n",
       "      <td>...</td>\n",
       "      <td>0.000000</td>\n",
       "      <td>0.0</td>\n",
       "      <td>0.000000</td>\n",
       "      <td>0.0</td>\n",
       "      <td>1.000000</td>\n",
       "      <td>106.000000</td>\n",
       "      <td>0.0</td>\n",
       "      <td>6.000000</td>\n",
       "      <td>0.000000</td>\n",
       "      <td>1.000000</td>\n",
       "    </tr>\n",
       "    <tr>\n",
       "      <td>50%</td>\n",
       "      <td>22.000000</td>\n",
       "      <td>2.000000</td>\n",
       "      <td>0.000000</td>\n",
       "      <td>1.529563e-09</td>\n",
       "      <td>4.971075</td>\n",
       "      <td>4.000000</td>\n",
       "      <td>4987.000000</td>\n",
       "      <td>0.0</td>\n",
       "      <td>1.000000</td>\n",
       "      <td>3.723623</td>\n",
       "      <td>...</td>\n",
       "      <td>1.000000</td>\n",
       "      <td>0.0</td>\n",
       "      <td>0.000000</td>\n",
       "      <td>0.0</td>\n",
       "      <td>2.000000</td>\n",
       "      <td>200.000000</td>\n",
       "      <td>0.0</td>\n",
       "      <td>12.000000</td>\n",
       "      <td>0.000000</td>\n",
       "      <td>2.000000</td>\n",
       "    </tr>\n",
       "    <tr>\n",
       "      <td>75%</td>\n",
       "      <td>22.000000</td>\n",
       "      <td>2.000000</td>\n",
       "      <td>0.000000</td>\n",
       "      <td>1.575284e-09</td>\n",
       "      <td>7.472440</td>\n",
       "      <td>7.000000</td>\n",
       "      <td>7384.000000</td>\n",
       "      <td>0.0</td>\n",
       "      <td>2.000000</td>\n",
       "      <td>320.889091</td>\n",
       "      <td>...</td>\n",
       "      <td>1.000000</td>\n",
       "      <td>0.0</td>\n",
       "      <td>0.000000</td>\n",
       "      <td>0.0</td>\n",
       "      <td>3.000000</td>\n",
       "      <td>293.000000</td>\n",
       "      <td>0.0</td>\n",
       "      <td>18.000000</td>\n",
       "      <td>1.000000</td>\n",
       "      <td>2.000000</td>\n",
       "    </tr>\n",
       "    <tr>\n",
       "      <td>max</td>\n",
       "      <td>22.000000</td>\n",
       "      <td>35.000000</td>\n",
       "      <td>4.000000</td>\n",
       "      <td>1.662895e-08</td>\n",
       "      <td>9.999781</td>\n",
       "      <td>9.000000</td>\n",
       "      <td>10034.000000</td>\n",
       "      <td>0.0</td>\n",
       "      <td>2.000000</td>\n",
       "      <td>470.622040</td>\n",
       "      <td>...</td>\n",
       "      <td>6.000000</td>\n",
       "      <td>0.0</td>\n",
       "      <td>4.000000</td>\n",
       "      <td>0.0</td>\n",
       "      <td>3.000000</td>\n",
       "      <td>399.000000</td>\n",
       "      <td>0.0</td>\n",
       "      <td>24.000000</td>\n",
       "      <td>1.000000</td>\n",
       "      <td>2.000000</td>\n",
       "    </tr>\n",
       "  </tbody>\n",
       "</table>\n",
       "<p>8 rows × 47 columns</p>\n",
       "</div>"
      ],
      "text/plain": [
       "        PDGEncoding       trackID      parentID  trackLocalTime          time  \\\n",
       "count  67310.000000  67310.000000  67310.000000    6.731000e+04  67310.000000   \n",
       "mean      21.437662      1.627039      0.080880    1.525311e-09      5.006586   \n",
       "std        2.422723      1.159092      0.375522    2.868723e-10      2.870194   \n",
       "min       11.000000      1.000000      0.000000    7.336466e-13      0.001385   \n",
       "25%       22.000000      1.000000      0.000000    1.489064e-09      2.540133   \n",
       "50%       22.000000      2.000000      0.000000    1.529563e-09      4.971075   \n",
       "75%       22.000000      2.000000      0.000000    1.575284e-09      7.472440   \n",
       "max       22.000000     35.000000      4.000000    1.662895e-08      9.999781   \n",
       "\n",
       "              runID       eventID  sourceID     primaryID          posX  ...  \\\n",
       "count  67310.000000  67310.000000   67310.0  67310.000000  67310.000000  ...   \n",
       "mean       4.507503   4969.738404       0.0      1.499005      2.301515  ...   \n",
       "std        2.855043   2844.184799       0.0      0.500003    314.135040  ...   \n",
       "min        0.000000      0.000000       0.0      1.000000   -471.923523  ...   \n",
       "25%        2.000000   2562.000000       0.0      1.000000   -317.330864  ...   \n",
       "50%        4.000000   4987.000000       0.0      1.000000      3.723623  ...   \n",
       "75%        7.000000   7384.000000       0.0      2.000000    320.889091  ...   \n",
       "max        9.000000  10034.000000       0.0      2.000000    470.622040  ...   \n",
       "\n",
       "       nCrystalCompton  nPhantomRayleigh  nCrystalRayleigh  gantryID  \\\n",
       "count     67310.000000           67310.0      67310.000000   67310.0   \n",
       "mean          1.036830               0.0          0.125405       0.0   \n",
       "std           0.840694               0.0          0.358163       0.0   \n",
       "min           0.000000               0.0          0.000000       0.0   \n",
       "25%           0.000000               0.0          0.000000       0.0   \n",
       "50%           1.000000               0.0          0.000000       0.0   \n",
       "75%           1.000000               0.0          0.000000       0.0   \n",
       "max           6.000000               0.0          4.000000       0.0   \n",
       "\n",
       "          rsectorID      moduleID  submoduleID     crystalID       layerID  \\\n",
       "count  67310.000000  67310.000000      67310.0  67310.000000  67310.000000   \n",
       "mean       1.507651    199.453662          0.0     11.854360      0.277923   \n",
       "std        1.116686    111.622704          0.0      7.179225      0.447979   \n",
       "min        0.000000      0.000000          0.0      0.000000      0.000000   \n",
       "25%        1.000000    106.000000          0.0      6.000000      0.000000   \n",
       "50%        2.000000    200.000000          0.0     12.000000      0.000000   \n",
       "75%        3.000000    293.000000          0.0     18.000000      1.000000   \n",
       "max        3.000000    399.000000          0.0     24.000000      1.000000   \n",
       "\n",
       "           photonID  \n",
       "count  67310.000000  \n",
       "mean       1.500995  \n",
       "std        0.500003  \n",
       "min        1.000000  \n",
       "25%        1.000000  \n",
       "50%        2.000000  \n",
       "75%        2.000000  \n",
       "max        2.000000  \n",
       "\n",
       "[8 rows x 47 columns]"
      ]
     },
     "execution_count": 160,
     "metadata": {},
     "output_type": "execute_result"
    }
   ],
   "source": []
  },
  {
   "cell_type": "code",
   "execution_count": null,
   "metadata": {},
   "outputs": [],
   "source": [
    "#do code here, do not override cell below"
   ]
  },
  {
   "cell_type": "code",
   "execution_count": 156,
   "metadata": {
    "ExecuteTime": {
     "end_time": "2020-03-11T07:22:25.197724Z",
     "start_time": "2020-03-11T07:22:24.908801Z"
    }
   },
   "outputs": [
    {
     "data": {
      "text/plain": [
       "Text(0.5, 1.0, 'runID vs index')"
      ]
     },
     "execution_count": 156,
     "metadata": {},
     "output_type": "execute_result"
    },
    {
     "data": {
      "image/png": "[encoded data removed]",
      "text/plain": [
       "<Figure size 432x288 with 1 Axes>"
      ]
     },
     "metadata": {
      "needs_background": "light"
     },
     "output_type": "display_data"
    }
   ],
   "source": []
  },
  {
   "cell_type": "code",
   "execution_count": null,
   "metadata": {},
   "outputs": [],
   "source": [
    "#do code here, do not override cell below"
   ]
  },
  {
   "cell_type": "code",
   "execution_count": 158,
   "metadata": {
    "ExecuteTime": {
     "end_time": "2020-03-11T07:22:56.740202Z",
     "start_time": "2020-03-11T07:22:56.484903Z"
    },
    "scrolled": true
   },
   "outputs": [
    {
     "data": {
      "text/plain": [
       "<matplotlib.axes._subplots.AxesSubplot at 0x7f4a1be1f090>"
      ]
     },
     "execution_count": 158,
     "metadata": {},
     "output_type": "execute_result"
    },
    {
     "data": {
      "image/png": "[encoded data removed]",
      "text/plain": [
       "<Figure size 432x288 with 1 Axes>"
      ]
     },
     "metadata": {
      "needs_background": "light"
     },
     "output_type": "display_data"
    }
   ],
   "source": []
  },
  {
   "cell_type": "code",
   "execution_count": null,
   "metadata": {},
   "outputs": [],
   "source": [
    "#do code here, do not override cell below"
   ]
  },
  {
   "cell_type": "code",
   "execution_count": 132,
   "metadata": {
    "ExecuteTime": {
     "end_time": "2020-03-11T07:02:55.540920Z",
     "start_time": "2020-03-11T07:02:55.277999Z"
    },
    "scrolled": true
   },
   "outputs": [
    {
     "data": {
      "text/plain": [
       "<matplotlib.axes._subplots.AxesSubplot at 0x7f49e0889c10>"
      ]
     },
     "execution_count": 132,
     "metadata": {},
     "output_type": "execute_result"
    },
    {
     "data": {
      "image/png": "[encoded data removed]",
      "text/plain": [
       "<Figure size 432x288 with 1 Axes>"
      ]
     },
     "metadata": {
      "needs_background": "light"
     },
     "output_type": "display_data"
    }
   ],
   "source": []
  },
  {
   "cell_type": "code",
   "execution_count": null,
   "metadata": {},
   "outputs": [],
   "source": [
    "#do code here, do not override cell below"
   ]
  },
  {
   "cell_type": "code",
   "execution_count": 133,
   "metadata": {
    "ExecuteTime": {
     "end_time": "2020-03-11T07:03:06.034512Z",
     "start_time": "2020-03-11T07:03:05.592458Z"
    },
    "scrolled": true
   },
   "outputs": [
    {
     "data": {
      "text/plain": [
       "<matplotlib.axes._subplots.AxesSubplot at 0x7f49e0c956d0>"
      ]
     },
     "execution_count": 133,
     "metadata": {},
     "output_type": "execute_result"
    },
    {
     "data": {
      "image/png": "[encoded data removed]",
      "text/plain": [
       "<Figure size 432x288 with 1 Axes>"
      ]
     },
     "metadata": {
      "needs_background": "light"
     },
     "output_type": "display_data"
    }
   ],
   "source": []
  },
  {
   "cell_type": "code",
   "execution_count": null,
   "metadata": {},
   "outputs": [],
   "source": [
    "#do code here, do not override cell below"
   ]
  },
  {
   "cell_type": "code",
   "execution_count": 134,
   "metadata": {
    "ExecuteTime": {
     "end_time": "2020-03-11T07:03:18.374485Z",
     "start_time": "2020-03-11T07:03:17.881369Z"
    },
    "scrolled": true
   },
   "outputs": [
    {
     "data": {
      "text/plain": [
       "<matplotlib.axes._subplots.AxesSubplot at 0x7f49e0be45d0>"
      ]
     },
     "execution_count": 134,
     "metadata": {},
     "output_type": "execute_result"
    },
    {
     "data": {
      "image/png": "[encoded data removed]",
      "text/plain": [
       "<Figure size 432x288 with 1 Axes>"
      ]
     },
     "metadata": {
      "needs_background": "light"
     },
     "output_type": "display_data"
    }
   ],
   "source": []
  },
  {
   "cell_type": "markdown",
   "metadata": {},
   "source": [
    "## histograms by process oneline, because we can "
   ]
  },
  {
   "cell_type": "code",
   "execution_count": null,
   "metadata": {},
   "outputs": [],
   "source": [
    "#do code here, do not override cell below"
   ]
  },
  {
   "cell_type": "code",
   "execution_count": 139,
   "metadata": {
    "ExecuteTime": {
     "end_time": "2020-03-11T07:06:03.249208Z",
     "start_time": "2020-03-11T07:06:00.735435Z"
    }
   },
   "outputs": [
    {
     "name": "stderr",
     "output_type": "stream",
     "text": [
      "/home/madupont/anaconda3/lib/python3.7/site-packages/ipykernel_launcher.py:3: UserWarning: To output multiple subplots, the figure containing the passed axes is being cleared\n",
      "  This is separate from the ipykernel package so we can avoid doing imports until\n"
     ]
    },
    {
     "data": {
      "image/png": "[encoded data removed]",
      "text/plain": [
       "<Figure size 1440x1440 with 9 Axes>"
      ]
     },
     "metadata": {
      "needs_background": "light"
     },
     "output_type": "display_data"
    }
   ],
   "source": []
  },
  {
   "cell_type": "markdown",
   "metadata": {},
   "source": [
    "## Stacked histogram by process oneline, because we can \n"
   ]
  },
  {
   "cell_type": "code",
   "execution_count": null,
   "metadata": {},
   "outputs": [],
   "source": [
    "#do code here, do not override cell below"
   ]
  },
  {
   "cell_type": "code",
   "execution_count": 144,
   "metadata": {
    "ExecuteTime": {
     "end_time": "2020-03-11T07:07:25.558772Z",
     "start_time": "2020-03-11T07:07:22.265083Z"
    }
   },
   "outputs": [
    {
     "data": {
      "image/png": "[encoded data removed]",
      "text/plain": [
       "<Figure size 1440x1440 with 1 Axes>"
      ]
     },
     "metadata": {
      "needs_background": "light"
     },
     "output_type": "display_data"
    }
   ],
   "source": []
  },
  {
   "cell_type": "markdown",
   "metadata": {},
   "source": [
    "## Compute the edep histogram linke singles with pandas"
   ]
  },
  {
   "cell_type": "code",
   "execution_count": null,
   "metadata": {},
   "outputs": [],
   "source": [
    "#do code here, do not override cell below"
   ]
  },
  {
   "cell_type": "code",
   "execution_count": 146,
   "metadata": {
    "ExecuteTime": {
     "end_time": "2020-03-11T07:10:12.279114Z",
     "start_time": "2020-03-11T07:10:12.236942Z"
    }
   },
   "outputs": [
    {
     "data": {
      "text/plain": [
       "runID  eventID  rsectorID\n",
       "0      6        0            0.033784\n",
       "       8        0            0.511000\n",
       "                2            0.511000\n",
       "       10       1            0.511000\n",
       "                3            0.511000\n",
       "                               ...   \n",
       "9      9965     3            0.511000\n",
       "       9975     0            0.511000\n",
       "                2            0.511000\n",
       "       9976     0            0.511000\n",
       "       9979     0            0.056723\n",
       "Name: edep, Length: 33447, dtype: float32"
      ]
     },
     "execution_count": 146,
     "metadata": {},
     "output_type": "execute_result"
    }
   ],
   "source": []
  },
  {
   "cell_type": "code",
   "execution_count": 147,
   "metadata": {
    "ExecuteTime": {
     "end_time": "2020-03-11T07:10:42.548649Z",
     "start_time": "2020-03-11T07:10:41.155731Z"
    }
   },
   "outputs": [
    {
     "data": {
      "image/png": "[encoded data removed]",
      "text/plain": [
       "<Figure size 1080x288 with 2 Axes>"
      ]
     },
     "metadata": {
      "needs_background": "light"
     },
     "output_type": "display_data"
    }
   ],
   "source": [
    "plt.figure(figsize=(15,4))\n",
    "plt.subplot(1,2,1)\n",
    "\n",
    "plt.hist(lEnergy, bins=50);\n",
    "plt.yscale('log')\n",
    "plt.title(\"regrouped hit\")\n",
    "plt.subplot(1,2,2)\n",
    "\n",
    "plt.hist(singles['energy'], bins=50);\n",
    "plt.title(\"singles\")\n",
    "plt.yscale('log')"
   ]
  },
  {
   "cell_type": "markdown",
   "metadata": {},
   "source": [
    "# Compute localisation from hits to singles\n",
    "\n",
    "Like for edep but with posX, posY, posZ"
   ]
  },
  {
   "cell_type": "code",
   "execution_count": 151,
   "metadata": {
    "ExecuteTime": {
     "end_time": "2020-03-11T07:14:07.831064Z",
     "start_time": "2020-03-11T07:14:07.805557Z"
    }
   },
   "outputs": [
    {
     "data": {
      "text/html": [
       "<div>\n",
       "<style scoped>\n",
       "    .dataframe tbody tr th:only-of-type {\n",
       "        vertical-align: middle;\n",
       "    }\n",
       "\n",
       "    .dataframe tbody tr th {\n",
       "        vertical-align: top;\n",
       "    }\n",
       "\n",
       "    .dataframe thead th {\n",
       "        text-align: right;\n",
       "    }\n",
       "</style>\n",
       "<table border=\"1\" class=\"dataframe\">\n",
       "  <thead>\n",
       "    <tr style=\"text-align: right;\">\n",
       "      <th></th>\n",
       "      <th>eventID</th>\n",
       "      <th>globalPosX</th>\n",
       "      <th>globalPosY</th>\n",
       "      <th>globalPosZ</th>\n",
       "    </tr>\n",
       "  </thead>\n",
       "  <tbody>\n",
       "    <tr>\n",
       "      <td>0</td>\n",
       "      <td>6</td>\n",
       "      <td>453.044708</td>\n",
       "      <td>-119.741692</td>\n",
       "      <td>73.265289</td>\n",
       "    </tr>\n",
       "    <tr>\n",
       "      <td>1</td>\n",
       "      <td>8</td>\n",
       "      <td>-454.623962</td>\n",
       "      <td>2.877814</td>\n",
       "      <td>-164.825912</td>\n",
       "    </tr>\n",
       "    <tr>\n",
       "      <td>2</td>\n",
       "      <td>8</td>\n",
       "      <td>444.720978</td>\n",
       "      <td>10.583946</td>\n",
       "      <td>183.167404</td>\n",
       "    </tr>\n",
       "    <tr>\n",
       "      <td>3</td>\n",
       "      <td>10</td>\n",
       "      <td>26.553543</td>\n",
       "      <td>447.146240</td>\n",
       "      <td>-27.645578</td>\n",
       "    </tr>\n",
       "    <tr>\n",
       "      <td>4</td>\n",
       "      <td>10</td>\n",
       "      <td>-28.200472</td>\n",
       "      <td>-440.002075</td>\n",
       "      <td>33.057819</td>\n",
       "    </tr>\n",
       "    <tr>\n",
       "      <td>5</td>\n",
       "      <td>21</td>\n",
       "      <td>-105.370361</td>\n",
       "      <td>-434.774353</td>\n",
       "      <td>63.604279</td>\n",
       "    </tr>\n",
       "    <tr>\n",
       "      <td>6</td>\n",
       "      <td>26</td>\n",
       "      <td>-425.576447</td>\n",
       "      <td>-13.465117</td>\n",
       "      <td>40.352077</td>\n",
       "    </tr>\n",
       "    <tr>\n",
       "      <td>7</td>\n",
       "      <td>27</td>\n",
       "      <td>-445.403168</td>\n",
       "      <td>53.517021</td>\n",
       "      <td>186.952148</td>\n",
       "    </tr>\n",
       "    <tr>\n",
       "      <td>8</td>\n",
       "      <td>27</td>\n",
       "      <td>433.036163</td>\n",
       "      <td>-52.031075</td>\n",
       "      <td>-181.761276</td>\n",
       "    </tr>\n",
       "    <tr>\n",
       "      <td>9</td>\n",
       "      <td>30</td>\n",
       "      <td>33.862476</td>\n",
       "      <td>-435.739044</td>\n",
       "      <td>-53.422894</td>\n",
       "    </tr>\n",
       "  </tbody>\n",
       "</table>\n",
       "</div>"
      ],
      "text/plain": [
       "   eventID  globalPosX  globalPosY  globalPosZ\n",
       "0        6  453.044708 -119.741692   73.265289\n",
       "1        8 -454.623962    2.877814 -164.825912\n",
       "2        8  444.720978   10.583946  183.167404\n",
       "3       10   26.553543  447.146240  -27.645578\n",
       "4       10  -28.200472 -440.002075   33.057819\n",
       "5       21 -105.370361 -434.774353   63.604279\n",
       "6       26 -425.576447  -13.465117   40.352077\n",
       "7       27 -445.403168   53.517021  186.952148\n",
       "8       27  433.036163  -52.031075 -181.761276\n",
       "9       30   33.862476 -435.739044  -53.422894"
      ]
     },
     "execution_count": 151,
     "metadata": {},
     "output_type": "execute_result"
    }
   ],
   "source": [
    "dfsingles[['eventID', 'globalPosX', 'globalPosY', 'globalPosZ']].head(n=10)"
   ]
  },
  {
   "cell_type": "code",
   "execution_count": 152,
   "metadata": {
    "ExecuteTime": {
     "end_time": "2020-03-11T07:14:33.947528Z",
     "start_time": "2020-03-11T07:14:33.920372Z"
    }
   },
   "outputs": [
    {
     "data": {
      "text/html": [
       "<div>\n",
       "<style scoped>\n",
       "    .dataframe tbody tr th:only-of-type {\n",
       "        vertical-align: middle;\n",
       "    }\n",
       "\n",
       "    .dataframe tbody tr th {\n",
       "        vertical-align: top;\n",
       "    }\n",
       "\n",
       "    .dataframe thead th {\n",
       "        text-align: right;\n",
       "    }\n",
       "</style>\n",
       "<table border=\"1\" class=\"dataframe\">\n",
       "  <thead>\n",
       "    <tr style=\"text-align: right;\">\n",
       "      <th></th>\n",
       "      <th>eventID</th>\n",
       "      <th>posX</th>\n",
       "      <th>posY</th>\n",
       "      <th>posZ</th>\n",
       "    </tr>\n",
       "  </thead>\n",
       "  <tbody>\n",
       "    <tr>\n",
       "      <td>0</td>\n",
       "      <td>6</td>\n",
       "      <td>453.044708</td>\n",
       "      <td>-119.741692</td>\n",
       "      <td>73.265289</td>\n",
       "    </tr>\n",
       "    <tr>\n",
       "      <td>1</td>\n",
       "      <td>8</td>\n",
       "      <td>-434.745911</td>\n",
       "      <td>-14.231728</td>\n",
       "      <td>-177.351974</td>\n",
       "    </tr>\n",
       "    <tr>\n",
       "      <td>2</td>\n",
       "      <td>8</td>\n",
       "      <td>-436.466370</td>\n",
       "      <td>-12.991814</td>\n",
       "      <td>-177.051620</td>\n",
       "    </tr>\n",
       "    <tr>\n",
       "      <td>3</td>\n",
       "      <td>8</td>\n",
       "      <td>-446.828217</td>\n",
       "      <td>-0.356911</td>\n",
       "      <td>-167.399887</td>\n",
       "    </tr>\n",
       "    <tr>\n",
       "      <td>4</td>\n",
       "      <td>8</td>\n",
       "      <td>-454.623962</td>\n",
       "      <td>2.877814</td>\n",
       "      <td>-164.825912</td>\n",
       "    </tr>\n",
       "    <tr>\n",
       "      <td>5</td>\n",
       "      <td>8</td>\n",
       "      <td>445.422485</td>\n",
       "      <td>14.581232</td>\n",
       "      <td>181.707397</td>\n",
       "    </tr>\n",
       "    <tr>\n",
       "      <td>6</td>\n",
       "      <td>8</td>\n",
       "      <td>446.340027</td>\n",
       "      <td>12.428564</td>\n",
       "      <td>182.692810</td>\n",
       "    </tr>\n",
       "    <tr>\n",
       "      <td>7</td>\n",
       "      <td>8</td>\n",
       "      <td>444.109283</td>\n",
       "      <td>9.887043</td>\n",
       "      <td>183.346710</td>\n",
       "    </tr>\n",
       "    <tr>\n",
       "      <td>8</td>\n",
       "      <td>10</td>\n",
       "      <td>28.498873</td>\n",
       "      <td>436.939148</td>\n",
       "      <td>-32.932419</td>\n",
       "    </tr>\n",
       "    <tr>\n",
       "      <td>9</td>\n",
       "      <td>10</td>\n",
       "      <td>28.663368</td>\n",
       "      <td>443.970520</td>\n",
       "      <td>-33.627617</td>\n",
       "    </tr>\n",
       "  </tbody>\n",
       "</table>\n",
       "</div>"
      ],
      "text/plain": [
       "   eventID        posX        posY        posZ\n",
       "0        6  453.044708 -119.741692   73.265289\n",
       "1        8 -434.745911  -14.231728 -177.351974\n",
       "2        8 -436.466370  -12.991814 -177.051620\n",
       "3        8 -446.828217   -0.356911 -167.399887\n",
       "4        8 -454.623962    2.877814 -164.825912\n",
       "5        8  445.422485   14.581232  181.707397\n",
       "6        8  446.340027   12.428564  182.692810\n",
       "7        8  444.109283    9.887043  183.346710\n",
       "8       10   28.498873  436.939148  -32.932419\n",
       "9       10   28.663368  443.970520  -33.627617"
      ]
     },
     "execution_count": 152,
     "metadata": {},
     "output_type": "execute_result"
    }
   ],
   "source": [
    "dfhits[['eventID', 'posX', 'posY', 'posZ']].head(n=10)"
   ]
  },
  {
   "cell_type": "markdown",
   "metadata": {},
   "source": [
    "## With pandas"
   ]
  },
  {
   "cell_type": "markdown",
   "metadata": {},
   "source": [
    "### naïve way "
   ]
  },
  {
   "cell_type": "code",
   "execution_count": null,
   "metadata": {},
   "outputs": [],
   "source": []
  }
 ],
 "metadata": {
  "kernelspec": {
   "display_name": "Python 3",
   "language": "python",
   "name": "python3"
  },
  "language_info": {
   "codemirror_mode": {
    "name": "ipython",
    "version": 3
   },
   "file_extension": ".py",
   "mimetype": "text/x-python",
   "name": "python",
   "nbconvert_exporter": "python",
   "pygments_lexer": "ipython3",
   "version": "3.7.4"
  },
  "toc": {
   "base_numbering": 1,
   "nav_menu": {},
   "number_sections": true,
   "sideBar": true,
   "skip_h1_title": false,
   "title_cell": "Table of Contents",
   "title_sidebar": "Contents",
   "toc_cell": false,
   "toc_position": {},
   "toc_section_display": true,
   "toc_window_display": true
  }
 },
 "nbformat": 4,
 "nbformat_minor": 2
}
