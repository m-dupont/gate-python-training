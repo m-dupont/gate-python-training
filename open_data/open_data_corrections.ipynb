{
 "cells": [
  {
   "cell_type": "markdown",
   "metadata": {},
   "source": [
    "# Open Data From GATE, numpy vs python vs pandas"
   ]
  },
  {
   "cell_type": "markdown",
   "metadata": {},
   "source": [
    "# Launch GATE"
   ]
  },
  {
   "cell_type": "code",
   "execution_count": 1,
   "metadata": {
    "ExecuteTime": {
     "end_time": "2020-03-16T10:49:55.691451Z",
     "start_time": "2020-03-16T10:49:55.531448Z"
    }
   },
   "outputs": [
    {
     "name": "stdout",
     "output_type": "stream",
     "text": [
      "open_data_corrections.ipynb  open_data.ipynb  \u001b[0m\u001b[01;34mTEP-vanilla\u001b[0m/\r\n"
     ]
    }
   ],
   "source": [
    "ls"
   ]
  },
  {
   "cell_type": "code",
   "execution_count": 2,
   "metadata": {
    "ExecuteTime": {
     "end_time": "2020-03-16T10:49:59.931723Z",
     "start_time": "2020-03-16T10:49:59.920529Z"
    },
    "scrolled": true
   },
   "outputs": [
    {
     "name": "stdout",
     "output_type": "stream",
     "text": [
      "/home/mdupont/Documents/DocumentsSync/IR/missions/by_year/2021/2021_03_09_Python GATE School/mathieu/gate-python-training-with-corrections/open_data/TEP-vanilla\n",
      "GateMaterials.db  PET_CylindricalPET_System.mac  Visu.mac\r\n",
      "MoveVisu.mac      Physicslist_EM_std.mac\r\n",
      "\u001b[0m\u001b[01;34moutput\u001b[0m/           Verbose.mac\r\n"
     ]
    }
   ],
   "source": [
    "%cd TEP-vanilla/\n",
    "%ls"
   ]
  },
  {
   "cell_type": "code",
   "execution_count": 3,
   "metadata": {
    "ExecuteTime": {
     "end_time": "2020-03-16T10:50:05.565308Z",
     "start_time": "2020-03-16T10:50:05.418678Z"
    }
   },
   "outputs": [
    {
     "name": "stdout",
     "output_type": "stream",
     "text": [
      "GateMaterials.db  PET_CylindricalPET_System.mac  Visu.mac\r\n",
      "MoveVisu.mac      Physicslist_EM_std.mac\r\n",
      "\u001b[0m\u001b[01;34moutput\u001b[0m/           Verbose.mac\r\n"
     ]
    }
   ],
   "source": [
    "ls"
   ]
  },
  {
   "cell_type": "code",
   "execution_count": 4,
   "metadata": {
    "ExecuteTime": {
     "end_time": "2020-03-16T10:50:37.170331Z",
     "start_time": "2020-03-16T10:50:37.032158Z"
    }
   },
   "outputs": [
    {
     "name": "stdout",
     "output_type": "stream",
     "text": [
      " #  *********************************************************************\r\n",
      "#  * DISCLAIMER                                                        *\r\n",
      "#  *                                                                   *\r\n",
      "#  * Neither the authors of this software system, nor their employing  *\r\n",
      "#  * institutes, nor the agencies providing financial support for this *\r\n",
      "#  * work make any representation or warranty, express or implied,     *\r\n",
      "#  * regarding this software system or assume any liability for its    *\r\n",
      "#  * use.                                                              *\r\n",
      "#  *                                                                   *\r\n",
      "#  * This code implementation is the intellectual property of the      *\r\n",
      "#  * OpenGATE collaboration.                                           *\r\n",
      "#  * By copying, distributing or modifying the Program (or any work    *\r\n",
      "#  * based on the Program) you indicate your acceptance of this        *\r\n",
      "#  * statement, and all its terms.                                     *\r\n",
      "#  *********************************************************************\r\n",
      "#\r\n",
      "                                                          \r\n",
      "#-------------------oooooOOOOO00000OOOOOooooo---------------------#\r\n",
      "#\r\n",
      "#         D E F I N E   Y O U R   S C A N N E R   A N D       \r\n",
      "#                                                             \r\n",
      "#        Y O U R   C O M P L E T E   S I M U L A T I O N   \r\n",
      "#                                                             \r\n",
      "#        F O R   I M A G I N G    A P P L I CA T I O N S       \r\n",
      "#                                                     \r\n",
      "#-------------------oooooOOOOO00000OOOOOooooo---------------------#\r\n",
      "\r\n",
      "\r\n",
      "#=====================================================\r\n",
      "# VISUALISATION\r\n",
      "#=====================================================\r\n",
      "\r\n",
      "/vis/disable\r\n",
      "\r\n",
      "/control/execute                    Verbose.mac\r\n",
      "\r\n",
      "\r\n",
      "#=====================================================\r\n",
      "# GEOMETRY\r\n",
      "#=====================================================\r\n",
      "\r\n",
      "\r\n",
      "/gate/geometry/setMaterialDatabase    GateMaterials.db\r\n",
      "\r\n",
      "\r\n",
      "#\r\n",
      "#     W O R L D\r\n",
      "#\r\n",
      "/gate/world/geometry/setXLength       400. cm\r\n",
      "/gate/world/geometry/setYLength       400. cm\r\n",
      "/gate/world/geometry/setZLength       400. cm\r\n",
      "\r\n",
      "\r\n",
      "#-------------------oooooOOOOO00000OOOOOooooo---------------------#\r\n",
      "#                                                                 #\r\n",
      "#     D E F I N I T I O N   A N D   D E S C R I T I O N           #\r\n",
      "#        O F   Y O U R   P E T   D E V I C E                      #\r\n",
      "#                                                                 #\r\n",
      "#-------------------oooooOOOOO00000OOOOOooooo---------------------#\r\n",
      "\r\n",
      "#\tCYLINDRICAL\r\n",
      "/gate/world/daughters/name                    cylindricalPET\r\n",
      "/gate/world/daughters/insert                  cylinder\r\n",
      "/gate/cylindricalPET/placement/setTranslation 0.0 0.0 0.0 cm\r\n",
      "/gate/cylindricalPET/geometry/setRmax         52.0 cm\r\n",
      "/gate/cylindricalPET/geometry/setRmin         39.9 cm\r\n",
      "/gate/cylindricalPET/geometry/setHeight       40.2 cm\r\n",
      "/gate/cylindricalPET/setMaterial              Air\r\n",
      "/gate/cylindricalPET/vis/forceWireframe\r\n",
      "/gate/cylindricalPET/vis/setColor             white\r\n",
      "\r\n",
      "#\tHEAD\r\n",
      "/gate/cylindricalPET/daughters/name           head\r\n",
      "/gate/cylindricalPET/daughters/insert         box\r\n",
      "/gate/head/placement/setTranslation           44.0 0.0 0.0 cm\r\n",
      "/gate/head/geometry/setXLength                8  cm\r\n",
      "/gate/head/geometry/setYLength                32 cm\r\n",
      "/gate/head/geometry/setZLength                40 cm\r\n",
      "/gate/head/setMaterial                        Air\r\n",
      "/gate/head/vis/setVisible                     0\r\n",
      "\r\n",
      "\r\n",
      "#\tBLOCK\r\n",
      "/gate/head/daughters/name                     block\r\n",
      "/gate/head/daughters/insert                   box\r\n",
      "/gate/block/placement/setTranslation          0.0 0.0 0.0 cm\r\n",
      "/gate/block/geometry/setXLength               30 mm\r\n",
      "/gate/block/geometry/setYLength               16 mm\r\n",
      "/gate/block/geometry/setZLength               20 mm\r\n",
      "/gate/block/setMaterial                       Air\r\n",
      "/gate/block/vis/setVisible                    0\r\n",
      "\r\n",
      "#\tC R Y S T A L\r\n",
      "/gate/block/daughters/name                    crystal\r\n",
      "/gate/block/daughters/insert                  box\r\n",
      "/gate/crystal/placement/setTranslation        0.0 0.0 0.0 cm\r\n",
      "/gate/crystal/geometry/setXLength             30 mm\r\n",
      "/gate/crystal/geometry/setYLength             3.0 mm\r\n",
      "/gate/crystal/geometry/setZLength             3.8 mm\r\n",
      "/gate/crystal/setMaterial                     Air\r\n",
      "/gate/crystal/vis/setVisible                  0\r\n",
      "\r\n",
      "\r\n",
      "#\tLSO layer\r\n",
      "/gate/crystal/daughters/name                  LSO\r\n",
      "/gate/crystal/daughters/insert                box\r\n",
      "/gate/LSO/placement/setTranslation            -0.75 0.0 0.0 cm\r\n",
      "/gate/LSO/geometry/setXLength                 15 mm\r\n",
      "/gate/LSO/geometry/setYLength                 3.0 mm\r\n",
      "/gate/LSO/geometry/setZLength                 3.8 mm\r\n",
      "/gate/LSO/setMaterial                         LSO\r\n",
      "/gate/LSO/vis/setColor                        red\r\n",
      "\r\n",
      "#\tBGO layer\r\n",
      "/gate/crystal/daughters/name                  BGO\r\n",
      "/gate/crystal/daughters/insert                box\r\n",
      "/gate/BGO/placement/setTranslation            +0.75 0.0 0.0 cm\r\n",
      "/gate/BGO/geometry/setXLength                 15 mm\r\n",
      "/gate/BGO/geometry/setYLength                 3.0 mm\r\n",
      "/gate/BGO/geometry/setZLength                 3.8 mm\r\n",
      "/gate/BGO/setMaterial                         BGO\r\n",
      "/gate/BGO/vis/setColor                        yellow\r\n",
      "\r\n",
      "#\tR E P E A T    C R Y S T A L\r\n",
      "/gate/crystal/repeaters/insert                cubicArray\r\n",
      "/gate/crystal/cubicArray/setRepeatNumberX     1\r\n",
      "/gate/crystal/cubicArray/setRepeatNumberY     5\r\n",
      "/gate/crystal/cubicArray/setRepeatNumberZ     5\r\n",
      "/gate/crystal/cubicArray/setRepeatVector      0.0 3.2 4.0 mm\r\n",
      "\r\n",
      "\r\n",
      "#\tR E P E A T    BLOCK\r\n",
      "/gate/block/repeaters/insert                  cubicArray\r\n",
      "/gate/block/cubicArray/setRepeatNumberX       1\r\n",
      "/gate/block/cubicArray/setRepeatNumberY       20\r\n",
      "/gate/block/cubicArray/setRepeatNumberZ       20\r\n",
      "/gate/block/cubicArray/setRepeatVector        0.0 1.6 2.0 cm\r\n",
      "\r\n",
      "\r\n",
      "#\tR E P E A T HEAD\r\n",
      "/gate/head/repeaters/insert                   ring\r\n",
      "/gate/head/ring/setRepeatNumber               4\r\n",
      "\r\n",
      "\r\n",
      "#\tA T T A C H    S Y S T E M \r\n",
      "/gate/systems/cylindricalPET/rsector/attach   head\r\n",
      "/gate/systems/cylindricalPET/module/attach    block\r\n",
      "/gate/systems/cylindricalPET/crystal/attach   crystal\r\n",
      "/gate/systems/cylindricalPET/layer0/attach    LSO\r\n",
      "/gate/systems/cylindricalPET/layer1/attach    BGO\r\n",
      "\r\n",
      "#\tA T T A C H    C R Y S T A L  SD\r\n",
      "\r\n",
      "/gate/LSO/attachCrystalSD\r\n",
      "/gate/BGO/attachCrystalSD\r\n",
      "\r\n",
      "\r\n",
      "/gate/systems/cylindricalPET/describe\r\n",
      "\r\n",
      "/gate/cylindricalPET/moves/insert             orbiting\r\n",
      "/gate/cylindricalPET/orbiting/setSpeed        30 deg/s\r\n",
      "/gate/cylindricalPET/orbiting/setPoint1       0 0 0 cm\r\n",
      "/gate/cylindricalPET/orbiting/setPoint2       0 0 1 cm\r\n",
      "\r\n",
      "#=====================================================\r\n",
      "#  P H A N T O M\r\n",
      "#=====================================================\r\n",
      "\r\n",
      "#/gate/world/daughters/name                    phantom\r\n",
      "#/gate/world/daughters/insert                  box\r\n",
      "\r\n",
      "#/gate/phantom/geometry/setXLength             10 cm\r\n",
      "#/gate/phantom/geometry/setYLength             10 cm\r\n",
      "#/gate/phantom/geometry/setZLength             10 cm\r\n",
      "#/gate/phantom/setMaterial                     Water\r\n",
      "#/gate/phantom/vis/forceSolid\r\n",
      "#/gate/phantom/vis/setColor                    blue\r\n",
      "\r\n",
      "#/gate/phantom/attachPhantomSD\r\n",
      "\r\n",
      "\r\n",
      "#=====================================================\r\n",
      "# PHYSICS\r\n",
      "#=====================================================\r\n",
      "\r\n",
      "/gate/physics/addPhysicsList empenelope\r\n",
      "/gate/physics/processList Enabled\r\n",
      "/gate/physics/processList Initialized\r\n",
      "\r\n",
      "#=====================================================\r\n",
      "# CUTS\r\n",
      "#=====================================================\r\n",
      "\r\n",
      "/gate/physics/Gamma/SetCutInRegion      LSO 1.0 cm\r\n",
      "/gate/physics/Electron/SetCutInRegion   LSO 1.0 cm\r\n",
      "/gate/physics/Positron/SetCutInRegion   LSO 1.0 cm\r\n",
      "\r\n",
      "/gate/physics/Gamma/SetCutInRegion      BGO 1.0 cm\r\n",
      "/gate/physics/Electron/SetCutInRegion   BGO 1.0 cm\r\n",
      "/gate/physics/Positron/SetCutInRegion   BGO 1.0 cm\r\n",
      "\r\n",
      "\r\n",
      "#/gate/physics/Gamma/SetCutInRegion      phantom 0.1 mm\r\n",
      "#/gate/physics/Electron/SetCutInRegion   phantom 0.1 mm\r\n",
      "#/gate/physics/Positron/SetCutInRegion   phantom 0.1 mm\r\n",
      "\r\n",
      "#/gate/physics/SetMaxStepSizeInRegion    phantom 0.01 mm\r\n",
      "\r\n",
      "#=====================================================\r\n",
      "# INITIALISATION\r\n",
      "#=====================================================\r\n",
      "\r\n",
      "/gate/run/initialize\r\n",
      "\r\n",
      "\r\n",
      "#=====================================================\r\n",
      "# Show how the geometry moves with time\r\n",
      "#=====================================================\r\n",
      "\r\n",
      "/control/execute                        MoveVisu.mac\r\n",
      "\r\n",
      "\r\n",
      "\r\n",
      "#=====================================================\r\n",
      "#  P A R T I C L E   S O U R C E\r\n",
      "#=====================================================\r\n",
      "\r\n",
      " \r\n",
      "/gate/source/addSource                                         posiC11\r\n",
      "\r\n",
      "#/gate/source/posiC11/gps/particle                              e+\r\n",
      "#/gate/source/posiC11/gps/energytype                            Carbon11\r\n",
      "/gate/source/posiC11/setType backtoback\r\n",
      "\r\n",
      "# The particles emitted by the source are gammas\r\n",
      "/gate/source/posiC11/gps/particle gamma\r\n",
      "\r\n",
      "# The gammas have an energy of 511 keV\r\n",
      "/gate/source/posiC11/gps/energytype Mono\r\n",
      "/gate/source/posiC11/gps/monoenergy 0.511 MeV\r\n",
      "\r\n",
      "/gate/source/posiC11/setActivity                               10000 becquerel\r\n",
      "\r\n",
      "/gate/source/posiC11/setForcedUnstableFlag                     true\r\n",
      "/gate/source/posiC11/setForcedHalfLife                         1223 s\r\n",
      "/gate/source/posiC11/gps/angtype                               iso\r\n",
      "\r\n",
      "/gate/source/posiC11/visualize red\r\n",
      "\r\n",
      "/gate/source/list\r\n",
      "\r\n",
      "\r\n",
      "\r\n",
      "\r\n",
      "#=====================================================\r\n",
      "#   D I G I T I Z E R: DETECTOR ELECTRONIC RESPONSE\r\n",
      "#=====================================================\r\n",
      "\r\n",
      "/gate/digitizer/Singles/insert                        adder\r\n",
      "/gate/digitizer/Singles/insert                        readout\r\n",
      "/gate/digitizer/Singles/readout/setDepth              1\r\n",
      "\r\n",
      "\r\n",
      "#/gate/digitizer/Singles/insert                        thresholder\r\n",
      "#/gate/digitizer/Singles/thresholder/setThreshold      350. keV\r\n",
      "#/gate/digitizer/Singles/insert                        upholder\r\n",
      "#/gate/digitizer/Singles/upholder/setUphold            650. keV\r\n",
      "\r\n",
      "\r\n",
      "\r\n",
      "/gate/digitizer/name SinglesBlurring\r\n",
      "/gate/digitizer/insert singleChain \r\n",
      "/gate/digitizer/SinglesBlurring/setInputName Singles \r\n",
      "/gate/digitizer/SinglesBlurring/insert                        blurring\r\n",
      "/gate/digitizer/SinglesBlurring/blurring/setResolution        0.05\r\n",
      "/gate/digitizer/SinglesBlurring/blurring/setEnergyOfReference 511. keV\r\n",
      "\r\n",
      "\r\n",
      "/gate/digitizer/name SinglesNoise\r\n",
      "/gate/digitizer/insert singleChain\r\n",
      "#/gate/digitizer/SinglesBlurring/setInputName Singles \r\n",
      "\r\n",
      "/gate/distributions/name energy_distrib\r\n",
      "/gate/distributions/insert Gaussian\r\n",
      "/gate/distributions/energy_distrib/setMean 450 keV\r\n",
      "/gate/distributions/energy_distrib/setSigma 1 keV\r\n",
      "\r\n",
      "/gate/distributions/name dt_distrib\r\n",
      "/gate/distributions/insert Exponential\r\n",
      "/gate/distributions/dt_distrib/setLambda 75700 ns\r\n",
      "\r\n",
      "/gate/digitizer/SinglesNoise/insert noise\r\n",
      "/gate/digitizer/SinglesNoise/noise/setDeltaTDistribution dt_distrib\r\n",
      "/gate/digitizer/SinglesNoise/noise/setEnergyDistribution energy_distrib\r\n",
      "\r\n",
      "/gate/digitizer/name SinglesBlurringNoise\r\n",
      "/gate/digitizer/insert singleChain\r\n",
      "/gate/digitizer/SinglesBlurringNoise/setInputName SinglesBlurring\r\n",
      "/gate/digitizer/SinglesBlurringNoise/insert noise\r\n",
      "/gate/digitizer/SinglesBlurringNoise/noise/setDeltaTDistribution dt_distrib\r\n",
      "/gate/digitizer/SinglesBlurringNoise/noise/setEnergyDistribution energy_distrib\r\n",
      "\r\n",
      "\r\n",
      "\r\n",
      "\r\n",
      "\r\n",
      "\r\n",
      "#=====================================================\r\n",
      "#\tC O I N C I D E N C E    S O R T E R\r\n",
      "#=====================================================\r\n",
      "\r\n",
      "/gate/digitizer/Coincidences/setWindow          10. ns\r\n",
      "/gate/digitizer/Coincidences/setDepth              1\r\n",
      "/gate/digitizer/Coincidences/setOffset                 0. ns\r\n",
      "#/gate/digitizer/Coincidences/setPresortBufferSize\r\n",
      "/gate/digitizer/Coincidences/setInputName Singles\r\n",
      "/gate/digitizer/Coincidences/MultiplesPolicy takeAllGoods\r\n",
      "#/gate/digitizer/Coincidences/allPulseOpenCoincGate true\r\n",
      "\r\n",
      "/gate/digitizer/name                            CoincidencesBlurring\r\n",
      "/gate/digitizer/insert                          coincidenceSorter\r\n",
      "/gate/digitizer/CoincidencesBlurring/setWindow                 10. ns\r\n",
      "/gate/digitizer/CoincidencesBlurring/setOffset                 0. ns\r\n",
      "/gate/digitizer/CoincidencesBlurring/setInputName SinglesBlurring\r\n",
      "/gate/digitizer/CoincidencesBlurring/MultiplesPolicy takeAllGoods\r\n",
      "\r\n",
      "\r\n",
      "\r\n",
      "\r\n",
      "\r\n",
      "\r\n",
      "\r\n",
      "/gate/output/tree/enable\r\n",
      "/gate/output/tree/addFileName output/p.npy\r\n",
      "/gate/output/tree/hits/enable\r\n",
      "/gate/output/tree/addCollection Singles\r\n",
      "/gate/output/tree/addCollection SinglesBlurring\r\n",
      "/gate/output/tree/addCollection SinglesNoise\r\n",
      "/gate/output/tree/addCollection SinglesBlurringNoise\r\n",
      "/gate/output/tree/addCollection Coincidences\r\n",
      "/gate/output/tree/addCollection CoincidencesBlurring\r\n",
      "\r\n",
      "\r\n",
      "\r\n",
      "\r\n",
      "\r\n",
      "#====================================================\r\n",
      "#  R A N D O M   E N G I N E  A N D  S E E D\r\n",
      "#====================================================\r\n",
      "/gate/random/setEngineSeed auto\r\n",
      "#/gate/random/setEngineSeed 123456789\r\n",
      "\r\n",
      "\r\n",
      "/gate/random/verbose 1\r\n",
      "\r\n",
      "#=====================================================\r\n",
      "#   M E A S U R E M E N T   S E T T I N G S   \r\n",
      "#=====================================================\r\n",
      "\r\n",
      "/gate/application/setTimeSlice   1 s\r\n",
      "/gate/application/setTimeStart   0 s\r\n",
      "/gate/application/setTimeStop    10 s\r\n",
      "\r\n",
      "/gate/application/startDAQ\r\n"
     ]
    }
   ],
   "source": [
    "cat PET_CylindricalPET_System.mac"
   ]
  },
  {
   "cell_type": "code",
   "execution_count": 5,
   "metadata": {
    "ExecuteTime": {
     "end_time": "2020-03-16T11:20:21.459359Z",
     "start_time": "2020-03-16T11:19:49.037979Z"
    }
   },
   "outputs": [
    {
     "name": "stdout",
     "output_type": "stream",
     "text": [
      "plop\n",
      "[G4] \n",
      "[G4] **************************************************************\n",
      "[G4]  Geant4 version Name: geant4-10-06-patch-01    (14-February-2020)\n",
      "[G4]                        Copyright : Geant4 Collaboration\n",
      "[G4]                       References : NIM A 506 (2003), 250-303\n",
      "[G4]                                  : IEEE-TNS 53 (2006), 270-278\n",
      "[G4]                                  : NIM A 835 (2016), 186-225\n",
      "[G4]                              WWW : http://geant4.org/\n",
      "[G4] **************************************************************\n",
      "[G4] \n",
      "[Core-0] Initialization of geometry\n",
      "[Core-0] Initialization of physics\n",
      "[Core-0] Initialization of actors\n",
      "[Core-0] \n",
      "[Core-0] *************************************************\n",
      "[Core-0]  GATE version 9.0 (March 2020)\n",
      "[Core-0]  Copyright : OpenGATE Collaboration\n",
      "[Core-0]  Reference : Phys. Med. Biol. 49 (2004) 4543-4561\n",
      "[Core-0]  Reference : Phys. Med. Biol. 56 (2011) 881-901\n",
      "[Core-0]  Reference : Med. Phys. 41(6)    (2014)\n",
      "[Core-0]  http://www.opengatecollaboration.org        \n",
      "[Core-0] *************************************************\n",
      "[Core-0] \n",
      "[Core-0] You are using Geant4 version 10.6.1\n",
      "[Core-0] Starting macro PET_CylindricalPET_System.mac\n",
      "GateToTree::SetOutputIDName, id_system = '0' anOutputIDName = 'gantryID' depth = '0'\n",
      "GateToTree::SetOutputIDName, id_system = '0' anOutputIDName = 'rsectorID' depth = '1'\n",
      "GateToTree::SetOutputIDName, id_system = '0' anOutputIDName = 'moduleID' depth = '2'\n",
      "GateToTree::SetOutputIDName, id_system = '0' anOutputIDName = 'submoduleID' depth = '3'\n",
      "GateToTree::SetOutputIDName, id_system = '0' anOutputIDName = 'crystalID' depth = '4'\n",
      "GateToTree::SetOutputIDName, id_system = '0' anOutputIDName = 'layerID' depth = '5'\n",
      "\n",
      "GATE object:        'systems/cylindricalPET'\n",
      "Components:\n",
      "\n",
      "GATE object:        'systems/cylindricalPET/base'\n",
      "Attached to volume: cylindricalPET\n",
      "Nb of children:       1\n",
      "\n",
      "\tGATE object:        'systems/cylindricalPET/rsector'\n",
      "\tAttached to volume: head\n",
      "\tNb of children:       1\n",
      "\n",
      "\t\tGATE object:        'systems/cylindricalPET/module'\n",
      "\t\tAttached to volume: block\n",
      "\t\tNb of children:       1\n",
      "\n",
      "\t\t\tGATE object:        'systems/cylindricalPET/submodule'\n",
      "\t\t\tAttached to volume: ---\n",
      "\t\t\tNb of children:       1\n",
      "\n",
      "\t\t\t\tGATE object:        'systems/cylindricalPET/crystal'\n",
      "\t\t\t\tAttached to volume: crystal\n",
      "\t\t\t\tNb of children:       4\n",
      "\n",
      "\t\t\t\t\tGATE object:        'systems/cylindricalPET/layer0'\n",
      "\t\t\t\t\tAttached to volume: LSO\n",
      "\t\t\t\t\tNb of children:       0\n",
      "\n",
      "\t\t\t\t\tGATE object:        'systems/cylindricalPET/layer1'\n",
      "\t\t\t\t\tAttached to volume: BGO\n",
      "\t\t\t\t\tNb of children:       0\n",
      "\n",
      "\t\t\t\t\tGATE object:        'systems/cylindricalPET/layer2'\n",
      "\t\t\t\t\tAttached to volume: ---\n",
      "\t\t\t\t\tNb of children:       0\n",
      "\n",
      "\t\t\t\t\tGATE object:        'systems/cylindricalPET/layer3'\n",
      "\t\t\t\t\tAttached to volume: ---\n",
      "\t\t\t\t\tNb of children:       0\n",
      "geometrical design type: 1\n",
      "ring diameter: 86.5 cm \n",
      "rsector axial pitch: 0 fm \n",
      "rsector azimuthal pitch: 90 degree\n",
      "rsector tangential size: 32 cm \n",
      "rsector axial size: 40 cm \n",
      "module axial size: 2 cm \n",
      "module tangential size: 1.6 cm \n",
      "module axial pitch: 2 cm \n",
      "module tangential pitch: 1.6 cm \n",
      "submodule axial size: 2 cm \n",
      "submodule tangential size: 1.6 cm \n",
      "submodule axial pitch: 0 fm \n",
      "submodule tangential pitch: 0 fm \n",
      "crystal radial size: 3 cm \n",
      "crystal axial size: 3.8 mm \n",
      "crystal tangential size: 3 mm \n",
      "crystal axial pitch: 4 mm \n",
      "crystal tangential pitch: 3.2 mm \n",
      "layer0 radial size: 1.5 cm \n",
      "in layer0 interaction length: 7.5 mm \n",
      "layer1 radial size: 1.5 cm \n",
      "in layer1 interaction length: 7.5 mm \n",
      "Axial nb of rsectors: 1\n",
      "Azimuthal nb of rsectors: 4\n",
      "Axial nb of modules: 20\n",
      "Tangential nb of modules: 20\n",
      "Axial nb of submodules: 1\n",
      "Tangential nb of submodules: 1\n",
      "Axial nb of crystals: 5\n",
      "Tangential nb of crystals: 5\n",
      "Radial nb of layers: 2\n",
      "[Physic-0] The following Geant4's physic-list is enabled :empenelope\n",
      "\n",
      "\n",
      "List of Enabled processes:\n",
      "\n",
      "\n",
      "\n",
      "\n",
      "List of initialized processes:\n",
      "\n",
      "  * B+\n",
      "    - msc\n",
      "    - hIoni\n",
      "    - nuclearStopping\n",
      "  * B-\n",
      "    - msc\n",
      "    - hIoni\n",
      "    - nuclearStopping\n",
      "  * D+\n",
      "    - msc\n",
      "    - hIoni\n",
      "    - nuclearStopping\n",
      "  * D-\n",
      "    - msc\n",
      "    - hIoni\n",
      "    - nuclearStopping\n",
      "  * Ds+\n",
      "    - msc\n",
      "    - hIoni\n",
      "    - nuclearStopping\n",
      "  * Ds-\n",
      "    - msc\n",
      "    - hIoni\n",
      "    - nuclearStopping\n",
      "  * GenericIon\n",
      "    - msc\n",
      "    - ionIoni\n",
      "    - nuclearStopping\n",
      "  * He3\n",
      "    - msc\n",
      "    - ionIoni\n",
      "    - nuclearStopping\n",
      "  * alpha\n",
      "    - msc\n",
      "    - ionIoni\n",
      "    - nuclearStopping\n",
      "  * anti_He3\n",
      "    - msc\n",
      "    - hIoni\n",
      "    - nuclearStopping\n",
      "  * anti_alpha\n",
      "    - msc\n",
      "    - hIoni\n",
      "    - nuclearStopping\n",
      "  * anti_deuteron\n",
      "    - msc\n",
      "    - hIoni\n",
      "    - nuclearStopping\n",
      "  * anti_lambda_c+\n",
      "    - msc\n",
      "    - hIoni\n",
      "    - nuclearStopping\n",
      "  * anti_omega-\n",
      "    - msc\n",
      "    - hIoni\n",
      "    - nuclearStopping\n",
      "  * anti_proton\n",
      "    - msc\n",
      "    - hIoni\n",
      "    - hBrems\n",
      "    - hPairProd\n",
      "    - CoulombScat\n",
      "  * anti_sigma+\n",
      "    - msc\n",
      "    - hIoni\n",
      "    - nuclearStopping\n",
      "  * anti_sigma-\n",
      "    - msc\n",
      "    - hIoni\n",
      "    - nuclearStopping\n",
      "  * anti_sigma_c+\n",
      "    - msc\n",
      "    - hIoni\n",
      "    - nuclearStopping\n",
      "  * anti_sigma_c++\n",
      "    - msc\n",
      "    - hIoni\n",
      "    - nuclearStopping\n",
      "  * anti_triton\n",
      "    - msc\n",
      "    - hIoni\n",
      "    - nuclearStopping\n",
      "  * anti_xi-\n",
      "    - msc\n",
      "    - hIoni\n",
      "    - nuclearStopping\n",
      "  * anti_xi_c+\n",
      "    - msc\n",
      "    - hIoni\n",
      "    - nuclearStopping\n",
      "  * deuteron\n",
      "    - msc\n",
      "    - hIoni\n",
      "    - nuclearStopping\n",
      "  * e+\n",
      "    - msc\n",
      "    - eIoni\n",
      "    - eBrem\n",
      "    - ePairProd\n",
      "    - annihil\n",
      "    - CoulombScat\n",
      "  * e-\n",
      "    - msc\n",
      "    - eIoni\n",
      "    - eBrem\n",
      "    - ePairProd\n",
      "    - CoulombScat\n",
      "  * gamma\n",
      "    - phot\n",
      "    - compt\n",
      "    - conv\n",
      "    - Rayl\n",
      "  * kaon+\n",
      "    - msc\n",
      "    - hIoni\n",
      "    - hBrems\n",
      "    - hPairProd\n",
      "    - CoulombScat\n",
      "  * kaon-\n",
      "    - msc\n",
      "    - hIoni\n",
      "    - hBrems\n",
      "    - hPairProd\n",
      "    - CoulombScat\n",
      "  * lambda_c+\n",
      "    - msc\n",
      "    - hIoni\n",
      "    - nuclearStopping\n",
      "  * mu+\n",
      "    - msc\n",
      "    - muIoni\n",
      "    - muBrems\n",
      "    - muPairProd\n",
      "    - CoulombScat\n",
      "  * mu-\n",
      "    - msc\n",
      "    - muIoni\n",
      "    - muBrems\n",
      "    - muPairProd\n",
      "    - CoulombScat\n",
      "  * omega-\n",
      "    - msc\n",
      "    - hIoni\n",
      "    - nuclearStopping\n",
      "  * pi+\n",
      "    - msc\n",
      "    - hIoni\n",
      "    - hBrems\n",
      "    - hPairProd\n",
      "    - CoulombScat\n",
      "  * pi-\n",
      "    - msc\n",
      "    - hIoni\n",
      "    - hBrems\n",
      "    - hPairProd\n",
      "    - CoulombScat\n",
      "  * proton\n",
      "    - msc\n",
      "    - hIoni\n",
      "    - hBrems\n",
      "    - hPairProd\n",
      "    - CoulombScat\n",
      "  * sigma+\n",
      "    - msc\n",
      "    - hIoni\n",
      "    - nuclearStopping\n",
      "  * sigma-\n",
      "    - msc\n",
      "    - hIoni\n",
      "    - nuclearStopping\n",
      "  * sigma_c+\n",
      "    - msc\n",
      "    - hIoni\n",
      "    - nuclearStopping\n",
      "  * sigma_c++\n",
      "    - msc\n",
      "    - hIoni\n",
      "    - nuclearStopping\n",
      "  * tau+\n",
      "    - msc\n",
      "    - hIoni\n",
      "    - nuclearStopping\n",
      "  * tau-\n",
      "    - msc\n",
      "    - hIoni\n",
      "    - nuclearStopping\n",
      "  * triton\n",
      "    - msc\n",
      "    - hIoni\n",
      "    - nuclearStopping\n",
      "  * xi-\n",
      "    - msc\n",
      "    - hIoni\n",
      "    - nuclearStopping\n",
      "  * xi_c+\n",
      "    - msc\n",
      "    - hIoni\n",
      "    - nuclearStopping\n",
      "\n",
      "[Core-0] Initialization of geometry\n",
      "[Physic-1]   \n",
      "[Physic-1]  ----------------------------------------------------------\n",
      "[Physic-1]                      Ionization potential \n",
      "[Physic-1]   - worldDefaultAir\t defaut value: I = 85.7031 eV \n",
      "[Physic-1]   - Air\t defaut value: I = 85.6694 eV \n",
      "[Physic-1]   - Vacuum\t defaut value: I = 19.2 eV \n",
      "[Physic-1]   - LSO\t defaut value: I = 418.807 eV \n",
      "[Physic-1]   - BGO\t defaut value: I = 473.785 eV \n",
      "[Physic-1]  ----------------------------------------------------------\n",
      "[Core-0] Initialization of physics\n",
      "[Physic-2]   GatePhysicsList::ConstructProcess\n",
      "[Physic-3]    mLoadState = 1\n",
      "[Physic-3]    mListOfStepLimiter.size = 0\n",
      "[Core-0] Initialization of actors\n",
      "GateSourceMgr::ListSources: List of the sources in the source manager\n",
      "Source --------------> posiC11\n",
      "  ID                 : 0\n",
      "  type               : backtoback\n",
      "  activity (Bq)      : 10000\n",
      "  startTime (s)      : 0\n",
      "  time (s)           : 0\n",
      "  forcedUnstable     : 1\n",
      "  forcedHalfLife (s) : 1223\n",
      "  verboseLevel       : 0\n",
      "  relative to vol    : world\n",
      "---------------------- \n",
      "\n",
      "[Acquisition-0]   \n",
      "[Acquisition-0] ============= Source initialization =============\n",
      "[Acquisition-0]   \n",
      "[Acquisition-0] ============= Acquisition starts! =============\n",
      "[Acquisition-0] Simulation start time = 0 sec\n",
      "[Acquisition-0] Simulation end time   = 10 sec\n",
      "[Acquisition-0] Simulation will have  = 10 run(s)\n",
      "\n",
      "----- HepJamesRandom engine status -----\n",
      " Initial seed = 1191094923\n",
      " u[] = 0.772011 0.71621 0.510357 0.466355 0.869192 0.737184 0.994049 0.500285 0.0943732 0.0387138 0.163666 0.587796 0.628473 0.734795 0.914947 0.959181 0.985706 0.625232 0.370246 0.878194 0.321847 0.242661 0.802897 0.584771 0.942793 0.146932 0.0114954 0.848092 0.168167 0.104305 0.338815 0.044017 0.695495 0.961882 0.36202 0.139726 0.0947608 0.27197 0.380274 0.432729 0.0174702 0.0694855 0.166538 0.534923 0.257352 0.303641 0.388849 0.596064 0.936653 0.255143 0.132116 0.00368726 0.672651 0.839892 0.323167 0.837532 0.484185 0.631935 0.744811 0.883598 0.498018 0.601785 0.135647 0.0744193 0.098978 0.0108107 0.783742 0.32139 0.80021 0.769569 0.844457 0.767957 0.0512154 0.521924 0.867576 0.28789 0.857595 0.554127 0.0574692 0.350102 0.585304 0.239874 0.479049 0.796124 0.641739 0.699299 0.911644 0.27589 0.357747 0.580217 0.744228 0.0647477 0.731176 0.409344 0.104743 0.675441 0.557676 \n",
      " c = 0.652903, cd = 0.456233, cm = 1\n",
      " i97 = 93, u[i97] = 0.409344\n",
      " j97 = 29, u[j97] = 0.104305\n",
      "----------------------------------------\n",
      "[Acquisition-0] Slice 0 from 0 to 1 s [slice=1 s]\n",
      "\n",
      "### ===  Deexcitation model UAtomDeexcitation is activated for 7 regions:\n",
      "          DefaultRegionForTheWorld  1  1  1\n",
      "          cylindricalPET  1  1  1\n",
      "          head  1  1  1\n",
      "          block  1  1  1\n",
      "          crystal  1  1  1\n",
      "          LSO  1  1  1\n",
      "          BGO  1  1  1\n"
     ]
    },
    {
     "name": "stdout",
     "output_type": "stream",
     "text": [
      "\n",
      "### === G4UAtomicDeexcitation::InitialiseForNewRun()\n",
      "### ===  Auger cascade flag: 1\n",
      "### ===  Ignore cuts flag:   0\n",
      "### ===  PIXE model for hadrons: Empirical\n",
      "### ===  PIXE model for e+-:     Penelope\n",
      "======================================================================\n",
      "The G4PenelopeIonisationModel is being used with the PIXE flag ON.\n",
      "Atomic de-excitation will be produced statistically by the PIXE \n",
      "interface by using the shell cross section --> Penelope\n",
      "The built-in model procedure for atomic de-excitation is disabled. \n",
      "*Please be sure this is intended*, or disable PIXE by\n",
      "/process/em/pixe false\n",
      "======================================================================\n",
      "\n",
      "phot:  for gamma applyCuts:1  SubType=12 BuildTable=0\n",
      "      LambdaPrime table from 200 keV to 100 TeV in 174 bins \n",
      "      ===== EM models for the G4Region  DefaultRegionForTheWorld ======\n",
      "        PenPhotoElec : Emin=    0 eV  Emax=    1 GeV Fluo\n",
      "       PhotoElectric : Emin=    1 GeV Emax=  100 TeV  SauterGavrila Fluo\n",
      "\n",
      "compt:  for gamma applyCuts:1  SubType=13 BuildTable=1\n",
      "      Lambda table from 100 eV  to 1 MeV, 20 bins/decade, spline: 1\n",
      "      LambdaPrime table from 1 MeV to 100 TeV in 160 bins \n",
      "      ===== EM models for the G4Region  DefaultRegionForTheWorld ======\n",
      "          PenCompton : Emin=    0 eV  Emax=    1 GeV Fluo\n",
      "        KleinNishina : Emin=    1 GeV Emax=  100 TeV Fluo\n",
      "\n",
      "conv:  for gamma applyCuts:1  SubType=14 BuildTable=1\n",
      "      Lambda table from 1.022 MeV to 100 TeV, 20 bins/decade, spline: 1\n",
      "      ===== EM models for the G4Region  DefaultRegionForTheWorld ======\n",
      "       PenConversion : Emin=    0 eV  Emax=    1 GeV\n",
      "     BetheHeitlerLPM : Emin=    1 GeV Emax=  100 TeV  ModifiedTsai\n",
      "\n",
      "Rayl:  for gamma applyCuts:1  SubType=11 BuildTable=1\n",
      "      Lambda table from 100 eV  to 100 keV, 20 bins/decade, spline: 0\n",
      "      LambdaPrime table from 100 keV to 100 TeV in 180 bins \n",
      "      ===== EM models for the G4Region  DefaultRegionForTheWorld ======\n",
      "         PenRayleigh : Emin=    0 eV  Emax=  100 GeV\n",
      "\n",
      "msc:  for e-  SubType= 10\n",
      "      RangeFactor= 0.08, stepLimType: 2, latDisp: 1\n",
      "      ===== EM models for the G4Region  DefaultRegionForTheWorld ======\n",
      "  GoudsmitSaunderson : Emin=    0 eV  Emax=  100 MeV Nbins=120 100 eV  - 100 MeV\n",
      "        WentzelVIUni : Emin=  100 MeV Emax=  100 TeV Nbins=120 100 MeV - 100 TeV\n",
      "\n",
      "eIoni:  for e-  SubType=2\n",
      "      dE/dx and range tables from 100 eV  to 100 TeV in 240 bins\n",
      "      Lambda tables from threshold to 100 TeV, 20 bins/decade, spline: 1\n",
      "      StepFunction=(0.2, 0.01 mm), integ: 1, fluct: 1, linLossLim= 0.01\n",
      "      ===== EM models for the G4Region  DefaultRegionForTheWorld ======\n",
      "             PenIoni : Emin=    0 eV  Emax=    1 GeV\n",
      "        MollerBhabha : Emin=    1 GeV Emax=  100 TeV\n",
      "\n",
      "eBrem:  for e-  SubType=3\n",
      "      dE/dx and range tables from 100 eV  to 100 TeV in 240 bins\n",
      "      Lambda tables from threshold to 100 TeV, 20 bins/decade, spline: 1\n",
      "      LPM flag: 1 for E > 1 GeV,  VertexHighEnergyTh(GeV)= 100000\n",
      "      ===== EM models for the G4Region  DefaultRegionForTheWorld ======\n",
      "             PenBrem : Emin=    0 eV  Emax=    1 GeV\n",
      "            eBremLPM : Emin=    1 GeV Emax=  100 TeV  ModifiedTsai\n",
      "\n",
      "ePairProd:  for e-  SubType=4\n",
      "      dE/dx and range tables from 100 eV  to 100 TeV in 240 bins\n",
      "      Lambda tables from threshold to 100 TeV, 20 bins/decade, spline: 1\n",
      "      Sampling table 25x1001; from 0.1 GeV to 100 TeV \n",
      "      ===== EM models for the G4Region  DefaultRegionForTheWorld ======\n",
      "           ePairProd : Emin=    0 eV  Emax=  100 TeV\n",
      "\n",
      "CoulombScat:  for e-, integral:1  applyCuts:1  SubType=1 BuildTable=1\n",
      "      Lambda table from 100 MeV to 100 TeV, 20 bins/decade, spline: 1\n",
      "      ThetaMin(p) < Theta(degree) < 180; pLimit(GeV^1)= 0.139531\n",
      "      ===== EM models for the G4Region  DefaultRegionForTheWorld ======\n",
      "  eCoulombScattering : Emin=  100 MeV Emax=  100 TeV\n",
      "\n",
      "msc:  for e+  SubType= 10\n",
      "      RangeFactor= 0.08, stepLimType: 2, latDisp: 1\n",
      "      ===== EM models for the G4Region  DefaultRegionForTheWorld ======\n",
      "  GoudsmitSaunderson : Emin=    0 eV  Emax=  100 MeV Nbins=120 100 eV  - 100 MeV\n",
      "        WentzelVIUni : Emin=  100 MeV Emax=  100 TeV Nbins=120 100 MeV - 100 TeV\n",
      "\n",
      "eIoni:  for e+  SubType=2\n",
      "      dE/dx and range tables from 100 eV  to 100 TeV in 240 bins\n",
      "      Lambda tables from threshold to 100 TeV, 20 bins/decade, spline: 1\n",
      "      StepFunction=(0.2, 0.01 mm), integ: 1, fluct: 1, linLossLim= 0.01\n",
      "      ===== EM models for the G4Region  DefaultRegionForTheWorld ======\n",
      "             PenIoni : Emin=    0 eV  Emax=    1 GeV\n",
      "        MollerBhabha : Emin=    1 GeV Emax=  100 TeV\n",
      "\n",
      "eBrem:  for e+  SubType=3\n",
      "      dE/dx and range tables from 100 eV  to 100 TeV in 240 bins\n",
      "      Lambda tables from threshold to 100 TeV, 20 bins/decade, spline: 1\n",
      "      LPM flag: 1 for E > 1 GeV,  VertexHighEnergyTh(GeV)= 100000\n",
      "      ===== EM models for the G4Region  DefaultRegionForTheWorld ======\n",
      "             PenBrem : Emin=    0 eV  Emax=    1 GeV\n",
      "            eBremLPM : Emin=    1 GeV Emax=  100 TeV  ModifiedTsai\n",
      "\n",
      "ePairProd:  for e+  SubType=4\n",
      "      dE/dx and range tables from 100 eV  to 100 TeV in 240 bins\n",
      "      Lambda tables from threshold to 100 TeV, 20 bins/decade, spline: 1\n",
      "      Sampling table 25x1001; from 0.1 GeV to 100 TeV \n",
      "      ===== EM models for the G4Region  DefaultRegionForTheWorld ======\n",
      "           ePairProd : Emin=    0 eV  Emax=  100 TeV\n",
      "\n",
      "annihil:  for e+, integral:1  applyCuts:1  SubType=5 BuildTable=0\n",
      "      ===== EM models for the G4Region  DefaultRegionForTheWorld ======\n",
      "            PenAnnih : Emin=    0 eV  Emax=    1 GeV\n",
      "            eplus2gg : Emin=    1 GeV Emax=  100 TeV\n",
      "\n",
      "CoulombScat:  for e+, integral:1  applyCuts:1  SubType=1 BuildTable=1\n",
      "      Lambda table from 100 MeV to 100 TeV, 20 bins/decade, spline: 1\n",
      "      ThetaMin(p) < Theta(degree) < 180; pLimit(GeV^1)= 0.139531\n",
      "      ===== EM models for the G4Region  DefaultRegionForTheWorld ======\n",
      "  eCoulombScattering : Emin=  100 MeV Emax=  100 TeV\n",
      "\n",
      "msc:  for proton  SubType= 10\n",
      "      RangeFactor= 0.2, stepLimType: 0, latDisp: 1\n",
      "      ===== EM models for the G4Region  DefaultRegionForTheWorld ======\n",
      "        WentzelVIUni : Emin=    0 eV  Emax=  100 TeV Nbins=240 100 eV  - 100 TeV\n",
      "\n",
      "hIoni:  for proton  SubType=2\n",
      "      dE/dx and range tables from 100 eV  to 100 TeV in 240 bins\n",
      "      Lambda tables from threshold to 100 TeV, 20 bins/decade, spline: 1\n",
      "      StepFunction=(0.2, 0.05 mm), integ: 1, fluct: 1, linLossLim= 0.01\n",
      "      ===== EM models for the G4Region  DefaultRegionForTheWorld ======\n",
      "               Bragg : Emin=    0 eV  Emax=    2 MeV\n",
      "          BetheBloch : Emin=    2 MeV Emax=  100 TeV\n",
      "\n",
      "hBrems:  for proton  SubType=3\n",
      "      dE/dx and range tables from 100 eV  to 100 TeV in 240 bins\n",
      "      Lambda tables from threshold to 100 TeV, 20 bins/decade, spline: 1\n",
      "      ===== EM models for the G4Region  DefaultRegionForTheWorld ======\n",
      "               hBrem : Emin=    0 eV  Emax=  100 TeV\n",
      "      ===== Limit on energy threshold has been applied \n",
      "\n",
      "hPairProd:  for proton  SubType=4\n",
      "      dE/dx and range tables from 100 eV  to 100 TeV in 240 bins\n",
      "      Lambda tables from threshold to 100 TeV, 20 bins/decade, spline: 1\n",
      "      Sampling table 17x1001; from 7.50618 GeV to 100 TeV \n",
      "      ===== EM models for the G4Region  DefaultRegionForTheWorld ======\n",
      "           hPairProd : Emin=    0 eV  Emax=  100 TeV\n",
      "\n",
      "CoulombScat:  for proton, integral:1  applyCuts:1  SubType=1 BuildTable=1\n",
      "      Lambda table from threshold  to 100 TeV, 20 bins/decade, spline: 1\n",
      "      ThetaMin(p) < Theta(degree) < 180; pLimit(GeV^1)= 0.139531\n",
      "      ===== EM models for the G4Region  DefaultRegionForTheWorld ======\n",
      "  eCoulombScattering : Emin=    0 eV  Emax=  100 TeV\n",
      "\n",
      "msc:  for GenericIon  SubType= 10\n",
      "      RangeFactor= 0.2, stepLimType: 0, latDisp: 0\n",
      "      ===== EM models for the G4Region  DefaultRegionForTheWorld ======\n",
      "            UrbanMsc : Emin=    0 eV  Emax=  100 TeV\n",
      "\n",
      "ionIoni:  for GenericIon  SubType=2\n",
      "      dE/dx and range tables from 100 eV  to 100 TeV in 240 bins\n",
      "      Lambda tables from threshold to 100 TeV, 20 bins/decade, spline: 1\n",
      "      StepFunction=(0.1, 0.001 mm), integ: 1, fluct: 1, linLossLim= 0.02\n",
      "      ===== EM models for the G4Region  DefaultRegionForTheWorld ======\n",
      "         ParamICRU73 : Emin=    0 eV  Emax=  100 TeV  deltaVI\n",
      "\n",
      "nuclearStopping:  for GenericIon applyCuts:1  SubType=8 BuildTable=0\n",
      "      ===== EM models for the G4Region  DefaultRegionForTheWorld ======\n",
      "   ICRU49NucStopping : Emin=    0 eV  Emax=    1 MeV\n",
      "\n",
      "msc:  for alpha  SubType= 10\n",
      "      RangeFactor= 0.2, stepLimType: 0, latDisp: 1\n",
      "      ===== EM models for the G4Region  DefaultRegionForTheWorld ======\n",
      "            UrbanMsc : Emin=    0 eV  Emax=  100 TeV Nbins=240 100 eV  - 100 TeV\n",
      "\n",
      "ionIoni:  for alpha  SubType=2\n",
      "      dE/dx and range tables from 100 eV  to 100 TeV in 240 bins\n",
      "      Lambda tables from threshold to 100 TeV, 20 bins/decade, spline: 1\n",
      "      StepFunction=(0.2, 0.05 mm), integ: 1, fluct: 1, linLossLim= 0.02\n",
      "      ===== EM models for the G4Region  DefaultRegionForTheWorld ======\n",
      "            BraggIon : Emin=    0 eV  Emax=7.9452 MeV\n",
      "          BetheBloch : Emin=7.9452 MeV Emax=  100 TeV\n",
      "\n",
      "nuclearStopping:  for alpha applyCuts:1  SubType=8 BuildTable=0\n",
      "      ===== EM models for the G4Region  DefaultRegionForTheWorld ======\n",
      "   ICRU49NucStopping : Emin=    0 eV  Emax=    1 MeV\n",
      "\n",
      "msc:  for anti_proton  SubType= 10\n",
      "      RangeFactor= 0.2, stepLimType: 0, latDisp: 1\n",
      "      ===== EM models for the G4Region  DefaultRegionForTheWorld ======\n",
      "        WentzelVIUni : Emin=    0 eV  Emax=  100 TeV Nbins=240 100 eV  - 100 TeV\n",
      "\n",
      "hIoni:  for anti_proton  SubType=2\n",
      "      dE/dx and range tables from 100 eV  to 100 TeV in 240 bins\n",
      "      Lambda tables from threshold to 100 TeV, 20 bins/decade, spline: 1\n",
      "      StepFunction=(0.2, 0.05 mm), integ: 1, fluct: 1, linLossLim= 0.01\n",
      "      ===== EM models for the G4Region  DefaultRegionForTheWorld ======\n",
      "            ICRU73QO : Emin=    0 eV  Emax=    2 MeV\n",
      "          BetheBloch : Emin=    2 MeV Emax=  100 TeV\n",
      "\n",
      "hBrems:  for anti_proton  SubType=3\n",
      "      dE/dx and range tables from 100 eV  to 100 TeV in 240 bins\n",
      "      Lambda tables from threshold to 100 TeV, 20 bins/decade, spline: 1\n",
      "      ===== EM models for the G4Region  DefaultRegionForTheWorld ======\n",
      "               hBrem : Emin=    0 eV  Emax=  100 TeV\n",
      "      ===== Limit on energy threshold has been applied \n",
      "\n",
      "hPairProd:  for anti_proton  SubType=4\n",
      "      dE/dx and range tables from 100 eV  to 100 TeV in 240 bins\n",
      "      Lambda tables from threshold to 100 TeV, 20 bins/decade, spline: 1\n",
      "      Sampling table 17x1001; from 7.50618 GeV to 100 TeV \n",
      "      ===== EM models for the G4Region  DefaultRegionForTheWorld ======\n",
      "           hPairProd : Emin=    0 eV  Emax=  100 TeV\n",
      "\n",
      "CoulombScat:  for anti_proton, integral:1  applyCuts:1  SubType=1 BuildTable=1\n",
      "      Lambda table from threshold  to 100 TeV, 20 bins/decade, spline: 1\n",
      "      ThetaMin(p) < Theta(degree) < 180; pLimit(GeV^1)= 0.139531\n",
      "      ===== EM models for the G4Region  DefaultRegionForTheWorld ======\n",
      "  eCoulombScattering : Emin=    0 eV  Emax=  100 TeV\n",
      "\n",
      "msc:  for kaon+  SubType= 10\n",
      "      RangeFactor= 0.2, stepLimType: 0, latDisp: 1\n",
      "      ===== EM models for the G4Region  DefaultRegionForTheWorld ======\n",
      "        WentzelVIUni : Emin=    0 eV  Emax=  100 TeV Nbins=240 100 eV  - 100 TeV\n"
     ]
    },
    {
     "name": "stdout",
     "output_type": "stream",
     "text": [
      "\n",
      "hIoni:  for kaon+  SubType=2\n",
      "      dE/dx and range tables from 100 eV  to 100 TeV in 240 bins\n",
      "      Lambda tables from threshold to 100 TeV, 20 bins/decade, spline: 1\n",
      "      StepFunction=(0.2, 0.05 mm), integ: 1, fluct: 1, linLossLim= 0.01\n",
      "      ===== EM models for the G4Region  DefaultRegionForTheWorld ======\n",
      "               Bragg : Emin=    0 eV  Emax=1.05231 MeV\n",
      "          BetheBloch : Emin=1.05231 MeV Emax=  100 TeV\n",
      "\n",
      "hBrems:  for kaon+  SubType=3\n",
      "      dE/dx and range tables from 100 eV  to 100 TeV in 240 bins\n",
      "      Lambda tables from threshold to 100 TeV, 20 bins/decade, spline: 1\n",
      "      ===== EM models for the G4Region  DefaultRegionForTheWorld ======\n",
      "               hBrem : Emin=    0 eV  Emax=  100 TeV\n",
      "      ===== Limit on energy threshold has been applied \n",
      "\n",
      "hPairProd:  for kaon+  SubType=4\n",
      "      dE/dx and range tables from 100 eV  to 100 TeV in 240 bins\n",
      "      Lambda tables from threshold to 100 TeV, 20 bins/decade, spline: 1\n",
      "      Sampling table 18x1001; from 3.94942 GeV to 100 TeV \n",
      "      ===== EM models for the G4Region  DefaultRegionForTheWorld ======\n",
      "           hPairProd : Emin=    0 eV  Emax=  100 TeV\n",
      "\n",
      "CoulombScat:  for kaon+, integral:1  applyCuts:1  SubType=1 BuildTable=1\n",
      "      Lambda table from threshold  to 100 TeV, 20 bins/decade, spline: 1\n",
      "      ThetaMin(p) < Theta(degree) < 180; pLimit(GeV^1)= 0.139531\n",
      "      ===== EM models for the G4Region  DefaultRegionForTheWorld ======\n",
      "  eCoulombScattering : Emin=    0 eV  Emax=  100 TeV\n",
      "\n",
      "msc:  for kaon-  SubType= 10\n",
      "      RangeFactor= 0.2, stepLimType: 0, latDisp: 1\n",
      "      ===== EM models for the G4Region  DefaultRegionForTheWorld ======\n",
      "        WentzelVIUni : Emin=    0 eV  Emax=  100 TeV Nbins=240 100 eV  - 100 TeV\n",
      "\n",
      "hIoni:  for kaon-  SubType=2\n",
      "      dE/dx and range tables from 100 eV  to 100 TeV in 240 bins\n",
      "      Lambda tables from threshold to 100 TeV, 20 bins/decade, spline: 1\n",
      "      StepFunction=(0.2, 0.05 mm), integ: 1, fluct: 1, linLossLim= 0.01\n",
      "      ===== EM models for the G4Region  DefaultRegionForTheWorld ======\n",
      "            ICRU73QO : Emin=    0 eV  Emax=1.05231 MeV\n",
      "          BetheBloch : Emin=1.05231 MeV Emax=  100 TeV\n",
      "\n",
      "hBrems:  for kaon-  SubType=3\n",
      "      dE/dx and range tables from 100 eV  to 100 TeV in 240 bins\n",
      "      Lambda tables from threshold to 100 TeV, 20 bins/decade, spline: 1\n",
      "      ===== EM models for the G4Region  DefaultRegionForTheWorld ======\n",
      "               hBrem : Emin=    0 eV  Emax=  100 TeV\n",
      "      ===== Limit on energy threshold has been applied \n",
      "\n",
      "hPairProd:  for kaon-  SubType=4\n",
      "      dE/dx and range tables from 100 eV  to 100 TeV in 240 bins\n",
      "      Lambda tables from threshold to 100 TeV, 20 bins/decade, spline: 1\n",
      "      Sampling table 18x1001; from 3.94942 GeV to 100 TeV \n",
      "      ===== EM models for the G4Region  DefaultRegionForTheWorld ======\n",
      "           hPairProd : Emin=    0 eV  Emax=  100 TeV\n",
      "\n",
      "CoulombScat:  for kaon-, integral:1  applyCuts:1  SubType=1 BuildTable=1\n",
      "      Used Lambda table of kaon+\n",
      "      ThetaMin(p) < Theta(degree) < 180; pLimit(GeV^1)= 0.139531\n",
      "      ===== EM models for the G4Region  DefaultRegionForTheWorld ======\n",
      "  eCoulombScattering : Emin=    0 eV  Emax=  100 TeV\n",
      "\n",
      "msc:  for mu+  SubType= 10\n",
      "      RangeFactor= 0.2, stepLimType: 0, latDisp: 1, polarAngLim(deg)= 180\n",
      "      ===== EM models for the G4Region  DefaultRegionForTheWorld ======\n",
      "        WentzelVIUni : Emin=    0 eV  Emax=  100 TeV Nbins=240 100 eV  - 100 TeV\n",
      "\n",
      "muIoni:  for mu+  SubType=2\n",
      "      dE/dx and range tables from 100 eV  to 100 TeV in 240 bins\n",
      "      Lambda tables from threshold to 100 TeV, 20 bins/decade, spline: 1\n",
      "      StepFunction=(0.2, 0.05 mm), integ: 1, fluct: 1, linLossLim= 0.01\n",
      "      ===== EM models for the G4Region  DefaultRegionForTheWorld ======\n",
      "               Bragg : Emin=    0 eV  Emax=  200 keV\n",
      "          BetheBloch : Emin=  200 keV Emax=    1 GeV\n",
      "        MuBetheBloch : Emin=    1 GeV Emax=  100 TeV\n",
      "\n",
      "muBrems:  for mu+  SubType=3\n",
      "      dE/dx and range tables from 100 eV  to 100 TeV in 240 bins\n",
      "      Lambda tables from threshold to 100 TeV, 20 bins/decade, spline: 1\n",
      "      ===== EM models for the G4Region  DefaultRegionForTheWorld ======\n",
      "              MuBrem : Emin=    0 eV  Emax=  100 TeV\n",
      "      ===== Limit on energy threshold has been applied \n",
      "\n",
      "muPairProd:  for mu+  SubType=4\n",
      "      dE/dx and range tables from 100 eV  to 100 TeV in 240 bins\n",
      "      Lambda tables from threshold to 100 TeV, 20 bins/decade, spline: 1\n",
      "      Sampling table 21x1001; from 1 GeV to 100 TeV \n",
      "      ===== EM models for the G4Region  DefaultRegionForTheWorld ======\n",
      "          muPairProd : Emin=    0 eV  Emax=  100 TeV\n",
      "\n",
      "CoulombScat:  for mu+, integral:1  applyCuts:1  SubType=1 BuildTable=1\n",
      "      Lambda table from threshold  to 100 TeV, 20 bins/decade, spline: 1\n",
      "      ThetaMin(p) < Theta(degree) < 180; pLimit(GeV^1)= 0.139531\n",
      "      ===== EM models for the G4Region  DefaultRegionForTheWorld ======\n",
      "  eCoulombScattering : Emin=    0 eV  Emax=  100 TeV\n",
      "\n",
      "msc:  for mu-  SubType= 10\n",
      "      RangeFactor= 0.2, stepLimType: 0, latDisp: 1, polarAngLim(deg)= 180\n",
      "      ===== EM models for the G4Region  DefaultRegionForTheWorld ======\n",
      "        WentzelVIUni : Emin=    0 eV  Emax=  100 TeV Nbins=240 100 eV  - 100 TeV\n",
      "\n",
      "muIoni:  for mu-  SubType=2\n",
      "      dE/dx and range tables from 100 eV  to 100 TeV in 240 bins\n",
      "      Lambda tables from threshold to 100 TeV, 20 bins/decade, spline: 1\n",
      "      StepFunction=(0.2, 0.05 mm), integ: 1, fluct: 1, linLossLim= 0.01\n",
      "      ===== EM models for the G4Region  DefaultRegionForTheWorld ======\n",
      "            ICRU73QO : Emin=    0 eV  Emax=  200 keV\n",
      "          BetheBloch : Emin=  200 keV Emax=    1 GeV\n",
      "        MuBetheBloch : Emin=    1 GeV Emax=  100 TeV\n",
      "\n",
      "muBrems:  for mu-  SubType=3\n",
      "      dE/dx and range tables from 100 eV  to 100 TeV in 240 bins\n",
      "      Lambda tables from threshold to 100 TeV, 20 bins/decade, spline: 1\n",
      "      ===== EM models for the G4Region  DefaultRegionForTheWorld ======\n",
      "              MuBrem : Emin=    0 eV  Emax=  100 TeV\n",
      "      ===== Limit on energy threshold has been applied \n",
      "\n",
      "muPairProd:  for mu-  SubType=4\n",
      "      dE/dx and range tables from 100 eV  to 100 TeV in 240 bins\n",
      "      Lambda tables from threshold to 100 TeV, 20 bins/decade, spline: 1\n",
      "      Sampling table 21x1001; from 1 GeV to 100 TeV \n",
      "      ===== EM models for the G4Region  DefaultRegionForTheWorld ======\n",
      "          muPairProd : Emin=    0 eV  Emax=  100 TeV\n",
      "\n",
      "CoulombScat:  for mu-, integral:1  applyCuts:1  SubType=1 BuildTable=1\n",
      "      Used Lambda table of mu+\n",
      "      ThetaMin(p) < Theta(degree) < 180; pLimit(GeV^1)= 0.139531\n",
      "      ===== EM models for the G4Region  DefaultRegionForTheWorld ======\n",
      "  eCoulombScattering : Emin=    0 eV  Emax=  100 TeV\n",
      "\n",
      "msc:  for pi+  SubType= 10\n",
      "      RangeFactor= 0.2, stepLimType: 0, latDisp: 1\n",
      "      ===== EM models for the G4Region  DefaultRegionForTheWorld ======\n",
      "        WentzelVIUni : Emin=    0 eV  Emax=  100 TeV Nbins=240 100 eV  - 100 TeV\n",
      "\n",
      "hIoni:  for pi+  SubType=2\n",
      "      dE/dx and range tables from 100 eV  to 100 TeV in 240 bins\n",
      "      Lambda tables from threshold to 100 TeV, 20 bins/decade, spline: 1\n",
      "      StepFunction=(0.2, 0.05 mm), integ: 1, fluct: 1, linLossLim= 0.01\n",
      "      ===== EM models for the G4Region  DefaultRegionForTheWorld ======\n",
      "               Bragg : Emin=    0 eV  Emax=297.505 keV\n",
      "          BetheBloch : Emin=297.505 keV Emax=  100 TeV\n",
      "\n",
      "hBrems:  for pi+  SubType=3\n",
      "      dE/dx and range tables from 100 eV  to 100 TeV in 240 bins\n",
      "      Lambda tables from threshold to 100 TeV, 20 bins/decade, spline: 1\n",
      "      ===== EM models for the G4Region  DefaultRegionForTheWorld ======\n",
      "               hBrem : Emin=    0 eV  Emax=  100 TeV\n",
      "      ===== Limit on energy threshold has been applied \n",
      "\n",
      "hPairProd:  for pi+  SubType=4\n",
      "      dE/dx and range tables from 100 eV  to 100 TeV in 240 bins\n",
      "      Lambda tables from threshold to 100 TeV, 20 bins/decade, spline: 1\n",
      "      Sampling table 20x1001; from 1.11656 GeV to 100 TeV \n",
      "      ===== EM models for the G4Region  DefaultRegionForTheWorld ======\n",
      "           hPairProd : Emin=    0 eV  Emax=  100 TeV\n",
      "\n",
      "CoulombScat:  for pi+, integral:1  applyCuts:1  SubType=1 BuildTable=1\n",
      "      Lambda table from threshold  to 100 TeV, 20 bins/decade, spline: 1\n",
      "      ThetaMin(p) < Theta(degree) < 180; pLimit(GeV^1)= 0.139531\n",
      "      ===== EM models for the G4Region  DefaultRegionForTheWorld ======\n",
      "  eCoulombScattering : Emin=    0 eV  Emax=  100 TeV\n",
      "\n",
      "msc:  for pi-  SubType= 10\n",
      "      RangeFactor= 0.2, stepLimType: 0, latDisp: 1\n",
      "      ===== EM models for the G4Region  DefaultRegionForTheWorld ======\n",
      "        WentzelVIUni : Emin=    0 eV  Emax=  100 TeV Nbins=240 100 eV  - 100 TeV\n",
      "\n",
      "hIoni:  for pi-  SubType=2\n",
      "      dE/dx and range tables from 100 eV  to 100 TeV in 240 bins\n",
      "      Lambda tables from threshold to 100 TeV, 20 bins/decade, spline: 1\n",
      "      StepFunction=(0.2, 0.05 mm), integ: 1, fluct: 1, linLossLim= 0.01\n",
      "      ===== EM models for the G4Region  DefaultRegionForTheWorld ======\n",
      "            ICRU73QO : Emin=    0 eV  Emax=297.505 keV\n",
      "          BetheBloch : Emin=297.505 keV Emax=  100 TeV\n",
      "\n",
      "hBrems:  for pi-  SubType=3\n",
      "      dE/dx and range tables from 100 eV  to 100 TeV in 240 bins\n",
      "      Lambda tables from threshold to 100 TeV, 20 bins/decade, spline: 1\n",
      "      ===== EM models for the G4Region  DefaultRegionForTheWorld ======\n",
      "               hBrem : Emin=    0 eV  Emax=  100 TeV\n",
      "      ===== Limit on energy threshold has been applied \n",
      "\n",
      "hPairProd:  for pi-  SubType=4\n",
      "      dE/dx and range tables from 100 eV  to 100 TeV in 240 bins\n",
      "      Lambda tables from threshold to 100 TeV, 20 bins/decade, spline: 1\n",
      "      Sampling table 20x1001; from 1.11656 GeV to 100 TeV \n",
      "      ===== EM models for the G4Region  DefaultRegionForTheWorld ======\n",
      "           hPairProd : Emin=    0 eV  Emax=  100 TeV\n",
      "\n",
      "CoulombScat:  for pi-, integral:1  applyCuts:1  SubType=1 BuildTable=1\n",
      "      Used Lambda table of pi+\n",
      "      ThetaMin(p) < Theta(degree) < 180; pLimit(GeV^1)= 0.139531\n",
      "      ===== EM models for the G4Region  DefaultRegionForTheWorld ======\n",
      "  eCoulombScattering : Emin=    0 eV  Emax=  100 TeV\n",
      "G4VisManager: Using G4TrajectoryDrawByCharge as fallback trajectory model.\n",
      "See commands in /vis/modeling/trajectories/ for other options.\n",
      "\n",
      "### ===  Deexcitation model UAtomDeexcitation is activated for 7 regions:\n",
      "          DefaultRegionForTheWorld  1  1  1\n",
      "          cylindricalPET  1  1  1\n",
      "          head  1  1  1\n",
      "          block  1  1  1\n",
      "          crystal  1  1  1\n",
      "          LSO  1  1  1\n",
      "          BGO  1  1  1\n",
      "\n",
      "### === G4UAtomicDeexcitation::InitialiseForNewRun()\n",
      "### ===  Auger cascade flag: 1\n",
      "### ===  Ignore cuts flag:   0\n",
      "### ===  PIXE model for hadrons: Empirical\n",
      "### ===  PIXE model for e+-:     Penelope\n"
     ]
    },
    {
     "name": "stdout",
     "output_type": "stream",
     "text": [
      "[Acquisition-0] Slice 1 from 1 to 2 s [slice=1 s]\n",
      "\n",
      "### ===  Deexcitation model UAtomDeexcitation is activated for 7 regions:\n",
      "          DefaultRegionForTheWorld  1  1  1\n",
      "          cylindricalPET  1  1  1\n",
      "          head  1  1  1\n",
      "          block  1  1  1\n",
      "          crystal  1  1  1\n",
      "          LSO  1  1  1\n",
      "          BGO  1  1  1\n",
      "\n",
      "### === G4UAtomicDeexcitation::InitialiseForNewRun()\n",
      "### ===  Auger cascade flag: 1\n",
      "### ===  Ignore cuts flag:   0\n",
      "### ===  PIXE model for hadrons: Empirical\n",
      "### ===  PIXE model for e+-:     Penelope\n",
      "[Acquisition-0] Slice 2 from 2 to 3 s [slice=1 s]\n",
      "\n",
      "### ===  Deexcitation model UAtomDeexcitation is activated for 7 regions:\n",
      "          DefaultRegionForTheWorld  1  1  1\n",
      "          cylindricalPET  1  1  1\n",
      "          head  1  1  1\n",
      "          block  1  1  1\n",
      "          crystal  1  1  1\n",
      "          LSO  1  1  1\n",
      "          BGO  1  1  1\n",
      "\n",
      "### === G4UAtomicDeexcitation::InitialiseForNewRun()\n",
      "### ===  Auger cascade flag: 1\n",
      "### ===  Ignore cuts flag:   0\n",
      "### ===  PIXE model for hadrons: Empirical\n",
      "### ===  PIXE model for e+-:     Penelope\n",
      "[Acquisition-0] Slice 3 from 3 to 4 s [slice=1 s]\n",
      "\n",
      "### ===  Deexcitation model UAtomDeexcitation is activated for 7 regions:\n",
      "          DefaultRegionForTheWorld  1  1  1\n",
      "          cylindricalPET  1  1  1\n",
      "          head  1  1  1\n",
      "          block  1  1  1\n",
      "          crystal  1  1  1\n",
      "          LSO  1  1  1\n",
      "          BGO  1  1  1\n",
      "\n",
      "### === G4UAtomicDeexcitation::InitialiseForNewRun()\n",
      "### ===  Auger cascade flag: 1\n",
      "### ===  Ignore cuts flag:   0\n",
      "### ===  PIXE model for hadrons: Empirical\n",
      "### ===  PIXE model for e+-:     Penelope\n",
      "[Acquisition-0] Slice 4 from 4 to 5 s [slice=1 s]\n",
      "\n",
      "### ===  Deexcitation model UAtomDeexcitation is activated for 7 regions:\n",
      "          DefaultRegionForTheWorld  1  1  1\n",
      "          cylindricalPET  1  1  1\n",
      "          head  1  1  1\n",
      "          block  1  1  1\n",
      "          crystal  1  1  1\n",
      "          LSO  1  1  1\n",
      "          BGO  1  1  1\n",
      "\n",
      "### === G4UAtomicDeexcitation::InitialiseForNewRun()\n",
      "### ===  Auger cascade flag: 1\n",
      "### ===  Ignore cuts flag:   0\n",
      "### ===  PIXE model for hadrons: Empirical\n",
      "### ===  PIXE model for e+-:     Penelope\n",
      "[Acquisition-0] Slice 5 from 5 to 6 s [slice=1 s]\n",
      "\n",
      "### ===  Deexcitation model UAtomDeexcitation is activated for 7 regions:\n",
      "          DefaultRegionForTheWorld  1  1  1\n",
      "          cylindricalPET  1  1  1\n",
      "          head  1  1  1\n",
      "          block  1  1  1\n",
      "          crystal  1  1  1\n",
      "          LSO  1  1  1\n",
      "          BGO  1  1  1\n",
      "\n",
      "### === G4UAtomicDeexcitation::InitialiseForNewRun()\n",
      "### ===  Auger cascade flag: 1\n",
      "### ===  Ignore cuts flag:   0\n",
      "### ===  PIXE model for hadrons: Empirical\n",
      "### ===  PIXE model for e+-:     Penelope\n",
      "[Acquisition-0] Slice 6 from 6 to 7 s [slice=1 s]\n",
      "\n",
      "### ===  Deexcitation model UAtomDeexcitation is activated for 7 regions:\n",
      "          DefaultRegionForTheWorld  1  1  1\n",
      "          cylindricalPET  1  1  1\n",
      "          head  1  1  1\n",
      "          block  1  1  1\n",
      "          crystal  1  1  1\n",
      "          LSO  1  1  1\n",
      "          BGO  1  1  1\n",
      "\n",
      "### === G4UAtomicDeexcitation::InitialiseForNewRun()\n",
      "### ===  Auger cascade flag: 1\n",
      "### ===  Ignore cuts flag:   0\n",
      "### ===  PIXE model for hadrons: Empirical\n",
      "### ===  PIXE model for e+-:     Penelope\n",
      "[Acquisition-0] Slice 7 from 7 to 8 s [slice=1 s]\n",
      "\n",
      "### ===  Deexcitation model UAtomDeexcitation is activated for 7 regions:\n",
      "          DefaultRegionForTheWorld  1  1  1\n",
      "          cylindricalPET  1  1  1\n",
      "          head  1  1  1\n",
      "          block  1  1  1\n",
      "          crystal  1  1  1\n",
      "          LSO  1  1  1\n",
      "          BGO  1  1  1\n",
      "\n",
      "### === G4UAtomicDeexcitation::InitialiseForNewRun()\n",
      "### ===  Auger cascade flag: 1\n",
      "### ===  Ignore cuts flag:   0\n",
      "### ===  PIXE model for hadrons: Empirical\n",
      "### ===  PIXE model for e+-:     Penelope\n",
      "[Acquisition-0] Slice 8 from 8 to 9 s [slice=1 s]\n",
      "\n",
      "### ===  Deexcitation model UAtomDeexcitation is activated for 7 regions:\n",
      "          DefaultRegionForTheWorld  1  1  1\n",
      "          cylindricalPET  1  1  1\n",
      "          head  1  1  1\n",
      "          block  1  1  1\n",
      "          crystal  1  1  1\n",
      "          LSO  1  1  1\n",
      "          BGO  1  1  1\n",
      "\n",
      "### === G4UAtomicDeexcitation::InitialiseForNewRun()\n",
      "### ===  Auger cascade flag: 1\n",
      "### ===  Ignore cuts flag:   0\n",
      "### ===  PIXE model for hadrons: Empirical\n",
      "### ===  PIXE model for e+-:     Penelope\n",
      "[Acquisition-0] Slice 9 from 9 to 10 s [slice=1 s]\n",
      "\n",
      "### ===  Deexcitation model UAtomDeexcitation is activated for 7 regions:\n",
      "          DefaultRegionForTheWorld  1  1  1\n",
      "          cylindricalPET  1  1  1\n",
      "          head  1  1  1\n",
      "          block  1  1  1\n",
      "          crystal  1  1  1\n",
      "          LSO  1  1  1\n",
      "          BGO  1  1  1\n",
      "\n",
      "### === G4UAtomicDeexcitation::InitialiseForNewRun()\n",
      "### ===  Auger cascade flag: 1\n",
      "### ===  Ignore cuts flag:   0\n",
      "### ===  PIXE model for hadrons: Empirical\n",
      "### ===  PIXE model for e+-:     Penelope\n",
      "[Core-0] End of macro PET_CylindricalPET_System.mac\n",
      "Graphics systems deleted.\n",
      "Visualization Manager deleting...\n"
     ]
    }
   ],
   "source": [
    "!Gate PET_CylindricalPET_System.mac"
   ]
  },
  {
   "cell_type": "code",
   "execution_count": 6,
   "metadata": {
    "ExecuteTime": {
     "end_time": "2020-03-16T11:20:25.240398Z",
     "start_time": "2020-03-16T11:20:25.086156Z"
    }
   },
   "outputs": [
    {
     "name": "stdout",
     "output_type": "stream",
     "text": [
      "total 93M\r\n",
      "-rw-r--r-- 1 mdupont mdupont 4,5M 12 mars  18:48 p.CoincidencesBlurring.npy\r\n",
      "-rw-r--r-- 1 mdupont mdupont 4,5M 12 mars  18:48 p.Coincidences.npy\r\n",
      "-rw-r--r-- 1 mdupont mdupont  19M 12 mars  18:48 p.hits.npy\r\n",
      "-rw-r--r-- 1 mdupont mdupont  26M 12 mars  18:48 p.SinglesBlurringNoise.npy\r\n",
      "-rw-r--r-- 1 mdupont mdupont 5,2M 12 mars  18:48 p.SinglesBlurring.npy\r\n",
      "-rw-r--r-- 1 mdupont mdupont  30M 12 mars  18:48 p.SinglesNoise.npy\r\n",
      "-rw-r--r-- 1 mdupont mdupont 5,2M 12 mars  18:48 p.Singles.npy\r\n"
     ]
    }
   ],
   "source": [
    "ls -lh output/"
   ]
  },
  {
   "cell_type": "markdown",
   "metadata": {},
   "source": [
    "## Change one line in PET_CylindricalPET_System.mac"
   ]
  },
  {
   "cell_type": "markdown",
   "metadata": {},
   "source": [
    "With the notebook, we can debug our algorithms with few data, and increase size of output in order to optimize them. \n",
    "\n",
    "We can do it with this line which changes the `setTimeStop` parameter."
   ]
  },
  {
   "cell_type": "code",
   "execution_count": 38,
   "metadata": {
    "ExecuteTime": {
     "end_time": "2020-03-16T12:14:36.146604Z",
     "start_time": "2020-03-16T12:14:35.884866Z"
    }
   },
   "outputs": [],
   "source": [
    "!sed -i \"s:.*setTimeStop.*:/gate/application/setTimeStop    100 s:g\" PET_CylindricalPET_System.mac"
   ]
  },
  {
   "cell_type": "code",
   "execution_count": 39,
   "metadata": {
    "ExecuteTime": {
     "end_time": "2020-03-16T12:31:16.455262Z",
     "start_time": "2020-03-16T12:14:37.608781Z"
    }
   },
   "outputs": [
    {
     "name": "stdout",
     "output_type": "stream",
     "text": [
      "plop\n",
      "[G4] \n",
      "[G4] **************************************************************\n",
      "[G4]  Geant4 version Name: geant4-10-06-patch-01    (14-February-2020)\n",
      "[G4]                        Copyright : Geant4 Collaboration\n",
      "[G4]                       References : NIM A 506 (2003), 250-303\n",
      "[G4]                                  : IEEE-TNS 53 (2006), 270-278\n",
      "[G4]                                  : NIM A 835 (2016), 186-225\n",
      "[G4]                              WWW : http://geant4.org/\n",
      "[G4] **************************************************************\n",
      "[G4] \n",
      "[Core-0] Initialization of geometry\n",
      "[Core-0] Initialization of physics\n",
      "[Core-0] Initialization of actors\n",
      "[Core-0] \n",
      "[Core-0] *************************************************\n",
      "[Core-0]  GATE version 9.0 (March 2020)\n",
      "[Core-0]  Copyright : OpenGATE Collaboration\n",
      "[Core-0]  Reference : Phys. Med. Biol. 49 (2004) 4543-4561\n",
      "[Core-0]  Reference : Phys. Med. Biol. 56 (2011) 881-901\n",
      "[Core-0]  Reference : Med. Phys. 41(6)    (2014)\n",
      "[Core-0]  http://www.opengatecollaboration.org        \n",
      "[Core-0] *************************************************\n",
      "[Core-0] \n",
      "[Core-0] You are using Geant4 version 10.6.1\n",
      "[Core-0] Starting macro PET_CylindricalPET_System.mac\n",
      "GateToTree::SetOutputIDName, id_system = '0' anOutputIDName = 'gantryID' depth = '0'\n",
      "GateToTree::SetOutputIDName, id_system = '0' anOutputIDName = 'rsectorID' depth = '1'\n",
      "GateToTree::SetOutputIDName, id_system = '0' anOutputIDName = 'moduleID' depth = '2'\n",
      "GateToTree::SetOutputIDName, id_system = '0' anOutputIDName = 'submoduleID' depth = '3'\n",
      "GateToTree::SetOutputIDName, id_system = '0' anOutputIDName = 'crystalID' depth = '4'\n",
      "GateToTree::SetOutputIDName, id_system = '0' anOutputIDName = 'layerID' depth = '5'\n",
      "\n",
      "GATE object:        'systems/cylindricalPET'\n",
      "Components:\n",
      "\n",
      "GATE object:        'systems/cylindricalPET/base'\n",
      "Attached to volume: cylindricalPET\n",
      "Nb of children:       1\n",
      "\n",
      "\tGATE object:        'systems/cylindricalPET/rsector'\n",
      "\tAttached to volume: head\n",
      "\tNb of children:       1\n",
      "\n",
      "\t\tGATE object:        'systems/cylindricalPET/module'\n",
      "\t\tAttached to volume: block\n",
      "\t\tNb of children:       1\n",
      "\n",
      "\t\t\tGATE object:        'systems/cylindricalPET/submodule'\n",
      "\t\t\tAttached to volume: ---\n",
      "\t\t\tNb of children:       1\n",
      "\n",
      "\t\t\t\tGATE object:        'systems/cylindricalPET/crystal'\n",
      "\t\t\t\tAttached to volume: crystal\n",
      "\t\t\t\tNb of children:       4\n",
      "\n",
      "\t\t\t\t\tGATE object:        'systems/cylindricalPET/layer0'\n",
      "\t\t\t\t\tAttached to volume: LSO\n",
      "\t\t\t\t\tNb of children:       0\n",
      "\n",
      "\t\t\t\t\tGATE object:        'systems/cylindricalPET/layer1'\n",
      "\t\t\t\t\tAttached to volume: BGO\n",
      "\t\t\t\t\tNb of children:       0\n",
      "\n",
      "\t\t\t\t\tGATE object:        'systems/cylindricalPET/layer2'\n",
      "\t\t\t\t\tAttached to volume: ---\n",
      "\t\t\t\t\tNb of children:       0\n",
      "\n",
      "\t\t\t\t\tGATE object:        'systems/cylindricalPET/layer3'\n",
      "\t\t\t\t\tAttached to volume: ---\n",
      "\t\t\t\t\tNb of children:       0\n",
      "geometrical design type: 1\n",
      "ring diameter: 86.5 cm \n",
      "rsector axial pitch: 0 fm \n",
      "rsector azimuthal pitch: 90 degree\n",
      "rsector tangential size: 32 cm \n",
      "rsector axial size: 40 cm \n",
      "module axial size: 2 cm \n",
      "module tangential size: 1.6 cm \n",
      "module axial pitch: 2 cm \n",
      "module tangential pitch: 1.6 cm \n",
      "submodule axial size: 2 cm \n",
      "submodule tangential size: 1.6 cm \n",
      "submodule axial pitch: 0 fm \n",
      "submodule tangential pitch: 0 fm \n",
      "crystal radial size: 3 cm \n",
      "crystal axial size: 3.8 mm \n",
      "crystal tangential size: 3 mm \n",
      "crystal axial pitch: 4 mm \n",
      "crystal tangential pitch: 3.2 mm \n",
      "layer0 radial size: 1.5 cm \n",
      "in layer0 interaction length: 7.5 mm \n",
      "layer1 radial size: 1.5 cm \n",
      "in layer1 interaction length: 7.5 mm \n",
      "Axial nb of rsectors: 1\n",
      "Azimuthal nb of rsectors: 4\n",
      "Axial nb of modules: 20\n",
      "Tangential nb of modules: 20\n",
      "Axial nb of submodules: 1\n",
      "Tangential nb of submodules: 1\n",
      "Axial nb of crystals: 5\n",
      "Tangential nb of crystals: 5\n",
      "Radial nb of layers: 2\n",
      "[Physic-0] The following Geant4's physic-list is enabled :empenelope\n",
      "\n",
      "\n",
      "List of Enabled processes:\n",
      "\n",
      "\n",
      "\n",
      "\n",
      "List of initialized processes:\n",
      "\n",
      "  * B+\n",
      "    - msc\n",
      "    - hIoni\n",
      "    - nuclearStopping\n",
      "  * B-\n",
      "    - msc\n",
      "    - hIoni\n",
      "    - nuclearStopping\n",
      "  * D+\n",
      "    - msc\n",
      "    - hIoni\n",
      "    - nuclearStopping\n",
      "  * D-\n",
      "    - msc\n",
      "    - hIoni\n",
      "    - nuclearStopping\n",
      "  * Ds+\n",
      "    - msc\n",
      "    - hIoni\n",
      "    - nuclearStopping\n",
      "  * Ds-\n",
      "    - msc\n",
      "    - hIoni\n",
      "    - nuclearStopping\n",
      "  * GenericIon\n",
      "    - msc\n",
      "    - ionIoni\n",
      "    - nuclearStopping\n",
      "  * He3\n",
      "    - msc\n",
      "    - ionIoni\n",
      "    - nuclearStopping\n",
      "  * alpha\n",
      "    - msc\n",
      "    - ionIoni\n",
      "    - nuclearStopping\n",
      "  * anti_He3\n",
      "    - msc\n",
      "    - hIoni\n",
      "    - nuclearStopping\n",
      "  * anti_alpha\n",
      "    - msc\n",
      "    - hIoni\n",
      "    - nuclearStopping\n",
      "  * anti_deuteron\n",
      "    - msc\n",
      "    - hIoni\n",
      "    - nuclearStopping\n",
      "  * anti_lambda_c+\n",
      "    - msc\n",
      "    - hIoni\n",
      "    - nuclearStopping\n",
      "  * anti_omega-\n",
      "    - msc\n",
      "    - hIoni\n",
      "    - nuclearStopping\n",
      "  * anti_proton\n",
      "    - msc\n",
      "    - hIoni\n",
      "    - hBrems\n",
      "    - hPairProd\n",
      "    - CoulombScat\n",
      "  * anti_sigma+\n",
      "    - msc\n",
      "    - hIoni\n",
      "    - nuclearStopping\n",
      "  * anti_sigma-\n",
      "    - msc\n",
      "    - hIoni\n",
      "    - nuclearStopping\n",
      "  * anti_sigma_c+\n",
      "    - msc\n",
      "    - hIoni\n",
      "    - nuclearStopping\n",
      "  * anti_sigma_c++\n",
      "    - msc\n",
      "    - hIoni\n",
      "    - nuclearStopping\n",
      "  * anti_triton\n",
      "    - msc\n",
      "    - hIoni\n",
      "    - nuclearStopping\n",
      "  * anti_xi-\n",
      "    - msc\n",
      "    - hIoni\n",
      "    - nuclearStopping\n",
      "  * anti_xi_c+\n",
      "    - msc\n",
      "    - hIoni\n",
      "    - nuclearStopping\n",
      "  * deuteron\n",
      "    - msc\n",
      "    - hIoni\n",
      "    - nuclearStopping\n",
      "  * e+\n",
      "    - msc\n",
      "    - eIoni\n",
      "    - eBrem\n",
      "    - ePairProd\n",
      "    - annihil\n",
      "    - CoulombScat\n",
      "  * e-\n",
      "    - msc\n",
      "    - eIoni\n",
      "    - eBrem\n",
      "    - ePairProd\n",
      "    - CoulombScat\n",
      "  * gamma\n",
      "    - phot\n",
      "    - compt\n",
      "    - conv\n",
      "    - Rayl\n",
      "  * kaon+\n",
      "    - msc\n",
      "    - hIoni\n",
      "    - hBrems\n",
      "    - hPairProd\n",
      "    - CoulombScat\n",
      "  * kaon-\n",
      "    - msc\n",
      "    - hIoni\n",
      "    - hBrems\n",
      "    - hPairProd\n",
      "    - CoulombScat\n",
      "  * lambda_c+\n",
      "    - msc\n",
      "    - hIoni\n",
      "    - nuclearStopping\n",
      "  * mu+\n",
      "    - msc\n",
      "    - muIoni\n",
      "    - muBrems\n",
      "    - muPairProd\n",
      "    - CoulombScat\n",
      "  * mu-\n",
      "    - msc\n",
      "    - muIoni\n",
      "    - muBrems\n",
      "    - muPairProd\n",
      "    - CoulombScat\n",
      "  * omega-\n",
      "    - msc\n",
      "    - hIoni\n",
      "    - nuclearStopping\n",
      "  * pi+\n",
      "    - msc\n",
      "    - hIoni\n",
      "    - hBrems\n",
      "    - hPairProd\n",
      "    - CoulombScat\n",
      "  * pi-\n",
      "    - msc\n",
      "    - hIoni\n",
      "    - hBrems\n",
      "    - hPairProd\n",
      "    - CoulombScat\n",
      "  * proton\n",
      "    - msc\n",
      "    - hIoni\n",
      "    - hBrems\n",
      "    - hPairProd\n",
      "    - CoulombScat\n",
      "  * sigma+\n",
      "    - msc\n",
      "    - hIoni\n",
      "    - nuclearStopping\n",
      "  * sigma-\n",
      "    - msc\n",
      "    - hIoni\n",
      "    - nuclearStopping\n",
      "  * sigma_c+\n",
      "    - msc\n",
      "    - hIoni\n",
      "    - nuclearStopping\n",
      "  * sigma_c++\n",
      "    - msc\n",
      "    - hIoni\n",
      "    - nuclearStopping\n",
      "  * tau+\n",
      "    - msc\n",
      "    - hIoni\n",
      "    - nuclearStopping\n",
      "  * tau-\n",
      "    - msc\n",
      "    - hIoni\n",
      "    - nuclearStopping\n",
      "  * triton\n",
      "    - msc\n",
      "    - hIoni\n",
      "    - nuclearStopping\n",
      "  * xi-\n",
      "    - msc\n",
      "    - hIoni\n",
      "    - nuclearStopping\n",
      "  * xi_c+\n",
      "    - msc\n",
      "    - hIoni\n",
      "    - nuclearStopping\n",
      "\n",
      "[Core-0] Initialization of geometry\n",
      "[Physic-1]   \n",
      "[Physic-1]  ----------------------------------------------------------\n",
      "[Physic-1]                      Ionization potential \n",
      "[Physic-1]   - worldDefaultAir\t defaut value: I = 85.7031 eV \n",
      "[Physic-1]   - Air\t defaut value: I = 85.6694 eV \n",
      "[Physic-1]   - Vacuum\t defaut value: I = 19.2 eV \n",
      "[Physic-1]   - LSO\t defaut value: I = 418.807 eV \n",
      "[Physic-1]   - BGO\t defaut value: I = 473.785 eV \n",
      "[Physic-1]  ----------------------------------------------------------\n",
      "[Core-0] Initialization of physics\n",
      "[Physic-2]   GatePhysicsList::ConstructProcess\n",
      "[Physic-3]    mLoadState = 1\n",
      "[Physic-3]    mListOfStepLimiter.size = 0\n",
      "[Core-0] Initialization of actors\n",
      "GateSourceMgr::ListSources: List of the sources in the source manager\n",
      "Source --------------> posiC11\n",
      "  ID                 : 0\n",
      "  type               : backtoback\n",
      "  activity (Bq)      : 10000\n",
      "  startTime (s)      : 0\n",
      "  time (s)           : 0\n",
      "  forcedUnstable     : 1\n",
      "  forcedHalfLife (s) : 1223\n",
      "  verboseLevel       : 0\n",
      "  relative to vol    : world\n",
      "---------------------- \n",
      "\n",
      "[Acquisition-0]   \n",
      "[Acquisition-0] ============= Source initialization =============\n",
      "[Acquisition-0]   \n",
      "[Acquisition-0] ============= Acquisition starts! =============\n",
      "[Acquisition-0] Simulation start time = 0 sec\n",
      "[Acquisition-0] Simulation end time   = 100 sec\n",
      "[Acquisition-0] Simulation will have  = 100 run(s)\n",
      "\n",
      "----- HepJamesRandom engine status -----\n",
      " Initial seed = 2007218661\n",
      " u[] = 0.16499 0.203284 0.138296 0.884717 0.96205 0.948675 0.79424 0.794894 0.211764 0.925188 0.791876 0.959401 0.556634 0.734775 0.487568 0.498131 0.491055 0.5959 0.311264 0.629968 0.191751 0.639012 0.345169 0.920251 0.635223 0.755059 0.867638 0.0410486 0.259077 0.542591 0.246184 0.327588 0.993313 0.172701 0.742913 0.479427 0.0903887 0.11165 0.947609 0.893776 0.856078 0.884843 0.833993 0.539848 0.0428698 0.0365915 0.807981 0.0912774 0.255446 0.912146 0.274067 0.357877 0.790377 0.676669 0.533312 0.98875 0.92073 0.554635 0.779749 0.821075 0.235358 0.152672 0.0612658 0.390155 0.827628 0.868407 0.350413 0.637238 0.00705326 0.134235 0.234272 0.907418 0.700542 0.97328 0.82105 0.953073 0.217811 0.760279 0.0836992 0.942279 0.924544 0.248722 0.807709 0.868084 0.550539 0.190335 0.569506 0.39649 0.351888 0.716711 0.881706 0.64775 0.868805 0.13451 0.742265 0.420453 0.842607 \n",
      " c = 0.652903, cd = 0.456233, cm = 1\n",
      " i97 = 93, u[i97] = 0.13451\n",
      " j97 = 29, u[j97] = 0.542591\n",
      "----------------------------------------\n",
      "[Acquisition-0] Slice 0 from 0 to 1 s [slice=1 s]\n",
      "\n",
      "### ===  Deexcitation model UAtomDeexcitation is activated for 7 regions:\n",
      "          DefaultRegionForTheWorld  1  1  1\n",
      "          cylindricalPET  1  1  1\n",
      "          head  1  1  1\n",
      "          block  1  1  1\n",
      "          crystal  1  1  1\n",
      "          LSO  1  1  1\n",
      "          BGO  1  1  1\n"
     ]
    },
    {
     "name": "stdout",
     "output_type": "stream",
     "text": [
      "\n",
      "### === G4UAtomicDeexcitation::InitialiseForNewRun()\n",
      "### ===  Auger cascade flag: 1\n",
      "### ===  Ignore cuts flag:   0\n",
      "### ===  PIXE model for hadrons: Empirical\n",
      "### ===  PIXE model for e+-:     Penelope\n",
      "======================================================================\n",
      "The G4PenelopeIonisationModel is being used with the PIXE flag ON.\n",
      "Atomic de-excitation will be produced statistically by the PIXE \n",
      "interface by using the shell cross section --> Penelope\n",
      "The built-in model procedure for atomic de-excitation is disabled. \n",
      "*Please be sure this is intended*, or disable PIXE by\n",
      "/process/em/pixe false\n",
      "======================================================================\n",
      "\n",
      "phot:  for gamma applyCuts:1  SubType=12 BuildTable=0\n",
      "      LambdaPrime table from 200 keV to 100 TeV in 174 bins \n",
      "      ===== EM models for the G4Region  DefaultRegionForTheWorld ======\n",
      "        PenPhotoElec : Emin=    0 eV  Emax=    1 GeV Fluo\n",
      "       PhotoElectric : Emin=    1 GeV Emax=  100 TeV  SauterGavrila Fluo\n",
      "\n",
      "compt:  for gamma applyCuts:1  SubType=13 BuildTable=1\n",
      "      Lambda table from 100 eV  to 1 MeV, 20 bins/decade, spline: 1\n",
      "      LambdaPrime table from 1 MeV to 100 TeV in 160 bins \n",
      "      ===== EM models for the G4Region  DefaultRegionForTheWorld ======\n",
      "          PenCompton : Emin=    0 eV  Emax=    1 GeV Fluo\n",
      "        KleinNishina : Emin=    1 GeV Emax=  100 TeV Fluo\n",
      "\n",
      "conv:  for gamma applyCuts:1  SubType=14 BuildTable=1\n",
      "      Lambda table from 1.022 MeV to 100 TeV, 20 bins/decade, spline: 1\n",
      "      ===== EM models for the G4Region  DefaultRegionForTheWorld ======\n",
      "       PenConversion : Emin=    0 eV  Emax=    1 GeV\n",
      "     BetheHeitlerLPM : Emin=    1 GeV Emax=  100 TeV  ModifiedTsai\n",
      "\n",
      "Rayl:  for gamma applyCuts:1  SubType=11 BuildTable=1\n",
      "      Lambda table from 100 eV  to 100 keV, 20 bins/decade, spline: 0\n",
      "      LambdaPrime table from 100 keV to 100 TeV in 180 bins \n",
      "      ===== EM models for the G4Region  DefaultRegionForTheWorld ======\n",
      "         PenRayleigh : Emin=    0 eV  Emax=  100 GeV\n",
      "\n",
      "msc:  for e-  SubType= 10\n",
      "      RangeFactor= 0.08, stepLimType: 2, latDisp: 1\n",
      "      ===== EM models for the G4Region  DefaultRegionForTheWorld ======\n",
      "  GoudsmitSaunderson : Emin=    0 eV  Emax=  100 MeV Nbins=120 100 eV  - 100 MeV\n",
      "        WentzelVIUni : Emin=  100 MeV Emax=  100 TeV Nbins=120 100 MeV - 100 TeV\n",
      "\n",
      "eIoni:  for e-  SubType=2\n",
      "      dE/dx and range tables from 100 eV  to 100 TeV in 240 bins\n",
      "      Lambda tables from threshold to 100 TeV, 20 bins/decade, spline: 1\n",
      "      StepFunction=(0.2, 0.01 mm), integ: 1, fluct: 1, linLossLim= 0.01\n",
      "      ===== EM models for the G4Region  DefaultRegionForTheWorld ======\n",
      "             PenIoni : Emin=    0 eV  Emax=    1 GeV\n",
      "        MollerBhabha : Emin=    1 GeV Emax=  100 TeV\n",
      "\n",
      "eBrem:  for e-  SubType=3\n",
      "      dE/dx and range tables from 100 eV  to 100 TeV in 240 bins\n",
      "      Lambda tables from threshold to 100 TeV, 20 bins/decade, spline: 1\n",
      "      LPM flag: 1 for E > 1 GeV,  VertexHighEnergyTh(GeV)= 100000\n",
      "      ===== EM models for the G4Region  DefaultRegionForTheWorld ======\n",
      "             PenBrem : Emin=    0 eV  Emax=    1 GeV\n",
      "            eBremLPM : Emin=    1 GeV Emax=  100 TeV  ModifiedTsai\n",
      "\n",
      "ePairProd:  for e-  SubType=4\n",
      "      dE/dx and range tables from 100 eV  to 100 TeV in 240 bins\n",
      "      Lambda tables from threshold to 100 TeV, 20 bins/decade, spline: 1\n",
      "      Sampling table 25x1001; from 0.1 GeV to 100 TeV \n",
      "      ===== EM models for the G4Region  DefaultRegionForTheWorld ======\n",
      "           ePairProd : Emin=    0 eV  Emax=  100 TeV\n",
      "\n",
      "CoulombScat:  for e-, integral:1  applyCuts:1  SubType=1 BuildTable=1\n",
      "      Lambda table from 100 MeV to 100 TeV, 20 bins/decade, spline: 1\n",
      "      ThetaMin(p) < Theta(degree) < 180; pLimit(GeV^1)= 0.139531\n",
      "      ===== EM models for the G4Region  DefaultRegionForTheWorld ======\n",
      "  eCoulombScattering : Emin=  100 MeV Emax=  100 TeV\n",
      "\n",
      "msc:  for e+  SubType= 10\n",
      "      RangeFactor= 0.08, stepLimType: 2, latDisp: 1\n",
      "      ===== EM models for the G4Region  DefaultRegionForTheWorld ======\n",
      "  GoudsmitSaunderson : Emin=    0 eV  Emax=  100 MeV Nbins=120 100 eV  - 100 MeV\n",
      "        WentzelVIUni : Emin=  100 MeV Emax=  100 TeV Nbins=120 100 MeV - 100 TeV\n",
      "\n",
      "eIoni:  for e+  SubType=2\n",
      "      dE/dx and range tables from 100 eV  to 100 TeV in 240 bins\n",
      "      Lambda tables from threshold to 100 TeV, 20 bins/decade, spline: 1\n",
      "      StepFunction=(0.2, 0.01 mm), integ: 1, fluct: 1, linLossLim= 0.01\n",
      "      ===== EM models for the G4Region  DefaultRegionForTheWorld ======\n",
      "             PenIoni : Emin=    0 eV  Emax=    1 GeV\n",
      "        MollerBhabha : Emin=    1 GeV Emax=  100 TeV\n",
      "\n",
      "eBrem:  for e+  SubType=3\n",
      "      dE/dx and range tables from 100 eV  to 100 TeV in 240 bins\n",
      "      Lambda tables from threshold to 100 TeV, 20 bins/decade, spline: 1\n",
      "      LPM flag: 1 for E > 1 GeV,  VertexHighEnergyTh(GeV)= 100000\n",
      "      ===== EM models for the G4Region  DefaultRegionForTheWorld ======\n",
      "             PenBrem : Emin=    0 eV  Emax=    1 GeV\n",
      "            eBremLPM : Emin=    1 GeV Emax=  100 TeV  ModifiedTsai\n",
      "\n",
      "ePairProd:  for e+  SubType=4\n",
      "      dE/dx and range tables from 100 eV  to 100 TeV in 240 bins\n",
      "      Lambda tables from threshold to 100 TeV, 20 bins/decade, spline: 1\n",
      "      Sampling table 25x1001; from 0.1 GeV to 100 TeV \n",
      "      ===== EM models for the G4Region  DefaultRegionForTheWorld ======\n",
      "           ePairProd : Emin=    0 eV  Emax=  100 TeV\n",
      "\n",
      "annihil:  for e+, integral:1  applyCuts:1  SubType=5 BuildTable=0\n",
      "      ===== EM models for the G4Region  DefaultRegionForTheWorld ======\n",
      "            PenAnnih : Emin=    0 eV  Emax=    1 GeV\n",
      "            eplus2gg : Emin=    1 GeV Emax=  100 TeV\n",
      "\n",
      "CoulombScat:  for e+, integral:1  applyCuts:1  SubType=1 BuildTable=1\n",
      "      Lambda table from 100 MeV to 100 TeV, 20 bins/decade, spline: 1\n",
      "      ThetaMin(p) < Theta(degree) < 180; pLimit(GeV^1)= 0.139531\n",
      "      ===== EM models for the G4Region  DefaultRegionForTheWorld ======\n",
      "  eCoulombScattering : Emin=  100 MeV Emax=  100 TeV\n",
      "\n",
      "msc:  for proton  SubType= 10\n",
      "      RangeFactor= 0.2, stepLimType: 0, latDisp: 1\n",
      "      ===== EM models for the G4Region  DefaultRegionForTheWorld ======\n",
      "        WentzelVIUni : Emin=    0 eV  Emax=  100 TeV Nbins=240 100 eV  - 100 TeV\n",
      "\n",
      "hIoni:  for proton  SubType=2\n",
      "      dE/dx and range tables from 100 eV  to 100 TeV in 240 bins\n",
      "      Lambda tables from threshold to 100 TeV, 20 bins/decade, spline: 1\n",
      "      StepFunction=(0.2, 0.05 mm), integ: 1, fluct: 1, linLossLim= 0.01\n",
      "      ===== EM models for the G4Region  DefaultRegionForTheWorld ======\n",
      "               Bragg : Emin=    0 eV  Emax=    2 MeV\n",
      "          BetheBloch : Emin=    2 MeV Emax=  100 TeV\n",
      "\n",
      "hBrems:  for proton  SubType=3\n",
      "      dE/dx and range tables from 100 eV  to 100 TeV in 240 bins\n",
      "      Lambda tables from threshold to 100 TeV, 20 bins/decade, spline: 1\n",
      "      ===== EM models for the G4Region  DefaultRegionForTheWorld ======\n",
      "               hBrem : Emin=    0 eV  Emax=  100 TeV\n",
      "      ===== Limit on energy threshold has been applied \n",
      "\n",
      "hPairProd:  for proton  SubType=4\n",
      "      dE/dx and range tables from 100 eV  to 100 TeV in 240 bins\n",
      "      Lambda tables from threshold to 100 TeV, 20 bins/decade, spline: 1\n",
      "      Sampling table 17x1001; from 7.50618 GeV to 100 TeV \n",
      "      ===== EM models for the G4Region  DefaultRegionForTheWorld ======\n",
      "           hPairProd : Emin=    0 eV  Emax=  100 TeV\n",
      "\n",
      "CoulombScat:  for proton, integral:1  applyCuts:1  SubType=1 BuildTable=1\n",
      "      Lambda table from threshold  to 100 TeV, 20 bins/decade, spline: 1\n",
      "      ThetaMin(p) < Theta(degree) < 180; pLimit(GeV^1)= 0.139531\n",
      "      ===== EM models for the G4Region  DefaultRegionForTheWorld ======\n",
      "  eCoulombScattering : Emin=    0 eV  Emax=  100 TeV\n",
      "\n",
      "msc:  for GenericIon  SubType= 10\n",
      "      RangeFactor= 0.2, stepLimType: 0, latDisp: 0\n",
      "      ===== EM models for the G4Region  DefaultRegionForTheWorld ======\n",
      "            UrbanMsc : Emin=    0 eV  Emax=  100 TeV\n",
      "\n",
      "ionIoni:  for GenericIon  SubType=2\n",
      "      dE/dx and range tables from 100 eV  to 100 TeV in 240 bins\n",
      "      Lambda tables from threshold to 100 TeV, 20 bins/decade, spline: 1\n",
      "      StepFunction=(0.1, 0.001 mm), integ: 1, fluct: 1, linLossLim= 0.02\n",
      "      ===== EM models for the G4Region  DefaultRegionForTheWorld ======\n",
      "         ParamICRU73 : Emin=    0 eV  Emax=  100 TeV  deltaVI\n",
      "\n",
      "nuclearStopping:  for GenericIon applyCuts:1  SubType=8 BuildTable=0\n",
      "      ===== EM models for the G4Region  DefaultRegionForTheWorld ======\n",
      "   ICRU49NucStopping : Emin=    0 eV  Emax=    1 MeV\n",
      "\n",
      "msc:  for alpha  SubType= 10\n",
      "      RangeFactor= 0.2, stepLimType: 0, latDisp: 1\n",
      "      ===== EM models for the G4Region  DefaultRegionForTheWorld ======\n",
      "            UrbanMsc : Emin=    0 eV  Emax=  100 TeV Nbins=240 100 eV  - 100 TeV\n",
      "\n",
      "ionIoni:  for alpha  SubType=2\n",
      "      dE/dx and range tables from 100 eV  to 100 TeV in 240 bins\n",
      "      Lambda tables from threshold to 100 TeV, 20 bins/decade, spline: 1\n",
      "      StepFunction=(0.2, 0.05 mm), integ: 1, fluct: 1, linLossLim= 0.02\n",
      "      ===== EM models for the G4Region  DefaultRegionForTheWorld ======\n",
      "            BraggIon : Emin=    0 eV  Emax=7.9452 MeV\n",
      "          BetheBloch : Emin=7.9452 MeV Emax=  100 TeV\n",
      "\n",
      "nuclearStopping:  for alpha applyCuts:1  SubType=8 BuildTable=0\n",
      "      ===== EM models for the G4Region  DefaultRegionForTheWorld ======\n",
      "   ICRU49NucStopping : Emin=    0 eV  Emax=    1 MeV\n",
      "\n",
      "msc:  for anti_proton  SubType= 10\n",
      "      RangeFactor= 0.2, stepLimType: 0, latDisp: 1\n",
      "      ===== EM models for the G4Region  DefaultRegionForTheWorld ======\n",
      "        WentzelVIUni : Emin=    0 eV  Emax=  100 TeV Nbins=240 100 eV  - 100 TeV\n",
      "\n",
      "hIoni:  for anti_proton  SubType=2\n",
      "      dE/dx and range tables from 100 eV  to 100 TeV in 240 bins\n",
      "      Lambda tables from threshold to 100 TeV, 20 bins/decade, spline: 1\n",
      "      StepFunction=(0.2, 0.05 mm), integ: 1, fluct: 1, linLossLim= 0.01\n",
      "      ===== EM models for the G4Region  DefaultRegionForTheWorld ======\n",
      "            ICRU73QO : Emin=    0 eV  Emax=    2 MeV\n",
      "          BetheBloch : Emin=    2 MeV Emax=  100 TeV\n",
      "\n",
      "hBrems:  for anti_proton  SubType=3\n",
      "      dE/dx and range tables from 100 eV  to 100 TeV in 240 bins\n",
      "      Lambda tables from threshold to 100 TeV, 20 bins/decade, spline: 1\n",
      "      ===== EM models for the G4Region  DefaultRegionForTheWorld ======\n",
      "               hBrem : Emin=    0 eV  Emax=  100 TeV\n",
      "      ===== Limit on energy threshold has been applied \n",
      "\n",
      "hPairProd:  for anti_proton  SubType=4\n",
      "      dE/dx and range tables from 100 eV  to 100 TeV in 240 bins\n",
      "      Lambda tables from threshold to 100 TeV, 20 bins/decade, spline: 1\n",
      "      Sampling table 17x1001; from 7.50618 GeV to 100 TeV \n",
      "      ===== EM models for the G4Region  DefaultRegionForTheWorld ======\n",
      "           hPairProd : Emin=    0 eV  Emax=  100 TeV\n",
      "\n",
      "CoulombScat:  for anti_proton, integral:1  applyCuts:1  SubType=1 BuildTable=1\n",
      "      Lambda table from threshold  to 100 TeV, 20 bins/decade, spline: 1\n",
      "      ThetaMin(p) < Theta(degree) < 180; pLimit(GeV^1)= 0.139531\n",
      "      ===== EM models for the G4Region  DefaultRegionForTheWorld ======\n",
      "  eCoulombScattering : Emin=    0 eV  Emax=  100 TeV\n",
      "\n",
      "msc:  for kaon+  SubType= 10\n",
      "      RangeFactor= 0.2, stepLimType: 0, latDisp: 1\n",
      "      ===== EM models for the G4Region  DefaultRegionForTheWorld ======\n",
      "        WentzelVIUni : Emin=    0 eV  Emax=  100 TeV Nbins=240 100 eV  - 100 TeV\n"
     ]
    },
    {
     "name": "stdout",
     "output_type": "stream",
     "text": [
      "\n",
      "hIoni:  for kaon+  SubType=2\n",
      "      dE/dx and range tables from 100 eV  to 100 TeV in 240 bins\n",
      "      Lambda tables from threshold to 100 TeV, 20 bins/decade, spline: 1\n",
      "      StepFunction=(0.2, 0.05 mm), integ: 1, fluct: 1, linLossLim= 0.01\n",
      "      ===== EM models for the G4Region  DefaultRegionForTheWorld ======\n",
      "               Bragg : Emin=    0 eV  Emax=1.05231 MeV\n",
      "          BetheBloch : Emin=1.05231 MeV Emax=  100 TeV\n",
      "\n",
      "hBrems:  for kaon+  SubType=3\n",
      "      dE/dx and range tables from 100 eV  to 100 TeV in 240 bins\n",
      "      Lambda tables from threshold to 100 TeV, 20 bins/decade, spline: 1\n",
      "      ===== EM models for the G4Region  DefaultRegionForTheWorld ======\n",
      "               hBrem : Emin=    0 eV  Emax=  100 TeV\n",
      "      ===== Limit on energy threshold has been applied \n",
      "\n",
      "hPairProd:  for kaon+  SubType=4\n",
      "      dE/dx and range tables from 100 eV  to 100 TeV in 240 bins\n",
      "      Lambda tables from threshold to 100 TeV, 20 bins/decade, spline: 1\n",
      "      Sampling table 18x1001; from 3.94942 GeV to 100 TeV \n",
      "      ===== EM models for the G4Region  DefaultRegionForTheWorld ======\n",
      "           hPairProd : Emin=    0 eV  Emax=  100 TeV\n",
      "\n",
      "CoulombScat:  for kaon+, integral:1  applyCuts:1  SubType=1 BuildTable=1\n",
      "      Lambda table from threshold  to 100 TeV, 20 bins/decade, spline: 1\n",
      "      ThetaMin(p) < Theta(degree) < 180; pLimit(GeV^1)= 0.139531\n",
      "      ===== EM models for the G4Region  DefaultRegionForTheWorld ======\n",
      "  eCoulombScattering : Emin=    0 eV  Emax=  100 TeV\n",
      "\n",
      "msc:  for kaon-  SubType= 10\n",
      "      RangeFactor= 0.2, stepLimType: 0, latDisp: 1\n",
      "      ===== EM models for the G4Region  DefaultRegionForTheWorld ======\n",
      "        WentzelVIUni : Emin=    0 eV  Emax=  100 TeV Nbins=240 100 eV  - 100 TeV\n",
      "\n",
      "hIoni:  for kaon-  SubType=2\n",
      "      dE/dx and range tables from 100 eV  to 100 TeV in 240 bins\n",
      "      Lambda tables from threshold to 100 TeV, 20 bins/decade, spline: 1\n",
      "      StepFunction=(0.2, 0.05 mm), integ: 1, fluct: 1, linLossLim= 0.01\n",
      "      ===== EM models for the G4Region  DefaultRegionForTheWorld ======\n",
      "            ICRU73QO : Emin=    0 eV  Emax=1.05231 MeV\n",
      "          BetheBloch : Emin=1.05231 MeV Emax=  100 TeV\n",
      "\n",
      "hBrems:  for kaon-  SubType=3\n",
      "      dE/dx and range tables from 100 eV  to 100 TeV in 240 bins\n",
      "      Lambda tables from threshold to 100 TeV, 20 bins/decade, spline: 1\n",
      "      ===== EM models for the G4Region  DefaultRegionForTheWorld ======\n",
      "               hBrem : Emin=    0 eV  Emax=  100 TeV\n",
      "      ===== Limit on energy threshold has been applied \n",
      "\n",
      "hPairProd:  for kaon-  SubType=4\n",
      "      dE/dx and range tables from 100 eV  to 100 TeV in 240 bins\n",
      "      Lambda tables from threshold to 100 TeV, 20 bins/decade, spline: 1\n",
      "      Sampling table 18x1001; from 3.94942 GeV to 100 TeV \n",
      "      ===== EM models for the G4Region  DefaultRegionForTheWorld ======\n",
      "           hPairProd : Emin=    0 eV  Emax=  100 TeV\n",
      "\n",
      "CoulombScat:  for kaon-, integral:1  applyCuts:1  SubType=1 BuildTable=1\n",
      "      Used Lambda table of kaon+\n",
      "      ThetaMin(p) < Theta(degree) < 180; pLimit(GeV^1)= 0.139531\n",
      "      ===== EM models for the G4Region  DefaultRegionForTheWorld ======\n",
      "  eCoulombScattering : Emin=    0 eV  Emax=  100 TeV\n",
      "\n",
      "msc:  for mu+  SubType= 10\n",
      "      RangeFactor= 0.2, stepLimType: 0, latDisp: 1, polarAngLim(deg)= 180\n",
      "      ===== EM models for the G4Region  DefaultRegionForTheWorld ======\n",
      "        WentzelVIUni : Emin=    0 eV  Emax=  100 TeV Nbins=240 100 eV  - 100 TeV\n",
      "\n",
      "muIoni:  for mu+  SubType=2\n",
      "      dE/dx and range tables from 100 eV  to 100 TeV in 240 bins\n",
      "      Lambda tables from threshold to 100 TeV, 20 bins/decade, spline: 1\n",
      "      StepFunction=(0.2, 0.05 mm), integ: 1, fluct: 1, linLossLim= 0.01\n",
      "      ===== EM models for the G4Region  DefaultRegionForTheWorld ======\n",
      "               Bragg : Emin=    0 eV  Emax=  200 keV\n",
      "          BetheBloch : Emin=  200 keV Emax=    1 GeV\n",
      "        MuBetheBloch : Emin=    1 GeV Emax=  100 TeV\n",
      "\n",
      "muBrems:  for mu+  SubType=3\n",
      "      dE/dx and range tables from 100 eV  to 100 TeV in 240 bins\n",
      "      Lambda tables from threshold to 100 TeV, 20 bins/decade, spline: 1\n",
      "      ===== EM models for the G4Region  DefaultRegionForTheWorld ======\n",
      "              MuBrem : Emin=    0 eV  Emax=  100 TeV\n",
      "      ===== Limit on energy threshold has been applied \n",
      "\n",
      "muPairProd:  for mu+  SubType=4\n",
      "      dE/dx and range tables from 100 eV  to 100 TeV in 240 bins\n",
      "      Lambda tables from threshold to 100 TeV, 20 bins/decade, spline: 1\n",
      "      Sampling table 21x1001; from 1 GeV to 100 TeV \n",
      "      ===== EM models for the G4Region  DefaultRegionForTheWorld ======\n",
      "          muPairProd : Emin=    0 eV  Emax=  100 TeV\n",
      "\n",
      "CoulombScat:  for mu+, integral:1  applyCuts:1  SubType=1 BuildTable=1\n",
      "      Lambda table from threshold  to 100 TeV, 20 bins/decade, spline: 1\n",
      "      ThetaMin(p) < Theta(degree) < 180; pLimit(GeV^1)= 0.139531\n",
      "      ===== EM models for the G4Region  DefaultRegionForTheWorld ======\n",
      "  eCoulombScattering : Emin=    0 eV  Emax=  100 TeV\n",
      "\n",
      "msc:  for mu-  SubType= 10\n",
      "      RangeFactor= 0.2, stepLimType: 0, latDisp: 1, polarAngLim(deg)= 180\n",
      "      ===== EM models for the G4Region  DefaultRegionForTheWorld ======\n",
      "        WentzelVIUni : Emin=    0 eV  Emax=  100 TeV Nbins=240 100 eV  - 100 TeV\n",
      "\n",
      "muIoni:  for mu-  SubType=2\n",
      "      dE/dx and range tables from 100 eV  to 100 TeV in 240 bins\n",
      "      Lambda tables from threshold to 100 TeV, 20 bins/decade, spline: 1\n",
      "      StepFunction=(0.2, 0.05 mm), integ: 1, fluct: 1, linLossLim= 0.01\n",
      "      ===== EM models for the G4Region  DefaultRegionForTheWorld ======\n",
      "            ICRU73QO : Emin=    0 eV  Emax=  200 keV\n",
      "          BetheBloch : Emin=  200 keV Emax=    1 GeV\n",
      "        MuBetheBloch : Emin=    1 GeV Emax=  100 TeV\n",
      "\n",
      "muBrems:  for mu-  SubType=3\n",
      "      dE/dx and range tables from 100 eV  to 100 TeV in 240 bins\n",
      "      Lambda tables from threshold to 100 TeV, 20 bins/decade, spline: 1\n",
      "      ===== EM models for the G4Region  DefaultRegionForTheWorld ======\n",
      "              MuBrem : Emin=    0 eV  Emax=  100 TeV\n",
      "      ===== Limit on energy threshold has been applied \n",
      "\n",
      "muPairProd:  for mu-  SubType=4\n",
      "      dE/dx and range tables from 100 eV  to 100 TeV in 240 bins\n",
      "      Lambda tables from threshold to 100 TeV, 20 bins/decade, spline: 1\n",
      "      Sampling table 21x1001; from 1 GeV to 100 TeV \n",
      "      ===== EM models for the G4Region  DefaultRegionForTheWorld ======\n",
      "          muPairProd : Emin=    0 eV  Emax=  100 TeV\n",
      "\n",
      "CoulombScat:  for mu-, integral:1  applyCuts:1  SubType=1 BuildTable=1\n",
      "      Used Lambda table of mu+\n",
      "      ThetaMin(p) < Theta(degree) < 180; pLimit(GeV^1)= 0.139531\n",
      "      ===== EM models for the G4Region  DefaultRegionForTheWorld ======\n",
      "  eCoulombScattering : Emin=    0 eV  Emax=  100 TeV\n",
      "\n",
      "msc:  for pi+  SubType= 10\n",
      "      RangeFactor= 0.2, stepLimType: 0, latDisp: 1\n",
      "      ===== EM models for the G4Region  DefaultRegionForTheWorld ======\n",
      "        WentzelVIUni : Emin=    0 eV  Emax=  100 TeV Nbins=240 100 eV  - 100 TeV\n",
      "\n",
      "hIoni:  for pi+  SubType=2\n",
      "      dE/dx and range tables from 100 eV  to 100 TeV in 240 bins\n",
      "      Lambda tables from threshold to 100 TeV, 20 bins/decade, spline: 1\n",
      "      StepFunction=(0.2, 0.05 mm), integ: 1, fluct: 1, linLossLim= 0.01\n",
      "      ===== EM models for the G4Region  DefaultRegionForTheWorld ======\n",
      "               Bragg : Emin=    0 eV  Emax=297.505 keV\n",
      "          BetheBloch : Emin=297.505 keV Emax=  100 TeV\n",
      "\n",
      "hBrems:  for pi+  SubType=3\n",
      "      dE/dx and range tables from 100 eV  to 100 TeV in 240 bins\n",
      "      Lambda tables from threshold to 100 TeV, 20 bins/decade, spline: 1\n",
      "      ===== EM models for the G4Region  DefaultRegionForTheWorld ======\n",
      "               hBrem : Emin=    0 eV  Emax=  100 TeV\n",
      "      ===== Limit on energy threshold has been applied \n",
      "\n",
      "hPairProd:  for pi+  SubType=4\n",
      "      dE/dx and range tables from 100 eV  to 100 TeV in 240 bins\n",
      "      Lambda tables from threshold to 100 TeV, 20 bins/decade, spline: 1\n",
      "      Sampling table 20x1001; from 1.11656 GeV to 100 TeV \n",
      "      ===== EM models for the G4Region  DefaultRegionForTheWorld ======\n",
      "           hPairProd : Emin=    0 eV  Emax=  100 TeV\n",
      "\n",
      "CoulombScat:  for pi+, integral:1  applyCuts:1  SubType=1 BuildTable=1\n",
      "      Lambda table from threshold  to 100 TeV, 20 bins/decade, spline: 1\n",
      "      ThetaMin(p) < Theta(degree) < 180; pLimit(GeV^1)= 0.139531\n",
      "      ===== EM models for the G4Region  DefaultRegionForTheWorld ======\n",
      "  eCoulombScattering : Emin=    0 eV  Emax=  100 TeV\n",
      "\n",
      "msc:  for pi-  SubType= 10\n",
      "      RangeFactor= 0.2, stepLimType: 0, latDisp: 1\n",
      "      ===== EM models for the G4Region  DefaultRegionForTheWorld ======\n",
      "        WentzelVIUni : Emin=    0 eV  Emax=  100 TeV Nbins=240 100 eV  - 100 TeV\n",
      "\n",
      "hIoni:  for pi-  SubType=2\n",
      "      dE/dx and range tables from 100 eV  to 100 TeV in 240 bins\n",
      "      Lambda tables from threshold to 100 TeV, 20 bins/decade, spline: 1\n",
      "      StepFunction=(0.2, 0.05 mm), integ: 1, fluct: 1, linLossLim= 0.01\n",
      "      ===== EM models for the G4Region  DefaultRegionForTheWorld ======\n",
      "            ICRU73QO : Emin=    0 eV  Emax=297.505 keV\n",
      "          BetheBloch : Emin=297.505 keV Emax=  100 TeV\n",
      "\n",
      "hBrems:  for pi-  SubType=3\n",
      "      dE/dx and range tables from 100 eV  to 100 TeV in 240 bins\n",
      "      Lambda tables from threshold to 100 TeV, 20 bins/decade, spline: 1\n",
      "      ===== EM models for the G4Region  DefaultRegionForTheWorld ======\n",
      "               hBrem : Emin=    0 eV  Emax=  100 TeV\n",
      "      ===== Limit on energy threshold has been applied \n",
      "\n",
      "hPairProd:  for pi-  SubType=4\n",
      "      dE/dx and range tables from 100 eV  to 100 TeV in 240 bins\n",
      "      Lambda tables from threshold to 100 TeV, 20 bins/decade, spline: 1\n",
      "      Sampling table 20x1001; from 1.11656 GeV to 100 TeV \n",
      "      ===== EM models for the G4Region  DefaultRegionForTheWorld ======\n",
      "           hPairProd : Emin=    0 eV  Emax=  100 TeV\n",
      "\n",
      "CoulombScat:  for pi-, integral:1  applyCuts:1  SubType=1 BuildTable=1\n",
      "      Used Lambda table of pi+\n",
      "      ThetaMin(p) < Theta(degree) < 180; pLimit(GeV^1)= 0.139531\n",
      "      ===== EM models for the G4Region  DefaultRegionForTheWorld ======\n",
      "  eCoulombScattering : Emin=    0 eV  Emax=  100 TeV\n",
      "G4VisManager: Using G4TrajectoryDrawByCharge as fallback trajectory model.\n",
      "See commands in /vis/modeling/trajectories/ for other options.\n",
      "\n",
      "### ===  Deexcitation model UAtomDeexcitation is activated for 7 regions:\n",
      "          DefaultRegionForTheWorld  1  1  1\n",
      "          cylindricalPET  1  1  1\n",
      "          head  1  1  1\n",
      "          block  1  1  1\n",
      "          crystal  1  1  1\n",
      "          LSO  1  1  1\n",
      "          BGO  1  1  1\n",
      "\n",
      "### === G4UAtomicDeexcitation::InitialiseForNewRun()\n",
      "### ===  Auger cascade flag: 1\n",
      "### ===  Ignore cuts flag:   0\n",
      "### ===  PIXE model for hadrons: Empirical\n",
      "### ===  PIXE model for e+-:     Penelope\n"
     ]
    },
    {
     "name": "stdout",
     "output_type": "stream",
     "text": [
      "[Acquisition-0] Slice 1 from 1 to 2 s [slice=1 s]\n",
      "\n",
      "### ===  Deexcitation model UAtomDeexcitation is activated for 7 regions:\n",
      "          DefaultRegionForTheWorld  1  1  1\n",
      "          cylindricalPET  1  1  1\n",
      "          head  1  1  1\n",
      "          block  1  1  1\n",
      "          crystal  1  1  1\n",
      "          LSO  1  1  1\n",
      "          BGO  1  1  1\n",
      "\n",
      "### === G4UAtomicDeexcitation::InitialiseForNewRun()\n",
      "### ===  Auger cascade flag: 1\n",
      "### ===  Ignore cuts flag:   0\n",
      "### ===  PIXE model for hadrons: Empirical\n",
      "### ===  PIXE model for e+-:     Penelope\n",
      "[Acquisition-0] Slice 2 from 2 to 3 s [slice=1 s]\n",
      "\n",
      "### ===  Deexcitation model UAtomDeexcitation is activated for 7 regions:\n",
      "          DefaultRegionForTheWorld  1  1  1\n",
      "          cylindricalPET  1  1  1\n",
      "          head  1  1  1\n",
      "          block  1  1  1\n",
      "          crystal  1  1  1\n",
      "          LSO  1  1  1\n",
      "          BGO  1  1  1\n",
      "\n",
      "### === G4UAtomicDeexcitation::InitialiseForNewRun()\n",
      "### ===  Auger cascade flag: 1\n",
      "### ===  Ignore cuts flag:   0\n",
      "### ===  PIXE model for hadrons: Empirical\n",
      "### ===  PIXE model for e+-:     Penelope\n",
      "[Acquisition-0] Slice 3 from 3 to 4 s [slice=1 s]\n",
      "\n",
      "### ===  Deexcitation model UAtomDeexcitation is activated for 7 regions:\n",
      "          DefaultRegionForTheWorld  1  1  1\n",
      "          cylindricalPET  1  1  1\n",
      "          head  1  1  1\n",
      "          block  1  1  1\n",
      "          crystal  1  1  1\n",
      "          LSO  1  1  1\n",
      "          BGO  1  1  1\n",
      "\n",
      "### === G4UAtomicDeexcitation::InitialiseForNewRun()\n",
      "### ===  Auger cascade flag: 1\n",
      "### ===  Ignore cuts flag:   0\n",
      "### ===  PIXE model for hadrons: Empirical\n",
      "### ===  PIXE model for e+-:     Penelope\n",
      "[Acquisition-0] Slice 4 from 4 to 5 s [slice=1 s]\n",
      "\n",
      "### ===  Deexcitation model UAtomDeexcitation is activated for 7 regions:\n",
      "          DefaultRegionForTheWorld  1  1  1\n",
      "          cylindricalPET  1  1  1\n",
      "          head  1  1  1\n",
      "          block  1  1  1\n",
      "          crystal  1  1  1\n",
      "          LSO  1  1  1\n",
      "          BGO  1  1  1\n",
      "\n",
      "### === G4UAtomicDeexcitation::InitialiseForNewRun()\n",
      "### ===  Auger cascade flag: 1\n",
      "### ===  Ignore cuts flag:   0\n",
      "### ===  PIXE model for hadrons: Empirical\n",
      "### ===  PIXE model for e+-:     Penelope\n",
      "[Acquisition-0] Slice 5 from 5 to 6 s [slice=1 s]\n",
      "\n",
      "### ===  Deexcitation model UAtomDeexcitation is activated for 7 regions:\n",
      "          DefaultRegionForTheWorld  1  1  1\n",
      "          cylindricalPET  1  1  1\n",
      "          head  1  1  1\n",
      "          block  1  1  1\n",
      "          crystal  1  1  1\n",
      "          LSO  1  1  1\n",
      "          BGO  1  1  1\n",
      "\n",
      "### === G4UAtomicDeexcitation::InitialiseForNewRun()\n",
      "### ===  Auger cascade flag: 1\n",
      "### ===  Ignore cuts flag:   0\n",
      "### ===  PIXE model for hadrons: Empirical\n",
      "### ===  PIXE model for e+-:     Penelope\n",
      "[Acquisition-0] Slice 6 from 6 to 7 s [slice=1 s]\n",
      "\n",
      "### ===  Deexcitation model UAtomDeexcitation is activated for 7 regions:\n",
      "          DefaultRegionForTheWorld  1  1  1\n",
      "          cylindricalPET  1  1  1\n",
      "          head  1  1  1\n",
      "          block  1  1  1\n",
      "          crystal  1  1  1\n",
      "          LSO  1  1  1\n",
      "          BGO  1  1  1\n",
      "\n",
      "### === G4UAtomicDeexcitation::InitialiseForNewRun()\n",
      "### ===  Auger cascade flag: 1\n",
      "### ===  Ignore cuts flag:   0\n",
      "### ===  PIXE model for hadrons: Empirical\n",
      "### ===  PIXE model for e+-:     Penelope\n",
      "[Acquisition-0] Slice 7 from 7 to 8 s [slice=1 s]\n",
      "\n",
      "### ===  Deexcitation model UAtomDeexcitation is activated for 7 regions:\n",
      "          DefaultRegionForTheWorld  1  1  1\n",
      "          cylindricalPET  1  1  1\n",
      "          head  1  1  1\n",
      "          block  1  1  1\n",
      "          crystal  1  1  1\n",
      "          LSO  1  1  1\n",
      "          BGO  1  1  1\n",
      "\n",
      "### === G4UAtomicDeexcitation::InitialiseForNewRun()\n",
      "### ===  Auger cascade flag: 1\n",
      "### ===  Ignore cuts flag:   0\n",
      "### ===  PIXE model for hadrons: Empirical\n",
      "### ===  PIXE model for e+-:     Penelope\n",
      "[Acquisition-0] Slice 8 from 8 to 9 s [slice=1 s]\n",
      "\n",
      "### ===  Deexcitation model UAtomDeexcitation is activated for 7 regions:\n",
      "          DefaultRegionForTheWorld  1  1  1\n",
      "          cylindricalPET  1  1  1\n",
      "          head  1  1  1\n",
      "          block  1  1  1\n",
      "          crystal  1  1  1\n",
      "          LSO  1  1  1\n",
      "          BGO  1  1  1\n",
      "\n",
      "### === G4UAtomicDeexcitation::InitialiseForNewRun()\n",
      "### ===  Auger cascade flag: 1\n",
      "### ===  Ignore cuts flag:   0\n",
      "### ===  PIXE model for hadrons: Empirical\n",
      "### ===  PIXE model for e+-:     Penelope\n",
      "[Acquisition-0] Slice 9 from 9 to 10 s [slice=1 s]\n",
      "\n",
      "### ===  Deexcitation model UAtomDeexcitation is activated for 7 regions:\n",
      "          DefaultRegionForTheWorld  1  1  1\n",
      "          cylindricalPET  1  1  1\n",
      "          head  1  1  1\n",
      "          block  1  1  1\n",
      "          crystal  1  1  1\n",
      "          LSO  1  1  1\n",
      "          BGO  1  1  1\n",
      "\n",
      "### === G4UAtomicDeexcitation::InitialiseForNewRun()\n",
      "### ===  Auger cascade flag: 1\n",
      "### ===  Ignore cuts flag:   0\n",
      "### ===  PIXE model for hadrons: Empirical\n",
      "### ===  PIXE model for e+-:     Penelope\n",
      "[Acquisition-0] Slice 10 from 10 to 11 s [slice=1 s]\n",
      "\n",
      "### ===  Deexcitation model UAtomDeexcitation is activated for 7 regions:\n",
      "          DefaultRegionForTheWorld  1  1  1\n",
      "          cylindricalPET  1  1  1\n",
      "          head  1  1  1\n",
      "          block  1  1  1\n",
      "          crystal  1  1  1\n",
      "          LSO  1  1  1\n",
      "          BGO  1  1  1\n",
      "\n",
      "### === G4UAtomicDeexcitation::InitialiseForNewRun()\n",
      "### ===  Auger cascade flag: 1\n",
      "### ===  Ignore cuts flag:   0\n",
      "### ===  PIXE model for hadrons: Empirical\n",
      "### ===  PIXE model for e+-:     Penelope\n",
      "[Acquisition-0] Slice 11 from 11 to 12 s [slice=1 s]\n",
      "\n",
      "### ===  Deexcitation model UAtomDeexcitation is activated for 7 regions:\n",
      "          DefaultRegionForTheWorld  1  1  1\n",
      "          cylindricalPET  1  1  1\n",
      "          head  1  1  1\n",
      "          block  1  1  1\n",
      "          crystal  1  1  1\n",
      "          LSO  1  1  1\n",
      "          BGO  1  1  1\n",
      "\n",
      "### === G4UAtomicDeexcitation::InitialiseForNewRun()\n",
      "### ===  Auger cascade flag: 1\n",
      "### ===  Ignore cuts flag:   0\n",
      "### ===  PIXE model for hadrons: Empirical\n",
      "### ===  PIXE model for e+-:     Penelope\n",
      "[Acquisition-0] Slice 12 from 12 to 13 s [slice=1 s]\n",
      "\n",
      "### ===  Deexcitation model UAtomDeexcitation is activated for 7 regions:\n",
      "          DefaultRegionForTheWorld  1  1  1\n",
      "          cylindricalPET  1  1  1\n",
      "          head  1  1  1\n",
      "          block  1  1  1\n",
      "          crystal  1  1  1\n",
      "          LSO  1  1  1\n",
      "          BGO  1  1  1\n",
      "\n",
      "### === G4UAtomicDeexcitation::InitialiseForNewRun()\n",
      "### ===  Auger cascade flag: 1\n",
      "### ===  Ignore cuts flag:   0\n",
      "### ===  PIXE model for hadrons: Empirical\n",
      "### ===  PIXE model for e+-:     Penelope\n",
      "[Acquisition-0] Slice 13 from 13 to 14 s [slice=1 s]\n",
      "\n",
      "### ===  Deexcitation model UAtomDeexcitation is activated for 7 regions:\n",
      "          DefaultRegionForTheWorld  1  1  1\n",
      "          cylindricalPET  1  1  1\n",
      "          head  1  1  1\n",
      "          block  1  1  1\n",
      "          crystal  1  1  1\n",
      "          LSO  1  1  1\n",
      "          BGO  1  1  1\n",
      "\n",
      "### === G4UAtomicDeexcitation::InitialiseForNewRun()\n",
      "### ===  Auger cascade flag: 1\n",
      "### ===  Ignore cuts flag:   0\n",
      "### ===  PIXE model for hadrons: Empirical\n",
      "### ===  PIXE model for e+-:     Penelope\n",
      "[Acquisition-0] Slice 14 from 14 to 15 s [slice=1 s]\n",
      "\n",
      "### ===  Deexcitation model UAtomDeexcitation is activated for 7 regions:\n",
      "          DefaultRegionForTheWorld  1  1  1\n",
      "          cylindricalPET  1  1  1\n",
      "          head  1  1  1\n",
      "          block  1  1  1\n",
      "          crystal  1  1  1\n",
      "          LSO  1  1  1\n",
      "          BGO  1  1  1\n",
      "\n",
      "### === G4UAtomicDeexcitation::InitialiseForNewRun()\n",
      "### ===  Auger cascade flag: 1\n",
      "### ===  Ignore cuts flag:   0\n",
      "### ===  PIXE model for hadrons: Empirical\n",
      "### ===  PIXE model for e+-:     Penelope\n",
      "[Acquisition-0] Slice 15 from 15 to 16 s [slice=1 s]\n",
      "\n",
      "### ===  Deexcitation model UAtomDeexcitation is activated for 7 regions:\n",
      "          DefaultRegionForTheWorld  1  1  1\n",
      "          cylindricalPET  1  1  1\n",
      "          head  1  1  1\n",
      "          block  1  1  1\n",
      "          crystal  1  1  1\n",
      "          LSO  1  1  1\n",
      "          BGO  1  1  1\n",
      "\n",
      "### === G4UAtomicDeexcitation::InitialiseForNewRun()\n",
      "### ===  Auger cascade flag: 1\n",
      "### ===  Ignore cuts flag:   0\n",
      "### ===  PIXE model for hadrons: Empirical\n",
      "### ===  PIXE model for e+-:     Penelope\n",
      "[Acquisition-0] Slice 16 from 16 to 17 s [slice=1 s]\n",
      "\n",
      "### ===  Deexcitation model UAtomDeexcitation is activated for 7 regions:\n",
      "          DefaultRegionForTheWorld  1  1  1\n",
      "          cylindricalPET  1  1  1\n",
      "          head  1  1  1\n",
      "          block  1  1  1\n",
      "          crystal  1  1  1\n",
      "          LSO  1  1  1\n",
      "          BGO  1  1  1\n",
      "\n",
      "### === G4UAtomicDeexcitation::InitialiseForNewRun()\n",
      "### ===  Auger cascade flag: 1\n",
      "### ===  Ignore cuts flag:   0\n",
      "### ===  PIXE model for hadrons: Empirical\n",
      "### ===  PIXE model for e+-:     Penelope\n"
     ]
    },
    {
     "name": "stdout",
     "output_type": "stream",
     "text": [
      "[Acquisition-0] Slice 17 from 17 to 18 s [slice=1 s]\n",
      "\n",
      "### ===  Deexcitation model UAtomDeexcitation is activated for 7 regions:\n",
      "          DefaultRegionForTheWorld  1  1  1\n",
      "          cylindricalPET  1  1  1\n",
      "          head  1  1  1\n",
      "          block  1  1  1\n",
      "          crystal  1  1  1\n",
      "          LSO  1  1  1\n",
      "          BGO  1  1  1\n",
      "\n",
      "### === G4UAtomicDeexcitation::InitialiseForNewRun()\n",
      "### ===  Auger cascade flag: 1\n",
      "### ===  Ignore cuts flag:   0\n",
      "### ===  PIXE model for hadrons: Empirical\n",
      "### ===  PIXE model for e+-:     Penelope\n",
      "[Acquisition-0] Slice 18 from 18 to 19 s [slice=1 s]\n",
      "\n",
      "### ===  Deexcitation model UAtomDeexcitation is activated for 7 regions:\n",
      "          DefaultRegionForTheWorld  1  1  1\n",
      "          cylindricalPET  1  1  1\n",
      "          head  1  1  1\n",
      "          block  1  1  1\n",
      "          crystal  1  1  1\n",
      "          LSO  1  1  1\n",
      "          BGO  1  1  1\n",
      "\n",
      "### === G4UAtomicDeexcitation::InitialiseForNewRun()\n",
      "### ===  Auger cascade flag: 1\n",
      "### ===  Ignore cuts flag:   0\n",
      "### ===  PIXE model for hadrons: Empirical\n",
      "### ===  PIXE model for e+-:     Penelope\n",
      "[Acquisition-0] Slice 19 from 19 to 20 s [slice=1 s]\n",
      "\n",
      "### ===  Deexcitation model UAtomDeexcitation is activated for 7 regions:\n",
      "          DefaultRegionForTheWorld  1  1  1\n",
      "          cylindricalPET  1  1  1\n",
      "          head  1  1  1\n",
      "          block  1  1  1\n",
      "          crystal  1  1  1\n",
      "          LSO  1  1  1\n",
      "          BGO  1  1  1\n",
      "\n",
      "### === G4UAtomicDeexcitation::InitialiseForNewRun()\n",
      "### ===  Auger cascade flag: 1\n",
      "### ===  Ignore cuts flag:   0\n",
      "### ===  PIXE model for hadrons: Empirical\n",
      "### ===  PIXE model for e+-:     Penelope\n",
      "[Acquisition-0] Slice 20 from 20 to 21 s [slice=1 s]\n",
      "\n",
      "### ===  Deexcitation model UAtomDeexcitation is activated for 7 regions:\n",
      "          DefaultRegionForTheWorld  1  1  1\n",
      "          cylindricalPET  1  1  1\n",
      "          head  1  1  1\n",
      "          block  1  1  1\n",
      "          crystal  1  1  1\n",
      "          LSO  1  1  1\n",
      "          BGO  1  1  1\n",
      "\n",
      "### === G4UAtomicDeexcitation::InitialiseForNewRun()\n",
      "### ===  Auger cascade flag: 1\n",
      "### ===  Ignore cuts flag:   0\n",
      "### ===  PIXE model for hadrons: Empirical\n",
      "### ===  PIXE model for e+-:     Penelope\n",
      "[Acquisition-0] Slice 21 from 21 to 22 s [slice=1 s]\n",
      "\n",
      "### ===  Deexcitation model UAtomDeexcitation is activated for 7 regions:\n",
      "          DefaultRegionForTheWorld  1  1  1\n",
      "          cylindricalPET  1  1  1\n",
      "          head  1  1  1\n",
      "          block  1  1  1\n",
      "          crystal  1  1  1\n",
      "          LSO  1  1  1\n",
      "          BGO  1  1  1\n",
      "\n",
      "### === G4UAtomicDeexcitation::InitialiseForNewRun()\n",
      "### ===  Auger cascade flag: 1\n",
      "### ===  Ignore cuts flag:   0\n",
      "### ===  PIXE model for hadrons: Empirical\n",
      "### ===  PIXE model for e+-:     Penelope\n",
      "[Acquisition-0] Slice 22 from 22 to 23 s [slice=1 s]\n",
      "\n",
      "### ===  Deexcitation model UAtomDeexcitation is activated for 7 regions:\n",
      "          DefaultRegionForTheWorld  1  1  1\n",
      "          cylindricalPET  1  1  1\n",
      "          head  1  1  1\n",
      "          block  1  1  1\n",
      "          crystal  1  1  1\n",
      "          LSO  1  1  1\n",
      "          BGO  1  1  1\n",
      "\n",
      "### === G4UAtomicDeexcitation::InitialiseForNewRun()\n",
      "### ===  Auger cascade flag: 1\n",
      "### ===  Ignore cuts flag:   0\n",
      "### ===  PIXE model for hadrons: Empirical\n",
      "### ===  PIXE model for e+-:     Penelope\n",
      "[Acquisition-0] Slice 23 from 23 to 24 s [slice=1 s]\n",
      "\n",
      "### ===  Deexcitation model UAtomDeexcitation is activated for 7 regions:\n",
      "          DefaultRegionForTheWorld  1  1  1\n",
      "          cylindricalPET  1  1  1\n",
      "          head  1  1  1\n",
      "          block  1  1  1\n",
      "          crystal  1  1  1\n",
      "          LSO  1  1  1\n",
      "          BGO  1  1  1\n",
      "\n",
      "### === G4UAtomicDeexcitation::InitialiseForNewRun()\n",
      "### ===  Auger cascade flag: 1\n",
      "### ===  Ignore cuts flag:   0\n",
      "### ===  PIXE model for hadrons: Empirical\n",
      "### ===  PIXE model for e+-:     Penelope\n",
      "[Acquisition-0] Slice 24 from 24 to 25 s [slice=1 s]\n",
      "\n",
      "### ===  Deexcitation model UAtomDeexcitation is activated for 7 regions:\n",
      "          DefaultRegionForTheWorld  1  1  1\n",
      "          cylindricalPET  1  1  1\n",
      "          head  1  1  1\n",
      "          block  1  1  1\n",
      "          crystal  1  1  1\n",
      "          LSO  1  1  1\n",
      "          BGO  1  1  1\n",
      "\n",
      "### === G4UAtomicDeexcitation::InitialiseForNewRun()\n",
      "### ===  Auger cascade flag: 1\n",
      "### ===  Ignore cuts flag:   0\n",
      "### ===  PIXE model for hadrons: Empirical\n",
      "### ===  PIXE model for e+-:     Penelope\n",
      "[Acquisition-0] Slice 25 from 25 to 26 s [slice=1 s]\n",
      "\n",
      "### ===  Deexcitation model UAtomDeexcitation is activated for 7 regions:\n",
      "          DefaultRegionForTheWorld  1  1  1\n",
      "          cylindricalPET  1  1  1\n",
      "          head  1  1  1\n",
      "          block  1  1  1\n",
      "          crystal  1  1  1\n",
      "          LSO  1  1  1\n",
      "          BGO  1  1  1\n",
      "\n",
      "### === G4UAtomicDeexcitation::InitialiseForNewRun()\n",
      "### ===  Auger cascade flag: 1\n",
      "### ===  Ignore cuts flag:   0\n",
      "### ===  PIXE model for hadrons: Empirical\n",
      "### ===  PIXE model for e+-:     Penelope\n",
      "[Acquisition-0] Slice 26 from 26 to 27 s [slice=1 s]\n",
      "\n",
      "### ===  Deexcitation model UAtomDeexcitation is activated for 7 regions:\n",
      "          DefaultRegionForTheWorld  1  1  1\n",
      "          cylindricalPET  1  1  1\n",
      "          head  1  1  1\n",
      "          block  1  1  1\n",
      "          crystal  1  1  1\n",
      "          LSO  1  1  1\n",
      "          BGO  1  1  1\n",
      "\n",
      "### === G4UAtomicDeexcitation::InitialiseForNewRun()\n",
      "### ===  Auger cascade flag: 1\n",
      "### ===  Ignore cuts flag:   0\n",
      "### ===  PIXE model for hadrons: Empirical\n",
      "### ===  PIXE model for e+-:     Penelope\n",
      "[Acquisition-0] Slice 27 from 27 to 28 s [slice=1 s]\n",
      "\n",
      "### ===  Deexcitation model UAtomDeexcitation is activated for 7 regions:\n",
      "          DefaultRegionForTheWorld  1  1  1\n",
      "          cylindricalPET  1  1  1\n",
      "          head  1  1  1\n",
      "          block  1  1  1\n",
      "          crystal  1  1  1\n",
      "          LSO  1  1  1\n",
      "          BGO  1  1  1\n",
      "\n",
      "### === G4UAtomicDeexcitation::InitialiseForNewRun()\n",
      "### ===  Auger cascade flag: 1\n",
      "### ===  Ignore cuts flag:   0\n",
      "### ===  PIXE model for hadrons: Empirical\n",
      "### ===  PIXE model for e+-:     Penelope\n",
      "[Acquisition-0] Slice 28 from 28 to 29 s [slice=1 s]\n",
      "\n",
      "### ===  Deexcitation model UAtomDeexcitation is activated for 7 regions:\n",
      "          DefaultRegionForTheWorld  1  1  1\n",
      "          cylindricalPET  1  1  1\n",
      "          head  1  1  1\n",
      "          block  1  1  1\n",
      "          crystal  1  1  1\n",
      "          LSO  1  1  1\n",
      "          BGO  1  1  1\n",
      "\n",
      "### === G4UAtomicDeexcitation::InitialiseForNewRun()\n",
      "### ===  Auger cascade flag: 1\n",
      "### ===  Ignore cuts flag:   0\n",
      "### ===  PIXE model for hadrons: Empirical\n",
      "### ===  PIXE model for e+-:     Penelope\n",
      "[Acquisition-0] Slice 29 from 29 to 30 s [slice=1 s]\n",
      "\n",
      "### ===  Deexcitation model UAtomDeexcitation is activated for 7 regions:\n",
      "          DefaultRegionForTheWorld  1  1  1\n",
      "          cylindricalPET  1  1  1\n",
      "          head  1  1  1\n",
      "          block  1  1  1\n",
      "          crystal  1  1  1\n",
      "          LSO  1  1  1\n",
      "          BGO  1  1  1\n",
      "\n",
      "### === G4UAtomicDeexcitation::InitialiseForNewRun()\n",
      "### ===  Auger cascade flag: 1\n",
      "### ===  Ignore cuts flag:   0\n",
      "### ===  PIXE model for hadrons: Empirical\n",
      "### ===  PIXE model for e+-:     Penelope\n",
      "[Acquisition-0] Slice 30 from 30 to 31 s [slice=1 s]\n",
      "\n",
      "### ===  Deexcitation model UAtomDeexcitation is activated for 7 regions:\n",
      "          DefaultRegionForTheWorld  1  1  1\n",
      "          cylindricalPET  1  1  1\n",
      "          head  1  1  1\n",
      "          block  1  1  1\n",
      "          crystal  1  1  1\n",
      "          LSO  1  1  1\n",
      "          BGO  1  1  1\n",
      "\n",
      "### === G4UAtomicDeexcitation::InitialiseForNewRun()\n",
      "### ===  Auger cascade flag: 1\n",
      "### ===  Ignore cuts flag:   0\n",
      "### ===  PIXE model for hadrons: Empirical\n",
      "### ===  PIXE model for e+-:     Penelope\n",
      "[Acquisition-0] Slice 31 from 31 to 32 s [slice=1 s]\n",
      "\n",
      "### ===  Deexcitation model UAtomDeexcitation is activated for 7 regions:\n",
      "          DefaultRegionForTheWorld  1  1  1\n",
      "          cylindricalPET  1  1  1\n",
      "          head  1  1  1\n",
      "          block  1  1  1\n",
      "          crystal  1  1  1\n",
      "          LSO  1  1  1\n",
      "          BGO  1  1  1\n",
      "\n",
      "### === G4UAtomicDeexcitation::InitialiseForNewRun()\n",
      "### ===  Auger cascade flag: 1\n",
      "### ===  Ignore cuts flag:   0\n",
      "### ===  PIXE model for hadrons: Empirical\n",
      "### ===  PIXE model for e+-:     Penelope\n",
      "[Acquisition-0] Slice 32 from 32 to 33 s [slice=1 s]\n",
      "\n",
      "### ===  Deexcitation model UAtomDeexcitation is activated for 7 regions:\n",
      "          DefaultRegionForTheWorld  1  1  1\n",
      "          cylindricalPET  1  1  1\n",
      "          head  1  1  1\n",
      "          block  1  1  1\n",
      "          crystal  1  1  1\n",
      "          LSO  1  1  1\n",
      "          BGO  1  1  1\n",
      "\n",
      "### === G4UAtomicDeexcitation::InitialiseForNewRun()\n",
      "### ===  Auger cascade flag: 1\n",
      "### ===  Ignore cuts flag:   0\n",
      "### ===  PIXE model for hadrons: Empirical\n",
      "### ===  PIXE model for e+-:     Penelope\n"
     ]
    },
    {
     "name": "stdout",
     "output_type": "stream",
     "text": [
      "[Acquisition-0] Slice 33 from 33 to 34 s [slice=1 s]\n",
      "\n",
      "### ===  Deexcitation model UAtomDeexcitation is activated for 7 regions:\n",
      "          DefaultRegionForTheWorld  1  1  1\n",
      "          cylindricalPET  1  1  1\n",
      "          head  1  1  1\n",
      "          block  1  1  1\n",
      "          crystal  1  1  1\n",
      "          LSO  1  1  1\n",
      "          BGO  1  1  1\n",
      "\n",
      "### === G4UAtomicDeexcitation::InitialiseForNewRun()\n",
      "### ===  Auger cascade flag: 1\n",
      "### ===  Ignore cuts flag:   0\n",
      "### ===  PIXE model for hadrons: Empirical\n",
      "### ===  PIXE model for e+-:     Penelope\n",
      "[Acquisition-0] Slice 34 from 34 to 35 s [slice=1 s]\n",
      "\n",
      "### ===  Deexcitation model UAtomDeexcitation is activated for 7 regions:\n",
      "          DefaultRegionForTheWorld  1  1  1\n",
      "          cylindricalPET  1  1  1\n",
      "          head  1  1  1\n",
      "          block  1  1  1\n",
      "          crystal  1  1  1\n",
      "          LSO  1  1  1\n",
      "          BGO  1  1  1\n",
      "\n",
      "### === G4UAtomicDeexcitation::InitialiseForNewRun()\n",
      "### ===  Auger cascade flag: 1\n",
      "### ===  Ignore cuts flag:   0\n",
      "### ===  PIXE model for hadrons: Empirical\n",
      "### ===  PIXE model for e+-:     Penelope\n",
      "[Acquisition-0] Slice 35 from 35 to 36 s [slice=1 s]\n",
      "\n",
      "### ===  Deexcitation model UAtomDeexcitation is activated for 7 regions:\n",
      "          DefaultRegionForTheWorld  1  1  1\n",
      "          cylindricalPET  1  1  1\n",
      "          head  1  1  1\n",
      "          block  1  1  1\n",
      "          crystal  1  1  1\n",
      "          LSO  1  1  1\n",
      "          BGO  1  1  1\n",
      "\n",
      "### === G4UAtomicDeexcitation::InitialiseForNewRun()\n",
      "### ===  Auger cascade flag: 1\n",
      "### ===  Ignore cuts flag:   0\n",
      "### ===  PIXE model for hadrons: Empirical\n",
      "### ===  PIXE model for e+-:     Penelope\n",
      "[Acquisition-0] Slice 36 from 36 to 37 s [slice=1 s]\n",
      "\n",
      "### ===  Deexcitation model UAtomDeexcitation is activated for 7 regions:\n",
      "          DefaultRegionForTheWorld  1  1  1\n",
      "          cylindricalPET  1  1  1\n",
      "          head  1  1  1\n",
      "          block  1  1  1\n",
      "          crystal  1  1  1\n",
      "          LSO  1  1  1\n",
      "          BGO  1  1  1\n",
      "\n",
      "### === G4UAtomicDeexcitation::InitialiseForNewRun()\n",
      "### ===  Auger cascade flag: 1\n",
      "### ===  Ignore cuts flag:   0\n",
      "### ===  PIXE model for hadrons: Empirical\n",
      "### ===  PIXE model for e+-:     Penelope\n",
      "[Acquisition-0] Slice 37 from 37 to 38 s [slice=1 s]\n",
      "\n",
      "### ===  Deexcitation model UAtomDeexcitation is activated for 7 regions:\n",
      "          DefaultRegionForTheWorld  1  1  1\n",
      "          cylindricalPET  1  1  1\n",
      "          head  1  1  1\n",
      "          block  1  1  1\n",
      "          crystal  1  1  1\n",
      "          LSO  1  1  1\n",
      "          BGO  1  1  1\n",
      "\n",
      "### === G4UAtomicDeexcitation::InitialiseForNewRun()\n",
      "### ===  Auger cascade flag: 1\n",
      "### ===  Ignore cuts flag:   0\n",
      "### ===  PIXE model for hadrons: Empirical\n",
      "### ===  PIXE model for e+-:     Penelope\n",
      "[Acquisition-0] Slice 38 from 38 to 39 s [slice=1 s]\n",
      "\n",
      "### ===  Deexcitation model UAtomDeexcitation is activated for 7 regions:\n",
      "          DefaultRegionForTheWorld  1  1  1\n",
      "          cylindricalPET  1  1  1\n",
      "          head  1  1  1\n",
      "          block  1  1  1\n",
      "          crystal  1  1  1\n",
      "          LSO  1  1  1\n",
      "          BGO  1  1  1\n",
      "\n",
      "### === G4UAtomicDeexcitation::InitialiseForNewRun()\n",
      "### ===  Auger cascade flag: 1\n",
      "### ===  Ignore cuts flag:   0\n",
      "### ===  PIXE model for hadrons: Empirical\n",
      "### ===  PIXE model for e+-:     Penelope\n",
      "[Acquisition-0] Slice 39 from 39 to 40 s [slice=1 s]\n",
      "\n",
      "### ===  Deexcitation model UAtomDeexcitation is activated for 7 regions:\n",
      "          DefaultRegionForTheWorld  1  1  1\n",
      "          cylindricalPET  1  1  1\n",
      "          head  1  1  1\n",
      "          block  1  1  1\n",
      "          crystal  1  1  1\n",
      "          LSO  1  1  1\n",
      "          BGO  1  1  1\n",
      "\n",
      "### === G4UAtomicDeexcitation::InitialiseForNewRun()\n",
      "### ===  Auger cascade flag: 1\n",
      "### ===  Ignore cuts flag:   0\n",
      "### ===  PIXE model for hadrons: Empirical\n",
      "### ===  PIXE model for e+-:     Penelope\n",
      "[Acquisition-0] Slice 40 from 40 to 41 s [slice=1 s]\n",
      "\n",
      "### ===  Deexcitation model UAtomDeexcitation is activated for 7 regions:\n",
      "          DefaultRegionForTheWorld  1  1  1\n",
      "          cylindricalPET  1  1  1\n",
      "          head  1  1  1\n",
      "          block  1  1  1\n",
      "          crystal  1  1  1\n",
      "          LSO  1  1  1\n",
      "          BGO  1  1  1\n",
      "\n",
      "### === G4UAtomicDeexcitation::InitialiseForNewRun()\n",
      "### ===  Auger cascade flag: 1\n",
      "### ===  Ignore cuts flag:   0\n",
      "### ===  PIXE model for hadrons: Empirical\n",
      "### ===  PIXE model for e+-:     Penelope\n",
      "[Acquisition-0] Slice 41 from 41 to 42 s [slice=1 s]\n",
      "\n",
      "### ===  Deexcitation model UAtomDeexcitation is activated for 7 regions:\n",
      "          DefaultRegionForTheWorld  1  1  1\n",
      "          cylindricalPET  1  1  1\n",
      "          head  1  1  1\n",
      "          block  1  1  1\n",
      "          crystal  1  1  1\n",
      "          LSO  1  1  1\n",
      "          BGO  1  1  1\n",
      "\n",
      "### === G4UAtomicDeexcitation::InitialiseForNewRun()\n",
      "### ===  Auger cascade flag: 1\n",
      "### ===  Ignore cuts flag:   0\n",
      "### ===  PIXE model for hadrons: Empirical\n",
      "### ===  PIXE model for e+-:     Penelope\n",
      "[Acquisition-0] Slice 42 from 42 to 43 s [slice=1 s]\n",
      "\n",
      "### ===  Deexcitation model UAtomDeexcitation is activated for 7 regions:\n",
      "          DefaultRegionForTheWorld  1  1  1\n",
      "          cylindricalPET  1  1  1\n",
      "          head  1  1  1\n",
      "          block  1  1  1\n",
      "          crystal  1  1  1\n",
      "          LSO  1  1  1\n",
      "          BGO  1  1  1\n",
      "\n",
      "### === G4UAtomicDeexcitation::InitialiseForNewRun()\n",
      "### ===  Auger cascade flag: 1\n",
      "### ===  Ignore cuts flag:   0\n",
      "### ===  PIXE model for hadrons: Empirical\n",
      "### ===  PIXE model for e+-:     Penelope\n",
      "[Acquisition-0] Slice 43 from 43 to 44 s [slice=1 s]\n",
      "\n",
      "### ===  Deexcitation model UAtomDeexcitation is activated for 7 regions:\n",
      "          DefaultRegionForTheWorld  1  1  1\n",
      "          cylindricalPET  1  1  1\n",
      "          head  1  1  1\n",
      "          block  1  1  1\n",
      "          crystal  1  1  1\n",
      "          LSO  1  1  1\n",
      "          BGO  1  1  1\n",
      "\n",
      "### === G4UAtomicDeexcitation::InitialiseForNewRun()\n",
      "### ===  Auger cascade flag: 1\n",
      "### ===  Ignore cuts flag:   0\n",
      "### ===  PIXE model for hadrons: Empirical\n",
      "### ===  PIXE model for e+-:     Penelope\n",
      "[Acquisition-0] Slice 44 from 44 to 45 s [slice=1 s]\n",
      "\n",
      "### ===  Deexcitation model UAtomDeexcitation is activated for 7 regions:\n",
      "          DefaultRegionForTheWorld  1  1  1\n",
      "          cylindricalPET  1  1  1\n",
      "          head  1  1  1\n",
      "          block  1  1  1\n",
      "          crystal  1  1  1\n",
      "          LSO  1  1  1\n",
      "          BGO  1  1  1\n",
      "\n",
      "### === G4UAtomicDeexcitation::InitialiseForNewRun()\n",
      "### ===  Auger cascade flag: 1\n",
      "### ===  Ignore cuts flag:   0\n",
      "### ===  PIXE model for hadrons: Empirical\n",
      "### ===  PIXE model for e+-:     Penelope\n",
      "[Acquisition-0] Slice 45 from 45 to 46 s [slice=1 s]\n",
      "\n",
      "### ===  Deexcitation model UAtomDeexcitation is activated for 7 regions:\n",
      "          DefaultRegionForTheWorld  1  1  1\n",
      "          cylindricalPET  1  1  1\n",
      "          head  1  1  1\n",
      "          block  1  1  1\n",
      "          crystal  1  1  1\n",
      "          LSO  1  1  1\n",
      "          BGO  1  1  1\n",
      "\n",
      "### === G4UAtomicDeexcitation::InitialiseForNewRun()\n",
      "### ===  Auger cascade flag: 1\n",
      "### ===  Ignore cuts flag:   0\n",
      "### ===  PIXE model for hadrons: Empirical\n",
      "### ===  PIXE model for e+-:     Penelope\n",
      "[Acquisition-0] Slice 46 from 46 to 47 s [slice=1 s]\n",
      "\n",
      "### ===  Deexcitation model UAtomDeexcitation is activated for 7 regions:\n",
      "          DefaultRegionForTheWorld  1  1  1\n",
      "          cylindricalPET  1  1  1\n",
      "          head  1  1  1\n",
      "          block  1  1  1\n",
      "          crystal  1  1  1\n",
      "          LSO  1  1  1\n",
      "          BGO  1  1  1\n",
      "\n",
      "### === G4UAtomicDeexcitation::InitialiseForNewRun()\n",
      "### ===  Auger cascade flag: 1\n",
      "### ===  Ignore cuts flag:   0\n",
      "### ===  PIXE model for hadrons: Empirical\n",
      "### ===  PIXE model for e+-:     Penelope\n",
      "[Acquisition-0] Slice 47 from 47 to 48 s [slice=1 s]\n",
      "\n",
      "### ===  Deexcitation model UAtomDeexcitation is activated for 7 regions:\n",
      "          DefaultRegionForTheWorld  1  1  1\n",
      "          cylindricalPET  1  1  1\n",
      "          head  1  1  1\n",
      "          block  1  1  1\n",
      "          crystal  1  1  1\n",
      "          LSO  1  1  1\n",
      "          BGO  1  1  1\n",
      "\n",
      "### === G4UAtomicDeexcitation::InitialiseForNewRun()\n",
      "### ===  Auger cascade flag: 1\n",
      "### ===  Ignore cuts flag:   0\n",
      "### ===  PIXE model for hadrons: Empirical\n",
      "### ===  PIXE model for e+-:     Penelope\n",
      "[Acquisition-0] Slice 48 from 48 to 49 s [slice=1 s]\n",
      "\n",
      "### ===  Deexcitation model UAtomDeexcitation is activated for 7 regions:\n",
      "          DefaultRegionForTheWorld  1  1  1\n",
      "          cylindricalPET  1  1  1\n",
      "          head  1  1  1\n",
      "          block  1  1  1\n",
      "          crystal  1  1  1\n",
      "          LSO  1  1  1\n",
      "          BGO  1  1  1\n",
      "\n",
      "### === G4UAtomicDeexcitation::InitialiseForNewRun()\n",
      "### ===  Auger cascade flag: 1\n",
      "### ===  Ignore cuts flag:   0\n",
      "### ===  PIXE model for hadrons: Empirical\n",
      "### ===  PIXE model for e+-:     Penelope\n"
     ]
    },
    {
     "name": "stdout",
     "output_type": "stream",
     "text": [
      "[Acquisition-0] Slice 49 from 49 to 50 s [slice=1 s]\n",
      "\n",
      "### ===  Deexcitation model UAtomDeexcitation is activated for 7 regions:\n",
      "          DefaultRegionForTheWorld  1  1  1\n",
      "          cylindricalPET  1  1  1\n",
      "          head  1  1  1\n",
      "          block  1  1  1\n",
      "          crystal  1  1  1\n",
      "          LSO  1  1  1\n",
      "          BGO  1  1  1\n",
      "\n",
      "### === G4UAtomicDeexcitation::InitialiseForNewRun()\n",
      "### ===  Auger cascade flag: 1\n",
      "### ===  Ignore cuts flag:   0\n",
      "### ===  PIXE model for hadrons: Empirical\n",
      "### ===  PIXE model for e+-:     Penelope\n",
      "[Acquisition-0] Slice 50 from 50 to 51 s [slice=1 s]\n",
      "\n",
      "### ===  Deexcitation model UAtomDeexcitation is activated for 7 regions:\n",
      "          DefaultRegionForTheWorld  1  1  1\n",
      "          cylindricalPET  1  1  1\n",
      "          head  1  1  1\n",
      "          block  1  1  1\n",
      "          crystal  1  1  1\n",
      "          LSO  1  1  1\n",
      "          BGO  1  1  1\n",
      "\n",
      "### === G4UAtomicDeexcitation::InitialiseForNewRun()\n",
      "### ===  Auger cascade flag: 1\n",
      "### ===  Ignore cuts flag:   0\n",
      "### ===  PIXE model for hadrons: Empirical\n",
      "### ===  PIXE model for e+-:     Penelope\n",
      "[Acquisition-0] Slice 51 from 51 to 52 s [slice=1 s]\n",
      "\n",
      "### ===  Deexcitation model UAtomDeexcitation is activated for 7 regions:\n",
      "          DefaultRegionForTheWorld  1  1  1\n",
      "          cylindricalPET  1  1  1\n",
      "          head  1  1  1\n",
      "          block  1  1  1\n",
      "          crystal  1  1  1\n",
      "          LSO  1  1  1\n",
      "          BGO  1  1  1\n",
      "\n",
      "### === G4UAtomicDeexcitation::InitialiseForNewRun()\n",
      "### ===  Auger cascade flag: 1\n",
      "### ===  Ignore cuts flag:   0\n",
      "### ===  PIXE model for hadrons: Empirical\n",
      "### ===  PIXE model for e+-:     Penelope\n",
      "[Acquisition-0] Slice 52 from 52 to 53 s [slice=1 s]\n",
      "\n",
      "### ===  Deexcitation model UAtomDeexcitation is activated for 7 regions:\n",
      "          DefaultRegionForTheWorld  1  1  1\n",
      "          cylindricalPET  1  1  1\n",
      "          head  1  1  1\n",
      "          block  1  1  1\n",
      "          crystal  1  1  1\n",
      "          LSO  1  1  1\n",
      "          BGO  1  1  1\n",
      "\n",
      "### === G4UAtomicDeexcitation::InitialiseForNewRun()\n",
      "### ===  Auger cascade flag: 1\n",
      "### ===  Ignore cuts flag:   0\n",
      "### ===  PIXE model for hadrons: Empirical\n",
      "### ===  PIXE model for e+-:     Penelope\n",
      "[Acquisition-0] Slice 53 from 53 to 54 s [slice=1 s]\n",
      "\n",
      "### ===  Deexcitation model UAtomDeexcitation is activated for 7 regions:\n",
      "          DefaultRegionForTheWorld  1  1  1\n",
      "          cylindricalPET  1  1  1\n",
      "          head  1  1  1\n",
      "          block  1  1  1\n",
      "          crystal  1  1  1\n",
      "          LSO  1  1  1\n",
      "          BGO  1  1  1\n",
      "\n",
      "### === G4UAtomicDeexcitation::InitialiseForNewRun()\n",
      "### ===  Auger cascade flag: 1\n",
      "### ===  Ignore cuts flag:   0\n",
      "### ===  PIXE model for hadrons: Empirical\n",
      "### ===  PIXE model for e+-:     Penelope\n",
      "[Acquisition-0] Slice 54 from 54 to 55 s [slice=1 s]\n",
      "\n",
      "### ===  Deexcitation model UAtomDeexcitation is activated for 7 regions:\n",
      "          DefaultRegionForTheWorld  1  1  1\n",
      "          cylindricalPET  1  1  1\n",
      "          head  1  1  1\n",
      "          block  1  1  1\n",
      "          crystal  1  1  1\n",
      "          LSO  1  1  1\n",
      "          BGO  1  1  1\n",
      "\n",
      "### === G4UAtomicDeexcitation::InitialiseForNewRun()\n",
      "### ===  Auger cascade flag: 1\n",
      "### ===  Ignore cuts flag:   0\n",
      "### ===  PIXE model for hadrons: Empirical\n",
      "### ===  PIXE model for e+-:     Penelope\n",
      "[Acquisition-0] Slice 55 from 55 to 56 s [slice=1 s]\n",
      "\n",
      "### ===  Deexcitation model UAtomDeexcitation is activated for 7 regions:\n",
      "          DefaultRegionForTheWorld  1  1  1\n",
      "          cylindricalPET  1  1  1\n",
      "          head  1  1  1\n",
      "          block  1  1  1\n",
      "          crystal  1  1  1\n",
      "          LSO  1  1  1\n",
      "          BGO  1  1  1\n",
      "\n",
      "### === G4UAtomicDeexcitation::InitialiseForNewRun()\n",
      "### ===  Auger cascade flag: 1\n",
      "### ===  Ignore cuts flag:   0\n",
      "### ===  PIXE model for hadrons: Empirical\n",
      "### ===  PIXE model for e+-:     Penelope\n",
      "[Acquisition-0] Slice 56 from 56 to 57 s [slice=1 s]\n",
      "\n",
      "### ===  Deexcitation model UAtomDeexcitation is activated for 7 regions:\n",
      "          DefaultRegionForTheWorld  1  1  1\n",
      "          cylindricalPET  1  1  1\n",
      "          head  1  1  1\n",
      "          block  1  1  1\n",
      "          crystal  1  1  1\n",
      "          LSO  1  1  1\n",
      "          BGO  1  1  1\n",
      "\n",
      "### === G4UAtomicDeexcitation::InitialiseForNewRun()\n",
      "### ===  Auger cascade flag: 1\n",
      "### ===  Ignore cuts flag:   0\n",
      "### ===  PIXE model for hadrons: Empirical\n",
      "### ===  PIXE model for e+-:     Penelope\n",
      "[Acquisition-0] Slice 57 from 57 to 58 s [slice=1 s]\n",
      "\n",
      "### ===  Deexcitation model UAtomDeexcitation is activated for 7 regions:\n",
      "          DefaultRegionForTheWorld  1  1  1\n",
      "          cylindricalPET  1  1  1\n",
      "          head  1  1  1\n",
      "          block  1  1  1\n",
      "          crystal  1  1  1\n",
      "          LSO  1  1  1\n",
      "          BGO  1  1  1\n",
      "\n",
      "### === G4UAtomicDeexcitation::InitialiseForNewRun()\n",
      "### ===  Auger cascade flag: 1\n",
      "### ===  Ignore cuts flag:   0\n",
      "### ===  PIXE model for hadrons: Empirical\n",
      "### ===  PIXE model for e+-:     Penelope\n",
      "[Acquisition-0] Slice 58 from 58 to 59 s [slice=1 s]\n",
      "\n",
      "### ===  Deexcitation model UAtomDeexcitation is activated for 7 regions:\n",
      "          DefaultRegionForTheWorld  1  1  1\n",
      "          cylindricalPET  1  1  1\n",
      "          head  1  1  1\n",
      "          block  1  1  1\n",
      "          crystal  1  1  1\n",
      "          LSO  1  1  1\n",
      "          BGO  1  1  1\n",
      "\n",
      "### === G4UAtomicDeexcitation::InitialiseForNewRun()\n",
      "### ===  Auger cascade flag: 1\n",
      "### ===  Ignore cuts flag:   0\n",
      "### ===  PIXE model for hadrons: Empirical\n",
      "### ===  PIXE model for e+-:     Penelope\n",
      "[Acquisition-0] Slice 59 from 59 to 60 s [slice=1 s]\n",
      "\n",
      "### ===  Deexcitation model UAtomDeexcitation is activated for 7 regions:\n",
      "          DefaultRegionForTheWorld  1  1  1\n",
      "          cylindricalPET  1  1  1\n",
      "          head  1  1  1\n",
      "          block  1  1  1\n",
      "          crystal  1  1  1\n",
      "          LSO  1  1  1\n",
      "          BGO  1  1  1\n",
      "\n",
      "### === G4UAtomicDeexcitation::InitialiseForNewRun()\n",
      "### ===  Auger cascade flag: 1\n",
      "### ===  Ignore cuts flag:   0\n",
      "### ===  PIXE model for hadrons: Empirical\n",
      "### ===  PIXE model for e+-:     Penelope\n",
      "[Acquisition-0] Slice 60 from 60 to 61 s [slice=1 s]\n",
      "\n",
      "### ===  Deexcitation model UAtomDeexcitation is activated for 7 regions:\n",
      "          DefaultRegionForTheWorld  1  1  1\n",
      "          cylindricalPET  1  1  1\n",
      "          head  1  1  1\n",
      "          block  1  1  1\n",
      "          crystal  1  1  1\n",
      "          LSO  1  1  1\n",
      "          BGO  1  1  1\n",
      "\n",
      "### === G4UAtomicDeexcitation::InitialiseForNewRun()\n",
      "### ===  Auger cascade flag: 1\n",
      "### ===  Ignore cuts flag:   0\n",
      "### ===  PIXE model for hadrons: Empirical\n",
      "### ===  PIXE model for e+-:     Penelope\n",
      "[Acquisition-0] Slice 61 from 61 to 62 s [slice=1 s]\n",
      "\n",
      "### ===  Deexcitation model UAtomDeexcitation is activated for 7 regions:\n",
      "          DefaultRegionForTheWorld  1  1  1\n",
      "          cylindricalPET  1  1  1\n",
      "          head  1  1  1\n",
      "          block  1  1  1\n",
      "          crystal  1  1  1\n",
      "          LSO  1  1  1\n",
      "          BGO  1  1  1\n",
      "\n",
      "### === G4UAtomicDeexcitation::InitialiseForNewRun()\n",
      "### ===  Auger cascade flag: 1\n",
      "### ===  Ignore cuts flag:   0\n",
      "### ===  PIXE model for hadrons: Empirical\n",
      "### ===  PIXE model for e+-:     Penelope\n",
      "[Acquisition-0] Slice 62 from 62 to 63 s [slice=1 s]\n",
      "\n",
      "### ===  Deexcitation model UAtomDeexcitation is activated for 7 regions:\n",
      "          DefaultRegionForTheWorld  1  1  1\n",
      "          cylindricalPET  1  1  1\n",
      "          head  1  1  1\n",
      "          block  1  1  1\n",
      "          crystal  1  1  1\n",
      "          LSO  1  1  1\n",
      "          BGO  1  1  1\n",
      "\n",
      "### === G4UAtomicDeexcitation::InitialiseForNewRun()\n",
      "### ===  Auger cascade flag: 1\n",
      "### ===  Ignore cuts flag:   0\n",
      "### ===  PIXE model for hadrons: Empirical\n",
      "### ===  PIXE model for e+-:     Penelope\n",
      "[Acquisition-0] Slice 63 from 63 to 64 s [slice=1 s]\n",
      "\n",
      "### ===  Deexcitation model UAtomDeexcitation is activated for 7 regions:\n",
      "          DefaultRegionForTheWorld  1  1  1\n",
      "          cylindricalPET  1  1  1\n",
      "          head  1  1  1\n",
      "          block  1  1  1\n",
      "          crystal  1  1  1\n",
      "          LSO  1  1  1\n",
      "          BGO  1  1  1\n",
      "\n",
      "### === G4UAtomicDeexcitation::InitialiseForNewRun()\n",
      "### ===  Auger cascade flag: 1\n",
      "### ===  Ignore cuts flag:   0\n",
      "### ===  PIXE model for hadrons: Empirical\n",
      "### ===  PIXE model for e+-:     Penelope\n",
      "[Acquisition-0] Slice 64 from 64 to 65 s [slice=1 s]\n",
      "\n",
      "### ===  Deexcitation model UAtomDeexcitation is activated for 7 regions:\n",
      "          DefaultRegionForTheWorld  1  1  1\n",
      "          cylindricalPET  1  1  1\n",
      "          head  1  1  1\n",
      "          block  1  1  1\n",
      "          crystal  1  1  1\n",
      "          LSO  1  1  1\n",
      "          BGO  1  1  1\n",
      "\n",
      "### === G4UAtomicDeexcitation::InitialiseForNewRun()\n",
      "### ===  Auger cascade flag: 1\n",
      "### ===  Ignore cuts flag:   0\n",
      "### ===  PIXE model for hadrons: Empirical\n",
      "### ===  PIXE model for e+-:     Penelope\n"
     ]
    },
    {
     "name": "stdout",
     "output_type": "stream",
     "text": [
      "[Acquisition-0] Slice 65 from 65 to 66 s [slice=1 s]\n",
      "\n",
      "### ===  Deexcitation model UAtomDeexcitation is activated for 7 regions:\n",
      "          DefaultRegionForTheWorld  1  1  1\n",
      "          cylindricalPET  1  1  1\n",
      "          head  1  1  1\n",
      "          block  1  1  1\n",
      "          crystal  1  1  1\n",
      "          LSO  1  1  1\n",
      "          BGO  1  1  1\n",
      "\n",
      "### === G4UAtomicDeexcitation::InitialiseForNewRun()\n",
      "### ===  Auger cascade flag: 1\n",
      "### ===  Ignore cuts flag:   0\n",
      "### ===  PIXE model for hadrons: Empirical\n",
      "### ===  PIXE model for e+-:     Penelope\n",
      "[Acquisition-0] Slice 66 from 66 to 67 s [slice=1 s]\n",
      "\n",
      "### ===  Deexcitation model UAtomDeexcitation is activated for 7 regions:\n",
      "          DefaultRegionForTheWorld  1  1  1\n",
      "          cylindricalPET  1  1  1\n",
      "          head  1  1  1\n",
      "          block  1  1  1\n",
      "          crystal  1  1  1\n",
      "          LSO  1  1  1\n",
      "          BGO  1  1  1\n",
      "\n",
      "### === G4UAtomicDeexcitation::InitialiseForNewRun()\n",
      "### ===  Auger cascade flag: 1\n",
      "### ===  Ignore cuts flag:   0\n",
      "### ===  PIXE model for hadrons: Empirical\n",
      "### ===  PIXE model for e+-:     Penelope\n",
      "[Acquisition-0] Slice 67 from 67 to 68 s [slice=1 s]\n",
      "\n",
      "### ===  Deexcitation model UAtomDeexcitation is activated for 7 regions:\n",
      "          DefaultRegionForTheWorld  1  1  1\n",
      "          cylindricalPET  1  1  1\n",
      "          head  1  1  1\n",
      "          block  1  1  1\n",
      "          crystal  1  1  1\n",
      "          LSO  1  1  1\n",
      "          BGO  1  1  1\n",
      "\n",
      "### === G4UAtomicDeexcitation::InitialiseForNewRun()\n",
      "### ===  Auger cascade flag: 1\n",
      "### ===  Ignore cuts flag:   0\n",
      "### ===  PIXE model for hadrons: Empirical\n",
      "### ===  PIXE model for e+-:     Penelope\n",
      "[Acquisition-0] Slice 68 from 68 to 69 s [slice=1 s]\n",
      "\n",
      "### ===  Deexcitation model UAtomDeexcitation is activated for 7 regions:\n",
      "          DefaultRegionForTheWorld  1  1  1\n",
      "          cylindricalPET  1  1  1\n",
      "          head  1  1  1\n",
      "          block  1  1  1\n",
      "          crystal  1  1  1\n",
      "          LSO  1  1  1\n",
      "          BGO  1  1  1\n",
      "\n",
      "### === G4UAtomicDeexcitation::InitialiseForNewRun()\n",
      "### ===  Auger cascade flag: 1\n",
      "### ===  Ignore cuts flag:   0\n",
      "### ===  PIXE model for hadrons: Empirical\n",
      "### ===  PIXE model for e+-:     Penelope\n",
      "[Acquisition-0] Slice 69 from 69 to 70 s [slice=1 s]\n",
      "\n",
      "### ===  Deexcitation model UAtomDeexcitation is activated for 7 regions:\n",
      "          DefaultRegionForTheWorld  1  1  1\n",
      "          cylindricalPET  1  1  1\n",
      "          head  1  1  1\n",
      "          block  1  1  1\n",
      "          crystal  1  1  1\n",
      "          LSO  1  1  1\n",
      "          BGO  1  1  1\n",
      "\n",
      "### === G4UAtomicDeexcitation::InitialiseForNewRun()\n",
      "### ===  Auger cascade flag: 1\n",
      "### ===  Ignore cuts flag:   0\n",
      "### ===  PIXE model for hadrons: Empirical\n",
      "### ===  PIXE model for e+-:     Penelope\n",
      "[Acquisition-0] Slice 70 from 70 to 71 s [slice=1 s]\n",
      "\n",
      "### ===  Deexcitation model UAtomDeexcitation is activated for 7 regions:\n",
      "          DefaultRegionForTheWorld  1  1  1\n",
      "          cylindricalPET  1  1  1\n",
      "          head  1  1  1\n",
      "          block  1  1  1\n",
      "          crystal  1  1  1\n",
      "          LSO  1  1  1\n",
      "          BGO  1  1  1\n",
      "\n",
      "### === G4UAtomicDeexcitation::InitialiseForNewRun()\n",
      "### ===  Auger cascade flag: 1\n",
      "### ===  Ignore cuts flag:   0\n",
      "### ===  PIXE model for hadrons: Empirical\n",
      "### ===  PIXE model for e+-:     Penelope\n",
      "[Acquisition-0] Slice 71 from 71 to 72 s [slice=1 s]\n",
      "\n",
      "### ===  Deexcitation model UAtomDeexcitation is activated for 7 regions:\n",
      "          DefaultRegionForTheWorld  1  1  1\n",
      "          cylindricalPET  1  1  1\n",
      "          head  1  1  1\n",
      "          block  1  1  1\n",
      "          crystal  1  1  1\n",
      "          LSO  1  1  1\n",
      "          BGO  1  1  1\n",
      "\n",
      "### === G4UAtomicDeexcitation::InitialiseForNewRun()\n",
      "### ===  Auger cascade flag: 1\n",
      "### ===  Ignore cuts flag:   0\n",
      "### ===  PIXE model for hadrons: Empirical\n",
      "### ===  PIXE model for e+-:     Penelope\n",
      "[Acquisition-0] Slice 72 from 72 to 73 s [slice=1 s]\n",
      "\n",
      "### ===  Deexcitation model UAtomDeexcitation is activated for 7 regions:\n",
      "          DefaultRegionForTheWorld  1  1  1\n",
      "          cylindricalPET  1  1  1\n",
      "          head  1  1  1\n",
      "          block  1  1  1\n",
      "          crystal  1  1  1\n",
      "          LSO  1  1  1\n",
      "          BGO  1  1  1\n",
      "\n",
      "### === G4UAtomicDeexcitation::InitialiseForNewRun()\n",
      "### ===  Auger cascade flag: 1\n",
      "### ===  Ignore cuts flag:   0\n",
      "### ===  PIXE model for hadrons: Empirical\n",
      "### ===  PIXE model for e+-:     Penelope\n",
      "[Acquisition-0] Slice 73 from 73 to 74 s [slice=1 s]\n",
      "\n",
      "### ===  Deexcitation model UAtomDeexcitation is activated for 7 regions:\n",
      "          DefaultRegionForTheWorld  1  1  1\n",
      "          cylindricalPET  1  1  1\n",
      "          head  1  1  1\n",
      "          block  1  1  1\n",
      "          crystal  1  1  1\n",
      "          LSO  1  1  1\n",
      "          BGO  1  1  1\n",
      "\n",
      "### === G4UAtomicDeexcitation::InitialiseForNewRun()\n",
      "### ===  Auger cascade flag: 1\n",
      "### ===  Ignore cuts flag:   0\n",
      "### ===  PIXE model for hadrons: Empirical\n",
      "### ===  PIXE model for e+-:     Penelope\n",
      "[Acquisition-0] Slice 74 from 74 to 75 s [slice=1 s]\n",
      "\n",
      "### ===  Deexcitation model UAtomDeexcitation is activated for 7 regions:\n",
      "          DefaultRegionForTheWorld  1  1  1\n",
      "          cylindricalPET  1  1  1\n",
      "          head  1  1  1\n",
      "          block  1  1  1\n",
      "          crystal  1  1  1\n",
      "          LSO  1  1  1\n",
      "          BGO  1  1  1\n",
      "\n",
      "### === G4UAtomicDeexcitation::InitialiseForNewRun()\n",
      "### ===  Auger cascade flag: 1\n",
      "### ===  Ignore cuts flag:   0\n",
      "### ===  PIXE model for hadrons: Empirical\n",
      "### ===  PIXE model for e+-:     Penelope\n",
      "[Acquisition-0] Slice 75 from 75 to 76 s [slice=1 s]\n",
      "\n",
      "### ===  Deexcitation model UAtomDeexcitation is activated for 7 regions:\n",
      "          DefaultRegionForTheWorld  1  1  1\n",
      "          cylindricalPET  1  1  1\n",
      "          head  1  1  1\n",
      "          block  1  1  1\n",
      "          crystal  1  1  1\n",
      "          LSO  1  1  1\n",
      "          BGO  1  1  1\n",
      "\n",
      "### === G4UAtomicDeexcitation::InitialiseForNewRun()\n",
      "### ===  Auger cascade flag: 1\n",
      "### ===  Ignore cuts flag:   0\n",
      "### ===  PIXE model for hadrons: Empirical\n",
      "### ===  PIXE model for e+-:     Penelope\n",
      "[Acquisition-0] Slice 76 from 76 to 77 s [slice=1 s]\n",
      "\n",
      "### ===  Deexcitation model UAtomDeexcitation is activated for 7 regions:\n",
      "          DefaultRegionForTheWorld  1  1  1\n",
      "          cylindricalPET  1  1  1\n",
      "          head  1  1  1\n",
      "          block  1  1  1\n",
      "          crystal  1  1  1\n",
      "          LSO  1  1  1\n",
      "          BGO  1  1  1\n",
      "\n",
      "### === G4UAtomicDeexcitation::InitialiseForNewRun()\n",
      "### ===  Auger cascade flag: 1\n",
      "### ===  Ignore cuts flag:   0\n",
      "### ===  PIXE model for hadrons: Empirical\n",
      "### ===  PIXE model for e+-:     Penelope\n",
      "[Acquisition-0] Slice 77 from 77 to 78 s [slice=1 s]\n",
      "\n",
      "### ===  Deexcitation model UAtomDeexcitation is activated for 7 regions:\n",
      "          DefaultRegionForTheWorld  1  1  1\n",
      "          cylindricalPET  1  1  1\n",
      "          head  1  1  1\n",
      "          block  1  1  1\n",
      "          crystal  1  1  1\n",
      "          LSO  1  1  1\n",
      "          BGO  1  1  1\n",
      "\n",
      "### === G4UAtomicDeexcitation::InitialiseForNewRun()\n",
      "### ===  Auger cascade flag: 1\n",
      "### ===  Ignore cuts flag:   0\n",
      "### ===  PIXE model for hadrons: Empirical\n",
      "### ===  PIXE model for e+-:     Penelope\n",
      "[Acquisition-0] Slice 78 from 78 to 79 s [slice=1 s]\n",
      "\n",
      "### ===  Deexcitation model UAtomDeexcitation is activated for 7 regions:\n",
      "          DefaultRegionForTheWorld  1  1  1\n",
      "          cylindricalPET  1  1  1\n",
      "          head  1  1  1\n",
      "          block  1  1  1\n",
      "          crystal  1  1  1\n",
      "          LSO  1  1  1\n",
      "          BGO  1  1  1\n",
      "\n",
      "### === G4UAtomicDeexcitation::InitialiseForNewRun()\n",
      "### ===  Auger cascade flag: 1\n",
      "### ===  Ignore cuts flag:   0\n",
      "### ===  PIXE model for hadrons: Empirical\n",
      "### ===  PIXE model for e+-:     Penelope\n",
      "[Acquisition-0] Slice 79 from 79 to 80 s [slice=1 s]\n",
      "\n",
      "### ===  Deexcitation model UAtomDeexcitation is activated for 7 regions:\n",
      "          DefaultRegionForTheWorld  1  1  1\n",
      "          cylindricalPET  1  1  1\n",
      "          head  1  1  1\n",
      "          block  1  1  1\n",
      "          crystal  1  1  1\n",
      "          LSO  1  1  1\n",
      "          BGO  1  1  1\n",
      "\n",
      "### === G4UAtomicDeexcitation::InitialiseForNewRun()\n",
      "### ===  Auger cascade flag: 1\n",
      "### ===  Ignore cuts flag:   0\n",
      "### ===  PIXE model for hadrons: Empirical\n",
      "### ===  PIXE model for e+-:     Penelope\n",
      "[Acquisition-0] Slice 80 from 80 to 81 s [slice=1 s]\n",
      "\n",
      "### ===  Deexcitation model UAtomDeexcitation is activated for 7 regions:\n",
      "          DefaultRegionForTheWorld  1  1  1\n",
      "          cylindricalPET  1  1  1\n",
      "          head  1  1  1\n",
      "          block  1  1  1\n",
      "          crystal  1  1  1\n",
      "          LSO  1  1  1\n",
      "          BGO  1  1  1\n",
      "\n",
      "### === G4UAtomicDeexcitation::InitialiseForNewRun()\n",
      "### ===  Auger cascade flag: 1\n",
      "### ===  Ignore cuts flag:   0\n",
      "### ===  PIXE model for hadrons: Empirical\n",
      "### ===  PIXE model for e+-:     Penelope\n"
     ]
    },
    {
     "name": "stdout",
     "output_type": "stream",
     "text": [
      "[Acquisition-0] Slice 81 from 81 to 82 s [slice=1 s]\n",
      "\n",
      "### ===  Deexcitation model UAtomDeexcitation is activated for 7 regions:\n",
      "          DefaultRegionForTheWorld  1  1  1\n",
      "          cylindricalPET  1  1  1\n",
      "          head  1  1  1\n",
      "          block  1  1  1\n",
      "          crystal  1  1  1\n",
      "          LSO  1  1  1\n",
      "          BGO  1  1  1\n",
      "\n",
      "### === G4UAtomicDeexcitation::InitialiseForNewRun()\n",
      "### ===  Auger cascade flag: 1\n",
      "### ===  Ignore cuts flag:   0\n",
      "### ===  PIXE model for hadrons: Empirical\n",
      "### ===  PIXE model for e+-:     Penelope\n",
      "[Acquisition-0] Slice 82 from 82 to 83 s [slice=1 s]\n",
      "\n",
      "### ===  Deexcitation model UAtomDeexcitation is activated for 7 regions:\n",
      "          DefaultRegionForTheWorld  1  1  1\n",
      "          cylindricalPET  1  1  1\n",
      "          head  1  1  1\n",
      "          block  1  1  1\n",
      "          crystal  1  1  1\n",
      "          LSO  1  1  1\n",
      "          BGO  1  1  1\n",
      "\n",
      "### === G4UAtomicDeexcitation::InitialiseForNewRun()\n",
      "### ===  Auger cascade flag: 1\n",
      "### ===  Ignore cuts flag:   0\n",
      "### ===  PIXE model for hadrons: Empirical\n",
      "### ===  PIXE model for e+-:     Penelope\n",
      "[Acquisition-0] Slice 83 from 83 to 84 s [slice=1 s]\n",
      "\n",
      "### ===  Deexcitation model UAtomDeexcitation is activated for 7 regions:\n",
      "          DefaultRegionForTheWorld  1  1  1\n",
      "          cylindricalPET  1  1  1\n",
      "          head  1  1  1\n",
      "          block  1  1  1\n",
      "          crystal  1  1  1\n",
      "          LSO  1  1  1\n",
      "          BGO  1  1  1\n",
      "\n",
      "### === G4UAtomicDeexcitation::InitialiseForNewRun()\n",
      "### ===  Auger cascade flag: 1\n",
      "### ===  Ignore cuts flag:   0\n",
      "### ===  PIXE model for hadrons: Empirical\n",
      "### ===  PIXE model for e+-:     Penelope\n",
      "[Acquisition-0] Slice 84 from 84 to 85 s [slice=1 s]\n",
      "\n",
      "### ===  Deexcitation model UAtomDeexcitation is activated for 7 regions:\n",
      "          DefaultRegionForTheWorld  1  1  1\n",
      "          cylindricalPET  1  1  1\n",
      "          head  1  1  1\n",
      "          block  1  1  1\n",
      "          crystal  1  1  1\n",
      "          LSO  1  1  1\n",
      "          BGO  1  1  1\n",
      "\n",
      "### === G4UAtomicDeexcitation::InitialiseForNewRun()\n",
      "### ===  Auger cascade flag: 1\n",
      "### ===  Ignore cuts flag:   0\n",
      "### ===  PIXE model for hadrons: Empirical\n",
      "### ===  PIXE model for e+-:     Penelope\n",
      "[Acquisition-0] Slice 85 from 85 to 86 s [slice=1 s]\n",
      "\n",
      "### ===  Deexcitation model UAtomDeexcitation is activated for 7 regions:\n",
      "          DefaultRegionForTheWorld  1  1  1\n",
      "          cylindricalPET  1  1  1\n",
      "          head  1  1  1\n",
      "          block  1  1  1\n",
      "          crystal  1  1  1\n",
      "          LSO  1  1  1\n",
      "          BGO  1  1  1\n",
      "\n",
      "### === G4UAtomicDeexcitation::InitialiseForNewRun()\n",
      "### ===  Auger cascade flag: 1\n",
      "### ===  Ignore cuts flag:   0\n",
      "### ===  PIXE model for hadrons: Empirical\n",
      "### ===  PIXE model for e+-:     Penelope\n",
      "[Acquisition-0] Slice 86 from 86 to 87 s [slice=1 s]\n",
      "\n",
      "### ===  Deexcitation model UAtomDeexcitation is activated for 7 regions:\n",
      "          DefaultRegionForTheWorld  1  1  1\n",
      "          cylindricalPET  1  1  1\n",
      "          head  1  1  1\n",
      "          block  1  1  1\n",
      "          crystal  1  1  1\n",
      "          LSO  1  1  1\n",
      "          BGO  1  1  1\n",
      "\n",
      "### === G4UAtomicDeexcitation::InitialiseForNewRun()\n",
      "### ===  Auger cascade flag: 1\n",
      "### ===  Ignore cuts flag:   0\n",
      "### ===  PIXE model for hadrons: Empirical\n",
      "### ===  PIXE model for e+-:     Penelope\n",
      "[Acquisition-0] Slice 87 from 87 to 88 s [slice=1 s]\n",
      "\n",
      "### ===  Deexcitation model UAtomDeexcitation is activated for 7 regions:\n",
      "          DefaultRegionForTheWorld  1  1  1\n",
      "          cylindricalPET  1  1  1\n",
      "          head  1  1  1\n",
      "          block  1  1  1\n",
      "          crystal  1  1  1\n",
      "          LSO  1  1  1\n",
      "          BGO  1  1  1\n",
      "\n",
      "### === G4UAtomicDeexcitation::InitialiseForNewRun()\n",
      "### ===  Auger cascade flag: 1\n",
      "### ===  Ignore cuts flag:   0\n",
      "### ===  PIXE model for hadrons: Empirical\n",
      "### ===  PIXE model for e+-:     Penelope\n",
      "[Acquisition-0] Slice 88 from 88 to 89 s [slice=1 s]\n",
      "\n",
      "### ===  Deexcitation model UAtomDeexcitation is activated for 7 regions:\n",
      "          DefaultRegionForTheWorld  1  1  1\n",
      "          cylindricalPET  1  1  1\n",
      "          head  1  1  1\n",
      "          block  1  1  1\n",
      "          crystal  1  1  1\n",
      "          LSO  1  1  1\n",
      "          BGO  1  1  1\n",
      "\n",
      "### === G4UAtomicDeexcitation::InitialiseForNewRun()\n",
      "### ===  Auger cascade flag: 1\n",
      "### ===  Ignore cuts flag:   0\n",
      "### ===  PIXE model for hadrons: Empirical\n",
      "### ===  PIXE model for e+-:     Penelope\n",
      "[Acquisition-0] Slice 89 from 89 to 90 s [slice=1 s]\n",
      "\n",
      "### ===  Deexcitation model UAtomDeexcitation is activated for 7 regions:\n",
      "          DefaultRegionForTheWorld  1  1  1\n",
      "          cylindricalPET  1  1  1\n",
      "          head  1  1  1\n",
      "          block  1  1  1\n",
      "          crystal  1  1  1\n",
      "          LSO  1  1  1\n",
      "          BGO  1  1  1\n",
      "\n",
      "### === G4UAtomicDeexcitation::InitialiseForNewRun()\n",
      "### ===  Auger cascade flag: 1\n",
      "### ===  Ignore cuts flag:   0\n",
      "### ===  PIXE model for hadrons: Empirical\n",
      "### ===  PIXE model for e+-:     Penelope\n",
      "[Acquisition-0] Slice 90 from 90 to 91 s [slice=1 s]\n",
      "\n",
      "### ===  Deexcitation model UAtomDeexcitation is activated for 7 regions:\n",
      "          DefaultRegionForTheWorld  1  1  1\n",
      "          cylindricalPET  1  1  1\n",
      "          head  1  1  1\n",
      "          block  1  1  1\n",
      "          crystal  1  1  1\n",
      "          LSO  1  1  1\n",
      "          BGO  1  1  1\n",
      "\n",
      "### === G4UAtomicDeexcitation::InitialiseForNewRun()\n",
      "### ===  Auger cascade flag: 1\n",
      "### ===  Ignore cuts flag:   0\n",
      "### ===  PIXE model for hadrons: Empirical\n",
      "### ===  PIXE model for e+-:     Penelope\n",
      "[Acquisition-0] Slice 91 from 91 to 92 s [slice=1 s]\n",
      "\n",
      "### ===  Deexcitation model UAtomDeexcitation is activated for 7 regions:\n",
      "          DefaultRegionForTheWorld  1  1  1\n",
      "          cylindricalPET  1  1  1\n",
      "          head  1  1  1\n",
      "          block  1  1  1\n",
      "          crystal  1  1  1\n",
      "          LSO  1  1  1\n",
      "          BGO  1  1  1\n",
      "\n",
      "### === G4UAtomicDeexcitation::InitialiseForNewRun()\n",
      "### ===  Auger cascade flag: 1\n",
      "### ===  Ignore cuts flag:   0\n",
      "### ===  PIXE model for hadrons: Empirical\n",
      "### ===  PIXE model for e+-:     Penelope\n",
      "[Acquisition-0] Slice 92 from 92 to 93 s [slice=1 s]\n",
      "\n",
      "### ===  Deexcitation model UAtomDeexcitation is activated for 7 regions:\n",
      "          DefaultRegionForTheWorld  1  1  1\n",
      "          cylindricalPET  1  1  1\n",
      "          head  1  1  1\n",
      "          block  1  1  1\n",
      "          crystal  1  1  1\n",
      "          LSO  1  1  1\n",
      "          BGO  1  1  1\n",
      "\n",
      "### === G4UAtomicDeexcitation::InitialiseForNewRun()\n",
      "### ===  Auger cascade flag: 1\n",
      "### ===  Ignore cuts flag:   0\n",
      "### ===  PIXE model for hadrons: Empirical\n",
      "### ===  PIXE model for e+-:     Penelope\n",
      "[Acquisition-0] Slice 93 from 93 to 94 s [slice=1 s]\n",
      "\n",
      "### ===  Deexcitation model UAtomDeexcitation is activated for 7 regions:\n",
      "          DefaultRegionForTheWorld  1  1  1\n",
      "          cylindricalPET  1  1  1\n",
      "          head  1  1  1\n",
      "          block  1  1  1\n",
      "          crystal  1  1  1\n",
      "          LSO  1  1  1\n",
      "          BGO  1  1  1\n",
      "\n",
      "### === G4UAtomicDeexcitation::InitialiseForNewRun()\n",
      "### ===  Auger cascade flag: 1\n",
      "### ===  Ignore cuts flag:   0\n",
      "### ===  PIXE model for hadrons: Empirical\n",
      "### ===  PIXE model for e+-:     Penelope\n",
      "[Acquisition-0] Slice 94 from 94 to 95 s [slice=1 s]\n",
      "\n",
      "### ===  Deexcitation model UAtomDeexcitation is activated for 7 regions:\n",
      "          DefaultRegionForTheWorld  1  1  1\n",
      "          cylindricalPET  1  1  1\n",
      "          head  1  1  1\n",
      "          block  1  1  1\n",
      "          crystal  1  1  1\n",
      "          LSO  1  1  1\n",
      "          BGO  1  1  1\n",
      "\n",
      "### === G4UAtomicDeexcitation::InitialiseForNewRun()\n",
      "### ===  Auger cascade flag: 1\n",
      "### ===  Ignore cuts flag:   0\n",
      "### ===  PIXE model for hadrons: Empirical\n",
      "### ===  PIXE model for e+-:     Penelope\n",
      "[Acquisition-0] Slice 95 from 95 to 96 s [slice=1 s]\n",
      "\n",
      "### ===  Deexcitation model UAtomDeexcitation is activated for 7 regions:\n",
      "          DefaultRegionForTheWorld  1  1  1\n",
      "          cylindricalPET  1  1  1\n",
      "          head  1  1  1\n",
      "          block  1  1  1\n",
      "          crystal  1  1  1\n",
      "          LSO  1  1  1\n",
      "          BGO  1  1  1\n",
      "\n",
      "### === G4UAtomicDeexcitation::InitialiseForNewRun()\n",
      "### ===  Auger cascade flag: 1\n",
      "### ===  Ignore cuts flag:   0\n",
      "### ===  PIXE model for hadrons: Empirical\n",
      "### ===  PIXE model for e+-:     Penelope\n",
      "[Acquisition-0] Slice 96 from 96 to 97 s [slice=1 s]\n",
      "\n",
      "### ===  Deexcitation model UAtomDeexcitation is activated for 7 regions:\n",
      "          DefaultRegionForTheWorld  1  1  1\n",
      "          cylindricalPET  1  1  1\n",
      "          head  1  1  1\n",
      "          block  1  1  1\n",
      "          crystal  1  1  1\n",
      "          LSO  1  1  1\n",
      "          BGO  1  1  1\n",
      "\n",
      "### === G4UAtomicDeexcitation::InitialiseForNewRun()\n",
      "### ===  Auger cascade flag: 1\n",
      "### ===  Ignore cuts flag:   0\n",
      "### ===  PIXE model for hadrons: Empirical\n",
      "### ===  PIXE model for e+-:     Penelope\n"
     ]
    },
    {
     "name": "stdout",
     "output_type": "stream",
     "text": [
      "[Acquisition-0] Slice 97 from 97 to 98 s [slice=1 s]\n",
      "\n",
      "### ===  Deexcitation model UAtomDeexcitation is activated for 7 regions:\n",
      "          DefaultRegionForTheWorld  1  1  1\n",
      "          cylindricalPET  1  1  1\n",
      "          head  1  1  1\n",
      "          block  1  1  1\n",
      "          crystal  1  1  1\n",
      "          LSO  1  1  1\n",
      "          BGO  1  1  1\n",
      "\n",
      "### === G4UAtomicDeexcitation::InitialiseForNewRun()\n",
      "### ===  Auger cascade flag: 1\n",
      "### ===  Ignore cuts flag:   0\n",
      "### ===  PIXE model for hadrons: Empirical\n",
      "### ===  PIXE model for e+-:     Penelope\n",
      "[Acquisition-0] Slice 98 from 98 to 99 s [slice=1 s]\n",
      "\n",
      "### ===  Deexcitation model UAtomDeexcitation is activated for 7 regions:\n",
      "          DefaultRegionForTheWorld  1  1  1\n",
      "          cylindricalPET  1  1  1\n",
      "          head  1  1  1\n",
      "          block  1  1  1\n",
      "          crystal  1  1  1\n",
      "          LSO  1  1  1\n",
      "          BGO  1  1  1\n",
      "\n",
      "### === G4UAtomicDeexcitation::InitialiseForNewRun()\n",
      "### ===  Auger cascade flag: 1\n",
      "### ===  Ignore cuts flag:   0\n",
      "### ===  PIXE model for hadrons: Empirical\n",
      "### ===  PIXE model for e+-:     Penelope\n",
      "[Acquisition-0] Slice 99 from 99 to 100 s [slice=1 s]\n",
      "\n",
      "### ===  Deexcitation model UAtomDeexcitation is activated for 7 regions:\n",
      "          DefaultRegionForTheWorld  1  1  1\n",
      "          cylindricalPET  1  1  1\n",
      "          head  1  1  1\n",
      "          block  1  1  1\n",
      "          crystal  1  1  1\n",
      "          LSO  1  1  1\n",
      "          BGO  1  1  1\n",
      "\n",
      "### === G4UAtomicDeexcitation::InitialiseForNewRun()\n",
      "### ===  Auger cascade flag: 1\n",
      "### ===  Ignore cuts flag:   0\n",
      "### ===  PIXE model for hadrons: Empirical\n",
      "### ===  PIXE model for e+-:     Penelope\n",
      "[Core-0] End of macro PET_CylindricalPET_System.mac\n",
      "Graphics systems deleted.\n",
      "Visualization Manager deleting...\n"
     ]
    }
   ],
   "source": [
    "!Gate PET_CylindricalPET_System.mac"
   ]
  },
  {
   "cell_type": "code",
   "execution_count": 40,
   "metadata": {
    "ExecuteTime": {
     "end_time": "2020-03-16T13:02:16.927690Z",
     "start_time": "2020-03-16T13:02:16.695047Z"
    }
   },
   "outputs": [
    {
     "name": "stdout",
     "output_type": "stream",
     "text": [
      "total 922M\r\n",
      "-rw-r--r-- 1 mdupont mdupont  44M 15 mars  09:57 p.CoincidencesBlurring.npy\r\n",
      "-rw-r--r-- 1 mdupont mdupont  44M 15 mars  09:57 p.Coincidences.npy\r\n",
      "-rw-r--r-- 1 mdupont mdupont 186M 15 mars  09:57 p.hits.npy\r\n",
      "-rw-r--r-- 1 mdupont mdupont 252M 15 mars  09:57 p.SinglesBlurringNoise.npy\r\n",
      "-rw-r--r-- 1 mdupont mdupont  51M 15 mars  09:57 p.SinglesBlurring.npy\r\n",
      "-rw-r--r-- 1 mdupont mdupont 297M 15 mars  09:57 p.SinglesNoise.npy\r\n",
      "-rw-r--r-- 1 mdupont mdupont  51M 15 mars  09:57 p.Singles.npy\r\n"
     ]
    }
   ],
   "source": [
    "ls -lh output/"
   ]
  },
  {
   "cell_type": "markdown",
   "metadata": {},
   "source": [
    "# Python work"
   ]
  },
  {
   "cell_type": "code",
   "execution_count": 41,
   "metadata": {
    "ExecuteTime": {
     "end_time": "2020-03-16T13:02:20.122849Z",
     "start_time": "2020-03-16T13:02:20.112961Z"
    }
   },
   "outputs": [],
   "source": [
    "import numpy as np\n",
    "import matplotlib.pyplot as plt"
   ]
  },
  {
   "cell_type": "code",
   "execution_count": 42,
   "metadata": {
    "ExecuteTime": {
     "end_time": "2020-03-16T13:02:20.570416Z",
     "start_time": "2020-03-16T13:02:20.554040Z"
    }
   },
   "outputs": [],
   "source": [
    "%matplotlib inline"
   ]
  },
  {
   "cell_type": "markdown",
   "metadata": {},
   "source": [
    "We open all the data"
   ]
  },
  {
   "cell_type": "code",
   "execution_count": 43,
   "metadata": {
    "ExecuteTime": {
     "end_time": "2020-03-16T13:03:21.200027Z",
     "start_time": "2020-03-16T13:02:21.710313Z"
    }
   },
   "outputs": [],
   "source": [
    "hits = np.load('output/p.hits.npy')\n",
    "singles = np.load('output/p.Singles.npy')\n",
    "singlesBlurring = np.load('output/p.SinglesBlurring.npy')\n",
    "singlesNoise = np.load('output/p.SinglesNoise.npy')\n",
    "singlesBlurringNoise = np.load('output/p.SinglesBlurringNoise.npy')\n",
    "coincidences = np.load('output/p.Coincidences.npy')\n",
    "coincidencesBlurring = np.load('output/p.CoincidencesBlurring.npy')"
   ]
  },
  {
   "cell_type": "markdown",
   "metadata": {
    "ExecuteTime": {
     "end_time": "2020-03-10T18:49:53.788072Z",
     "start_time": "2020-03-10T18:49:53.785114Z"
    }
   },
   "source": [
    "# Draw a energy spectrum\n",
    "## For each data file\n",
    "\n",
    "Draw histograms of energy in each files, 2 histogram for coincidences"
   ]
  },
  {
   "cell_type": "code",
   "execution_count": 44,
   "metadata": {
    "ExecuteTime": {
     "end_time": "2020-03-16T13:03:25.646729Z",
     "start_time": "2020-03-16T13:03:25.640962Z"
    }
   },
   "outputs": [],
   "source": [
    "#do code here, do not override cell below"
   ]
  },
  {
   "cell_type": "code",
   "execution_count": 45,
   "metadata": {
    "ExecuteTime": {
     "end_time": "2020-03-16T13:03:31.876510Z",
     "start_time": "2020-03-16T13:03:26.295813Z"
    },
    "scrolled": false
   },
   "outputs": [
    {
     "data": {
      "text/plain": [
       "Text(0.5, 1.0, 'from CoincidencesBlurring2')"
      ]
     },
     "execution_count": 45,
     "metadata": {},
     "output_type": "execute_result"
    },
    {
     "data": {
      "image/png": "[encoded data removed]",
      "text/plain": [
       "<Figure size 432x288 with 1 Axes>"
      ]
     },
     "metadata": {
      "needs_background": "light"
     },
     "output_type": "display_data"
    },
    {
     "data": {
      "image/png": "[encoded data removed]",
      "text/plain": [
       "<Figure size 432x288 with 1 Axes>"
      ]
     },
     "metadata": {
      "needs_background": "light"
     },
     "output_type": "display_data"
    },
    {
     "data": {
      "image/png": "[encoded data removed]",
      "text/plain": [
       "<Figure size 432x288 with 1 Axes>"
      ]
     },
     "metadata": {
      "needs_background": "light"
     },
     "output_type": "display_data"
    },
    {
     "data": {
      "image/png": "[encoded data removed]",
      "text/plain": [
       "<Figure size 432x288 with 1 Axes>"
      ]
     },
     "metadata": {
      "needs_background": "light"
     },
     "output_type": "display_data"
    },
    {
     "data": {
      "image/png": "[encoded data removed]",
      "text/plain": [
       "<Figure size 432x288 with 1 Axes>"
      ]
     },
     "metadata": {
      "needs_background": "light"
     },
     "output_type": "display_data"
    },
    {
     "data": {
      "image/png": "[encoded data removed]",
      "text/plain": [
       "<Figure size 1080x288 with 2 Axes>"
      ]
     },
     "metadata": {
      "needs_background": "light"
     },
     "output_type": "display_data"
    },
    {
     "data": {
      "image/png": "[encoded data removed]",
      "text/plain": [
       "<Figure size 1080x288 with 2 Axes>"
      ]
     },
     "metadata": {
      "needs_background": "light"
     },
     "output_type": "display_data"
    }
   ],
   "source": [
    "plt.figure()\n",
    "plt.hist(hits[\"edep\"], bins = 50);\n",
    "plt.title(\"from Hits\")\n",
    "plt.yscale('log')\n",
    "\n",
    "plt.figure()\n",
    "plt.hist(singles[\"energy\"], bins = 50);\n",
    "plt.yscale('log')\n",
    "plt.title(\"from Singles\")\n",
    "\n",
    "\n",
    "plt.figure()\n",
    "plt.hist(singlesBlurring[\"energy\"], bins = 50);\n",
    "plt.yscale('log')\n",
    "plt.title(\"from singlesBlurring\")\n",
    "\n",
    "\n",
    "plt.figure()\n",
    "plt.hist(singlesNoise[\"energy\"], bins = 50);\n",
    "plt.yscale('log')\n",
    "plt.title(\"from SinglesNoise\")\n",
    "\n",
    "plt.figure()\n",
    "plt.hist(singlesBlurringNoise[\"energy\"], bins = 50);\n",
    "plt.yscale('log')\n",
    "plt.title(\"from SinglesBlurringNoise\")\n",
    "\n",
    "\n",
    "plt.figure(figsize=(15,4))\n",
    "plt.subplot(1,2,1)\n",
    "plt.hist(coincidences[\"energy1\"], bins = 50, alpha=.5);\n",
    "plt.title(\"from Coincidences1\")\n",
    "plt.yscale('log')\n",
    "plt.subplot(1,2,2)\n",
    "plt.hist(coincidences[\"energy2\"], bins = 50, alpha=.5);\n",
    "plt.yscale('log')\n",
    "plt.title(\"from Coincidences2\")\n",
    "\n",
    "plt.figure(figsize=(15,4))\n",
    "plt.subplot(1,2,1)\n",
    "plt.hist(coincidencesBlurring[\"energy1\"], bins = 50);\n",
    "plt.title(\"from CoincidencesBlurring1\")\n",
    "plt.yscale('log')\n",
    "plt.subplot(1,2,2)\n",
    "plt.hist(coincidencesBlurring[\"energy2\"], bins = 50);\n",
    "plt.yscale('log')\n",
    "plt.title(\"from CoincidencesBlurring2\")"
   ]
  },
  {
   "cell_type": "markdown",
   "metadata": {},
   "source": [
    "Can you explain shape of energy coincidences ?  ie the difference between `energy1` and `energy2`"
   ]
  },
  {
   "cell_type": "markdown",
   "metadata": {},
   "source": [
    "## By layerID for singles\n",
    "\n",
    "Draw histogram by layerID in Singles\n",
    "\n"
   ]
  },
  {
   "cell_type": "code",
   "execution_count": 46,
   "metadata": {},
   "outputs": [],
   "source": [
    "#do code here, do not override cell below"
   ]
  },
  {
   "cell_type": "code",
   "execution_count": 47,
   "metadata": {
    "ExecuteTime": {
     "end_time": "2020-03-16T13:04:31.926172Z",
     "start_time": "2020-03-16T13:04:30.457365Z"
    }
   },
   "outputs": [
    {
     "data": {
      "image/png": "[encoded data removed]",
      "text/plain": [
       "<Figure size 1080x288 with 2 Axes>"
      ]
     },
     "metadata": {
      "needs_background": "light"
     },
     "output_type": "display_data"
    }
   ],
   "source": [
    "plt.figure(figsize=(15,4))\n",
    "plt.subplot(1,2,1)\n",
    "wlayer0 = singles['layerID'] == 0\n",
    "plt.hist(singles[wlayer0][\"energy\"], bins = 50);\n",
    "plt.yscale('log')\n",
    "plt.title(\"from Singles, layer = 0\")\n",
    "\n",
    "\n",
    "plt.subplot(1,2,2)\n",
    "wlayer0 = singles['layerID'] == 1\n",
    "plt.hist(singles[wlayer0][\"energy\"], bins = 50);\n",
    "plt.yscale('log')\n",
    "plt.title(\"from Singles, layer = 1\");"
   ]
  },
  {
   "cell_type": "markdown",
   "metadata": {},
   "source": [
    "# Display all processes\n",
    "\n",
    "## intro\n",
    "\n",
    "Goal: Display list of processes and number of occurences\n",
    "\n"
   ]
  },
  {
   "cell_type": "markdown",
   "metadata": {},
   "source": [
    "Hint: start with dictionnay, after with default dict, and finally with Counter\n",
    "\n",
    "We can use magic command `%%time` to monitor how fast a method is. \n"
   ]
  },
  {
   "cell_type": "code",
   "execution_count": 55,
   "metadata": {
    "ExecuteTime": {
     "end_time": "2020-03-16T13:04:37.341810Z",
     "start_time": "2020-03-16T13:04:37.335162Z"
    }
   },
   "outputs": [],
   "source": [
    "ps = hits['processName']"
   ]
  },
  {
   "cell_type": "code",
   "execution_count": 56,
   "metadata": {
    "ExecuteTime": {
     "end_time": "2020-03-16T13:04:38.336494Z",
     "start_time": "2020-03-16T13:04:38.327925Z"
    }
   },
   "outputs": [
    {
     "data": {
      "text/plain": [
       "664642"
      ]
     },
     "execution_count": 56,
     "metadata": {},
     "output_type": "execute_result"
    }
   ],
   "source": [
    "len(ps)"
   ]
  },
  {
   "cell_type": "markdown",
   "metadata": {},
   "source": [
    "We have more than 2M lines in ps. It seems to be a lot, but we will see that we do not necessarily need numpy here:"
   ]
  },
  {
   "cell_type": "markdown",
   "metadata": {},
   "source": [
    "#### bytes vs str"
   ]
  },
  {
   "cell_type": "code",
   "execution_count": 57,
   "metadata": {
    "ExecuteTime": {
     "end_time": "2020-03-16T13:04:50.806331Z",
     "start_time": "2020-03-16T13:04:50.797127Z"
    }
   },
   "outputs": [
    {
     "data": {
      "text/plain": [
       "array([b'compt', b'compt', b'phot', ..., b'phot', b'compt', b'phot'],\n",
       "      dtype='|S32')"
      ]
     },
     "execution_count": 57,
     "metadata": {},
     "output_type": "execute_result"
    }
   ],
   "source": [
    "ps"
   ]
  },
  {
   "cell_type": "markdown",
   "metadata": {},
   "source": [
    "Object `ps` is filled with `b'xx'`. Type is bytes (https://docs.python.org/3/library/stdtypes.html#bytes-objects). A simple way to think about it : bytes are string with depends on encoding, bytes is a string encoded (in utf-8 for example). We switch from one to another with `encode/decode`: "
   ]
  },
  {
   "cell_type": "code",
   "execution_count": 58,
   "metadata": {
    "ExecuteTime": {
     "end_time": "2020-03-16T13:04:52.062538Z",
     "start_time": "2020-03-16T13:04:52.053137Z"
    }
   },
   "outputs": [
    {
     "data": {
      "text/plain": [
       "b'plop'"
      ]
     },
     "execution_count": 58,
     "metadata": {},
     "output_type": "execute_result"
    }
   ],
   "source": [
    "'plop'.encode() #return bytes"
   ]
  },
  {
   "cell_type": "code",
   "execution_count": 59,
   "metadata": {
    "ExecuteTime": {
     "end_time": "2020-03-16T13:04:52.468032Z",
     "start_time": "2020-03-16T13:04:52.459588Z"
    }
   },
   "outputs": [
    {
     "data": {
      "text/plain": [
       "'plop'"
      ]
     },
     "execution_count": 59,
     "metadata": {},
     "output_type": "execute_result"
    }
   ],
   "source": [
    "b'plop'.decode() #return str"
   ]
  },
  {
   "cell_type": "markdown",
   "metadata": {},
   "source": [
    "### With dict"
   ]
  },
  {
   "cell_type": "code",
   "execution_count": 60,
   "metadata": {
    "ExecuteTime": {
     "end_time": "2020-03-16T13:04:53.618143Z",
     "start_time": "2020-03-16T13:04:53.612895Z"
    }
   },
   "outputs": [],
   "source": [
    "#do code here, do not override cell below"
   ]
  },
  {
   "cell_type": "code",
   "execution_count": 61,
   "metadata": {
    "ExecuteTime": {
     "end_time": "2020-03-16T13:04:55.757005Z",
     "start_time": "2020-03-16T13:04:55.022370Z"
    }
   },
   "outputs": [
    {
     "name": "stdout",
     "output_type": "stream",
     "text": [
      "CPU times: user 169 ms, sys: 4.41 ms, total: 173 ms\n",
      "Wall time: 172 ms\n"
     ]
    },
    {
     "data": {
      "text/plain": [
       "{b'compt': 295694,\n",
       " b'phot': 298619,\n",
       " b'Rayl': 35788,\n",
       " b'msc': 33200,\n",
       " b'Transportation': 383,\n",
       " b'eIoni': 957,\n",
       " b'eBrem': 1}"
      ]
     },
     "execution_count": 61,
     "metadata": {},
     "output_type": "execute_result"
    }
   ],
   "source": [
    "%%time\n",
    "d = {}\n",
    "for p in ps:\n",
    "    if p in d:\n",
    "        d[p] += 1\n",
    "    else:\n",
    "        d[p] = 1\n",
    "d"
   ]
  },
  {
   "cell_type": "markdown",
   "metadata": {},
   "source": [
    "### With defaultdict"
   ]
  },
  {
   "cell_type": "code",
   "execution_count": 62,
   "metadata": {
    "ExecuteTime": {
     "end_time": "2020-03-16T13:04:59.135418Z",
     "start_time": "2020-03-16T13:04:59.129053Z"
    }
   },
   "outputs": [],
   "source": [
    "from collections import defaultdict"
   ]
  },
  {
   "cell_type": "code",
   "execution_count": 63,
   "metadata": {
    "ExecuteTime": {
     "end_time": "2020-03-16T13:04:59.351313Z",
     "start_time": "2020-03-16T13:04:59.346164Z"
    }
   },
   "outputs": [],
   "source": [
    "#do code here, do not override cell below"
   ]
  },
  {
   "cell_type": "code",
   "execution_count": 64,
   "metadata": {
    "ExecuteTime": {
     "end_time": "2020-03-16T13:05:00.460125Z",
     "start_time": "2020-03-16T13:04:59.870433Z"
    }
   },
   "outputs": [
    {
     "name": "stdout",
     "output_type": "stream",
     "text": [
      "CPU times: user 145 ms, sys: 2.76 ms, total: 148 ms\n",
      "Wall time: 146 ms\n"
     ]
    },
    {
     "data": {
      "text/plain": [
       "defaultdict(int,\n",
       "            {b'compt': 295694,\n",
       "             b'phot': 298619,\n",
       "             b'Rayl': 35788,\n",
       "             b'msc': 33200,\n",
       "             b'Transportation': 383,\n",
       "             b'eIoni': 957,\n",
       "             b'eBrem': 1})"
      ]
     },
     "execution_count": 64,
     "metadata": {},
     "output_type": "execute_result"
    }
   ],
   "source": [
    "%%time\n",
    "d = defaultdict(int)\n",
    "for p in ps:    \n",
    "    d[p] += 1\n",
    "d    "
   ]
  },
  {
   "cell_type": "markdown",
   "metadata": {},
   "source": [
    "It takes less than 150 ms to do it"
   ]
  },
  {
   "cell_type": "markdown",
   "metadata": {},
   "source": [
    "### with counter\n",
    "\n",
    "Hint: Use Counter"
   ]
  },
  {
   "cell_type": "markdown",
   "metadata": {},
   "source": [
    "Counter is build for this kind of task"
   ]
  },
  {
   "cell_type": "code",
   "execution_count": 65,
   "metadata": {
    "ExecuteTime": {
     "end_time": "2020-03-16T13:05:11.665668Z",
     "start_time": "2020-03-16T13:05:11.659168Z"
    }
   },
   "outputs": [],
   "source": [
    "from collections import Counter"
   ]
  },
  {
   "cell_type": "code",
   "execution_count": 66,
   "metadata": {
    "ExecuteTime": {
     "end_time": "2020-03-16T13:05:12.409706Z",
     "start_time": "2020-03-16T13:05:12.403532Z"
    }
   },
   "outputs": [],
   "source": [
    "#do code here, do not override cell below"
   ]
  },
  {
   "cell_type": "code",
   "execution_count": 67,
   "metadata": {
    "ExecuteTime": {
     "end_time": "2020-03-16T13:05:13.922356Z",
     "start_time": "2020-03-16T13:05:13.485158Z"
    }
   },
   "outputs": [
    {
     "name": "stdout",
     "output_type": "stream",
     "text": [
      "CPU times: user 96.2 ms, sys: 2.06 ms, total: 98.2 ms\n",
      "Wall time: 97.7 ms\n"
     ]
    },
    {
     "data": {
      "text/plain": [
       "Counter({b'compt': 295694,\n",
       "         b'phot': 298619,\n",
       "         b'Rayl': 35788,\n",
       "         b'msc': 33200,\n",
       "         b'Transportation': 383,\n",
       "         b'eIoni': 957,\n",
       "         b'eBrem': 1})"
      ]
     },
     "execution_count": 67,
     "metadata": {},
     "output_type": "execute_result"
    }
   ],
   "source": [
    "%%time\n",
    "c = Counter(hits['processName'])\n",
    "c"
   ]
  },
  {
   "cell_type": "markdown",
   "metadata": {},
   "source": [
    "It takes less than 100 ms to do it. \n",
    "\n",
    "Check that `c` is a `dict` object: "
   ]
  },
  {
   "cell_type": "code",
   "execution_count": 68,
   "metadata": {
    "ExecuteTime": {
     "end_time": "2020-03-16T13:05:22.255154Z",
     "start_time": "2020-03-16T13:05:22.245245Z"
    }
   },
   "outputs": [
    {
     "data": {
      "text/plain": [
       "True"
      ]
     },
     "execution_count": 68,
     "metadata": {},
     "output_type": "execute_result"
    }
   ],
   "source": [
    "isinstance(c, dict)"
   ]
  },
  {
   "cell_type": "markdown",
   "metadata": {},
   "source": [
    "#### Fancy print the result"
   ]
  },
  {
   "cell_type": "markdown",
   "metadata": {},
   "source": [
    "Let's print the result, we have to iterate over `c`. We do with the method `items()` provided by dictionnay class (https://docs.python.org/3/tutorial/datastructures.html#looping-techniques)"
   ]
  },
  {
   "cell_type": "code",
   "execution_count": 69,
   "metadata": {
    "ExecuteTime": {
     "end_time": "2020-03-16T13:05:22.893787Z",
     "start_time": "2020-03-16T13:05:22.878433Z"
    },
    "scrolled": true
   },
   "outputs": [
    {
     "name": "stdout",
     "output_type": "stream",
     "text": [
      "there are  295694   compt\n",
      "there are  298619   phot\n",
      "there are  35788   Rayl\n",
      "there are  33200   msc\n",
      "there are  383   Transportation\n",
      "there are  957   eIoni\n",
      "there are  1   eBrem\n"
     ]
    }
   ],
   "source": [
    "for k,v in c.items():\n",
    "    print(\"there are \", v, \" \", k.decode())"
   ]
  },
  {
   "cell_type": "markdown",
   "metadata": {},
   "source": [
    "#### Bar graph of number of processes"
   ]
  },
  {
   "cell_type": "markdown",
   "metadata": {
    "ExecuteTime": {
     "end_time": "2020-03-11T06:39:51.156651Z",
     "start_time": "2020-03-11T06:39:51.150385Z"
    }
   },
   "source": [
    "We want a bar graph with process name as label, but we do not want bytes string. Let's build a process name list of string : "
   ]
  },
  {
   "cell_type": "code",
   "execution_count": 70,
   "metadata": {
    "ExecuteTime": {
     "end_time": "2020-03-16T13:05:24.151487Z",
     "start_time": "2020-03-16T13:05:24.142745Z"
    }
   },
   "outputs": [
    {
     "data": {
      "text/plain": [
       "dict_keys([b'compt', b'phot', b'Rayl', b'msc', b'Transportation', b'eIoni', b'eBrem'])"
      ]
     },
     "execution_count": 70,
     "metadata": {},
     "output_type": "execute_result"
    }
   ],
   "source": [
    "c.keys() # 'list' full of bytes string, we have to apply decode on each item"
   ]
  },
  {
   "cell_type": "code",
   "execution_count": 71,
   "metadata": {
    "ExecuteTime": {
     "end_time": "2020-03-16T13:05:24.575538Z",
     "start_time": "2020-03-16T13:05:24.568505Z"
    }
   },
   "outputs": [],
   "source": [
    "list_of_labels  = [k.decode() for k in c.keys()]"
   ]
  },
  {
   "cell_type": "code",
   "execution_count": 72,
   "metadata": {
    "ExecuteTime": {
     "end_time": "2020-03-16T13:05:25.156796Z",
     "start_time": "2020-03-16T13:05:25.148133Z"
    }
   },
   "outputs": [
    {
     "data": {
      "text/plain": [
       "['compt', 'phot', 'Rayl', 'msc', 'Transportation', 'eIoni', 'eBrem']"
      ]
     },
     "execution_count": 72,
     "metadata": {},
     "output_type": "execute_result"
    }
   ],
   "source": [
    "list_of_labels"
   ]
  },
  {
   "cell_type": "markdown",
   "metadata": {},
   "source": [
    "What he did here is list comprehension, very pythonic and concise way to build list https://docs.python.org/3/tutorial/datastructures.html#list-comprehensions"
   ]
  },
  {
   "cell_type": "code",
   "execution_count": 73,
   "metadata": {
    "ExecuteTime": {
     "end_time": "2020-03-16T13:05:26.774027Z",
     "start_time": "2020-03-16T13:05:26.767973Z"
    }
   },
   "outputs": [],
   "source": [
    "#do code here, do not override cell below"
   ]
  },
  {
   "cell_type": "code",
   "execution_count": 74,
   "metadata": {
    "ExecuteTime": {
     "end_time": "2020-03-16T13:05:28.141722Z",
     "start_time": "2020-03-16T13:05:27.997893Z"
    }
   },
   "outputs": [
    {
     "data": {
      "image/png": "[encoded data removed]",
      "text/plain": [
       "<Figure size 432x288 with 1 Axes>"
      ]
     },
     "metadata": {
      "needs_background": "light"
     },
     "output_type": "display_data"
    }
   ],
   "source": [
    "plt.bar(range(len(c)), height = c.values(), tick_label=list_of_labels)\n",
    "ll = plt.gca().get_xticklabels()\n",
    "[t.set_rotation(45) for t in ll];"
   ]
  },
  {
   "cell_type": "markdown",
   "metadata": {
    "ExecuteTime": {
     "end_time": "2020-03-10T22:43:18.472740Z",
     "start_time": "2020-03-10T22:43:18.469270Z"
    }
   },
   "source": [
    "### with numpy\n",
    "\n",
    "Hint, use np.unique"
   ]
  },
  {
   "cell_type": "code",
   "execution_count": 75,
   "metadata": {
    "ExecuteTime": {
     "end_time": "2020-03-16T13:05:32.644240Z",
     "start_time": "2020-03-16T13:05:32.638523Z"
    }
   },
   "outputs": [],
   "source": [
    "#do code here, do not override cell below"
   ]
  },
  {
   "cell_type": "code",
   "execution_count": 78,
   "metadata": {
    "ExecuteTime": {
     "end_time": "2020-03-16T13:05:34.576726Z",
     "start_time": "2020-03-16T13:05:33.798961Z"
    }
   },
   "outputs": [
    {
     "name": "stdout",
     "output_type": "stream",
     "text": [
      "CPU times: user 225 ms, sys: 4.36 ms, total: 230 ms\n",
      "Wall time: 228 ms\n"
     ]
    },
    {
     "data": {
      "text/plain": [
       "(array([b'Rayl', b'Transportation', b'compt', b'eBrem', b'eIoni', b'msc',\n",
       "        b'phot'], dtype='|S32'),\n",
       " array([ 35788,    383, 295694,      1,    957,  33200, 298619]))"
      ]
     },
     "execution_count": 78,
     "metadata": {},
     "output_type": "execute_result"
    }
   ],
   "source": [
    "%%time\n",
    "np.unique(hits['processName'], return_counts=True)"
   ]
  },
  {
   "cell_type": "code",
   "execution_count": 79,
   "metadata": {
    "ExecuteTime": {
     "end_time": "2020-03-16T13:29:54.702708Z",
     "start_time": "2020-03-16T13:29:53.857906Z"
    }
   },
   "outputs": [],
   "source": [
    "keys,values = np.unique(hits['processName'], return_counts=True)"
   ]
  },
  {
   "cell_type": "markdown",
   "metadata": {},
   "source": [
    "Fancy print of results, we have to iterate over two lists at same time. We will use the built-in function zip and not use indexing: https://docs.python.org/3/library/functions.html#zip"
   ]
  },
  {
   "cell_type": "code",
   "execution_count": 80,
   "metadata": {
    "ExecuteTime": {
     "end_time": "2020-03-16T13:29:55.236996Z",
     "start_time": "2020-03-16T13:29:55.229777Z"
    }
   },
   "outputs": [],
   "source": [
    "keys_label  = [k.decode() for k in keys]"
   ]
  },
  {
   "cell_type": "code",
   "execution_count": 81,
   "metadata": {
    "ExecuteTime": {
     "end_time": "2020-03-16T13:30:01.159456Z",
     "start_time": "2020-03-16T13:30:01.148544Z"
    }
   },
   "outputs": [
    {
     "name": "stdout",
     "output_type": "stream",
     "text": [
      "there are  35788   Rayl\n",
      "there are  383   Transportation\n",
      "there are  295694   compt\n",
      "there are  1   eBrem\n",
      "there are  957   eIoni\n",
      "there are  33200   msc\n",
      "there are  298619   phot\n"
     ]
    }
   ],
   "source": [
    "for k,v in zip(keys_label,values):    \n",
    "    print(\"there are \", v, \" \", k)"
   ]
  },
  {
   "cell_type": "markdown",
   "metadata": {},
   "source": [
    "It is prefered than: "
   ]
  },
  {
   "cell_type": "code",
   "execution_count": 82,
   "metadata": {
    "ExecuteTime": {
     "end_time": "2020-03-16T13:30:04.611646Z",
     "start_time": "2020-03-16T13:30:04.600555Z"
    }
   },
   "outputs": [
    {
     "name": "stdout",
     "output_type": "stream",
     "text": [
      "there are  35788   b'Rayl'\n",
      "there are  383   b'Transportation'\n",
      "there are  295694   b'compt'\n",
      "there are  1   b'eBrem'\n",
      "there are  957   b'eIoni'\n",
      "there are  33200   b'msc'\n",
      "there are  298619   b'phot'\n"
     ]
    }
   ],
   "source": [
    "for i in range(len(keys_label)):    \n",
    "    print(\"there are \", values[i], \" \", keys[i])"
   ]
  },
  {
   "cell_type": "markdown",
   "metadata": {},
   "source": [
    "Even better, use `format string`, which does not depend on `print`: "
   ]
  },
  {
   "cell_type": "code",
   "execution_count": 83,
   "metadata": {
    "ExecuteTime": {
     "end_time": "2020-03-16T13:30:07.570943Z",
     "start_time": "2020-03-16T13:30:07.559745Z"
    }
   },
   "outputs": [
    {
     "name": "stdout",
     "output_type": "stream",
     "text": [
      "there are 35788 Rayl\n",
      "there are 383 Transportation\n",
      "there are 295694 compt\n",
      "there are 1 eBrem\n",
      "there are 957 eIoni\n",
      "there are 33200 msc\n",
      "there are 298619 phot\n"
     ]
    }
   ],
   "source": [
    "for k,v in zip(keys_label,values):    \n",
    "    print(f\"there are {v} {k}\")"
   ]
  },
  {
   "cell_type": "markdown",
   "metadata": {},
   "source": [
    "### Draw energy spectrum for photoelectric effect"
   ]
  },
  {
   "cell_type": "code",
   "execution_count": 84,
   "metadata": {
    "ExecuteTime": {
     "end_time": "2020-03-16T13:30:08.554836Z",
     "start_time": "2020-03-16T13:30:08.548162Z"
    }
   },
   "outputs": [],
   "source": [
    "#do code here, do not override cell below"
   ]
  },
  {
   "cell_type": "code",
   "execution_count": 85,
   "metadata": {
    "ExecuteTime": {
     "end_time": "2020-03-16T13:30:10.230548Z",
     "start_time": "2020-03-16T13:30:09.494899Z"
    }
   },
   "outputs": [
    {
     "data": {
      "image/png": "[encoded data removed]",
      "text/plain": [
       "<Figure size 432x288 with 1 Axes>"
      ]
     },
     "metadata": {
      "needs_background": "light"
     },
     "output_type": "display_data"
    }
   ],
   "source": [
    "w = hits['processName'] == b'phot'\n",
    "plt.hist(hits[w][\"edep\"], bins = 50);"
   ]
  },
  {
   "cell_type": "markdown",
   "metadata": {},
   "source": [
    "## energy spectrum for each process"
   ]
  },
  {
   "cell_type": "code",
   "execution_count": 86,
   "metadata": {
    "ExecuteTime": {
     "end_time": "2020-03-16T13:30:10.481083Z",
     "start_time": "2020-03-16T13:30:10.475676Z"
    }
   },
   "outputs": [],
   "source": [
    "#do code here, do not override cell below"
   ]
  },
  {
   "cell_type": "code",
   "execution_count": 87,
   "metadata": {
    "ExecuteTime": {
     "end_time": "2020-03-16T13:30:18.631995Z",
     "start_time": "2020-03-16T13:30:13.879309Z"
    },
    "scrolled": false
   },
   "outputs": [
    {
     "data": {
      "image/png": "[encoded data removed]",
      "text/plain": [
       "<Figure size 432x288 with 1 Axes>"
      ]
     },
     "metadata": {
      "needs_background": "light"
     },
     "output_type": "display_data"
    },
    {
     "data": {
      "image/png": "[encoded data removed]",
      "text/plain": [
       "<Figure size 432x288 with 1 Axes>"
      ]
     },
     "metadata": {
      "needs_background": "light"
     },
     "output_type": "display_data"
    },
    {
     "data": {
      "image/png": "[encoded data removed]",
      "text/plain": [
       "<Figure size 432x288 with 1 Axes>"
      ]
     },
     "metadata": {
      "needs_background": "light"
     },
     "output_type": "display_data"
    },
    {
     "data": {
      "image/png": "[encoded data removed]",
      "text/plain": [
       "<Figure size 432x288 with 1 Axes>"
      ]
     },
     "metadata": {
      "needs_background": "light"
     },
     "output_type": "display_data"
    },
    {
     "data": {
      "image/png": "[encoded data removed]",
      "text/plain": [
       "<Figure size 432x288 with 1 Axes>"
      ]
     },
     "metadata": {
      "needs_background": "light"
     },
     "output_type": "display_data"
    },
    {
     "data": {
      "image/png": "[encoded data removed]",
      "text/plain": [
       "<Figure size 432x288 with 1 Axes>"
      ]
     },
     "metadata": {
      "needs_background": "light"
     },
     "output_type": "display_data"
    },
    {
     "data": {
      "image/png": "[encoded data removed]",
      "text/plain": [
       "<Figure size 432x288 with 1 Axes>"
      ]
     },
     "metadata": {
      "needs_background": "light"
     },
     "output_type": "display_data"
    }
   ],
   "source": [
    "for p in keys:\n",
    "    w = hits['processName'] == p\n",
    "    plt.figure()\n",
    "    plt.hist(hits[w][\"edep\"], bins = 50);\n",
    "    plt.yscale('log')\n",
    "    plt.title(p.decode())"
   ]
  },
  {
   "cell_type": "markdown",
   "metadata": {},
   "source": [
    "## Stacked histogram of energy by process"
   ]
  },
  {
   "cell_type": "code",
   "execution_count": 88,
   "metadata": {
    "ExecuteTime": {
     "end_time": "2020-03-16T13:30:22.254141Z",
     "start_time": "2020-03-16T13:30:22.248800Z"
    }
   },
   "outputs": [],
   "source": [
    "#do code here, do not override cell below"
   ]
  },
  {
   "cell_type": "markdown",
   "metadata": {},
   "source": [
    "In order to make stacked histogram, we have to pass a list to histogram function. Lets build this list : "
   ]
  },
  {
   "cell_type": "code",
   "execution_count": 89,
   "metadata": {
    "ExecuteTime": {
     "end_time": "2020-03-16T13:30:25.794580Z",
     "start_time": "2020-03-16T13:30:24.239792Z"
    }
   },
   "outputs": [],
   "source": [
    "ars = [hits[hits['processName'] == p]['edep'] for p in keys]"
   ]
  },
  {
   "cell_type": "code",
   "execution_count": 90,
   "metadata": {
    "ExecuteTime": {
     "end_time": "2020-03-16T13:30:29.216489Z",
     "start_time": "2020-03-16T13:30:27.707822Z"
    }
   },
   "outputs": [
    {
     "data": {
      "image/png": "[encoded data removed]",
      "text/plain": [
       "<Figure size 1080x720 with 1 Axes>"
      ]
     },
     "metadata": {
      "needs_background": "light"
     },
     "output_type": "display_data"
    }
   ],
   "source": [
    "plt.figure(figsize=(15,10))\n",
    "plt.hist(ars, stacked=True, bins=50, label=keys_label, alpha=0.5);\n",
    "plt.legend(loc = 'best');\n",
    "plt.yscale(\"log\");"
   ]
  },
  {
   "cell_type": "markdown",
   "metadata": {},
   "source": [
    "## Multiple transparent histogram of energy by process"
   ]
  },
  {
   "cell_type": "code",
   "execution_count": 91,
   "metadata": {},
   "outputs": [],
   "source": [
    "#do code here, do not override cell below"
   ]
  },
  {
   "cell_type": "code",
   "execution_count": 92,
   "metadata": {
    "ExecuteTime": {
     "end_time": "2020-03-16T13:31:26.293737Z",
     "start_time": "2020-03-16T13:31:24.466749Z"
    }
   },
   "outputs": [
    {
     "data": {
      "image/png": "[encoded data removed]",
      "text/plain": [
       "<Figure size 1080x720 with 1 Axes>"
      ]
     },
     "metadata": {
      "needs_background": "light"
     },
     "output_type": "display_data"
    }
   ],
   "source": [
    "plt.figure(figsize=(15,10))\n",
    "bins = np.linspace(0,0.55, 55+1)\n",
    "for label, a in zip(keys_label,ars):\n",
    "    plt.hist(a, bins=bins, label=label, alpha=0.5);\n",
    "plt.legend(loc = 'best');\n",
    "plt.yscale(\"log\");"
   ]
  },
  {
   "cell_type": "markdown",
   "metadata": {},
   "source": [
    "## Stacked histogram with bar plot (optional)"
   ]
  },
  {
   "cell_type": "code",
   "execution_count": 93,
   "metadata": {},
   "outputs": [],
   "source": [
    "#do code here, do not override cell below"
   ]
  },
  {
   "cell_type": "code",
   "execution_count": 94,
   "metadata": {
    "ExecuteTime": {
     "end_time": "2020-03-16T13:32:57.597082Z",
     "start_time": "2020-03-16T13:32:54.282581Z"
    }
   },
   "outputs": [
    {
     "data": {
      "image/png": "[encoded data removed]",
      "text/plain": [
       "<Figure size 1080x720 with 1 Axes>"
      ]
     },
     "metadata": {
      "needs_background": "light"
     },
     "output_type": "display_data"
    }
   ],
   "source": [
    "bins = np.linspace(0,0.55, 55+1)\n",
    "ind = np.arange(0, len(bins) - 1)\n",
    "plt.figure(figsize=(15,10))\n",
    "for i, p in enumerate(keys):\n",
    "    w = hits['processName'] == p\n",
    "    if i == 0:    \n",
    "        lh, bins = np.histogram(hits[w][\"edep\"], bins=bins)    \n",
    "        plt.bar(ind, lh, label = p.decode())\n",
    "    else:        \n",
    "        h, bins = np.histogram(hits[w][\"edep\"], bins=bins)    \n",
    "        plt.bar(ind, h, bottom=lh, label = p.decode())\n",
    "        lh += h\n",
    "    \n",
    "plt.legend(loc='best')\n",
    "plt.xticks(ind[::15], bins[:-1:15])\n",
    "plt.yscale('log')\n",
    "\n"
   ]
  },
  {
   "cell_type": "markdown",
   "metadata": {},
   "source": [
    "# Compute energy singles from hits\n",
    "## How to regroup hits ? "
   ]
  },
  {
   "cell_type": "code",
   "execution_count": 95,
   "metadata": {
    "ExecuteTime": {
     "end_time": "2020-03-16T13:41:06.172758Z",
     "start_time": "2020-03-16T13:41:06.163780Z"
    }
   },
   "outputs": [
    {
     "data": {
      "text/plain": [
       "328885"
      ]
     },
     "execution_count": 95,
     "metadata": {},
     "output_type": "execute_result"
    }
   ],
   "source": [
    "singles.size"
   ]
  },
  {
   "cell_type": "markdown",
   "metadata": {},
   "source": [
    "We have to regroup them by the triplet `['runID', 'eventID', 'rsectorID']`, and reject case where edep is zero."
   ]
  },
  {
   "cell_type": "code",
   "execution_count": 96,
   "metadata": {
    "ExecuteTime": {
     "end_time": "2020-03-16T13:41:28.530662Z",
     "start_time": "2020-03-16T13:41:22.094829Z"
    }
   },
   "outputs": [
    {
     "data": {
      "text/plain": [
       "328885"
      ]
     },
     "execution_count": 96,
     "metadata": {},
     "output_type": "execute_result"
    }
   ],
   "source": [
    "np.unique(hits[hits['edep'] > 0][['runID', 'eventID', 'rsectorID']]).size"
   ]
  },
  {
   "cell_type": "markdown",
   "metadata": {},
   "source": [
    "In following section, fill lEnergy w"
   ]
  },
  {
   "cell_type": "markdown",
   "metadata": {},
   "source": [
    "## Naïve way with numpy"
   ]
  },
  {
   "cell_type": "markdown",
   "metadata": {},
   "source": [
    "The idea is to regroup energy by `['runID', 'eventID', 'rsectorID']` and sum them. \n",
    "\n",
    "The numpy way to select an array is to make a sub array. Can we use this ? No because\n",
    "* we have a lot a singles, more than 1M. We have to create 1M arrays.\n",
    "* for each subarray, we have to compare 3M values, the number of data in hits. "
   ]
  },
  {
   "cell_type": "markdown",
   "metadata": {},
   "source": [
    "Here, we do the demonstration with only 50'000 elements in hits, it takes 30s. "
   ]
  },
  {
   "cell_type": "code",
   "execution_count": 97,
   "metadata": {},
   "outputs": [
    {
     "data": {
      "text/plain": [
       "664642"
      ]
     },
     "execution_count": 97,
     "metadata": {},
     "output_type": "execute_result"
    }
   ],
   "source": [
    "hits.size"
   ]
  },
  {
   "cell_type": "code",
   "execution_count": 99,
   "metadata": {
    "ExecuteTime": {
     "end_time": "2020-03-16T15:35:56.646760Z",
     "start_time": "2020-03-16T15:35:29.599405Z"
    }
   },
   "outputs": [
    {
     "name": "stdout",
     "output_type": "stream",
     "text": [
      "CPU times: user 18.6 s, sys: 80.5 ms, total: 18.6 s\n",
      "Wall time: 18.7 s\n"
     ]
    }
   ],
   "source": [
    "%%time\n",
    "sub_hits = hits[0:60_000]\n",
    "lEnergy = []\n",
    "for wi in np.unique(sub_hits[['runID', 'eventID', 'rsectorID']]):\n",
    "    h = sub_hits[['runID', 'eventID', 'rsectorID']] == wi    \n",
    "    e = sub_hits[h]['edep'].sum()\n",
    "    if e > 0.:\n",
    "        lEnergy.append(e)"
   ]
  },
  {
   "cell_type": "markdown",
   "metadata": {},
   "source": [
    "It takes 18s to process 60_000 elements"
   ]
  },
  {
   "cell_type": "markdown",
   "metadata": {},
   "source": [
    "### Bonus, how long it takes, according to size of subarray ? "
   ]
  },
  {
   "cell_type": "code",
   "execution_count": 100,
   "metadata": {
    "ExecuteTime": {
     "end_time": "2020-03-16T15:37:15.012379Z",
     "start_time": "2020-03-16T15:37:15.006611Z"
    }
   },
   "outputs": [],
   "source": [
    "from datetime import datetime"
   ]
  },
  {
   "cell_type": "code",
   "execution_count": 102,
   "metadata": {
    "ExecuteTime": {
     "end_time": "2020-03-16T16:32:14.987611Z",
     "start_time": "2020-03-16T16:18:54.600985Z"
    }
   },
   "outputs": [
    {
     "name": "stdout",
     "output_type": "stream",
     "text": [
      "nb =  0\n",
      "nb =  10000\n",
      "nb =  20000\n",
      "nb =  30000\n",
      "nb =  40000\n",
      "nb =  50000\n",
      "nb =  60000\n",
      "nb =  70000\n",
      "nb =  80000\n",
      "nb =  90000\n",
      "CPU times: user 3min 35s, sys: 126 ms, total: 3min 35s\n",
      "Wall time: 3min 35s\n"
     ]
    }
   ],
   "source": [
    "%%time\n",
    "lnb = np.arange(0, 100_000, 10_000)\n",
    "results = []\n",
    "for nb in lnb:\n",
    "    print(\"nb = \", nb)\n",
    "    start = datetime.now()\n",
    "    sub_hits = hits[0:nb]\n",
    "    lEnergy = []\n",
    "    for wi in np.unique(sub_hits[['runID', 'eventID', 'rsectorID']]):\n",
    "        h = sub_hits[['runID', 'eventID', 'rsectorID']] == wi    \n",
    "        e = sub_hits[h]['edep'].sum()\n",
    "        if e > 0.:\n",
    "            lEnergy.append(e)\n",
    "    end = datetime.now()\n",
    "    results.append(end - start)"
   ]
  },
  {
   "cell_type": "markdown",
   "metadata": {},
   "source": [
    "We got a list of elapsed time ([timedelta objects](https://docs.python.org/3.8/library/datetime.html#timedelta-objects))"
   ]
  },
  {
   "cell_type": "code",
   "execution_count": 104,
   "metadata": {
    "ExecuteTime": {
     "end_time": "2020-03-16T16:32:23.811410Z",
     "start_time": "2020-03-16T16:32:23.802621Z"
    }
   },
   "outputs": [
    {
     "data": {
      "text/plain": [
       "[datetime.timedelta(microseconds=201),\n",
       " datetime.timedelta(microseconds=503512),\n",
       " datetime.timedelta(seconds=1, microseconds=767093),\n",
       " datetime.timedelta(seconds=3, microseconds=344945),\n",
       " datetime.timedelta(seconds=7, microseconds=779834),\n",
       " datetime.timedelta(seconds=12, microseconds=221542),\n",
       " datetime.timedelta(seconds=20, microseconds=568591),\n",
       " datetime.timedelta(seconds=36, microseconds=241029),\n",
       " datetime.timedelta(seconds=55, microseconds=923379),\n",
       " datetime.timedelta(seconds=77, microseconds=292005)]"
      ]
     },
     "execution_count": 104,
     "metadata": {},
     "output_type": "execute_result"
    }
   ],
   "source": [
    "results"
   ]
  },
  {
   "cell_type": "code",
   "execution_count": 105,
   "metadata": {
    "ExecuteTime": {
     "end_time": "2020-03-17T08:30:52.035600Z",
     "start_time": "2020-03-17T08:30:51.871954Z"
    }
   },
   "outputs": [
    {
     "data": {
      "text/plain": [
       "Text(0, 0.5, 'time (s)')"
      ]
     },
     "execution_count": 105,
     "metadata": {},
     "output_type": "execute_result"
    },
    {
     "data": {
      "image/png": "[encoded data removed]",
      "text/plain": [
       "<Figure size 432x288 with 1 Axes>"
      ]
     },
     "metadata": {
      "needs_background": "light"
     },
     "output_type": "display_data"
    }
   ],
   "source": [
    "l = [t.total_seconds() for t in results]\n",
    "plt.plot(lnb, l, 'o-');\n",
    "plt.xlabel(\"nb elements\")\n",
    "plt.ylabel(\"time (s)\")"
   ]
  },
  {
   "cell_type": "markdown",
   "metadata": {},
   "source": [
    "As we can see, time increases very quickly with number of elements, our method seems to be bad. Can we estimate time to process all hits ? "
   ]
  },
  {
   "cell_type": "code",
   "execution_count": 109,
   "metadata": {
    "ExecuteTime": {
     "end_time": "2020-03-17T08:31:25.038857Z",
     "start_time": "2020-03-17T08:31:25.029766Z"
    }
   },
   "outputs": [],
   "source": [
    "l = [t.total_seconds() for t in results]\n",
    "z = np.polyfit(lnb, l, 3)\n",
    "p = np.poly1d(z)"
   ]
  },
  {
   "cell_type": "code",
   "execution_count": 110,
   "metadata": {
    "ExecuteTime": {
     "end_time": "2020-03-17T08:31:25.436528Z",
     "start_time": "2020-03-17T08:31:25.427273Z"
    }
   },
   "outputs": [
    {
     "data": {
      "text/plain": [
       "array([ 1.31421202e-13, -3.08834773e-09,  8.22158146e-05,  5.34990545e-02])"
      ]
     },
     "execution_count": 110,
     "metadata": {},
     "output_type": "execute_result"
    }
   ],
   "source": [
    "z"
   ]
  },
  {
   "cell_type": "code",
   "execution_count": 111,
   "metadata": {
    "ExecuteTime": {
     "end_time": "2020-03-17T08:31:26.335480Z",
     "start_time": "2020-03-17T08:31:25.960432Z"
    }
   },
   "outputs": [
    {
     "data": {
      "text/plain": [
       "<matplotlib.legend.Legend at 0x7f55fd2a5b20>"
      ]
     },
     "execution_count": 111,
     "metadata": {},
     "output_type": "execute_result"
    },
    {
     "data": {
      "image/png": "[encoded data removed]",
      "text/plain": [
       "<Figure size 432x288 with 1 Axes>"
      ]
     },
     "metadata": {
      "needs_background": "light"
     },
     "output_type": "display_data"
    }
   ],
   "source": [
    "plt.plot(lnb, l, 'o-', label='data');\n",
    "x = np.linspace(0, hits.size, 50)\n",
    "plt.plot(x, p(x), label='fit')\n",
    "plt.xlabel(\"nb elements\")\n",
    "plt.ylabel(\"time (s)\")\n",
    "plt.xscale('log')\n",
    "plt.yscale('log')\n",
    "plt.legend(loc='best')"
   ]
  },
  {
   "cell_type": "code",
   "execution_count": 112,
   "metadata": {
    "ExecuteTime": {
     "end_time": "2020-03-17T08:31:26.981288Z",
     "start_time": "2020-03-17T08:31:26.974698Z"
    }
   },
   "outputs": [],
   "source": [
    "time_to_group = p(hits.size) # in seconds"
   ]
  },
  {
   "cell_type": "code",
   "execution_count": 113,
   "metadata": {
    "ExecuteTime": {
     "end_time": "2020-03-17T08:31:27.853160Z",
     "start_time": "2020-03-17T08:31:27.843696Z"
    }
   },
   "outputs": [
    {
     "data": {
      "text/plain": [
       "10.35453779134618"
      ]
     },
     "execution_count": 113,
     "metadata": {},
     "output_type": "execute_result"
    }
   ],
   "source": [
    "time_to_group /3600 # in hours"
   ]
  },
  {
   "cell_type": "markdown",
   "metadata": {},
   "source": [
    "It will take at least 10 hours to process all array, lets find an other way"
   ]
  },
  {
   "cell_type": "markdown",
   "metadata": {},
   "source": [
    "## Less naive way to process with numpy"
   ]
  },
  {
   "cell_type": "markdown",
   "metadata": {},
   "source": [
    "We will use the function `np.add.reduceat`\n",
    "\n",
    "### Introduction\n",
    "\n",
    "Let's see what the function `np.add.reduceat` is doing. Note that `np.add` is called `ufunc`, https://docs.scipy.org/doc/numpy/reference/ufuncs.html function designed to work on array. All ufunc has a `reduceat` method: https://docs.scipy.org/doc/numpy/reference/generated/numpy.ufunc.reduceat.html#numpy.ufunc.reduceat\n",
    "\n",
    "We will play with a small array `x`:"
   ]
  },
  {
   "cell_type": "markdown",
   "metadata": {},
   "source": []
  },
  {
   "cell_type": "code",
   "execution_count": 114,
   "metadata": {
    "ExecuteTime": {
     "end_time": "2020-03-17T07:49:09.806779Z",
     "start_time": "2020-03-17T07:49:09.797135Z"
    }
   },
   "outputs": [
    {
     "name": "stdout",
     "output_type": "stream",
     "text": [
      "[ 1  2  3  4  5  6  7  8  9 10 11 12 13 14 15 16 17 18 19]\n"
     ]
    }
   ],
   "source": [
    "x = np.arange(1,20)\n",
    "print(x)"
   ]
  },
  {
   "cell_type": "code",
   "execution_count": 115,
   "metadata": {
    "ExecuteTime": {
     "end_time": "2020-03-17T07:50:35.846809Z",
     "start_time": "2020-03-17T07:50:35.834789Z"
    }
   },
   "outputs": [
    {
     "data": {
      "text/plain": [
       "(10, 11, 99)"
      ]
     },
     "execution_count": 115,
     "metadata": {},
     "output_type": "execute_result"
    }
   ],
   "source": [
    "np.sum(x[0:4]), np.sum(x[4:6]), np.sum(x[6:15])"
   ]
  },
  {
   "cell_type": "code",
   "execution_count": 116,
   "metadata": {
    "ExecuteTime": {
     "end_time": "2020-03-17T07:50:38.605713Z",
     "start_time": "2020-03-17T07:50:38.595570Z"
    }
   },
   "outputs": [
    {
     "data": {
      "text/plain": [
       "array([10, 11, 99, 70])"
      ]
     },
     "execution_count": 116,
     "metadata": {},
     "output_type": "execute_result"
    }
   ],
   "source": [
    "np.add.reduceat(x, [0,4, 6, 15])"
   ]
  },
  {
   "cell_type": "markdown",
   "metadata": {},
   "source": [
    "So if we are able to contruct the right indexes for `np.add.reduceat` we win. \n",
    "\n",
    "### Apply on  hits\n",
    "\n",
    "Idea : To build the list, we will use the unique function: \n",
    "* with `np.unique` we will get unique values, their number of occurence and the index of their first occurence in hits array. We do not care about np.add.reduceat here.\n",
    "* We will combine index of first occurence and number of occurence. \n",
    "* As we have to play with \"first\" occurence, we have to sort hits array before playing with it. "
   ]
  },
  {
   "cell_type": "code",
   "execution_count": 117,
   "metadata": {
    "ExecuteTime": {
     "end_time": "2020-03-17T07:58:27.372453Z",
     "start_time": "2020-03-17T07:58:21.537754Z"
    }
   },
   "outputs": [],
   "source": [
    "shits =  np.sort(hits, order = ['runID', 'eventID', 'rsectorID'])"
   ]
  },
  {
   "cell_type": "code",
   "execution_count": 118,
   "metadata": {
    "ExecuteTime": {
     "end_time": "2020-03-17T08:17:13.012275Z",
     "start_time": "2020-03-17T08:17:09.891911Z"
    }
   },
   "outputs": [],
   "source": [
    "us, indexes, counts = np.unique(shits[['runID', 'eventID', 'rsectorID']], return_index=True, return_counts=True)"
   ]
  },
  {
   "cell_type": "markdown",
   "metadata": {},
   "source": [
    "Construct the index array : "
   ]
  },
  {
   "cell_type": "code",
   "execution_count": 119,
   "metadata": {
    "ExecuteTime": {
     "end_time": "2020-03-17T08:17:14.373595Z",
     "start_time": "2020-03-17T08:17:13.947232Z"
    }
   },
   "outputs": [
    {
     "data": {
      "text/plain": [
       "array([     3,      8,     10, ..., 664639, 664641, 664642])"
      ]
     },
     "execution_count": 119,
     "metadata": {},
     "output_type": "execute_result"
    }
   ],
   "source": [
    "np.array([(index + c ) for index, c in zip(indexes, counts)])"
   ]
  },
  {
   "cell_type": "markdown",
   "metadata": {},
   "source": [
    "As we see, we miss index `0` and we do not care about last index, change the line : "
   ]
  },
  {
   "cell_type": "code",
   "execution_count": 120,
   "metadata": {
    "ExecuteTime": {
     "end_time": "2020-03-17T08:17:15.573663Z",
     "start_time": "2020-03-17T08:17:15.131910Z"
    }
   },
   "outputs": [
    {
     "data": {
      "text/plain": [
       "array([     0,      3,      8, ..., 664638, 664639, 664641])"
      ]
     },
     "execution_count": 120,
     "metadata": {},
     "output_type": "execute_result"
    }
   ],
   "source": [
    "indexes = np.array([0]  + [(index + c ) for index, c in zip(indexes, counts)][:-1])\n",
    "indexes"
   ]
  },
  {
   "cell_type": "code",
   "execution_count": 121,
   "metadata": {
    "ExecuteTime": {
     "end_time": "2020-03-17T08:22:19.746411Z",
     "start_time": "2020-03-17T08:22:19.628355Z"
    }
   },
   "outputs": [],
   "source": [
    "lEnergy = np.add.reduceat(shits['edep'], indexes)\n",
    "lEnergy = lEnergy[lEnergy > 0]"
   ]
  },
  {
   "cell_type": "code",
   "execution_count": 122,
   "metadata": {
    "ExecuteTime": {
     "end_time": "2020-03-17T08:22:22.308129Z",
     "start_time": "2020-03-17T08:22:20.542323Z"
    }
   },
   "outputs": [
    {
     "data": {
      "image/png": "[encoded data removed]",
      "text/plain": [
       "<Figure size 1080x288 with 2 Axes>"
      ]
     },
     "metadata": {
      "needs_background": "light"
     },
     "output_type": "display_data"
    }
   ],
   "source": [
    "plt.figure(figsize=(15,4))\n",
    "plt.subplot(1,2,1)\n",
    "\n",
    "plt.hist(lEnergy, bins=50);\n",
    "plt.yscale('log')\n",
    "plt.title(\"regrouped hit\")\n",
    "plt.subplot(1,2,2)\n",
    "\n",
    "plt.hist(singles['energy'], bins=50);\n",
    "plt.title(\"singles\")\n",
    "plt.yscale('log')"
   ]
  },
  {
   "cell_type": "markdown",
   "metadata": {},
   "source": [
    "### Time it"
   ]
  },
  {
   "cell_type": "code",
   "execution_count": 123,
   "metadata": {
    "ExecuteTime": {
     "end_time": "2020-03-17T08:24:21.542832Z",
     "start_time": "2020-03-17T08:24:12.945802Z"
    }
   },
   "outputs": [
    {
     "name": "stdout",
     "output_type": "stream",
     "text": [
      "CPU times: user 1 s, sys: 710 ms, total: 1.71 s\n",
      "Wall time: 1.73 s\n"
     ]
    }
   ],
   "source": [
    "%%time\n",
    "shits =  np.sort(hits, order = ['runID', 'eventID', 'rsectorID'])\n",
    "us, indexes, counts = np.unique(shits[['runID', 'eventID', 'rsectorID']], return_index=True, return_counts=True)\n",
    "indexes = np.array([0]  + [(index + c ) for index, c in zip(indexes, counts)][:-1])\n",
    "lEnergy = np.add.reduceat(shits['edep'], indexes)\n",
    "lEnergy = lEnergy[lEnergy > 0]"
   ]
  },
  {
   "cell_type": "markdown",
   "metadata": {},
   "source": [
    "It takes 2 seconds to process all hits. "
   ]
  },
  {
   "cell_type": "markdown",
   "metadata": {},
   "source": [
    "If we replot time vs nb of elements : "
   ]
  },
  {
   "cell_type": "code",
   "execution_count": 124,
   "metadata": {
    "ExecuteTime": {
     "end_time": "2020-03-17T08:28:52.253453Z",
     "start_time": "2020-03-17T08:27:35.521653Z"
    }
   },
   "outputs": [
    {
     "name": "stdout",
     "output_type": "stream",
     "text": [
      "nb =  1\n",
      "nb =  34982\n",
      "nb =  69963\n",
      "nb =  104944\n",
      "nb =  139925\n",
      "nb =  174906\n",
      "nb =  209887\n",
      "nb =  244868\n",
      "nb =  279849\n",
      "nb =  314830\n",
      "nb =  349812\n",
      "nb =  384793\n",
      "nb =  419774\n",
      "nb =  454755\n",
      "nb =  489736\n",
      "nb =  524717\n",
      "nb =  559698\n",
      "nb =  594679\n",
      "nb =  629660\n",
      "nb =  664642\n"
     ]
    }
   ],
   "source": [
    "lnb_reduceat = np.linspace(1, hits.size, 20)\n",
    "results_reduceat = []\n",
    "for nb in lnb_reduceat:\n",
    "    nb = int(nb)\n",
    "    print(\"nb = \", nb)\n",
    "    start = datetime.now()\n",
    "    sub_hits = hits[0:nb]\n",
    "    shits =  np.sort(sub_hits, order = ['runID', 'eventID', 'rsectorID'])\n",
    "    us, indexes, counts = np.unique(shits[['runID', 'eventID', 'rsectorID']], return_index=True, return_counts=True)\n",
    "    indexes = np.array([0]  + [(index + c ) for index, c in zip(indexes, counts)][:-1])\n",
    "    lEnergy = np.add.reduceat(shits['edep'], indexes)\n",
    "    lEnergy = lEnergy[lEnergy > 0]\n",
    "    end = datetime.now()\n",
    "    results_reduceat.append(end - start)"
   ]
  },
  {
   "cell_type": "code",
   "execution_count": 125,
   "metadata": {
    "ExecuteTime": {
     "end_time": "2020-03-17T08:32:26.842519Z",
     "start_time": "2020-03-17T08:32:26.680512Z"
    }
   },
   "outputs": [
    {
     "data": {
      "text/plain": [
       "Text(0, 0.5, 'time (s)')"
      ]
     },
     "execution_count": 125,
     "metadata": {},
     "output_type": "execute_result"
    },
    {
     "data": {
      "image/png": "[encoded data removed]",
      "text/plain": [
       "<Figure size 432x288 with 1 Axes>"
      ]
     },
     "metadata": {
      "needs_background": "light"
     },
     "output_type": "display_data"
    }
   ],
   "source": [
    "l = [t.total_seconds() for t in results_reduceat]\n",
    "plt.plot(lnb_reduceat, l, 'o-');\n",
    "plt.xlabel(\"nb elements\")\n",
    "plt.ylabel(\"time (s)\")"
   ]
  },
  {
   "cell_type": "markdown",
   "metadata": {},
   "source": [
    "Almost linear with time, good algorithm. Not that time can be reduced because, `np.unique` sort the array, but we already did it with np.sort."
   ]
  },
  {
   "cell_type": "markdown",
   "metadata": {},
   "source": [
    "## trivial way with python\n",
    "\n",
    "hint: draw me like a root histogram, i.e. we will loop over data   "
   ]
  },
  {
   "cell_type": "code",
   "execution_count": 126,
   "metadata": {
    "ExecuteTime": {
     "end_time": "2020-03-17T08:34:16.940690Z",
     "start_time": "2020-03-17T08:34:16.928657Z"
    }
   },
   "outputs": [],
   "source": [
    "#do code here, do not override cell below\n",
    "def count_naive(h):\n",
    "    h = np.sort(h, order=['runID', 'eventID', 'rsectorID'])\n",
    "    grunID = -1\n",
    "    geventID = -1\n",
    "    grsectorID = -1\n",
    "    \n",
    "    lEnergy = []\n",
    "    lastEnergy = 0.\n",
    "    for line in h:\n",
    "        if line['runID'] == grunID and line['eventID'] == geventID and line['rsectorID'] == grsectorID:\n",
    "            lastEnergy += line['edep']\n",
    "        else:            \n",
    "            lEnergy.append(lastEnergy)            \n",
    "            grunID = line['runID']\n",
    "            geventID = line['eventID']\n",
    "            grsectorID = line['rsectorID']\n",
    "            lastEnergy = line['edep']\n",
    "    lEnergy.append(lastEnergy)\n",
    "    return np.array(lEnergy)  "
   ]
  },
  {
   "cell_type": "code",
   "execution_count": 127,
   "metadata": {
    "ExecuteTime": {
     "end_time": "2020-03-17T08:35:09.517746Z",
     "start_time": "2020-03-17T08:34:57.101000Z"
    }
   },
   "outputs": [
    {
     "name": "stdout",
     "output_type": "stream",
     "text": [
      "CPU times: user 1.98 s, sys: 232 ms, total: 2.22 s\n",
      "Wall time: 2.22 s\n"
     ]
    }
   ],
   "source": [
    "%%time\n",
    "lEnergy = count_naive(hits)\n",
    "w = lEnergy>0\n",
    "lEnergy = lEnergy[w]"
   ]
  },
  {
   "cell_type": "markdown",
   "metadata": {},
   "source": [
    "It takes 2s, not bad."
   ]
  },
  {
   "cell_type": "code",
   "execution_count": 128,
   "metadata": {
    "ExecuteTime": {
     "end_time": "2020-03-17T08:35:15.320738Z",
     "start_time": "2020-03-17T08:35:14.249165Z"
    }
   },
   "outputs": [
    {
     "data": {
      "image/png": "[encoded data removed]",
      "text/plain": [
       "<Figure size 1080x288 with 2 Axes>"
      ]
     },
     "metadata": {
      "needs_background": "light"
     },
     "output_type": "display_data"
    }
   ],
   "source": [
    "plt.figure(figsize=(15,4))\n",
    "plt.subplot(1,2,1)\n",
    "\n",
    "plt.hist(lEnergy, bins=50);\n",
    "plt.yscale('log')\n",
    "plt.title(\"regrouped hit\")\n",
    "plt.subplot(1,2,2)\n",
    "\n",
    "plt.hist(singles['energy'], bins=50);\n",
    "plt.title(\"singles\")\n",
    "plt.yscale('log')"
   ]
  },
  {
   "cell_type": "markdown",
   "metadata": {},
   "source": [
    "The naïve way with python is better than the one with numpy here. Sometimes it is ok to stick with standard python. "
   ]
  },
  {
   "cell_type": "markdown",
   "metadata": {},
   "source": [
    "## use dictionnary with python\n",
    "\n",
    "Hint: use defaultdict"
   ]
  },
  {
   "cell_type": "code",
   "execution_count": 129,
   "metadata": {
    "ExecuteTime": {
     "end_time": "2020-03-17T08:36:56.071583Z",
     "start_time": "2020-03-17T08:36:56.065249Z"
    }
   },
   "outputs": [],
   "source": [
    "from collections import defaultdict"
   ]
  },
  {
   "cell_type": "code",
   "execution_count": 130,
   "metadata": {
    "ExecuteTime": {
     "end_time": "2020-03-17T08:36:18.454224Z",
     "start_time": "2020-03-17T08:36:18.444948Z"
    }
   },
   "outputs": [],
   "source": [
    "def group_nrj(h):\n",
    "    #h = h[['runID', 'eventID', 'rsectorID', 'moduleID', 'crystalID', 'edep']]\n",
    "    #h = np.sort(h, order = ['runID', 'eventID', 'rsectorID', 'moduleID' , 'crystalID']) \n",
    "    \n",
    "    dico = defaultdict(float)    \n",
    "    for line in h:\n",
    "        k = line[['runID', 'eventID', 'rsectorID']]\n",
    "        k = tuple(k)\n",
    "        dico[k] += line['edep']\n",
    "    return np.array(list(dico.values()))\n",
    "    "
   ]
  },
  {
   "cell_type": "code",
   "execution_count": 131,
   "metadata": {
    "ExecuteTime": {
     "end_time": "2020-03-17T08:36:45.655510Z",
     "start_time": "2020-03-17T08:36:32.251383Z"
    }
   },
   "outputs": [
    {
     "name": "stdout",
     "output_type": "stream",
     "text": [
      "CPU times: user 2.6 s, sys: 43.4 ms, total: 2.64 s\n",
      "Wall time: 2.64 s\n"
     ]
    }
   ],
   "source": [
    "%%time\n",
    "lEnergy = group_nrj(hits)\n",
    "w = lEnergy>0\n",
    "lEnergy = lEnergy[w]"
   ]
  },
  {
   "cell_type": "markdown",
   "metadata": {},
   "source": [
    "Same time than naïve way.. "
   ]
  },
  {
   "cell_type": "code",
   "execution_count": 132,
   "metadata": {
    "ExecuteTime": {
     "end_time": "2020-03-17T08:37:17.227031Z",
     "start_time": "2020-03-17T08:37:15.534826Z"
    }
   },
   "outputs": [
    {
     "data": {
      "image/png": "[encoded data removed]",
      "text/plain": [
       "<Figure size 1080x288 with 2 Axes>"
      ]
     },
     "metadata": {
      "needs_background": "light"
     },
     "output_type": "display_data"
    }
   ],
   "source": [
    "plt.figure(figsize=(15,4))\n",
    "plt.subplot(1,2,1)\n",
    "\n",
    "plt.hist(lEnergy, bins=50);\n",
    "plt.yscale('log')\n",
    "plt.title(\"regrouped hit\")\n",
    "plt.subplot(1,2,2)\n",
    "\n",
    "plt.hist(singles['energy'], bins=50);\n",
    "plt.title(\"singles\")\n",
    "plt.yscale('log')"
   ]
  },
  {
   "cell_type": "markdown",
   "metadata": {},
   "source": [
    "## Tricky way with np.bincount (just for fun, performed by trained professionals, don't try this at home)\n",
    "\n",
    "Just as an exercice, try to use the `np.bincount` function. "
   ]
  },
  {
   "cell_type": "markdown",
   "metadata": {},
   "source": [
    "We need to kown number max of combinations:"
   ]
  },
  {
   "cell_type": "code",
   "execution_count": 134,
   "metadata": {
    "ExecuteTime": {
     "end_time": "2020-03-17T08:49:36.409642Z",
     "start_time": "2020-03-17T08:49:36.255090Z"
    }
   },
   "outputs": [
    {
     "data": {
      "text/plain": [
       "(99, 10074, 3)"
      ]
     },
     "execution_count": 134,
     "metadata": {},
     "output_type": "execute_result"
    }
   ],
   "source": [
    "np.max(hits['runID']), np.max(hits['eventID']), np.max(hits['rsectorID'])"
   ]
  },
  {
   "cell_type": "code",
   "execution_count": 135,
   "metadata": {
    "ExecuteTime": {
     "end_time": "2020-03-17T08:49:37.127584Z",
     "start_time": "2020-03-17T08:49:36.913511Z"
    }
   },
   "outputs": [],
   "source": [
    "u = hits['runID']*1e7 + hits['rsectorID']*1e6 + hits['eventID'] \n",
    "u = u.astype(np.int64)"
   ]
  },
  {
   "cell_type": "markdown",
   "metadata": {},
   "source": [
    "We can represent all combination of `('runID', 'eventID', 'rsectorID')` with integer in `u`"
   ]
  },
  {
   "cell_type": "code",
   "execution_count": 136,
   "metadata": {
    "ExecuteTime": {
     "end_time": "2020-03-17T08:49:44.885843Z",
     "start_time": "2020-03-17T08:49:38.180884Z"
    }
   },
   "outputs": [],
   "source": [
    "assert np.unique(hits[['runID', 'eventID', 'rsectorID' ]]).size == np.unique(u).size"
   ]
  },
  {
   "cell_type": "code",
   "execution_count": null,
   "metadata": {},
   "outputs": [],
   "source": []
  },
  {
   "cell_type": "code",
   "execution_count": 138,
   "metadata": {
    "ExecuteTime": {
     "end_time": "2020-03-17T08:52:03.622982Z",
     "start_time": "2020-03-17T08:52:03.517509Z"
    }
   },
   "outputs": [
    {
     "name": "stdout",
     "output_type": "stream",
     "text": [
      "CPU times: user 704 ms, sys: 1.96 s, total: 2.66 s\n",
      "Wall time: 2.68 s\n"
     ]
    }
   ],
   "source": [
    "%%time\n",
    "lEnergy = np.bincount(u, weights = hits['edep'])\n",
    "w = lEnergy > 0\n",
    "lEnergy = lEnergy[w]"
   ]
  },
  {
   "cell_type": "code",
   "execution_count": 139,
   "metadata": {
    "ExecuteTime": {
     "end_time": "2020-03-11T06:56:38.606885Z",
     "start_time": "2020-03-11T06:56:37.229488Z"
    }
   },
   "outputs": [
    {
     "data": {
      "image/png": "[encoded data removed]",
      "text/plain": [
       "<Figure size 1080x288 with 2 Axes>"
      ]
     },
     "metadata": {
      "needs_background": "light"
     },
     "output_type": "display_data"
    }
   ],
   "source": [
    "plt.figure(figsize=(15,4))\n",
    "plt.subplot(1,2,1)\n",
    "\n",
    "plt.hist(lEnergy, bins=50);\n",
    "plt.yscale('log')\n",
    "plt.title(\"regrouped hit\")\n",
    "plt.subplot(1,2,2)\n",
    "\n",
    "plt.hist(singles['energy'], bins=50);\n",
    "plt.title(\"singles\")\n",
    "plt.yscale('log')"
   ]
  },
  {
   "cell_type": "markdown",
   "metadata": {},
   "source": [
    "# With Pandas\n",
    "\n",
    "## Introduction do pandas"
   ]
  },
  {
   "cell_type": "code",
   "execution_count": 140,
   "metadata": {
    "ExecuteTime": {
     "end_time": "2020-03-17T08:52:22.810169Z",
     "start_time": "2020-03-17T08:52:21.369233Z"
    }
   },
   "outputs": [],
   "source": [
    "import pandas as pd"
   ]
  },
  {
   "cell_type": "code",
   "execution_count": 141,
   "metadata": {
    "ExecuteTime": {
     "end_time": "2020-03-17T08:52:52.689422Z",
     "start_time": "2020-03-17T08:52:47.662673Z"
    }
   },
   "outputs": [],
   "source": [
    "dfhits = pd.DataFrame(hits)\n",
    "dfsingles = pd.DataFrame(singles)"
   ]
  },
  {
   "cell_type": "code",
   "execution_count": 142,
   "metadata": {},
   "outputs": [],
   "source": [
    "#do code here, do not override cell below"
   ]
  },
  {
   "cell_type": "code",
   "execution_count": 143,
   "metadata": {
    "ExecuteTime": {
     "end_time": "2020-03-17T08:53:08.550983Z",
     "start_time": "2020-03-17T08:53:08.489666Z"
    },
    "scrolled": true
   },
   "outputs": [
    {
     "data": {
      "text/html": [
       "<div>\n",
       "<style scoped>\n",
       "    .dataframe tbody tr th:only-of-type {\n",
       "        vertical-align: middle;\n",
       "    }\n",
       "\n",
       "    .dataframe tbody tr th {\n",
       "        vertical-align: top;\n",
       "    }\n",
       "\n",
       "    .dataframe thead th {\n",
       "        text-align: right;\n",
       "    }\n",
       "</style>\n",
       "<table border=\"1\" class=\"dataframe\">\n",
       "  <thead>\n",
       "    <tr style=\"text-align: right;\">\n",
       "      <th></th>\n",
       "      <th>PDGEncoding</th>\n",
       "      <th>trackID</th>\n",
       "      <th>parentID</th>\n",
       "      <th>trackLocalTime</th>\n",
       "      <th>time</th>\n",
       "      <th>runID</th>\n",
       "      <th>eventID</th>\n",
       "      <th>sourceID</th>\n",
       "      <th>primaryID</th>\n",
       "      <th>posX</th>\n",
       "      <th>...</th>\n",
       "      <th>nCrystalCompton</th>\n",
       "      <th>nPhantomRayleigh</th>\n",
       "      <th>nCrystalRayleigh</th>\n",
       "      <th>gantryID</th>\n",
       "      <th>rsectorID</th>\n",
       "      <th>moduleID</th>\n",
       "      <th>submoduleID</th>\n",
       "      <th>crystalID</th>\n",
       "      <th>layerID</th>\n",
       "      <th>photonID</th>\n",
       "    </tr>\n",
       "  </thead>\n",
       "  <tbody>\n",
       "    <tr>\n",
       "      <th>0</th>\n",
       "      <td>22</td>\n",
       "      <td>2</td>\n",
       "      <td>0</td>\n",
       "      <td>1.509254e-09</td>\n",
       "      <td>0.000972</td>\n",
       "      <td>0</td>\n",
       "      <td>8</td>\n",
       "      <td>0</td>\n",
       "      <td>2</td>\n",
       "      <td>83.732018</td>\n",
       "      <td>...</td>\n",
       "      <td>1</td>\n",
       "      <td>0</td>\n",
       "      <td>0</td>\n",
       "      <td>0</td>\n",
       "      <td>1</td>\n",
       "      <td>204</td>\n",
       "      <td>0</td>\n",
       "      <td>3</td>\n",
       "      <td>1</td>\n",
       "      <td>1</td>\n",
       "    </tr>\n",
       "    <tr>\n",
       "      <th>1</th>\n",
       "      <td>22</td>\n",
       "      <td>2</td>\n",
       "      <td>0</td>\n",
       "      <td>1.541172e-09</td>\n",
       "      <td>0.000972</td>\n",
       "      <td>0</td>\n",
       "      <td>8</td>\n",
       "      <td>0</td>\n",
       "      <td>2</td>\n",
       "      <td>79.546059</td>\n",
       "      <td>...</td>\n",
       "      <td>2</td>\n",
       "      <td>0</td>\n",
       "      <td>0</td>\n",
       "      <td>0</td>\n",
       "      <td>1</td>\n",
       "      <td>205</td>\n",
       "      <td>0</td>\n",
       "      <td>5</td>\n",
       "      <td>1</td>\n",
       "      <td>1</td>\n",
       "    </tr>\n",
       "    <tr>\n",
       "      <th>2</th>\n",
       "      <td>22</td>\n",
       "      <td>2</td>\n",
       "      <td>0</td>\n",
       "      <td>1.552340e-09</td>\n",
       "      <td>0.000972</td>\n",
       "      <td>0</td>\n",
       "      <td>8</td>\n",
       "      <td>0</td>\n",
       "      <td>2</td>\n",
       "      <td>82.388840</td>\n",
       "      <td>...</td>\n",
       "      <td>2</td>\n",
       "      <td>0</td>\n",
       "      <td>0</td>\n",
       "      <td>0</td>\n",
       "      <td>1</td>\n",
       "      <td>204</td>\n",
       "      <td>0</td>\n",
       "      <td>9</td>\n",
       "      <td>1</td>\n",
       "      <td>1</td>\n",
       "    </tr>\n",
       "    <tr>\n",
       "      <th>3</th>\n",
       "      <td>22</td>\n",
       "      <td>1</td>\n",
       "      <td>0</td>\n",
       "      <td>1.487825e-09</td>\n",
       "      <td>0.000972</td>\n",
       "      <td>0</td>\n",
       "      <td>8</td>\n",
       "      <td>0</td>\n",
       "      <td>1</td>\n",
       "      <td>-82.543167</td>\n",
       "      <td>...</td>\n",
       "      <td>1</td>\n",
       "      <td>0</td>\n",
       "      <td>0</td>\n",
       "      <td>0</td>\n",
       "      <td>3</td>\n",
       "      <td>184</td>\n",
       "      <td>0</td>\n",
       "      <td>24</td>\n",
       "      <td>0</td>\n",
       "      <td>2</td>\n",
       "    </tr>\n",
       "    <tr>\n",
       "      <th>4</th>\n",
       "      <td>22</td>\n",
       "      <td>1</td>\n",
       "      <td>0</td>\n",
       "      <td>1.495619e-09</td>\n",
       "      <td>0.000972</td>\n",
       "      <td>0</td>\n",
       "      <td>8</td>\n",
       "      <td>0</td>\n",
       "      <td>1</td>\n",
       "      <td>-80.359428</td>\n",
       "      <td>...</td>\n",
       "      <td>2</td>\n",
       "      <td>0</td>\n",
       "      <td>0</td>\n",
       "      <td>0</td>\n",
       "      <td>3</td>\n",
       "      <td>184</td>\n",
       "      <td>0</td>\n",
       "      <td>24</td>\n",
       "      <td>0</td>\n",
       "      <td>2</td>\n",
       "    </tr>\n",
       "  </tbody>\n",
       "</table>\n",
       "<p>5 rows × 50 columns</p>\n",
       "</div>"
      ],
      "text/plain": [
       "   PDGEncoding  trackID  parentID  trackLocalTime      time  runID  eventID  \\\n",
       "0           22        2         0    1.509254e-09  0.000972      0        8   \n",
       "1           22        2         0    1.541172e-09  0.000972      0        8   \n",
       "2           22        2         0    1.552340e-09  0.000972      0        8   \n",
       "3           22        1         0    1.487825e-09  0.000972      0        8   \n",
       "4           22        1         0    1.495619e-09  0.000972      0        8   \n",
       "\n",
       "   sourceID  primaryID       posX  ...  nCrystalCompton  nPhantomRayleigh  \\\n",
       "0         0          2  83.732018  ...                1                 0   \n",
       "1         0          2  79.546059  ...                2                 0   \n",
       "2         0          2  82.388840  ...                2                 0   \n",
       "3         0          1 -82.543167  ...                1                 0   \n",
       "4         0          1 -80.359428  ...                2                 0   \n",
       "\n",
       "   nCrystalRayleigh  gantryID  rsectorID  moduleID  submoduleID  crystalID  \\\n",
       "0                 0         0          1       204            0          3   \n",
       "1                 0         0          1       205            0          5   \n",
       "2                 0         0          1       204            0          9   \n",
       "3                 0         0          3       184            0         24   \n",
       "4                 0         0          3       184            0         24   \n",
       "\n",
       "   layerID  photonID  \n",
       "0        1         1  \n",
       "1        1         1  \n",
       "2        1         1  \n",
       "3        0         2  \n",
       "4        0         2  \n",
       "\n",
       "[5 rows x 50 columns]"
      ]
     },
     "execution_count": 143,
     "metadata": {},
     "output_type": "execute_result"
    }
   ],
   "source": [
    "dfhits.head()"
   ]
  },
  {
   "cell_type": "code",
   "execution_count": 144,
   "metadata": {
    "ExecuteTime": {
     "end_time": "2020-03-17T08:53:15.301805Z",
     "start_time": "2020-03-17T08:53:15.272353Z"
    }
   },
   "outputs": [
    {
     "data": {
      "text/html": [
       "<div>\n",
       "<style scoped>\n",
       "    .dataframe tbody tr th:only-of-type {\n",
       "        vertical-align: middle;\n",
       "    }\n",
       "\n",
       "    .dataframe tbody tr th {\n",
       "        vertical-align: top;\n",
       "    }\n",
       "\n",
       "    .dataframe thead th {\n",
       "        text-align: right;\n",
       "    }\n",
       "</style>\n",
       "<table border=\"1\" class=\"dataframe\">\n",
       "  <thead>\n",
       "    <tr style=\"text-align: right;\">\n",
       "      <th></th>\n",
       "      <th>PDGEncoding</th>\n",
       "      <th>trackID</th>\n",
       "      <th>parentID</th>\n",
       "      <th>trackLocalTime</th>\n",
       "      <th>time</th>\n",
       "      <th>runID</th>\n",
       "      <th>eventID</th>\n",
       "      <th>sourceID</th>\n",
       "      <th>primaryID</th>\n",
       "      <th>posX</th>\n",
       "      <th>...</th>\n",
       "      <th>nCrystalCompton</th>\n",
       "      <th>nPhantomRayleigh</th>\n",
       "      <th>nCrystalRayleigh</th>\n",
       "      <th>gantryID</th>\n",
       "      <th>rsectorID</th>\n",
       "      <th>moduleID</th>\n",
       "      <th>submoduleID</th>\n",
       "      <th>crystalID</th>\n",
       "      <th>layerID</th>\n",
       "      <th>photonID</th>\n",
       "    </tr>\n",
       "  </thead>\n",
       "  <tbody>\n",
       "    <tr>\n",
       "      <th>664637</th>\n",
       "      <td>22</td>\n",
       "      <td>2</td>\n",
       "      <td>0</td>\n",
       "      <td>1.610348e-09</td>\n",
       "      <td>99.999087</td>\n",
       "      <td>99</td>\n",
       "      <td>9199</td>\n",
       "      <td>0</td>\n",
       "      <td>2</td>\n",
       "      <td>-34.055504</td>\n",
       "      <td>...</td>\n",
       "      <td>0</td>\n",
       "      <td>0</td>\n",
       "      <td>0</td>\n",
       "      <td>0</td>\n",
       "      <td>2</td>\n",
       "      <td>367</td>\n",
       "      <td>0</td>\n",
       "      <td>4</td>\n",
       "      <td>1</td>\n",
       "      <td>1</td>\n",
       "    </tr>\n",
       "    <tr>\n",
       "      <th>664638</th>\n",
       "      <td>22</td>\n",
       "      <td>1</td>\n",
       "      <td>0</td>\n",
       "      <td>1.552825e-09</td>\n",
       "      <td>99.999087</td>\n",
       "      <td>99</td>\n",
       "      <td>9199</td>\n",
       "      <td>0</td>\n",
       "      <td>1</td>\n",
       "      <td>32.839005</td>\n",
       "      <td>...</td>\n",
       "      <td>0</td>\n",
       "      <td>0</td>\n",
       "      <td>0</td>\n",
       "      <td>0</td>\n",
       "      <td>0</td>\n",
       "      <td>47</td>\n",
       "      <td>0</td>\n",
       "      <td>4</td>\n",
       "      <td>0</td>\n",
       "      <td>2</td>\n",
       "    </tr>\n",
       "    <tr>\n",
       "      <th>664639</th>\n",
       "      <td>22</td>\n",
       "      <td>2</td>\n",
       "      <td>0</td>\n",
       "      <td>1.564788e-09</td>\n",
       "      <td>99.999787</td>\n",
       "      <td>99</td>\n",
       "      <td>9204</td>\n",
       "      <td>0</td>\n",
       "      <td>2</td>\n",
       "      <td>429.846924</td>\n",
       "      <td>...</td>\n",
       "      <td>0</td>\n",
       "      <td>0</td>\n",
       "      <td>0</td>\n",
       "      <td>0</td>\n",
       "      <td>3</td>\n",
       "      <td>365</td>\n",
       "      <td>0</td>\n",
       "      <td>11</td>\n",
       "      <td>0</td>\n",
       "      <td>1</td>\n",
       "    </tr>\n",
       "    <tr>\n",
       "      <th>664640</th>\n",
       "      <td>22</td>\n",
       "      <td>1</td>\n",
       "      <td>0</td>\n",
       "      <td>1.555383e-09</td>\n",
       "      <td>99.999787</td>\n",
       "      <td>99</td>\n",
       "      <td>9204</td>\n",
       "      <td>0</td>\n",
       "      <td>1</td>\n",
       "      <td>-427.263519</td>\n",
       "      <td>...</td>\n",
       "      <td>1</td>\n",
       "      <td>0</td>\n",
       "      <td>0</td>\n",
       "      <td>0</td>\n",
       "      <td>1</td>\n",
       "      <td>25</td>\n",
       "      <td>0</td>\n",
       "      <td>11</td>\n",
       "      <td>0</td>\n",
       "      <td>2</td>\n",
       "    </tr>\n",
       "    <tr>\n",
       "      <th>664641</th>\n",
       "      <td>22</td>\n",
       "      <td>1</td>\n",
       "      <td>0</td>\n",
       "      <td>1.628912e-09</td>\n",
       "      <td>99.999787</td>\n",
       "      <td>99</td>\n",
       "      <td>9204</td>\n",
       "      <td>0</td>\n",
       "      <td>1</td>\n",
       "      <td>-444.978210</td>\n",
       "      <td>...</td>\n",
       "      <td>1</td>\n",
       "      <td>0</td>\n",
       "      <td>0</td>\n",
       "      <td>0</td>\n",
       "      <td>1</td>\n",
       "      <td>24</td>\n",
       "      <td>0</td>\n",
       "      <td>17</td>\n",
       "      <td>1</td>\n",
       "      <td>2</td>\n",
       "    </tr>\n",
       "  </tbody>\n",
       "</table>\n",
       "<p>5 rows × 50 columns</p>\n",
       "</div>"
      ],
      "text/plain": [
       "        PDGEncoding  trackID  parentID  trackLocalTime       time  runID  \\\n",
       "664637           22        2         0    1.610348e-09  99.999087     99   \n",
       "664638           22        1         0    1.552825e-09  99.999087     99   \n",
       "664639           22        2         0    1.564788e-09  99.999787     99   \n",
       "664640           22        1         0    1.555383e-09  99.999787     99   \n",
       "664641           22        1         0    1.628912e-09  99.999787     99   \n",
       "\n",
       "        eventID  sourceID  primaryID        posX  ...  nCrystalCompton  \\\n",
       "664637     9199         0          2  -34.055504  ...                0   \n",
       "664638     9199         0          1   32.839005  ...                0   \n",
       "664639     9204         0          2  429.846924  ...                0   \n",
       "664640     9204         0          1 -427.263519  ...                1   \n",
       "664641     9204         0          1 -444.978210  ...                1   \n",
       "\n",
       "        nPhantomRayleigh  nCrystalRayleigh  gantryID  rsectorID  moduleID  \\\n",
       "664637                 0                 0         0          2       367   \n",
       "664638                 0                 0         0          0        47   \n",
       "664639                 0                 0         0          3       365   \n",
       "664640                 0                 0         0          1        25   \n",
       "664641                 0                 0         0          1        24   \n",
       "\n",
       "        submoduleID  crystalID  layerID  photonID  \n",
       "664637            0          4        1         1  \n",
       "664638            0          4        0         2  \n",
       "664639            0         11        0         1  \n",
       "664640            0         11        0         2  \n",
       "664641            0         17        1         2  \n",
       "\n",
       "[5 rows x 50 columns]"
      ]
     },
     "execution_count": 144,
     "metadata": {},
     "output_type": "execute_result"
    }
   ],
   "source": [
    "dfhits.tail()"
   ]
  },
  {
   "cell_type": "code",
   "execution_count": 145,
   "metadata": {
    "ExecuteTime": {
     "end_time": "2020-03-17T08:53:28.880109Z",
     "start_time": "2020-03-17T08:53:28.779118Z"
    }
   },
   "outputs": [
    {
     "data": {
      "text/html": [
       "<div>\n",
       "<style scoped>\n",
       "    .dataframe tbody tr th:only-of-type {\n",
       "        vertical-align: middle;\n",
       "    }\n",
       "\n",
       "    .dataframe tbody tr th {\n",
       "        vertical-align: top;\n",
       "    }\n",
       "\n",
       "    .dataframe thead th {\n",
       "        text-align: right;\n",
       "    }\n",
       "</style>\n",
       "<table border=\"1\" class=\"dataframe\">\n",
       "  <thead>\n",
       "    <tr style=\"text-align: right;\">\n",
       "      <th></th>\n",
       "      <th>PDGEncoding</th>\n",
       "      <th>trackID</th>\n",
       "      <th>parentID</th>\n",
       "      <th>trackLocalTime</th>\n",
       "      <th>time</th>\n",
       "      <th>runID</th>\n",
       "      <th>eventID</th>\n",
       "      <th>sourceID</th>\n",
       "      <th>primaryID</th>\n",
       "      <th>posX</th>\n",
       "      <th>...</th>\n",
       "      <th>nCrystalCompton</th>\n",
       "      <th>nPhantomRayleigh</th>\n",
       "      <th>nCrystalRayleigh</th>\n",
       "      <th>gantryID</th>\n",
       "      <th>rsectorID</th>\n",
       "      <th>moduleID</th>\n",
       "      <th>submoduleID</th>\n",
       "      <th>crystalID</th>\n",
       "      <th>layerID</th>\n",
       "      <th>photonID</th>\n",
       "    </tr>\n",
       "  </thead>\n",
       "  <tbody>\n",
       "    <tr>\n",
       "      <th>369343</th>\n",
       "      <td>22</td>\n",
       "      <td>2</td>\n",
       "      <td>0</td>\n",
       "      <td>1.613540e-09</td>\n",
       "      <td>55.165175</td>\n",
       "      <td>55</td>\n",
       "      <td>1581</td>\n",
       "      <td>0</td>\n",
       "      <td>2</td>\n",
       "      <td>310.757690</td>\n",
       "      <td>...</td>\n",
       "      <td>3</td>\n",
       "      <td>0</td>\n",
       "      <td>0</td>\n",
       "      <td>0</td>\n",
       "      <td>2</td>\n",
       "      <td>99</td>\n",
       "      <td>0</td>\n",
       "      <td>21</td>\n",
       "      <td>1</td>\n",
       "      <td>1</td>\n",
       "    </tr>\n",
       "    <tr>\n",
       "      <th>191266</th>\n",
       "      <td>22</td>\n",
       "      <td>2</td>\n",
       "      <td>0</td>\n",
       "      <td>1.499417e-09</td>\n",
       "      <td>28.280626</td>\n",
       "      <td>28</td>\n",
       "      <td>2708</td>\n",
       "      <td>0</td>\n",
       "      <td>2</td>\n",
       "      <td>168.607208</td>\n",
       "      <td>...</td>\n",
       "      <td>0</td>\n",
       "      <td>0</td>\n",
       "      <td>0</td>\n",
       "      <td>0</td>\n",
       "      <td>2</td>\n",
       "      <td>106</td>\n",
       "      <td>0</td>\n",
       "      <td>2</td>\n",
       "      <td>0</td>\n",
       "      <td>1</td>\n",
       "    </tr>\n",
       "    <tr>\n",
       "      <th>601787</th>\n",
       "      <td>22</td>\n",
       "      <td>2</td>\n",
       "      <td>0</td>\n",
       "      <td>1.444143e-09</td>\n",
       "      <td>90.349423</td>\n",
       "      <td>90</td>\n",
       "      <td>3215</td>\n",
       "      <td>0</td>\n",
       "      <td>2</td>\n",
       "      <td>23.129435</td>\n",
       "      <td>...</td>\n",
       "      <td>0</td>\n",
       "      <td>0</td>\n",
       "      <td>0</td>\n",
       "      <td>0</td>\n",
       "      <td>3</td>\n",
       "      <td>168</td>\n",
       "      <td>0</td>\n",
       "      <td>17</td>\n",
       "      <td>0</td>\n",
       "      <td>1</td>\n",
       "    </tr>\n",
       "    <tr>\n",
       "      <th>158613</th>\n",
       "      <td>22</td>\n",
       "      <td>2</td>\n",
       "      <td>0</td>\n",
       "      <td>1.566673e-09</td>\n",
       "      <td>23.475612</td>\n",
       "      <td>23</td>\n",
       "      <td>4668</td>\n",
       "      <td>0</td>\n",
       "      <td>2</td>\n",
       "      <td>-312.111084</td>\n",
       "      <td>...</td>\n",
       "      <td>1</td>\n",
       "      <td>0</td>\n",
       "      <td>0</td>\n",
       "      <td>0</td>\n",
       "      <td>2</td>\n",
       "      <td>342</td>\n",
       "      <td>0</td>\n",
       "      <td>24</td>\n",
       "      <td>0</td>\n",
       "      <td>1</td>\n",
       "    </tr>\n",
       "    <tr>\n",
       "      <th>450268</th>\n",
       "      <td>22</td>\n",
       "      <td>1</td>\n",
       "      <td>0</td>\n",
       "      <td>1.592178e-09</td>\n",
       "      <td>67.272205</td>\n",
       "      <td>67</td>\n",
       "      <td>2524</td>\n",
       "      <td>0</td>\n",
       "      <td>1</td>\n",
       "      <td>320.962585</td>\n",
       "      <td>...</td>\n",
       "      <td>2</td>\n",
       "      <td>0</td>\n",
       "      <td>0</td>\n",
       "      <td>0</td>\n",
       "      <td>2</td>\n",
       "      <td>278</td>\n",
       "      <td>0</td>\n",
       "      <td>17</td>\n",
       "      <td>1</td>\n",
       "      <td>2</td>\n",
       "    </tr>\n",
       "    <tr>\n",
       "      <th>316966</th>\n",
       "      <td>22</td>\n",
       "      <td>1</td>\n",
       "      <td>0</td>\n",
       "      <td>1.601981e-09</td>\n",
       "      <td>47.218515</td>\n",
       "      <td>47</td>\n",
       "      <td>2093</td>\n",
       "      <td>0</td>\n",
       "      <td>1</td>\n",
       "      <td>-169.125305</td>\n",
       "      <td>...</td>\n",
       "      <td>4</td>\n",
       "      <td>0</td>\n",
       "      <td>1</td>\n",
       "      <td>0</td>\n",
       "      <td>3</td>\n",
       "      <td>73</td>\n",
       "      <td>0</td>\n",
       "      <td>8</td>\n",
       "      <td>1</td>\n",
       "      <td>2</td>\n",
       "    </tr>\n",
       "    <tr>\n",
       "      <th>484832</th>\n",
       "      <td>22</td>\n",
       "      <td>1</td>\n",
       "      <td>0</td>\n",
       "      <td>1.520751e-09</td>\n",
       "      <td>72.528236</td>\n",
       "      <td>72</td>\n",
       "      <td>5030</td>\n",
       "      <td>0</td>\n",
       "      <td>1</td>\n",
       "      <td>-447.795624</td>\n",
       "      <td>...</td>\n",
       "      <td>0</td>\n",
       "      <td>0</td>\n",
       "      <td>0</td>\n",
       "      <td>0</td>\n",
       "      <td>2</td>\n",
       "      <td>111</td>\n",
       "      <td>0</td>\n",
       "      <td>22</td>\n",
       "      <td>1</td>\n",
       "      <td>2</td>\n",
       "    </tr>\n",
       "    <tr>\n",
       "      <th>664041</th>\n",
       "      <td>22</td>\n",
       "      <td>1</td>\n",
       "      <td>0</td>\n",
       "      <td>1.543408e-09</td>\n",
       "      <td>99.914289</td>\n",
       "      <td>99</td>\n",
       "      <td>8399</td>\n",
       "      <td>0</td>\n",
       "      <td>1</td>\n",
       "      <td>112.441864</td>\n",
       "      <td>...</td>\n",
       "      <td>2</td>\n",
       "      <td>0</td>\n",
       "      <td>0</td>\n",
       "      <td>0</td>\n",
       "      <td>2</td>\n",
       "      <td>197</td>\n",
       "      <td>0</td>\n",
       "      <td>20</td>\n",
       "      <td>0</td>\n",
       "      <td>2</td>\n",
       "    </tr>\n",
       "    <tr>\n",
       "      <th>265637</th>\n",
       "      <td>22</td>\n",
       "      <td>1</td>\n",
       "      <td>0</td>\n",
       "      <td>1.555671e-09</td>\n",
       "      <td>39.429365</td>\n",
       "      <td>39</td>\n",
       "      <td>4279</td>\n",
       "      <td>0</td>\n",
       "      <td>1</td>\n",
       "      <td>438.416351</td>\n",
       "      <td>...</td>\n",
       "      <td>0</td>\n",
       "      <td>0</td>\n",
       "      <td>0</td>\n",
       "      <td>0</td>\n",
       "      <td>3</td>\n",
       "      <td>140</td>\n",
       "      <td>0</td>\n",
       "      <td>22</td>\n",
       "      <td>0</td>\n",
       "      <td>2</td>\n",
       "    </tr>\n",
       "    <tr>\n",
       "      <th>408057</th>\n",
       "      <td>11</td>\n",
       "      <td>4</td>\n",
       "      <td>1</td>\n",
       "      <td>7.055154e-10</td>\n",
       "      <td>60.999165</td>\n",
       "      <td>60</td>\n",
       "      <td>9585</td>\n",
       "      <td>0</td>\n",
       "      <td>1</td>\n",
       "      <td>139.465698</td>\n",
       "      <td>...</td>\n",
       "      <td>0</td>\n",
       "      <td>0</td>\n",
       "      <td>0</td>\n",
       "      <td>0</td>\n",
       "      <td>1</td>\n",
       "      <td>81</td>\n",
       "      <td>0</td>\n",
       "      <td>21</td>\n",
       "      <td>0</td>\n",
       "      <td>2</td>\n",
       "    </tr>\n",
       "  </tbody>\n",
       "</table>\n",
       "<p>10 rows × 50 columns</p>\n",
       "</div>"
      ],
      "text/plain": [
       "        PDGEncoding  trackID  parentID  trackLocalTime       time  runID  \\\n",
       "369343           22        2         0    1.613540e-09  55.165175     55   \n",
       "191266           22        2         0    1.499417e-09  28.280626     28   \n",
       "601787           22        2         0    1.444143e-09  90.349423     90   \n",
       "158613           22        2         0    1.566673e-09  23.475612     23   \n",
       "450268           22        1         0    1.592178e-09  67.272205     67   \n",
       "316966           22        1         0    1.601981e-09  47.218515     47   \n",
       "484832           22        1         0    1.520751e-09  72.528236     72   \n",
       "664041           22        1         0    1.543408e-09  99.914289     99   \n",
       "265637           22        1         0    1.555671e-09  39.429365     39   \n",
       "408057           11        4         1    7.055154e-10  60.999165     60   \n",
       "\n",
       "        eventID  sourceID  primaryID        posX  ...  nCrystalCompton  \\\n",
       "369343     1581         0          2  310.757690  ...                3   \n",
       "191266     2708         0          2  168.607208  ...                0   \n",
       "601787     3215         0          2   23.129435  ...                0   \n",
       "158613     4668         0          2 -312.111084  ...                1   \n",
       "450268     2524         0          1  320.962585  ...                2   \n",
       "316966     2093         0          1 -169.125305  ...                4   \n",
       "484832     5030         0          1 -447.795624  ...                0   \n",
       "664041     8399         0          1  112.441864  ...                2   \n",
       "265637     4279         0          1  438.416351  ...                0   \n",
       "408057     9585         0          1  139.465698  ...                0   \n",
       "\n",
       "        nPhantomRayleigh  nCrystalRayleigh  gantryID  rsectorID  moduleID  \\\n",
       "369343                 0                 0         0          2        99   \n",
       "191266                 0                 0         0          2       106   \n",
       "601787                 0                 0         0          3       168   \n",
       "158613                 0                 0         0          2       342   \n",
       "450268                 0                 0         0          2       278   \n",
       "316966                 0                 1         0          3        73   \n",
       "484832                 0                 0         0          2       111   \n",
       "664041                 0                 0         0          2       197   \n",
       "265637                 0                 0         0          3       140   \n",
       "408057                 0                 0         0          1        81   \n",
       "\n",
       "        submoduleID  crystalID  layerID  photonID  \n",
       "369343            0         21        1         1  \n",
       "191266            0          2        0         1  \n",
       "601787            0         17        0         1  \n",
       "158613            0         24        0         1  \n",
       "450268            0         17        1         2  \n",
       "316966            0          8        1         2  \n",
       "484832            0         22        1         2  \n",
       "664041            0         20        0         2  \n",
       "265637            0         22        0         2  \n",
       "408057            0         21        0         2  \n",
       "\n",
       "[10 rows x 50 columns]"
      ]
     },
     "execution_count": 145,
     "metadata": {},
     "output_type": "execute_result"
    }
   ],
   "source": [
    "dfhits.sample(n=10)"
   ]
  },
  {
   "cell_type": "code",
   "execution_count": 146,
   "metadata": {
    "ExecuteTime": {
     "end_time": "2020-03-17T08:53:38.138593Z",
     "start_time": "2020-03-17T08:53:35.169053Z"
    },
    "scrolled": true
   },
   "outputs": [
    {
     "data": {
      "text/html": [
       "<div>\n",
       "<style scoped>\n",
       "    .dataframe tbody tr th:only-of-type {\n",
       "        vertical-align: middle;\n",
       "    }\n",
       "\n",
       "    .dataframe tbody tr th {\n",
       "        vertical-align: top;\n",
       "    }\n",
       "\n",
       "    .dataframe thead th {\n",
       "        text-align: right;\n",
       "    }\n",
       "</style>\n",
       "<table border=\"1\" class=\"dataframe\">\n",
       "  <thead>\n",
       "    <tr style=\"text-align: right;\">\n",
       "      <th></th>\n",
       "      <th>PDGEncoding</th>\n",
       "      <th>trackID</th>\n",
       "      <th>parentID</th>\n",
       "      <th>trackLocalTime</th>\n",
       "      <th>time</th>\n",
       "      <th>runID</th>\n",
       "      <th>eventID</th>\n",
       "      <th>sourceID</th>\n",
       "      <th>primaryID</th>\n",
       "      <th>posX</th>\n",
       "      <th>...</th>\n",
       "      <th>nCrystalCompton</th>\n",
       "      <th>nPhantomRayleigh</th>\n",
       "      <th>nCrystalRayleigh</th>\n",
       "      <th>gantryID</th>\n",
       "      <th>rsectorID</th>\n",
       "      <th>moduleID</th>\n",
       "      <th>submoduleID</th>\n",
       "      <th>crystalID</th>\n",
       "      <th>layerID</th>\n",
       "      <th>photonID</th>\n",
       "    </tr>\n",
       "  </thead>\n",
       "  <tbody>\n",
       "    <tr>\n",
       "      <th>count</th>\n",
       "      <td>664642.000000</td>\n",
       "      <td>664642.000000</td>\n",
       "      <td>664642.000000</td>\n",
       "      <td>6.646420e+05</td>\n",
       "      <td>664642.000000</td>\n",
       "      <td>664642.000000</td>\n",
       "      <td>664642.000000</td>\n",
       "      <td>664642.0</td>\n",
       "      <td>664642.000000</td>\n",
       "      <td>664642.000000</td>\n",
       "      <td>...</td>\n",
       "      <td>664642.000000</td>\n",
       "      <td>664642.0</td>\n",
       "      <td>664642.000000</td>\n",
       "      <td>664642.0</td>\n",
       "      <td>664642.000000</td>\n",
       "      <td>664642.000000</td>\n",
       "      <td>664642.0</td>\n",
       "      <td>664642.000000</td>\n",
       "      <td>664642.000000</td>\n",
       "      <td>664642.000000</td>\n",
       "    </tr>\n",
       "    <tr>\n",
       "      <th>mean</th>\n",
       "      <td>21.428337</td>\n",
       "      <td>1.665074</td>\n",
       "      <td>0.081320</td>\n",
       "      <td>1.522067e-09</td>\n",
       "      <td>49.648724</td>\n",
       "      <td>49.148930</td>\n",
       "      <td>4853.738989</td>\n",
       "      <td>0.0</td>\n",
       "      <td>1.498178</td>\n",
       "      <td>0.733958</td>\n",
       "      <td>...</td>\n",
       "      <td>1.047335</td>\n",
       "      <td>0.0</td>\n",
       "      <td>0.126749</td>\n",
       "      <td>0.0</td>\n",
       "      <td>1.499549</td>\n",
       "      <td>199.447236</td>\n",
       "      <td>0.0</td>\n",
       "      <td>12.016279</td>\n",
       "      <td>0.275065</td>\n",
       "      <td>1.501822</td>\n",
       "    </tr>\n",
       "    <tr>\n",
       "      <th>std</th>\n",
       "      <td>2.441618</td>\n",
       "      <td>3.034857</td>\n",
       "      <td>0.851753</td>\n",
       "      <td>2.955131e-10</td>\n",
       "      <td>28.898724</td>\n",
       "      <td>28.896401</td>\n",
       "      <td>2806.676765</td>\n",
       "      <td>0.0</td>\n",
       "      <td>0.499997</td>\n",
       "      <td>315.015930</td>\n",
       "      <td>...</td>\n",
       "      <td>0.846647</td>\n",
       "      <td>0.0</td>\n",
       "      <td>0.359857</td>\n",
       "      <td>0.0</td>\n",
       "      <td>1.118058</td>\n",
       "      <td>111.681581</td>\n",
       "      <td>0.0</td>\n",
       "      <td>7.203008</td>\n",
       "      <td>0.446548</td>\n",
       "      <td>0.499997</td>\n",
       "    </tr>\n",
       "    <tr>\n",
       "      <th>min</th>\n",
       "      <td>11.000000</td>\n",
       "      <td>1.000000</td>\n",
       "      <td>0.000000</td>\n",
       "      <td>4.466472e-16</td>\n",
       "      <td>0.000972</td>\n",
       "      <td>0.000000</td>\n",
       "      <td>0.000000</td>\n",
       "      <td>0.0</td>\n",
       "      <td>1.000000</td>\n",
       "      <td>-473.891449</td>\n",
       "      <td>...</td>\n",
       "      <td>0.000000</td>\n",
       "      <td>0.0</td>\n",
       "      <td>0.000000</td>\n",
       "      <td>0.0</td>\n",
       "      <td>0.000000</td>\n",
       "      <td>0.000000</td>\n",
       "      <td>0.0</td>\n",
       "      <td>0.000000</td>\n",
       "      <td>0.000000</td>\n",
       "      <td>1.000000</td>\n",
       "    </tr>\n",
       "    <tr>\n",
       "      <th>25%</th>\n",
       "      <td>22.000000</td>\n",
       "      <td>1.000000</td>\n",
       "      <td>0.000000</td>\n",
       "      <td>1.487984e-09</td>\n",
       "      <td>24.572507</td>\n",
       "      <td>24.000000</td>\n",
       "      <td>2417.000000</td>\n",
       "      <td>0.0</td>\n",
       "      <td>1.000000</td>\n",
       "      <td>-318.625359</td>\n",
       "      <td>...</td>\n",
       "      <td>0.000000</td>\n",
       "      <td>0.0</td>\n",
       "      <td>0.000000</td>\n",
       "      <td>0.0</td>\n",
       "      <td>1.000000</td>\n",
       "      <td>106.000000</td>\n",
       "      <td>0.0</td>\n",
       "      <td>6.000000</td>\n",
       "      <td>0.000000</td>\n",
       "      <td>1.000000</td>\n",
       "    </tr>\n",
       "    <tr>\n",
       "      <th>50%</th>\n",
       "      <td>22.000000</td>\n",
       "      <td>2.000000</td>\n",
       "      <td>0.000000</td>\n",
       "      <td>1.529308e-09</td>\n",
       "      <td>49.567453</td>\n",
       "      <td>49.000000</td>\n",
       "      <td>4858.000000</td>\n",
       "      <td>0.0</td>\n",
       "      <td>1.000000</td>\n",
       "      <td>2.838418</td>\n",
       "      <td>...</td>\n",
       "      <td>1.000000</td>\n",
       "      <td>0.0</td>\n",
       "      <td>0.000000</td>\n",
       "      <td>0.0</td>\n",
       "      <td>1.000000</td>\n",
       "      <td>200.000000</td>\n",
       "      <td>0.0</td>\n",
       "      <td>12.000000</td>\n",
       "      <td>0.000000</td>\n",
       "      <td>2.000000</td>\n",
       "    </tr>\n",
       "    <tr>\n",
       "      <th>75%</th>\n",
       "      <td>22.000000</td>\n",
       "      <td>2.000000</td>\n",
       "      <td>0.000000</td>\n",
       "      <td>1.574853e-09</td>\n",
       "      <td>74.594976</td>\n",
       "      <td>74.000000</td>\n",
       "      <td>7283.000000</td>\n",
       "      <td>0.0</td>\n",
       "      <td>2.000000</td>\n",
       "      <td>319.485313</td>\n",
       "      <td>...</td>\n",
       "      <td>1.000000</td>\n",
       "      <td>0.0</td>\n",
       "      <td>0.000000</td>\n",
       "      <td>0.0</td>\n",
       "      <td>3.000000</td>\n",
       "      <td>293.000000</td>\n",
       "      <td>0.0</td>\n",
       "      <td>18.000000</td>\n",
       "      <td>1.000000</td>\n",
       "      <td>2.000000</td>\n",
       "    </tr>\n",
       "    <tr>\n",
       "      <th>max</th>\n",
       "      <td>22.000000</td>\n",
       "      <td>248.000000</td>\n",
       "      <td>175.000000</td>\n",
       "      <td>1.831946e-08</td>\n",
       "      <td>99.999787</td>\n",
       "      <td>99.000000</td>\n",
       "      <td>10074.000000</td>\n",
       "      <td>0.0</td>\n",
       "      <td>2.000000</td>\n",
       "      <td>473.960754</td>\n",
       "      <td>...</td>\n",
       "      <td>8.000000</td>\n",
       "      <td>0.0</td>\n",
       "      <td>5.000000</td>\n",
       "      <td>0.0</td>\n",
       "      <td>3.000000</td>\n",
       "      <td>399.000000</td>\n",
       "      <td>0.0</td>\n",
       "      <td>24.000000</td>\n",
       "      <td>1.000000</td>\n",
       "      <td>2.000000</td>\n",
       "    </tr>\n",
       "  </tbody>\n",
       "</table>\n",
       "<p>8 rows × 47 columns</p>\n",
       "</div>"
      ],
      "text/plain": [
       "         PDGEncoding        trackID       parentID  trackLocalTime  \\\n",
       "count  664642.000000  664642.000000  664642.000000    6.646420e+05   \n",
       "mean       21.428337       1.665074       0.081320    1.522067e-09   \n",
       "std         2.441618       3.034857       0.851753    2.955131e-10   \n",
       "min        11.000000       1.000000       0.000000    4.466472e-16   \n",
       "25%        22.000000       1.000000       0.000000    1.487984e-09   \n",
       "50%        22.000000       2.000000       0.000000    1.529308e-09   \n",
       "75%        22.000000       2.000000       0.000000    1.574853e-09   \n",
       "max        22.000000     248.000000     175.000000    1.831946e-08   \n",
       "\n",
       "                time          runID        eventID  sourceID      primaryID  \\\n",
       "count  664642.000000  664642.000000  664642.000000  664642.0  664642.000000   \n",
       "mean       49.648724      49.148930    4853.738989       0.0       1.498178   \n",
       "std        28.898724      28.896401    2806.676765       0.0       0.499997   \n",
       "min         0.000972       0.000000       0.000000       0.0       1.000000   \n",
       "25%        24.572507      24.000000    2417.000000       0.0       1.000000   \n",
       "50%        49.567453      49.000000    4858.000000       0.0       1.000000   \n",
       "75%        74.594976      74.000000    7283.000000       0.0       2.000000   \n",
       "max        99.999787      99.000000   10074.000000       0.0       2.000000   \n",
       "\n",
       "                posX  ...  nCrystalCompton  nPhantomRayleigh  \\\n",
       "count  664642.000000  ...    664642.000000          664642.0   \n",
       "mean        0.733958  ...         1.047335               0.0   \n",
       "std       315.015930  ...         0.846647               0.0   \n",
       "min      -473.891449  ...         0.000000               0.0   \n",
       "25%      -318.625359  ...         0.000000               0.0   \n",
       "50%         2.838418  ...         1.000000               0.0   \n",
       "75%       319.485313  ...         1.000000               0.0   \n",
       "max       473.960754  ...         8.000000               0.0   \n",
       "\n",
       "       nCrystalRayleigh  gantryID      rsectorID       moduleID  submoduleID  \\\n",
       "count     664642.000000  664642.0  664642.000000  664642.000000     664642.0   \n",
       "mean           0.126749       0.0       1.499549     199.447236          0.0   \n",
       "std            0.359857       0.0       1.118058     111.681581          0.0   \n",
       "min            0.000000       0.0       0.000000       0.000000          0.0   \n",
       "25%            0.000000       0.0       1.000000     106.000000          0.0   \n",
       "50%            0.000000       0.0       1.000000     200.000000          0.0   \n",
       "75%            0.000000       0.0       3.000000     293.000000          0.0   \n",
       "max            5.000000       0.0       3.000000     399.000000          0.0   \n",
       "\n",
       "           crystalID        layerID       photonID  \n",
       "count  664642.000000  664642.000000  664642.000000  \n",
       "mean       12.016279       0.275065       1.501822  \n",
       "std         7.203008       0.446548       0.499997  \n",
       "min         0.000000       0.000000       1.000000  \n",
       "25%         6.000000       0.000000       1.000000  \n",
       "50%        12.000000       0.000000       2.000000  \n",
       "75%        18.000000       1.000000       2.000000  \n",
       "max        24.000000       1.000000       2.000000  \n",
       "\n",
       "[8 rows x 47 columns]"
      ]
     },
     "execution_count": 146,
     "metadata": {},
     "output_type": "execute_result"
    }
   ],
   "source": [
    "dfhits.describe()"
   ]
  },
  {
   "cell_type": "code",
   "execution_count": 147,
   "metadata": {
    "ExecuteTime": {
     "end_time": "2020-03-17T08:53:46.947362Z",
     "start_time": "2020-03-17T08:53:46.935714Z"
    }
   },
   "outputs": [
    {
     "data": {
      "text/plain": [
       "0          0\n",
       "1          0\n",
       "2          0\n",
       "3          0\n",
       "4          0\n",
       "          ..\n",
       "664637    99\n",
       "664638    99\n",
       "664639    99\n",
       "664640    99\n",
       "664641    99\n",
       "Name: runID, Length: 664642, dtype: int32"
      ]
     },
     "execution_count": 147,
     "metadata": {},
     "output_type": "execute_result"
    }
   ],
   "source": [
    "dfhits.runID"
   ]
  },
  {
   "cell_type": "code",
   "execution_count": 148,
   "metadata": {
    "ExecuteTime": {
     "end_time": "2020-03-17T08:53:59.298732Z",
     "start_time": "2020-03-17T08:53:58.691988Z"
    }
   },
   "outputs": [
    {
     "data": {
      "text/plain": [
       "Text(0.5, 1.0, 'runID vs index')"
      ]
     },
     "execution_count": 148,
     "metadata": {},
     "output_type": "execute_result"
    },
    {
     "data": {
      "image/png": "[encoded data removed]",
      "text/plain": [
       "<Figure size 432x288 with 1 Axes>"
      ]
     },
     "metadata": {
      "needs_background": "light"
     },
     "output_type": "display_data"
    }
   ],
   "source": [
    "dfhits.runID.plot()\n",
    "plt.title(\"runID vs index\")"
   ]
  },
  {
   "cell_type": "code",
   "execution_count": 149,
   "metadata": {
    "ExecuteTime": {
     "end_time": "2020-03-17T08:54:09.479673Z",
     "start_time": "2020-03-17T08:54:09.425360Z"
    }
   },
   "outputs": [
    {
     "data": {
      "text/plain": [
       "runID\n",
       "0     0.235588\n",
       "1     0.232984\n",
       "2     0.239945\n",
       "3     0.225809\n",
       "4     0.238710\n",
       "        ...   \n",
       "95    0.236308\n",
       "96    0.237799\n",
       "97    0.241056\n",
       "98    0.232868\n",
       "99    0.234783\n",
       "Name: edep, Length: 100, dtype: float32"
      ]
     },
     "execution_count": 149,
     "metadata": {},
     "output_type": "execute_result"
    }
   ],
   "source": [
    "dfhits.groupby('runID').edep.mean()"
   ]
  },
  {
   "cell_type": "markdown",
   "metadata": {},
   "source": [
    "### `Apply` and `groupby`\n",
    "On the result of `groupby`, we can use `apply` function and apply arbitrary code to things grouped. We can plot histogram of deposited energy for each `runID` very easely: "
   ]
  },
  {
   "cell_type": "code",
   "execution_count": 157,
   "metadata": {
    "scrolled": false
   },
   "outputs": [
    {
     "name": "stdout",
     "output_type": "stream",
     "text": [
      "<class 'pandas.core.frame.DataFrame'> 6950\n",
      "<class 'pandas.core.frame.DataFrame'> 7088\n",
      "<class 'pandas.core.frame.DataFrame'> 7006\n",
      "<class 'pandas.core.frame.DataFrame'> 6921\n",
      "<class 'pandas.core.frame.DataFrame'> 6554\n",
      "<class 'pandas.core.frame.DataFrame'> 6668\n",
      "<class 'pandas.core.frame.DataFrame'> 7072\n",
      "<class 'pandas.core.frame.DataFrame'> 6551\n",
      "<class 'pandas.core.frame.DataFrame'> 6779\n",
      "<class 'pandas.core.frame.DataFrame'> 6549\n"
     ]
    },
    {
     "data": {
      "text/html": [
       "<div>\n",
       "<style scoped>\n",
       "    .dataframe tbody tr th:only-of-type {\n",
       "        vertical-align: middle;\n",
       "    }\n",
       "\n",
       "    .dataframe tbody tr th {\n",
       "        vertical-align: top;\n",
       "    }\n",
       "\n",
       "    .dataframe thead th {\n",
       "        text-align: right;\n",
       "    }\n",
       "</style>\n",
       "<table border=\"1\" class=\"dataframe\">\n",
       "  <thead>\n",
       "    <tr style=\"text-align: right;\">\n",
       "      <th></th>\n",
       "    </tr>\n",
       "  </thead>\n",
       "  <tbody>\n",
       "  </tbody>\n",
       "</table>\n",
       "</div>"
      ],
      "text/plain": [
       "Empty DataFrame\n",
       "Columns: []\n",
       "Index: []"
      ]
     },
     "execution_count": 157,
     "metadata": {},
     "output_type": "execute_result"
    },
    {
     "data": {
      "image/png": "[encoded data removed]",
      "text/plain": [
       "<Figure size 432x288 with 1 Axes>"
      ]
     },
     "metadata": {
      "needs_background": "light"
     },
     "output_type": "display_data"
    },
    {
     "data": {
      "image/png": "[encoded data removed]",
      "text/plain": [
       "<Figure size 432x288 with 1 Axes>"
      ]
     },
     "metadata": {
      "needs_background": "light"
     },
     "output_type": "display_data"
    },
    {
     "data": {
      "image/png": "[encoded data removed]",
      "text/plain": [
       "<Figure size 432x288 with 1 Axes>"
      ]
     },
     "metadata": {
      "needs_background": "light"
     },
     "output_type": "display_data"
    },
    {
     "data": {
      "image/png": "[encoded data removed]",
      "text/plain": [
       "<Figure size 432x288 with 1 Axes>"
      ]
     },
     "metadata": {
      "needs_background": "light"
     },
     "output_type": "display_data"
    },
    {
     "data": {
      "image/png": "[encoded data removed]",
      "text/plain": [
       "<Figure size 432x288 with 1 Axes>"
      ]
     },
     "metadata": {
      "needs_background": "light"
     },
     "output_type": "display_data"
    },
    {
     "data": {
      "image/png": "[encoded data removed]",
      "text/plain": [
       "<Figure size 432x288 with 1 Axes>"
      ]
     },
     "metadata": {
      "needs_background": "light"
     },
     "output_type": "display_data"
    },
    {
     "data": {
      "image/png": "[encoded data removed]",
      "text/plain": [
       "<Figure size 432x288 with 1 Axes>"
      ]
     },
     "metadata": {
      "needs_background": "light"
     },
     "output_type": "display_data"
    },
    {
     "data": {
      "image/png": "[encoded data removed]",
      "text/plain": [
       "<Figure size 432x288 with 1 Axes>"
      ]
     },
     "metadata": {
      "needs_background": "light"
     },
     "output_type": "display_data"
    },
    {
     "data": {
      "image/png": "[encoded data removed]",
      "text/plain": [
       "<Figure size 432x288 with 1 Axes>"
      ]
     },
     "metadata": {
      "needs_background": "light"
     },
     "output_type": "display_data"
    },
    {
     "data": {
      "image/png": "[encoded data removed]",
      "text/plain": [
       "<Figure size 432x288 with 1 Axes>"
      ]
     },
     "metadata": {
      "needs_background": "light"
     },
     "output_type": "display_data"
    }
   ],
   "source": [
    "def f(arg):\n",
    "    # arg is dataframe, one for each runID\n",
    "    print(type(arg), len(arg))\n",
    "    plt.figure()\n",
    "    plt.hist(arg['edep'], bins=50)    \n",
    "    plt.yscale('log')\n",
    "    #print(arg['runID'])\n",
    "    pass\n",
    "\n",
    "dfhits[dfhits.runID < 10].groupby('runID').apply(f) #we do this for the 10 firts runID to limit number of plots."
   ]
  },
  {
   "cell_type": "code",
   "execution_count": 158,
   "metadata": {
    "ExecuteTime": {
     "end_time": "2020-03-17T08:54:18.337971Z",
     "start_time": "2020-03-17T08:54:17.978351Z"
    },
    "scrolled": false
   },
   "outputs": [
    {
     "data": {
      "text/plain": [
       "<AxesSubplot:title={'center':'time'}, xlabel='layerID'>"
      ]
     },
     "execution_count": 158,
     "metadata": {},
     "output_type": "execute_result"
    },
    {
     "data": {
      "image/png": "[encoded data removed]",
      "text/plain": [
       "<Figure size 432x288 with 1 Axes>"
      ]
     },
     "metadata": {
      "needs_background": "light"
     },
     "output_type": "display_data"
    }
   ],
   "source": [
    "dfhits.boxplot('time', by='layerID')"
   ]
  },
  {
   "cell_type": "code",
   "execution_count": 159,
   "metadata": {
    "ExecuteTime": {
     "end_time": "2020-03-17T08:54:27.049088Z",
     "start_time": "2020-03-17T08:54:26.717540Z"
    }
   },
   "outputs": [
    {
     "data": {
      "text/plain": [
       "<AxesSubplot:title={'center':'edep'}, xlabel='layerID'>"
      ]
     },
     "execution_count": 159,
     "metadata": {},
     "output_type": "execute_result"
    },
    {
     "data": {
      "image/png": "[encoded data removed]",
      "text/plain": [
       "<Figure size 432x288 with 1 Axes>"
      ]
     },
     "metadata": {
      "needs_background": "light"
     },
     "output_type": "display_data"
    }
   ],
   "source": [
    "dfhits.boxplot('edep', by='layerID')"
   ]
  },
  {
   "cell_type": "markdown",
   "metadata": {},
   "source": [
    "Sub select hits works like for numpy array, for example, sub selecto only 10 runIDs : "
   ]
  },
  {
   "cell_type": "code",
   "execution_count": 160,
   "metadata": {
    "ExecuteTime": {
     "end_time": "2020-03-17T08:57:09.594817Z",
     "start_time": "2020-03-17T08:57:09.584586Z"
    }
   },
   "outputs": [],
   "source": [
    "w = dfhits.runID < 10"
   ]
  },
  {
   "cell_type": "code",
   "execution_count": 161,
   "metadata": {
    "ExecuteTime": {
     "end_time": "2020-03-17T09:04:14.992980Z",
     "start_time": "2020-03-17T09:04:14.705916Z"
    }
   },
   "outputs": [
    {
     "data": {
      "text/plain": [
       "<AxesSubplot:title={'center':'edep'}, xlabel='runID'>"
      ]
     },
     "execution_count": 161,
     "metadata": {},
     "output_type": "execute_result"
    },
    {
     "data": {
      "image/png": "[encoded data removed]",
      "text/plain": [
       "<Figure size 432x288 with 1 Axes>"
      ]
     },
     "metadata": {
      "needs_background": "light"
     },
     "output_type": "display_data"
    }
   ],
   "source": [
    "dfhits[w].boxplot('edep', by='runID')"
   ]
  },
  {
   "cell_type": "code",
   "execution_count": 162,
   "metadata": {
    "ExecuteTime": {
     "end_time": "2020-03-17T09:10:35.761623Z",
     "start_time": "2020-03-17T09:10:35.137429Z"
    }
   },
   "outputs": [
    {
     "data": {
      "text/plain": [
       "<AxesSubplot:title={'center':'edep'}, xlabel='processName'>"
      ]
     },
     "execution_count": 162,
     "metadata": {},
     "output_type": "execute_result"
    },
    {
     "data": {
      "image/png": "[encoded data removed]",
      "text/plain": [
       "<Figure size 432x288 with 1 Axes>"
      ]
     },
     "metadata": {
      "needs_background": "light"
     },
     "output_type": "display_data"
    }
   ],
   "source": [
    "dfhits.boxplot('edep', by='processName')"
   ]
  },
  {
   "cell_type": "markdown",
   "metadata": {},
   "source": [
    "## histograms by process oneline, because we can "
   ]
  },
  {
   "cell_type": "code",
   "execution_count": 163,
   "metadata": {
    "ExecuteTime": {
     "end_time": "2020-03-17T09:13:10.365627Z",
     "start_time": "2020-03-17T09:12:15.120147Z"
    }
   },
   "outputs": [
    {
     "name": "stderr",
     "output_type": "stream",
     "text": [
      "<ipython-input-163-425f3a71fdd8>:3: UserWarning: To output multiple subplots, the figure containing the passed axes is being cleared\n",
      "  dfhits.pivot(columns='processName').edep.hist(ax=ax, bins=50);\n"
     ]
    },
    {
     "data": {
      "image/png": "[encoded data removed]",
      "text/plain": [
       "<Figure size 1440x1440 with 9 Axes>"
      ]
     },
     "metadata": {
      "needs_background": "light"
     },
     "output_type": "display_data"
    }
   ],
   "source": [
    "fig = plt.figure(figsize=(20,20))\n",
    "ax = plt.subplot()\n",
    "dfhits.pivot(columns='processName').edep.hist(ax=ax, bins=50);"
   ]
  },
  {
   "cell_type": "markdown",
   "metadata": {},
   "source": [
    "## Stacked histogram by process oneline, because we can \n"
   ]
  },
  {
   "cell_type": "code",
   "execution_count": 164,
   "metadata": {
    "ExecuteTime": {
     "end_time": "2020-03-17T09:14:34.591138Z",
     "start_time": "2020-03-17T09:13:38.757880Z"
    }
   },
   "outputs": [
    {
     "data": {
      "image/png": "[encoded data removed]",
      "text/plain": [
       "<Figure size 1440x1440 with 1 Axes>"
      ]
     },
     "metadata": {
      "needs_background": "light"
     },
     "output_type": "display_data"
    }
   ],
   "source": [
    "fig = plt.figure(figsize=(20,20))\n",
    "ax = plt.subplot()\n",
    "dfhits.pivot(columns='processName').edep.plot(ax=ax, stacked=True, kind=\"hist\", bins=50);\n",
    "plt.yscale('log');"
   ]
  },
  {
   "cell_type": "markdown",
   "metadata": {},
   "source": [
    "## Compute the edep histogram linke singles with pandas"
   ]
  },
  {
   "cell_type": "code",
   "execution_count": 165,
   "metadata": {
    "ExecuteTime": {
     "end_time": "2020-03-17T09:20:10.298176Z",
     "start_time": "2020-03-17T09:20:09.851930Z"
    }
   },
   "outputs": [
    {
     "data": {
      "text/plain": [
       "runID  eventID  rsectorID\n",
       "0      8        1            0.511\n",
       "                3            0.511\n",
       "       10       0            0.511\n",
       "       13       1            0.511\n",
       "                3            0.511\n",
       "                             ...  \n",
       "99     9197     3            0.511\n",
       "       9199     0            0.511\n",
       "                2            0.511\n",
       "       9204     1            0.511\n",
       "                3            0.511\n",
       "Name: edep, Length: 328885, dtype: float32"
      ]
     },
     "execution_count": 165,
     "metadata": {},
     "output_type": "execute_result"
    }
   ],
   "source": [
    "#do code here, do not override cell below\n",
    "lEnergy = dfhits.groupby(['runID', 'eventID', 'rsectorID'  ]).edep.sum()\n",
    "lEnergy[lEnergy > 0]"
   ]
  },
  {
   "cell_type": "markdown",
   "metadata": {},
   "source": [
    "Very fast here, it takes less than 1s"
   ]
  },
  {
   "cell_type": "code",
   "execution_count": 166,
   "metadata": {
    "ExecuteTime": {
     "end_time": "2020-03-17T09:20:21.742876Z",
     "start_time": "2020-03-17T09:20:20.758849Z"
    }
   },
   "outputs": [
    {
     "data": {
      "image/png": "[encoded data removed]",
      "text/plain": [
       "<Figure size 1080x288 with 2 Axes>"
      ]
     },
     "metadata": {
      "needs_background": "light"
     },
     "output_type": "display_data"
    }
   ],
   "source": [
    "plt.figure(figsize=(15,4))\n",
    "plt.subplot(1,2,1)\n",
    "\n",
    "plt.hist(lEnergy, bins=50);\n",
    "plt.yscale('log')\n",
    "plt.title(\"regrouped hit\")\n",
    "plt.subplot(1,2,2)\n",
    "\n",
    "plt.hist(singles['energy'], bins=50);\n",
    "plt.title(\"singles\")\n",
    "plt.yscale('log')"
   ]
  },
  {
   "cell_type": "markdown",
   "metadata": {},
   "source": [
    "# Reconstruct Coincidences from Singles\n",
    "\n",
    "We now how to reproduce singles from hits, lets do the same for coincidences."
   ]
  },
  {
   "cell_type": "code",
   "execution_count": 167,
   "metadata": {},
   "outputs": [],
   "source": [
    "singles = singles[singles['runID'] < 9]\n",
    "coincidences = coincidences[coincidences['runID'] < 9]"
   ]
  },
  {
   "cell_type": "code",
   "execution_count": 168,
   "metadata": {},
   "outputs": [],
   "source": [
    "singles = np.sort(singles, order='time')\n",
    "dfsingles = pd.DataFrame(singles)\n",
    "dfcoincidences = pd.DataFrame(coincidences)"
   ]
  },
  {
   "cell_type": "code",
   "execution_count": 169,
   "metadata": {},
   "outputs": [],
   "source": [
    "lindex1 = []\n",
    "lindex2 = []\n",
    "\n",
    "def f(arg):\n",
    "    #print(arg['runID'].iloc[0])\n",
    "    \n",
    "    arg = arg[['time', 'rsectorID']]\n",
    "    \n",
    "    for i, line in enumerate(arg.iterrows()):\n",
    "        index1 = line[0]\n",
    "        line = line[1]\n",
    "        time = float(line['time'])\n",
    "        rsectorID = line['rsectorID']\n",
    "        \n",
    "        rest_arg = arg[i+1:i+10]\n",
    "        \n",
    "        for aline in rest_arg.iterrows():\n",
    "            index2 = aline[0]\n",
    "            aline = aline[1]\n",
    "            if abs(aline['time'] - time) < 10e-9:\n",
    "                if abs(rsectorID - aline['rsectorID']) == 2:\n",
    "                    lindex1.append(index1)                    \n",
    "                    lindex2.append(index2)\n",
    "                    break"
   ]
  },
  {
   "cell_type": "code",
   "execution_count": 170,
   "metadata": {},
   "outputs": [
    {
     "name": "stdout",
     "output_type": "stream",
     "text": [
      "CPU times: user 14.1 s, sys: 52.8 ms, total: 14.1 s\n",
      "Wall time: 14.1 s\n"
     ]
    },
    {
     "data": {
      "text/html": [
       "<div>\n",
       "<style scoped>\n",
       "    .dataframe tbody tr th:only-of-type {\n",
       "        vertical-align: middle;\n",
       "    }\n",
       "\n",
       "    .dataframe tbody tr th {\n",
       "        vertical-align: top;\n",
       "    }\n",
       "\n",
       "    .dataframe thead th {\n",
       "        text-align: right;\n",
       "    }\n",
       "</style>\n",
       "<table border=\"1\" class=\"dataframe\">\n",
       "  <thead>\n",
       "    <tr style=\"text-align: right;\">\n",
       "      <th></th>\n",
       "    </tr>\n",
       "  </thead>\n",
       "  <tbody>\n",
       "  </tbody>\n",
       "</table>\n",
       "</div>"
      ],
      "text/plain": [
       "Empty DataFrame\n",
       "Columns: []\n",
       "Index: []"
      ]
     },
     "execution_count": 170,
     "metadata": {},
     "output_type": "execute_result"
    }
   ],
   "source": [
    "%%time\n",
    "dfsingles.groupby(['runID', 'eventID']).apply(f)"
   ]
  },
  {
   "cell_type": "code",
   "execution_count": 171,
   "metadata": {},
   "outputs": [],
   "source": [
    "ll = []\n",
    "for index1, index2 in zip(lindex1, lindex2):\n",
    "    s1 = singles[index1]\n",
    "    s2 = singles[index2]\n",
    "    d = {'runID' : s1['runID']}\n",
    "    d['eventID1'] = int(s1[\"eventID\"])\n",
    "    d['eventID2'] = int(s2[\"eventID\"])\n",
    "    d['time1'] = s1[\"time\"]\n",
    "    d['time2'] = s2[\"time\"]\n",
    "    \n",
    "    d['rsectorID1'] = s1[\"rsectorID\"]\n",
    "    d['rsectorID2'] = s2[\"rsectorID\"]\n",
    "    \n",
    "    d['index1'] = index1\n",
    "    d['index2'] = index2\n",
    "    \n",
    "    ll.append(d)"
   ]
  },
  {
   "cell_type": "code",
   "execution_count": 172,
   "metadata": {},
   "outputs": [],
   "source": [
    "ll = pd.DataFrame(ll)"
   ]
  },
  {
   "cell_type": "code",
   "execution_count": 173,
   "metadata": {},
   "outputs": [
    {
     "data": {
      "text/html": [
       "<div>\n",
       "<style scoped>\n",
       "    .dataframe tbody tr th:only-of-type {\n",
       "        vertical-align: middle;\n",
       "    }\n",
       "\n",
       "    .dataframe tbody tr th {\n",
       "        vertical-align: top;\n",
       "    }\n",
       "\n",
       "    .dataframe thead th {\n",
       "        text-align: right;\n",
       "    }\n",
       "</style>\n",
       "<table border=\"1\" class=\"dataframe\">\n",
       "  <thead>\n",
       "    <tr style=\"text-align: right;\">\n",
       "      <th></th>\n",
       "      <th>runID</th>\n",
       "      <th>eventID1</th>\n",
       "      <th>eventID2</th>\n",
       "      <th>time1</th>\n",
       "      <th>time2</th>\n",
       "      <th>rsectorID1</th>\n",
       "      <th>rsectorID2</th>\n",
       "      <th>index1</th>\n",
       "      <th>index2</th>\n",
       "    </tr>\n",
       "  </thead>\n",
       "  <tbody>\n",
       "    <tr>\n",
       "      <th>0</th>\n",
       "      <td>0</td>\n",
       "      <td>8</td>\n",
       "      <td>8</td>\n",
       "      <td>0.000972</td>\n",
       "      <td>0.000972</td>\n",
       "      <td>3</td>\n",
       "      <td>1</td>\n",
       "      <td>0</td>\n",
       "      <td>1</td>\n",
       "    </tr>\n",
       "    <tr>\n",
       "      <th>1</th>\n",
       "      <td>0</td>\n",
       "      <td>13</td>\n",
       "      <td>13</td>\n",
       "      <td>0.001401</td>\n",
       "      <td>0.001401</td>\n",
       "      <td>1</td>\n",
       "      <td>3</td>\n",
       "      <td>3</td>\n",
       "      <td>4</td>\n",
       "    </tr>\n",
       "    <tr>\n",
       "      <th>2</th>\n",
       "      <td>0</td>\n",
       "      <td>24</td>\n",
       "      <td>24</td>\n",
       "      <td>0.002165</td>\n",
       "      <td>0.002165</td>\n",
       "      <td>3</td>\n",
       "      <td>1</td>\n",
       "      <td>6</td>\n",
       "      <td>7</td>\n",
       "    </tr>\n",
       "    <tr>\n",
       "      <th>3</th>\n",
       "      <td>0</td>\n",
       "      <td>31</td>\n",
       "      <td>31</td>\n",
       "      <td>0.002532</td>\n",
       "      <td>0.002532</td>\n",
       "      <td>0</td>\n",
       "      <td>2</td>\n",
       "      <td>8</td>\n",
       "      <td>9</td>\n",
       "    </tr>\n",
       "    <tr>\n",
       "      <th>4</th>\n",
       "      <td>0</td>\n",
       "      <td>40</td>\n",
       "      <td>40</td>\n",
       "      <td>0.003607</td>\n",
       "      <td>0.003607</td>\n",
       "      <td>0</td>\n",
       "      <td>2</td>\n",
       "      <td>10</td>\n",
       "      <td>11</td>\n",
       "    </tr>\n",
       "    <tr>\n",
       "      <th>...</th>\n",
       "      <td>...</td>\n",
       "      <td>...</td>\n",
       "      <td>...</td>\n",
       "      <td>...</td>\n",
       "      <td>...</td>\n",
       "      <td>...</td>\n",
       "      <td>...</td>\n",
       "      <td>...</td>\n",
       "      <td>...</td>\n",
       "    </tr>\n",
       "    <tr>\n",
       "      <th>13519</th>\n",
       "      <td>8</td>\n",
       "      <td>9955</td>\n",
       "      <td>9955</td>\n",
       "      <td>8.996425</td>\n",
       "      <td>8.996425</td>\n",
       "      <td>0</td>\n",
       "      <td>2</td>\n",
       "      <td>30468</td>\n",
       "      <td>30469</td>\n",
       "    </tr>\n",
       "    <tr>\n",
       "      <th>13520</th>\n",
       "      <td>8</td>\n",
       "      <td>9958</td>\n",
       "      <td>9958</td>\n",
       "      <td>8.996470</td>\n",
       "      <td>8.996470</td>\n",
       "      <td>2</td>\n",
       "      <td>0</td>\n",
       "      <td>30470</td>\n",
       "      <td>30471</td>\n",
       "    </tr>\n",
       "    <tr>\n",
       "      <th>13521</th>\n",
       "      <td>8</td>\n",
       "      <td>9966</td>\n",
       "      <td>9966</td>\n",
       "      <td>8.997379</td>\n",
       "      <td>8.997379</td>\n",
       "      <td>0</td>\n",
       "      <td>2</td>\n",
       "      <td>30472</td>\n",
       "      <td>30473</td>\n",
       "    </tr>\n",
       "    <tr>\n",
       "      <th>13522</th>\n",
       "      <td>8</td>\n",
       "      <td>9971</td>\n",
       "      <td>9971</td>\n",
       "      <td>8.997957</td>\n",
       "      <td>8.997957</td>\n",
       "      <td>0</td>\n",
       "      <td>2</td>\n",
       "      <td>30474</td>\n",
       "      <td>30475</td>\n",
       "    </tr>\n",
       "    <tr>\n",
       "      <th>13523</th>\n",
       "      <td>8</td>\n",
       "      <td>9977</td>\n",
       "      <td>9977</td>\n",
       "      <td>8.998325</td>\n",
       "      <td>8.998325</td>\n",
       "      <td>1</td>\n",
       "      <td>3</td>\n",
       "      <td>30476</td>\n",
       "      <td>30477</td>\n",
       "    </tr>\n",
       "  </tbody>\n",
       "</table>\n",
       "<p>13524 rows × 9 columns</p>\n",
       "</div>"
      ],
      "text/plain": [
       "       runID  eventID1  eventID2     time1     time2  rsectorID1  rsectorID2  \\\n",
       "0          0         8         8  0.000972  0.000972           3           1   \n",
       "1          0        13        13  0.001401  0.001401           1           3   \n",
       "2          0        24        24  0.002165  0.002165           3           1   \n",
       "3          0        31        31  0.002532  0.002532           0           2   \n",
       "4          0        40        40  0.003607  0.003607           0           2   \n",
       "...      ...       ...       ...       ...       ...         ...         ...   \n",
       "13519      8      9955      9955  8.996425  8.996425           0           2   \n",
       "13520      8      9958      9958  8.996470  8.996470           2           0   \n",
       "13521      8      9966      9966  8.997379  8.997379           0           2   \n",
       "13522      8      9971      9971  8.997957  8.997957           0           2   \n",
       "13523      8      9977      9977  8.998325  8.998325           1           3   \n",
       "\n",
       "       index1  index2  \n",
       "0           0       1  \n",
       "1           3       4  \n",
       "2           6       7  \n",
       "3           8       9  \n",
       "4          10      11  \n",
       "...       ...     ...  \n",
       "13519   30468   30469  \n",
       "13520   30470   30471  \n",
       "13521   30472   30473  \n",
       "13522   30474   30475  \n",
       "13523   30476   30477  \n",
       "\n",
       "[13524 rows x 9 columns]"
      ]
     },
     "execution_count": 173,
     "metadata": {},
     "output_type": "execute_result"
    }
   ],
   "source": [
    "ll"
   ]
  },
  {
   "cell_type": "code",
   "execution_count": 174,
   "metadata": {},
   "outputs": [
    {
     "data": {
      "text/html": [
       "<div>\n",
       "<style scoped>\n",
       "    .dataframe tbody tr th:only-of-type {\n",
       "        vertical-align: middle;\n",
       "    }\n",
       "\n",
       "    .dataframe tbody tr th {\n",
       "        vertical-align: top;\n",
       "    }\n",
       "\n",
       "    .dataframe thead th {\n",
       "        text-align: right;\n",
       "    }\n",
       "</style>\n",
       "<table border=\"1\" class=\"dataframe\">\n",
       "  <thead>\n",
       "    <tr style=\"text-align: right;\">\n",
       "      <th></th>\n",
       "      <th>runID</th>\n",
       "      <th>eventID1</th>\n",
       "      <th>eventID2</th>\n",
       "      <th>time1</th>\n",
       "      <th>time2</th>\n",
       "      <th>rsectorID1</th>\n",
       "      <th>rsectorID2</th>\n",
       "    </tr>\n",
       "  </thead>\n",
       "  <tbody>\n",
       "    <tr>\n",
       "      <th>0</th>\n",
       "      <td>0</td>\n",
       "      <td>8</td>\n",
       "      <td>8</td>\n",
       "      <td>0.000972</td>\n",
       "      <td>0.000972</td>\n",
       "      <td>3</td>\n",
       "      <td>1</td>\n",
       "    </tr>\n",
       "    <tr>\n",
       "      <th>1</th>\n",
       "      <td>0</td>\n",
       "      <td>13</td>\n",
       "      <td>13</td>\n",
       "      <td>0.001401</td>\n",
       "      <td>0.001401</td>\n",
       "      <td>1</td>\n",
       "      <td>3</td>\n",
       "    </tr>\n",
       "    <tr>\n",
       "      <th>2</th>\n",
       "      <td>0</td>\n",
       "      <td>24</td>\n",
       "      <td>24</td>\n",
       "      <td>0.002165</td>\n",
       "      <td>0.002165</td>\n",
       "      <td>3</td>\n",
       "      <td>1</td>\n",
       "    </tr>\n",
       "    <tr>\n",
       "      <th>3</th>\n",
       "      <td>0</td>\n",
       "      <td>31</td>\n",
       "      <td>31</td>\n",
       "      <td>0.002532</td>\n",
       "      <td>0.002532</td>\n",
       "      <td>0</td>\n",
       "      <td>2</td>\n",
       "    </tr>\n",
       "    <tr>\n",
       "      <th>4</th>\n",
       "      <td>0</td>\n",
       "      <td>40</td>\n",
       "      <td>40</td>\n",
       "      <td>0.003607</td>\n",
       "      <td>0.003607</td>\n",
       "      <td>0</td>\n",
       "      <td>2</td>\n",
       "    </tr>\n",
       "    <tr>\n",
       "      <th>...</th>\n",
       "      <td>...</td>\n",
       "      <td>...</td>\n",
       "      <td>...</td>\n",
       "      <td>...</td>\n",
       "      <td>...</td>\n",
       "      <td>...</td>\n",
       "      <td>...</td>\n",
       "    </tr>\n",
       "    <tr>\n",
       "      <th>13519</th>\n",
       "      <td>8</td>\n",
       "      <td>9955</td>\n",
       "      <td>9955</td>\n",
       "      <td>8.996425</td>\n",
       "      <td>8.996425</td>\n",
       "      <td>0</td>\n",
       "      <td>2</td>\n",
       "    </tr>\n",
       "    <tr>\n",
       "      <th>13520</th>\n",
       "      <td>8</td>\n",
       "      <td>9958</td>\n",
       "      <td>9958</td>\n",
       "      <td>8.996470</td>\n",
       "      <td>8.996470</td>\n",
       "      <td>2</td>\n",
       "      <td>0</td>\n",
       "    </tr>\n",
       "    <tr>\n",
       "      <th>13521</th>\n",
       "      <td>8</td>\n",
       "      <td>9966</td>\n",
       "      <td>9966</td>\n",
       "      <td>8.997379</td>\n",
       "      <td>8.997379</td>\n",
       "      <td>0</td>\n",
       "      <td>2</td>\n",
       "    </tr>\n",
       "    <tr>\n",
       "      <th>13522</th>\n",
       "      <td>8</td>\n",
       "      <td>9971</td>\n",
       "      <td>9971</td>\n",
       "      <td>8.997957</td>\n",
       "      <td>8.997957</td>\n",
       "      <td>0</td>\n",
       "      <td>2</td>\n",
       "    </tr>\n",
       "    <tr>\n",
       "      <th>13523</th>\n",
       "      <td>8</td>\n",
       "      <td>9977</td>\n",
       "      <td>9977</td>\n",
       "      <td>8.998325</td>\n",
       "      <td>8.998325</td>\n",
       "      <td>1</td>\n",
       "      <td>3</td>\n",
       "    </tr>\n",
       "  </tbody>\n",
       "</table>\n",
       "<p>13524 rows × 7 columns</p>\n",
       "</div>"
      ],
      "text/plain": [
       "       runID  eventID1  eventID2     time1     time2  rsectorID1  rsectorID2\n",
       "0          0         8         8  0.000972  0.000972           3           1\n",
       "1          0        13        13  0.001401  0.001401           1           3\n",
       "2          0        24        24  0.002165  0.002165           3           1\n",
       "3          0        31        31  0.002532  0.002532           0           2\n",
       "4          0        40        40  0.003607  0.003607           0           2\n",
       "...      ...       ...       ...       ...       ...         ...         ...\n",
       "13519      8      9955      9955  8.996425  8.996425           0           2\n",
       "13520      8      9958      9958  8.996470  8.996470           2           0\n",
       "13521      8      9966      9966  8.997379  8.997379           0           2\n",
       "13522      8      9971      9971  8.997957  8.997957           0           2\n",
       "13523      8      9977      9977  8.998325  8.998325           1           3\n",
       "\n",
       "[13524 rows x 7 columns]"
      ]
     },
     "execution_count": 174,
     "metadata": {},
     "output_type": "execute_result"
    }
   ],
   "source": [
    "dfcoincidences[['runID', 'eventID1', 'eventID2', 'time1', 'time2', 'rsectorID1', 'rsectorID2']]"
   ]
  },
  {
   "cell_type": "code",
   "execution_count": null,
   "metadata": {},
   "outputs": [],
   "source": []
  }
 ],
 "metadata": {
  "kernelspec": {
   "display_name": "Python 3",
   "language": "python",
   "name": "python3"
  },
  "language_info": {
   "codemirror_mode": {
    "name": "ipython",
    "version": 3
   },
   "file_extension": ".py",
   "mimetype": "text/x-python",
   "name": "python",
   "nbconvert_exporter": "python",
   "pygments_lexer": "ipython3",
   "version": "3.8.5"
  },
  "toc": {
   "base_numbering": 1,
   "nav_menu": {},
   "number_sections": true,
   "sideBar": true,
   "skip_h1_title": false,
   "title_cell": "Table of Contents",
   "title_sidebar": "Contents",
   "toc_cell": false,
   "toc_position": {
    "height": "calc(100% - 180px)",
    "left": "10px",
    "top": "150px",
    "width": "229.917px"
   },
   "toc_section_display": true,
   "toc_window_display": true
  }
 },
 "nbformat": 4,
 "nbformat_minor": 2
}
